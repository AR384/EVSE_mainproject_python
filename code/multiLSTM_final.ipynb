{
 "cells": [
  {
   "cell_type": "markdown",
   "id": "c7e9a383",
   "metadata": {},
   "source": [
    "1. 전처리된 df → 시계열 형태로 정렬\n",
    "2. Sliding Window 등으로 (samples, timesteps, features) 구성\n",
    "3. 시퀀스 스케일링\n",
    "4. LSTM 모델 설계 \n",
    "5. 학습 및 예측\n",
    "6. 분류/회귀 성능 비교\n",
    "7. 베이스라인보다 나은지 분석"
   ]
  },
  {
   "cell_type": "code",
   "execution_count": 1,
   "id": "e23573b5",
   "metadata": {},
   "outputs": [
    {
     "name": "stderr",
     "output_type": "stream",
     "text": [
      "C:\\Users\\3\\AppData\\Local\\Temp\\ipykernel_72588\\1598006457.py:22: DeprecationWarning: c:\\Users\\3\\miniconda3\\envs\\yoloserver\\Lib\\site-packages\\ignite\\contrib\\handlers\\tensorboard_logger.py has been moved to /ignite/handlers/tensorboard_logger.py and will be removed in version 0.6.0.\n",
      " Please refer to the documentation for more details.\n",
      "  from ignite.contrib.handlers.tensorboard_logger import OutputHandler, OptimizerParamsHandler\n"
     ]
    }
   ],
   "source": [
    "from sklearn.preprocessing import OneHotEncoder,RobustScaler\n",
    "from sklearn.compose import ColumnTransformer\n",
    "from sklearn.metrics import accuracy_score\n",
    "from sklearn.utils.class_weight import compute_class_weight\n",
    "from sklearn.metrics import f1_score, precision_score, recall_score ,classification_report,confusion_matrix\n",
    "\n",
    "import pandas as pd\n",
    "import numpy as np\n",
    "\n",
    "import torch\n",
    "import torch.nn as nn\n",
    "from torch.nn.utils import clip_grad_norm_\n",
    "import torch.optim as optim\n",
    "from torch.utils.data import DataLoader, Dataset,random_split\n",
    "import torch.nn.functional as F\n",
    "from torch.optim.lr_scheduler import *\n",
    "\n",
    "from ignite.engine import Engine, Events\n",
    "from ignite.metrics import Accuracy, Loss\n",
    "from ignite.handlers import EarlyStopping, ModelCheckpoint\n",
    "from ignite.contrib.handlers import ProgressBar,TensorboardLogger\n",
    "from ignite.contrib.handlers.tensorboard_logger import OutputHandler, OptimizerParamsHandler\n",
    "\n",
    "import pickle\n",
    "import sys\n",
    "import os\n",
    "sys.path.append(os.path.abspath(os.path.join(os.getcwd(), \"..\")))\n",
    "\n",
    "import matplotlib.pyplot as plt\n",
    "import time\n",
    "import json\n",
    "import joblib\n",
    "from collections import defaultdict\n",
    "from utils.Custom_modelzoo import LSTMModel_3"
   ]
  },
  {
   "cell_type": "code",
   "execution_count": null,
   "id": "6d4f7a0f",
   "metadata": {},
   "outputs": [],
   "source": [
    "# 데이터 로딩\n",
    "df = pd.read_csv('../data_/csv/50area_dummy_processed.csv')\n",
    "\n",
    "# 타겟 지정\n",
    "target_class = 'post_charge_departure_range'\n",
    "target_reg = 'kwh_per_usage_time'\n",
    "\n",
    "# 컬럼 구분\n",
    "onehot_col = ['station_location', 'evse_name', 'evse_type', 'supports_discharge','scheduled_charge', 'weekday', 'cluster',\n",
    "            'post_charge_departure_range', 'usage_departure_range']\n",
    "scale_col = [col for col in df.columns if col not in onehot_col]\n",
    "\n",
    "# ColumnTransformer 정의 및 학습 (한 번만)\n",
    "ct = ColumnTransformer(\n",
    "    transformers=[\n",
    "        ('scaling', RobustScaler(), scale_col),\n",
    "        ('onehot', OneHotEncoder(sparse_output=False, handle_unknown='ignore'), onehot_col)\n",
    "    ]\n",
    ")\n",
    "\n",
    "print(\"🚀 ColumnTransformer fit 시작\")\n",
    "ct.fit(df)\n",
    "print(\"▶️ ColumnTransformer fit 완료\")\n",
    "\n",
    "# 필요하면 저장 (캐시용)\n",
    "joblib.dump(ct, 'ct_cached.joblib')  # 디스크에 저장\n",
    "# 불러올 때: ct = joblib.load('ct_cached.joblib')\n",
    "\n",
    "# 시퀀스 생성 함수\n",
    "# 현재 24시간 시퀀스를 보고, \"다음 24시간(24시점 이후~48시점까지)\"을 예측하는 구조\n",
    "# 과거 데이터의 타겟은 학습하지 않는 구조\n",
    "# X_seq는 [i : i+seq_len] 구간의 시퀀스(입력), 즉 현재 시점부터 과거 24시간 학습\n",
    "# y_class와 y_reg는 X_seq가 끝난 시점 바로 다음부터 max_n 길이만큼의 타깃, 즉 seq_len 시점 이후의 24시간 동안의 결과를 예측\n",
    "def create_sequences(X_df, y_class_series, y_reg_series, feature_cols, seq_len, max_n):\n",
    "    X_seq, y_class, y_reg = [], [], []\n",
    "    for i in range(len(X_df) - seq_len - max_n + 1):\n",
    "        X_seq.append(X_df[feature_cols].iloc[i:i+seq_len].values)\n",
    "        y_class.append(y_class_series.iloc[i+seq_len : i+seq_len+max_n].values)\n",
    "        y_reg.append(y_reg_series.iloc[i+seq_len : i+seq_len+max_n].values)\n",
    "    return np.array(X_seq), np.array(y_class), np.array(y_reg)\n",
    "\n",
    "# generator 방식 데이터 생성기 (fit은 전체에 한 번, group별로 transform만)\n",
    "def sequence_generator(ct, df, target_class, target_reg, seq_len, max_n):\n",
    "    feature_cols = ct.get_feature_names_out()\n",
    "\n",
    "    for (station, evse), group in df.groupby(['station_location', 'evse_name']):\n",
    "        if len(group) < seq_len + max_n:\n",
    "            continue\n",
    "\n",
    "        group_sorted = group.sort_values('charging_start_time_ts')\n",
    "\n",
    "        try:\n",
    "            X_trans = ct.transform(group_sorted)\n",
    "        except Exception as e:\n",
    "            print(f\"⚠️ 변환 오류: {station}, {evse} → {e}\")\n",
    "            continue\n",
    "\n",
    "        df_trans = pd.DataFrame(X_trans, columns=feature_cols)\n",
    "        match_target_reg = [col for col in feature_cols if col.endswith(target_reg)]\n",
    "        \n",
    "        y_class_series = group_sorted[target_class] # 원본 클레스 그대로 사용 이미 정수형이기 때문에 가능 group_sorted[target_reg]는 pandas.Series 그래서  .iloc[...]의 결과도 (24,) .values도 (24,)가 되어 np.array(...)로 쌓아도 (N, 24)가 됩\n",
    "        y_reg_series = df_trans[match_target_reg].squeeze()  # df_trans[match_target_reg]는 pandas.DataFrame 형태 .iloc[...] 결과는 (24, 1) → .values는 (24, 1) np.array([...]) → shape (N, 24, 1) ! squeeze필요\n",
    "        \n",
    "\n",
    "        X_seq, y_class, y_reg = create_sequences(\n",
    "            df_trans, y_class_series, y_reg_series,\n",
    "            feature_cols, seq_len, max_n\n",
    "        )\n",
    "\n",
    "        # 함수호출될때만 실행 이전 부터 실행 메모리 절약\n",
    "        if len(X_seq) > 0:\n",
    "            yield (station, evse), X_seq, y_class, y_reg\n",
    "\n",
    "# 하이퍼파라미터\n",
    "seq_len = 24 #24시간  학습\n",
    "max_n = 24*7 #7일 예측\n",
    "\n",
    "# 테스트실행\n",
    "gen = sequence_generator(ct, df, target_class, target_reg, seq_len,max_n)\n",
    "for (station, evse), X_seq, y_class, y_reg in gen:\n",
    "    print(f\"✅ {station}-{evse} | X shape: {X_seq.shape}, y_class: {y_class.shape}, y_reg: {y_reg.shape}\")\n",
    "    break"
   ]
  },
  {
   "cell_type": "code",
   "execution_count": 27,
   "id": "53bd3ac3",
   "metadata": {},
   "outputs": [
    {
     "name": "stdout",
     "output_type": "stream",
     "text": [
      "▶️ st-00 - st-00_evse-00 | X shape: (1029, 24, 294), y_class: (1029, 24), y_reg:(1029, 24)\n",
      "▶️ st-00 - st-00_evse-01 | X shape: (1292, 24, 294), y_class: (1292, 24), y_reg:(1292, 24)\n",
      "▶️ st-01 - st-01_evse-00 | X shape: (1042, 24, 294), y_class: (1042, 24), y_reg:(1042, 24)\n",
      "▶️ st-01 - st-01_evse-01 | X shape: (1204, 24, 294), y_class: (1204, 24), y_reg:(1204, 24)\n",
      "▶️ st-02 - st-02_evse-00 | X shape: (1483, 24, 294), y_class: (1483, 24), y_reg:(1483, 24)\n",
      "▶️ st-02 - st-02_evse-01 | X shape: (957, 24, 294), y_class: (957, 24), y_reg:(957, 24)\n",
      "▶️ st-03 - st-03_evse-00 | X shape: (1008, 24, 294), y_class: (1008, 24), y_reg:(1008, 24)\n",
      "▶️ st-03 - st-03_evse-01 | X shape: (981, 24, 294), y_class: (981, 24), y_reg:(981, 24)\n",
      "▶️ st-04 - st-04_evse-00 | X shape: (1129, 24, 294), y_class: (1129, 24), y_reg:(1129, 24)\n",
      "▶️ st-04 - st-04_evse-01 | X shape: (861, 24, 294), y_class: (861, 24), y_reg:(861, 24)\n",
      "▶️ st-04 - st-04_evse-02 | X shape: (876, 24, 294), y_class: (876, 24), y_reg:(876, 24)\n",
      "▶️ st-04 - st-04_evse-03 | X shape: (1187, 24, 294), y_class: (1187, 24), y_reg:(1187, 24)\n",
      "▶️ st-04 - st-04_evse-04 | X shape: (1104, 24, 294), y_class: (1104, 24), y_reg:(1104, 24)\n",
      "▶️ st-05 - st-05_evse-00 | X shape: (1521, 24, 294), y_class: (1521, 24), y_reg:(1521, 24)\n",
      "▶️ st-05 - st-05_evse-01 | X shape: (1090, 24, 294), y_class: (1090, 24), y_reg:(1090, 24)\n",
      "▶️ st-05 - st-05_evse-02 | X shape: (1324, 24, 294), y_class: (1324, 24), y_reg:(1324, 24)\n",
      "▶️ st-05 - st-05_evse-03 | X shape: (1384, 24, 294), y_class: (1384, 24), y_reg:(1384, 24)\n",
      "▶️ st-06 - st-06_evse-00 | X shape: (1046, 24, 294), y_class: (1046, 24), y_reg:(1046, 24)\n",
      "▶️ st-06 - st-06_evse-01 | X shape: (1425, 24, 294), y_class: (1425, 24), y_reg:(1425, 24)\n",
      "▶️ st-07 - st-07_evse-00 | X shape: (934, 24, 294), y_class: (934, 24), y_reg:(934, 24)\n",
      "▶️ st-07 - st-07_evse-01 | X shape: (1414, 24, 294), y_class: (1414, 24), y_reg:(1414, 24)\n",
      "▶️ st-07 - st-07_evse-02 | X shape: (899, 24, 294), y_class: (899, 24), y_reg:(899, 24)\n",
      "▶️ st-07 - st-07_evse-03 | X shape: (1041, 24, 294), y_class: (1041, 24), y_reg:(1041, 24)\n",
      "▶️ st-07 - st-07_evse-04 | X shape: (1038, 24, 294), y_class: (1038, 24), y_reg:(1038, 24)\n",
      "▶️ st-07 - st-07_evse-05 | X shape: (1219, 24, 294), y_class: (1219, 24), y_reg:(1219, 24)\n",
      "▶️ st-08 - st-08_evse-00 | X shape: (946, 24, 294), y_class: (946, 24), y_reg:(946, 24)\n",
      "▶️ st-08 - st-08_evse-01 | X shape: (1007, 24, 294), y_class: (1007, 24), y_reg:(1007, 24)\n",
      "▶️ st-08 - st-08_evse-02 | X shape: (1453, 24, 294), y_class: (1453, 24), y_reg:(1453, 24)\n",
      "▶️ st-08 - st-08_evse-03 | X shape: (1332, 24, 294), y_class: (1332, 24), y_reg:(1332, 24)\n",
      "▶️ st-09 - st-09_evse-00 | X shape: (1170, 24, 294), y_class: (1170, 24), y_reg:(1170, 24)\n",
      "▶️ st-09 - st-09_evse-01 | X shape: (901, 24, 294), y_class: (901, 24), y_reg:(901, 24)\n",
      "▶️ st-10 - st-10_evse-00 | X shape: (1090, 24, 294), y_class: (1090, 24), y_reg:(1090, 24)\n",
      "▶️ st-10 - st-10_evse-01 | X shape: (951, 24, 294), y_class: (951, 24), y_reg:(951, 24)\n",
      "▶️ st-10 - st-10_evse-02 | X shape: (1066, 24, 294), y_class: (1066, 24), y_reg:(1066, 24)\n",
      "▶️ st-11 - st-11_evse-00 | X shape: (1118, 24, 294), y_class: (1118, 24), y_reg:(1118, 24)\n",
      "▶️ st-11 - st-11_evse-01 | X shape: (959, 24, 294), y_class: (959, 24), y_reg:(959, 24)\n",
      "▶️ st-11 - st-11_evse-02 | X shape: (983, 24, 294), y_class: (983, 24), y_reg:(983, 24)\n",
      "▶️ st-11 - st-11_evse-03 | X shape: (884, 24, 294), y_class: (884, 24), y_reg:(884, 24)\n",
      "▶️ st-12 - st-12_evse-00 | X shape: (954, 24, 294), y_class: (954, 24), y_reg:(954, 24)\n",
      "▶️ st-12 - st-12_evse-01 | X shape: (1145, 24, 294), y_class: (1145, 24), y_reg:(1145, 24)\n",
      "▶️ st-12 - st-12_evse-02 | X shape: (887, 24, 294), y_class: (887, 24), y_reg:(887, 24)\n",
      "▶️ st-12 - st-12_evse-03 | X shape: (1106, 24, 294), y_class: (1106, 24), y_reg:(1106, 24)\n",
      "▶️ st-12 - st-12_evse-04 | X shape: (1001, 24, 294), y_class: (1001, 24), y_reg:(1001, 24)\n",
      "▶️ st-12 - st-12_evse-05 | X shape: (1207, 24, 294), y_class: (1207, 24), y_reg:(1207, 24)\n",
      "▶️ st-13 - st-13_evse-00 | X shape: (949, 24, 294), y_class: (949, 24), y_reg:(949, 24)\n",
      "▶️ st-13 - st-13_evse-01 | X shape: (1113, 24, 294), y_class: (1113, 24), y_reg:(1113, 24)\n",
      "▶️ st-13 - st-13_evse-02 | X shape: (882, 24, 294), y_class: (882, 24), y_reg:(882, 24)\n",
      "▶️ st-13 - st-13_evse-03 | X shape: (852, 24, 294), y_class: (852, 24), y_reg:(852, 24)\n",
      "▶️ st-13 - st-13_evse-04 | X shape: (1510, 24, 294), y_class: (1510, 24), y_reg:(1510, 24)\n",
      "▶️ st-13 - st-13_evse-05 | X shape: (1268, 24, 294), y_class: (1268, 24), y_reg:(1268, 24)\n",
      "▶️ st-14 - st-14_evse-00 | X shape: (1187, 24, 294), y_class: (1187, 24), y_reg:(1187, 24)\n",
      "▶️ st-14 - st-14_evse-01 | X shape: (852, 24, 294), y_class: (852, 24), y_reg:(852, 24)\n",
      "▶️ st-14 - st-14_evse-02 | X shape: (839, 24, 294), y_class: (839, 24), y_reg:(839, 24)\n",
      "▶️ st-14 - st-14_evse-03 | X shape: (1155, 24, 294), y_class: (1155, 24), y_reg:(1155, 24)\n",
      "▶️ st-14 - st-14_evse-04 | X shape: (863, 24, 294), y_class: (863, 24), y_reg:(863, 24)\n",
      "▶️ st-15 - st-15_evse-00 | X shape: (917, 24, 294), y_class: (917, 24), y_reg:(917, 24)\n",
      "▶️ st-15 - st-15_evse-01 | X shape: (878, 24, 294), y_class: (878, 24), y_reg:(878, 24)\n",
      "▶️ st-15 - st-15_evse-02 | X shape: (928, 24, 294), y_class: (928, 24), y_reg:(928, 24)\n",
      "▶️ st-15 - st-15_evse-03 | X shape: (1242, 24, 294), y_class: (1242, 24), y_reg:(1242, 24)\n",
      "▶️ st-15 - st-15_evse-04 | X shape: (1046, 24, 294), y_class: (1046, 24), y_reg:(1046, 24)\n",
      "▶️ st-15 - st-15_evse-05 | X shape: (1062, 24, 294), y_class: (1062, 24), y_reg:(1062, 24)\n",
      "▶️ st-16 - st-16_evse-00 | X shape: (1225, 24, 294), y_class: (1225, 24), y_reg:(1225, 24)\n",
      "▶️ st-16 - st-16_evse-01 | X shape: (964, 24, 294), y_class: (964, 24), y_reg:(964, 24)\n",
      "▶️ st-16 - st-16_evse-02 | X shape: (1078, 24, 294), y_class: (1078, 24), y_reg:(1078, 24)\n",
      "▶️ st-16 - st-16_evse-03 | X shape: (1137, 24, 294), y_class: (1137, 24), y_reg:(1137, 24)\n",
      "▶️ st-16 - st-16_evse-04 | X shape: (991, 24, 294), y_class: (991, 24), y_reg:(991, 24)\n",
      "▶️ st-16 - st-16_evse-05 | X shape: (1301, 24, 294), y_class: (1301, 24), y_reg:(1301, 24)\n",
      "▶️ st-17 - st-17_evse-00 | X shape: (1418, 24, 294), y_class: (1418, 24), y_reg:(1418, 24)\n",
      "▶️ st-17 - st-17_evse-01 | X shape: (1046, 24, 294), y_class: (1046, 24), y_reg:(1046, 24)\n",
      "▶️ st-17 - st-17_evse-02 | X shape: (947, 24, 294), y_class: (947, 24), y_reg:(947, 24)\n",
      "▶️ st-17 - st-17_evse-03 | X shape: (1084, 24, 294), y_class: (1084, 24), y_reg:(1084, 24)\n",
      "▶️ st-18 - st-18_evse-00 | X shape: (1204, 24, 294), y_class: (1204, 24), y_reg:(1204, 24)\n",
      "▶️ st-18 - st-18_evse-01 | X shape: (1164, 24, 294), y_class: (1164, 24), y_reg:(1164, 24)\n",
      "▶️ st-19 - st-19_evse-00 | X shape: (1302, 24, 294), y_class: (1302, 24), y_reg:(1302, 24)\n",
      "▶️ st-19 - st-19_evse-01 | X shape: (975, 24, 294), y_class: (975, 24), y_reg:(975, 24)\n",
      "▶️ st-19 - st-19_evse-02 | X shape: (1072, 24, 294), y_class: (1072, 24), y_reg:(1072, 24)\n",
      "▶️ st-20 - st-20_evse-00 | X shape: (1321, 24, 294), y_class: (1321, 24), y_reg:(1321, 24)\n",
      "▶️ st-20 - st-20_evse-01 | X shape: (962, 24, 294), y_class: (962, 24), y_reg:(962, 24)\n",
      "▶️ st-20 - st-20_evse-02 | X shape: (1239, 24, 294), y_class: (1239, 24), y_reg:(1239, 24)\n",
      "▶️ st-20 - st-20_evse-03 | X shape: (987, 24, 294), y_class: (987, 24), y_reg:(987, 24)\n",
      "▶️ st-20 - st-20_evse-04 | X shape: (1226, 24, 294), y_class: (1226, 24), y_reg:(1226, 24)\n",
      "▶️ st-21 - st-21_evse-00 | X shape: (867, 24, 294), y_class: (867, 24), y_reg:(867, 24)\n",
      "▶️ st-21 - st-21_evse-01 | X shape: (1089, 24, 294), y_class: (1089, 24), y_reg:(1089, 24)\n",
      "▶️ st-21 - st-21_evse-02 | X shape: (1010, 24, 294), y_class: (1010, 24), y_reg:(1010, 24)\n",
      "▶️ st-21 - st-21_evse-03 | X shape: (1092, 24, 294), y_class: (1092, 24), y_reg:(1092, 24)\n",
      "▶️ st-21 - st-21_evse-04 | X shape: (1389, 24, 294), y_class: (1389, 24), y_reg:(1389, 24)\n",
      "▶️ st-21 - st-21_evse-05 | X shape: (955, 24, 294), y_class: (955, 24), y_reg:(955, 24)\n",
      "▶️ st-22 - st-22_evse-00 | X shape: (949, 24, 294), y_class: (949, 24), y_reg:(949, 24)\n",
      "▶️ st-22 - st-22_evse-01 | X shape: (1502, 24, 294), y_class: (1502, 24), y_reg:(1502, 24)\n",
      "▶️ st-23 - st-23_evse-00 | X shape: (1034, 24, 294), y_class: (1034, 24), y_reg:(1034, 24)\n",
      "▶️ st-23 - st-23_evse-01 | X shape: (894, 24, 294), y_class: (894, 24), y_reg:(894, 24)\n",
      "▶️ st-23 - st-23_evse-02 | X shape: (1051, 24, 294), y_class: (1051, 24), y_reg:(1051, 24)\n",
      "▶️ st-23 - st-23_evse-03 | X shape: (1068, 24, 294), y_class: (1068, 24), y_reg:(1068, 24)\n",
      "▶️ st-24 - st-24_evse-00 | X shape: (1686, 24, 294), y_class: (1686, 24), y_reg:(1686, 24)\n",
      "▶️ st-24 - st-24_evse-01 | X shape: (1717, 24, 294), y_class: (1717, 24), y_reg:(1717, 24)\n",
      "▶️ st-24 - st-24_evse-02 | X shape: (1315, 24, 294), y_class: (1315, 24), y_reg:(1315, 24)\n",
      "▶️ st-24 - st-24_evse-03 | X shape: (1078, 24, 294), y_class: (1078, 24), y_reg:(1078, 24)\n",
      "▶️ st-24 - st-24_evse-04 | X shape: (1116, 24, 294), y_class: (1116, 24), y_reg:(1116, 24)\n",
      "▶️ st-25 - st-25_evse-00 | X shape: (909, 24, 294), y_class: (909, 24), y_reg:(909, 24)\n",
      "▶️ st-25 - st-25_evse-01 | X shape: (974, 24, 294), y_class: (974, 24), y_reg:(974, 24)\n",
      "▶️ st-26 - st-26_evse-00 | X shape: (993, 24, 294), y_class: (993, 24), y_reg:(993, 24)\n",
      "▶️ st-26 - st-26_evse-01 | X shape: (894, 24, 294), y_class: (894, 24), y_reg:(894, 24)\n",
      "▶️ st-26 - st-26_evse-02 | X shape: (1497, 24, 294), y_class: (1497, 24), y_reg:(1497, 24)\n",
      "▶️ st-27 - st-27_evse-00 | X shape: (885, 24, 294), y_class: (885, 24), y_reg:(885, 24)\n",
      "▶️ st-27 - st-27_evse-01 | X shape: (879, 24, 294), y_class: (879, 24), y_reg:(879, 24)\n",
      "▶️ st-27 - st-27_evse-02 | X shape: (975, 24, 294), y_class: (975, 24), y_reg:(975, 24)\n",
      "▶️ st-28 - st-28_evse-00 | X shape: (1434, 24, 294), y_class: (1434, 24), y_reg:(1434, 24)\n",
      "▶️ st-28 - st-28_evse-01 | X shape: (1151, 24, 294), y_class: (1151, 24), y_reg:(1151, 24)\n",
      "▶️ st-28 - st-28_evse-02 | X shape: (1290, 24, 294), y_class: (1290, 24), y_reg:(1290, 24)\n",
      "▶️ st-28 - st-28_evse-03 | X shape: (982, 24, 294), y_class: (982, 24), y_reg:(982, 24)\n",
      "▶️ st-28 - st-28_evse-04 | X shape: (1169, 24, 294), y_class: (1169, 24), y_reg:(1169, 24)\n",
      "▶️ st-28 - st-28_evse-05 | X shape: (845, 24, 294), y_class: (845, 24), y_reg:(845, 24)\n",
      "▶️ st-29 - st-29_evse-00 | X shape: (1081, 24, 294), y_class: (1081, 24), y_reg:(1081, 24)\n",
      "▶️ st-29 - st-29_evse-01 | X shape: (1150, 24, 294), y_class: (1150, 24), y_reg:(1150, 24)\n",
      "▶️ st-29 - st-29_evse-02 | X shape: (1307, 24, 294), y_class: (1307, 24), y_reg:(1307, 24)\n",
      "▶️ st-29 - st-29_evse-03 | X shape: (1125, 24, 294), y_class: (1125, 24), y_reg:(1125, 24)\n",
      "▶️ st-30 - st-30_evse-00 | X shape: (1087, 24, 294), y_class: (1087, 24), y_reg:(1087, 24)\n",
      "▶️ st-30 - st-30_evse-01 | X shape: (894, 24, 294), y_class: (894, 24), y_reg:(894, 24)\n",
      "▶️ st-30 - st-30_evse-02 | X shape: (870, 24, 294), y_class: (870, 24), y_reg:(870, 24)\n",
      "▶️ st-31 - st-31_evse-00 | X shape: (1214, 24, 294), y_class: (1214, 24), y_reg:(1214, 24)\n",
      "▶️ st-31 - st-31_evse-01 | X shape: (1110, 24, 294), y_class: (1110, 24), y_reg:(1110, 24)\n",
      "▶️ st-31 - st-31_evse-02 | X shape: (961, 24, 294), y_class: (961, 24), y_reg:(961, 24)\n",
      "▶️ st-31 - st-31_evse-03 | X shape: (965, 24, 294), y_class: (965, 24), y_reg:(965, 24)\n",
      "▶️ st-32 - st-32_evse-00 | X shape: (1153, 24, 294), y_class: (1153, 24), y_reg:(1153, 24)\n",
      "▶️ st-32 - st-32_evse-01 | X shape: (1017, 24, 294), y_class: (1017, 24), y_reg:(1017, 24)\n",
      "▶️ st-33 - st-33_evse-00 | X shape: (907, 24, 294), y_class: (907, 24), y_reg:(907, 24)\n",
      "▶️ st-33 - st-33_evse-01 | X shape: (886, 24, 294), y_class: (886, 24), y_reg:(886, 24)\n",
      "▶️ st-34 - st-34_evse-00 | X shape: (1208, 24, 294), y_class: (1208, 24), y_reg:(1208, 24)\n",
      "▶️ st-34 - st-34_evse-01 | X shape: (1223, 24, 294), y_class: (1223, 24), y_reg:(1223, 24)\n",
      "▶️ st-35 - st-35_evse-00 | X shape: (1316, 24, 294), y_class: (1316, 24), y_reg:(1316, 24)\n",
      "▶️ st-35 - st-35_evse-01 | X shape: (933, 24, 294), y_class: (933, 24), y_reg:(933, 24)\n",
      "▶️ st-35 - st-35_evse-02 | X shape: (1040, 24, 294), y_class: (1040, 24), y_reg:(1040, 24)\n",
      "▶️ st-35 - st-35_evse-03 | X shape: (987, 24, 294), y_class: (987, 24), y_reg:(987, 24)\n",
      "▶️ st-35 - st-35_evse-04 | X shape: (930, 24, 294), y_class: (930, 24), y_reg:(930, 24)\n",
      "▶️ st-35 - st-35_evse-05 | X shape: (1030, 24, 294), y_class: (1030, 24), y_reg:(1030, 24)\n",
      "▶️ st-36 - st-36_evse-00 | X shape: (1394, 24, 294), y_class: (1394, 24), y_reg:(1394, 24)\n",
      "▶️ st-36 - st-36_evse-01 | X shape: (1050, 24, 294), y_class: (1050, 24), y_reg:(1050, 24)\n",
      "▶️ st-37 - st-37_evse-00 | X shape: (967, 24, 294), y_class: (967, 24), y_reg:(967, 24)\n",
      "▶️ st-37 - st-37_evse-01 | X shape: (974, 24, 294), y_class: (974, 24), y_reg:(974, 24)\n",
      "▶️ st-37 - st-37_evse-02 | X shape: (1144, 24, 294), y_class: (1144, 24), y_reg:(1144, 24)\n",
      "▶️ st-37 - st-37_evse-03 | X shape: (972, 24, 294), y_class: (972, 24), y_reg:(972, 24)\n",
      "▶️ st-37 - st-37_evse-04 | X shape: (894, 24, 294), y_class: (894, 24), y_reg:(894, 24)\n",
      "▶️ st-37 - st-37_evse-05 | X shape: (1156, 24, 294), y_class: (1156, 24), y_reg:(1156, 24)\n",
      "▶️ st-38 - st-38_evse-00 | X shape: (889, 24, 294), y_class: (889, 24), y_reg:(889, 24)\n",
      "▶️ st-38 - st-38_evse-01 | X shape: (1079, 24, 294), y_class: (1079, 24), y_reg:(1079, 24)\n",
      "▶️ st-38 - st-38_evse-02 | X shape: (1007, 24, 294), y_class: (1007, 24), y_reg:(1007, 24)\n",
      "▶️ st-38 - st-38_evse-03 | X shape: (1018, 24, 294), y_class: (1018, 24), y_reg:(1018, 24)\n",
      "▶️ st-38 - st-38_evse-04 | X shape: (1049, 24, 294), y_class: (1049, 24), y_reg:(1049, 24)\n",
      "▶️ st-38 - st-38_evse-05 | X shape: (991, 24, 294), y_class: (991, 24), y_reg:(991, 24)\n",
      "▶️ st-39 - st-39_evse-00 | X shape: (1163, 24, 294), y_class: (1163, 24), y_reg:(1163, 24)\n",
      "▶️ st-39 - st-39_evse-01 | X shape: (968, 24, 294), y_class: (968, 24), y_reg:(968, 24)\n",
      "▶️ st-39 - st-39_evse-02 | X shape: (1405, 24, 294), y_class: (1405, 24), y_reg:(1405, 24)\n",
      "▶️ st-40 - st-40_evse-00 | X shape: (1674, 24, 294), y_class: (1674, 24), y_reg:(1674, 24)\n",
      "▶️ st-40 - st-40_evse-01 | X shape: (869, 24, 294), y_class: (869, 24), y_reg:(869, 24)\n",
      "▶️ st-41 - st-41_evse-00 | X shape: (996, 24, 294), y_class: (996, 24), y_reg:(996, 24)\n",
      "▶️ st-41 - st-41_evse-01 | X shape: (1293, 24, 294), y_class: (1293, 24), y_reg:(1293, 24)\n",
      "▶️ st-42 - st-42_evse-00 | X shape: (840, 24, 294), y_class: (840, 24), y_reg:(840, 24)\n",
      "▶️ st-42 - st-42_evse-01 | X shape: (969, 24, 294), y_class: (969, 24), y_reg:(969, 24)\n",
      "▶️ st-42 - st-42_evse-02 | X shape: (1419, 24, 294), y_class: (1419, 24), y_reg:(1419, 24)\n",
      "▶️ st-43 - st-43_evse-00 | X shape: (1216, 24, 294), y_class: (1216, 24), y_reg:(1216, 24)\n",
      "▶️ st-43 - st-43_evse-01 | X shape: (1005, 24, 294), y_class: (1005, 24), y_reg:(1005, 24)\n",
      "▶️ st-43 - st-43_evse-02 | X shape: (1035, 24, 294), y_class: (1035, 24), y_reg:(1035, 24)\n",
      "▶️ st-44 - st-44_evse-00 | X shape: (862, 24, 294), y_class: (862, 24), y_reg:(862, 24)\n",
      "▶️ st-44 - st-44_evse-01 | X shape: (945, 24, 294), y_class: (945, 24), y_reg:(945, 24)\n",
      "▶️ st-44 - st-44_evse-02 | X shape: (1243, 24, 294), y_class: (1243, 24), y_reg:(1243, 24)\n",
      "▶️ st-44 - st-44_evse-03 | X shape: (1522, 24, 294), y_class: (1522, 24), y_reg:(1522, 24)\n",
      "▶️ st-45 - st-45_evse-00 | X shape: (911, 24, 294), y_class: (911, 24), y_reg:(911, 24)\n",
      "▶️ st-45 - st-45_evse-01 | X shape: (1191, 24, 294), y_class: (1191, 24), y_reg:(1191, 24)\n",
      "▶️ st-45 - st-45_evse-02 | X shape: (995, 24, 294), y_class: (995, 24), y_reg:(995, 24)\n",
      "▶️ st-45 - st-45_evse-03 | X shape: (921, 24, 294), y_class: (921, 24), y_reg:(921, 24)\n",
      "▶️ st-45 - st-45_evse-04 | X shape: (1202, 24, 294), y_class: (1202, 24), y_reg:(1202, 24)\n",
      "▶️ st-46 - st-46_evse-00 | X shape: (1012, 24, 294), y_class: (1012, 24), y_reg:(1012, 24)\n",
      "▶️ st-46 - st-46_evse-01 | X shape: (1038, 24, 294), y_class: (1038, 24), y_reg:(1038, 24)\n",
      "▶️ st-46 - st-46_evse-02 | X shape: (1019, 24, 294), y_class: (1019, 24), y_reg:(1019, 24)\n",
      "▶️ st-46 - st-46_evse-03 | X shape: (1139, 24, 294), y_class: (1139, 24), y_reg:(1139, 24)\n",
      "▶️ st-46 - st-46_evse-04 | X shape: (977, 24, 294), y_class: (977, 24), y_reg:(977, 24)\n",
      "▶️ st-47 - st-47_evse-00 | X shape: (1121, 24, 294), y_class: (1121, 24), y_reg:(1121, 24)\n",
      "▶️ st-47 - st-47_evse-01 | X shape: (1381, 24, 294), y_class: (1381, 24), y_reg:(1381, 24)\n",
      "▶️ st-47 - st-47_evse-02 | X shape: (1104, 24, 294), y_class: (1104, 24), y_reg:(1104, 24)\n",
      "▶️ st-48 - st-48_evse-00 | X shape: (961, 24, 294), y_class: (961, 24), y_reg:(961, 24)\n",
      "▶️ st-48 - st-48_evse-01 | X shape: (857, 24, 294), y_class: (857, 24), y_reg:(857, 24)\n",
      "▶️ st-48 - st-48_evse-02 | X shape: (831, 24, 294), y_class: (831, 24), y_reg:(831, 24)\n",
      "▶️ st-49 - st-49_evse-00 | X shape: (1055, 24, 294), y_class: (1055, 24), y_reg:(1055, 24)\n",
      "▶️ st-49 - st-49_evse-01 | X shape: (1217, 24, 294), y_class: (1217, 24), y_reg:(1217, 24)\n",
      "▶️ st-49 - st-49_evse-02 | X shape: (862, 24, 294), y_class: (862, 24), y_reg:(862, 24)\n",
      "▶️ st-49 - st-49_evse-03 | X shape: (1021, 24, 294), y_class: (1021, 24), y_reg:(1021, 24)\n",
      "▶️ st-49 - st-49_evse-04 | X shape: (997, 24, 294), y_class: (997, 24), y_reg:(997, 24)\n",
      "✅ 저장 완료: full_dataset_seq_pastTarget.npz\n"
     ]
    }
   ],
   "source": [
    "#전체 데이터 셋 저장\n",
    "# 하이퍼파라미터\n",
    "seq_len = 24 #학습 길이 지점별 24을 학습\n",
    "max_n = 24 # 예측 할 범위 24 이내 예측\n",
    "X_total, y_class_total, y_reg_total = [], [], []\n",
    "# 데이터 제너레이너 yield로 하나씩 생성후 저장\n",
    "gen = sequence_generator(ct, df, target_class, target_reg, seq_len, max_n)\n",
    "for (station, evse), X_seq, y_class, y_reg in gen:\n",
    "    print(f'▶️ {station} - {evse} | X shape: {X_seq.shape}, y_class: {y_class.shape}, y_reg:{y_reg.shape}')\n",
    "    X_total.append(X_seq)\n",
    "    y_class_total.append(y_class)\n",
    "    y_reg_total.append(y_reg)\n",
    "\n",
    "# concatenate (주의: 메모리 여유 있을 때만!)\n",
    "X_total = np.concatenate(X_total, axis=0)\n",
    "y_class_total = np.concatenate(y_class_total, axis=0)\n",
    "y_reg_total = np.concatenate(y_reg_total, axis=0)\n",
    "\n",
    "# 저장\n",
    "# np.savez_compressed(\"full_dataset_seq.npz\", X=X_total, y_class=y_class_total, y_reg=y_reg_total)\n",
    "# print(\"✅ 저장 완료: full_dataset_seq.npz\")\n",
    "np.savez_compressed(\"full_dataset_seq_pastTarget.npz\", X=X_total, y_class=y_class_total, y_reg=y_reg_total)\n",
    "print(\"✅ 저장 완료: full_dataset_seq_pastTarget.npz\")\n"
   ]
  },
  {
   "cell_type": "code",
   "execution_count": 28,
   "id": "f113e2c9",
   "metadata": {},
   "outputs": [
    {
     "name": "stdout",
     "output_type": "stream",
     "text": [
      "['X', 'y_class', 'y_reg']\n",
      "y_class (203737, 24)\n",
      "y_reg (203737, 24)\n"
     ]
    }
   ],
   "source": [
    "# 데이터셋 클래스 & 디바이스 세팅\n",
    "class CustomDataSet(Dataset):\n",
    "    def __init__(self, data):\n",
    "        self.X = torch.tensor(data['X'],dtype=torch.float32)\n",
    "        self.y_class = torch.tensor(data['y_class'],dtype=torch.long)\n",
    "        self.y_reg = torch.tensor(data['y_reg'],dtype=torch.float32)\n",
    "\n",
    "    def __len__(self):\n",
    "        return len(self.X)\n",
    "\n",
    "    def __getitem__(self, idx):\n",
    "        return self.X[idx], self.y_class[idx], self.y_reg[idx]\n",
    "data = np.load(\"./full_dataset_seq_pastTarget.npz\")\n",
    "print(data.files)  # ['X', 'y_class', 'y_reg'] 나와야 정상\n",
    "print('y_class',data['y_class'].shape)\n",
    "print('y_reg',data['y_reg'].shape)\n",
    "dataset = CustomDataSet(data)\n",
    "device = torch.device('cuda' if torch.cuda.is_available() else 'cpu')"
   ]
  },
  {
   "cell_type": "code",
   "execution_count": 29,
   "id": "1b7e96a6",
   "metadata": {},
   "outputs": [],
   "source": [
    "#하이퍼 파라미터\n",
    "input_dim = dataset.X.shape[-1]\n",
    "hidden_dim = 128\n",
    "num_layers = 2\n",
    "num_classes = int(dataset.y_class.max().item()) + 1  \n",
    "pred_len = dataset.y_class.shape[1]\n",
    "batch_size = 64\n",
    "epochs = 1000\n",
    "lr = 0.01\n",
    "alpha = 1.0  # 회귀 비중\n",
    "beta = 2.0   # 분류 비중\n",
    "#StepLR 파라미터\n",
    "step_size = 10\n",
    "gamma = 0.5\n",
    "#ReduceLROnPlateau 파라미터\n",
    "factor = 0.1 #factor=0.5\t줄일 때 몇 배로 줄일지 (0.5 = 절반)\n",
    "patience = 5 #patience=2\t몇 epoch 동안 개선 없을 때 줄일지\n",
    "mode='max'\t#F1, Acc 등의 값이 커질수록 좋을 때 사용"
   ]
  },
  {
   "cell_type": "code",
   "execution_count": 30,
   "id": "e1e568e3",
   "metadata": {},
   "outputs": [],
   "source": [
    "# 데이터 로딩 \n",
    "dataset_size = len(dataset)\n",
    "train_size = int(0.7 * dataset_size)\n",
    "val_size = int(0.15 * dataset_size)\n",
    "test_size = dataset_size - train_size - val_size\n",
    "\n",
    "train_dataset, val_dataset, test_dataset = random_split(dataset,[train_size,val_size,test_size])\n",
    "\n",
    "train_loader = DataLoader(train_dataset,batch_size=batch_size,shuffle=True)\n",
    "val_loader = DataLoader(val_dataset,batch_size=batch_size,shuffle=True)\n",
    "test_loader = DataLoader(test_dataset,batch_size=batch_size,shuffle=True)"
   ]
  },
  {
   "cell_type": "code",
   "execution_count": 31,
   "id": "d7c910d6",
   "metadata": {},
   "outputs": [],
   "source": [
    "# 모델 로딩\n",
    "model = LSTMModel_3(input_dim,hidden_dim,num_layers,num_classes,pred_len).to(device)\n",
    "\n",
    "class FocalLoss(nn.Module):\n",
    "    def __init__(self, gamma=2.0, weight=None):\n",
    "        super(FocalLoss, self).__init__()\n",
    "        self.gamma = gamma\n",
    "        self.weight = weight  # 클래스 가중치 (불균형 대응)\n",
    "\n",
    "    def forward(self, input, target):\n",
    "        logp = F.log_softmax(input, dim=1)\n",
    "        p = torch.exp(logp)\n",
    "        logp = (1 - p) ** self.gamma * logp\n",
    "        loss = F.nll_loss(logp, target, weight=self.weight)\n",
    "        return loss \n",
    "\n",
    "loss_fn_reg = nn.MSELoss(reduction='mean')\n",
    "loss_fn_cls = nn.CrossEntropyLoss()\n",
    "# loss_fn_cls = FocalLoss(gamma=2.0,weight=weights_tensor)\n",
    "optimizer = optim.Adam(model.parameters(),lr=lr)\n",
    "# scheduler = optim.lr_scheduler.StepLR(optimizer, step_size=step_size, gamma=gamma) #  1~3 : 0.01 4~6 : 0.01 -(3*0.5=0.005)\n",
    "scheduler = ReduceLROnPlateau(optimizer,mode=mode,factor=factor,patience=patience)"
   ]
  },
  {
   "cell_type": "code",
   "execution_count": 32,
   "id": "ebc22cfb",
   "metadata": {},
   "outputs": [
    {
     "data": {
      "application/vnd.jupyter.widget-view+json": {
       "model_id": "1ef3e160c7384007b0bc3b5885ed87c6",
       "version_major": 2,
       "version_minor": 0
      },
      "text/plain": [
       "[1/2229]   0%|           [00:00<?]"
      ]
     },
     "metadata": {},
     "output_type": "display_data"
    },
    {
     "name": "stdout",
     "output_type": "stream",
     "text": [
      "\n",
      "Epoch 1 Results => Loss: 2.4607 | Loss_Reg: 0.0301 | Loss_Cls: 1.2153 | Acc: 0.4482 | LR: 0.010000 | Avg confidence: 0.4494 | F1: 0.1082 | Precision: 0.1677 | Recall: 0.3334Time: 250710_19:09:13\n",
      "Validation => Acc: 0.4440 | F1: 0.1230\n"
     ]
    },
    {
     "data": {
      "application/vnd.jupyter.widget-view+json": {
       "model_id": "e18af85027464401a8a68e810c83cfcd",
       "version_major": 2,
       "version_minor": 0
      },
      "text/plain": [
       "[1/2229]   0%|           [00:00<?]"
      ]
     },
     "metadata": {},
     "output_type": "display_data"
    },
    {
     "name": "stdout",
     "output_type": "stream",
     "text": [
      "\n",
      "Epoch 2 Results => Loss: 2.4482 | Loss_Reg: 0.0285 | Loss_Cls: 1.2099 | Acc: 0.4496 | LR: 0.010000 | Avg confidence: 0.4502 | F1: 0.1304 | Precision: 0.5659 | Recall: 0.2007Time: 250710_19:09:42\n",
      "Validation => Acc: 0.4648 | F1: 0.1286\n"
     ]
    },
    {
     "data": {
      "application/vnd.jupyter.widget-view+json": {
       "model_id": "c62233b7f527451397a5b351584460ce",
       "version_major": 2,
       "version_minor": 0
      },
      "text/plain": [
       "[1/2229]   0%|           [00:00<?]"
      ]
     },
     "metadata": {},
     "output_type": "display_data"
    },
    {
     "name": "stdout",
     "output_type": "stream",
     "text": [
      "\n",
      "Epoch 3 Results => Loss: 2.4372 | Loss_Reg: 0.0286 | Loss_Cls: 1.2043 | Acc: 0.4511 | LR: 0.010000 | Avg confidence: 0.4524 | F1: 0.1480 | Precision: 0.6411 | Recall: 0.2043Time: 250710_19:10:10\n",
      "Validation => Acc: 0.4323 | F1: 0.1446\n"
     ]
    },
    {
     "data": {
      "application/vnd.jupyter.widget-view+json": {
       "model_id": "48aa5ebc4a1e41c1a9b00f6e5b4e0c80",
       "version_major": 2,
       "version_minor": 0
      },
      "text/plain": [
       "[1/2229]   0%|           [00:00<?]"
      ]
     },
     "metadata": {},
     "output_type": "display_data"
    },
    {
     "name": "stdout",
     "output_type": "stream",
     "text": [
      "\n",
      "Epoch 4 Results => Loss: 2.4182 | Loss_Reg: 0.0287 | Loss_Cls: 1.1947 | Acc: 0.4566 | LR: 0.010000 | Avg confidence: 0.4581 | F1: 0.1695 | Precision: 0.6441 | Recall: 0.2115Time: 250710_19:10:38\n",
      "Validation => Acc: 0.4844 | F1: 0.1688\n"
     ]
    },
    {
     "data": {
      "application/vnd.jupyter.widget-view+json": {
       "model_id": "7c123089a66748b8a60e38239499b0b1",
       "version_major": 2,
       "version_minor": 0
      },
      "text/plain": [
       "[1/2229]   0%|           [00:00<?]"
      ]
     },
     "metadata": {},
     "output_type": "display_data"
    },
    {
     "name": "stdout",
     "output_type": "stream",
     "text": [
      "\n",
      "Epoch 5 Results => Loss: 2.3920 | Loss_Reg: 0.0289 | Loss_Cls: 1.1816 | Acc: 0.4644 | LR: 0.010000 | Avg confidence: 0.4664 | F1: 0.1850 | Precision: 0.4467 | Recall: 0.2194Time: 250710_19:11:06\n",
      "Validation => Acc: 0.4648 | F1: 0.2183\n"
     ]
    },
    {
     "data": {
      "application/vnd.jupyter.widget-view+json": {
       "model_id": "bac7d032b18a479a91a590304058612e",
       "version_major": 2,
       "version_minor": 0
      },
      "text/plain": [
       "[1/2229]   0%|           [00:00<?]"
      ]
     },
     "metadata": {},
     "output_type": "display_data"
    },
    {
     "name": "stdout",
     "output_type": "stream",
     "text": [
      "\n",
      "Epoch 6 Results => Loss: 2.3631 | Loss_Reg: 0.0290 | Loss_Cls: 1.1670 | Acc: 0.4719 | LR: 0.010000 | Avg confidence: 0.4745 | F1: 0.1963 | Precision: 0.4869 | Recall: 0.2264Time: 250710_19:11:34\n",
      "Validation => Acc: 0.4766 | F1: 0.2028\n"
     ]
    },
    {
     "data": {
      "application/vnd.jupyter.widget-view+json": {
       "model_id": "f1039a05262d4a4e8d0f4aa120de4813",
       "version_major": 2,
       "version_minor": 0
      },
      "text/plain": [
       "[1/2229]   0%|           [00:00<?]"
      ]
     },
     "metadata": {},
     "output_type": "display_data"
    },
    {
     "name": "stdout",
     "output_type": "stream",
     "text": [
      "\n",
      "Epoch 7 Results => Loss: 2.3339 | Loss_Reg: 0.0290 | Loss_Cls: 1.1524 | Acc: 0.4785 | LR: 0.010000 | Avg confidence: 0.4815 | F1: 0.2060 | Precision: 0.3282 | Recall: 0.2326Time: 250710_19:12:02\n",
      "Validation => Acc: 0.4740 | F1: 0.2014\n"
     ]
    },
    {
     "data": {
      "application/vnd.jupyter.widget-view+json": {
       "model_id": "9f86101f61204c9889ae87dad23c668d",
       "version_major": 2,
       "version_minor": 0
      },
      "text/plain": [
       "[1/2229]   0%|           [00:00<?]"
      ]
     },
     "metadata": {},
     "output_type": "display_data"
    },
    {
     "name": "stdout",
     "output_type": "stream",
     "text": [
      "\n",
      "Epoch 8 Results => Loss: 2.3053 | Loss_Reg: 0.0291 | Loss_Cls: 1.1381 | Acc: 0.4849 | LR: 0.010000 | Avg confidence: 0.4879 | F1: 0.2156 | Precision: 0.3305 | Recall: 0.2388Time: 250710_19:12:30\n",
      "Validation => Acc: 0.4779 | F1: 0.2226\n"
     ]
    },
    {
     "data": {
      "application/vnd.jupyter.widget-view+json": {
       "model_id": "749684753af946d8b1344fc20cd1ea39",
       "version_major": 2,
       "version_minor": 0
      },
      "text/plain": [
       "[1/2229]   0%|           [00:00<?]"
      ]
     },
     "metadata": {},
     "output_type": "display_data"
    },
    {
     "name": "stdout",
     "output_type": "stream",
     "text": [
      "\n",
      "Epoch 9 Results => Loss: 2.2783 | Loss_Reg: 0.0292 | Loss_Cls: 1.1245 | Acc: 0.4901 | LR: 0.010000 | Avg confidence: 0.4938 | F1: 0.2250 | Precision: 0.3449 | Recall: 0.2446Time: 250710_19:12:59\n",
      "Validation => Acc: 0.5299 | F1: 0.2193\n"
     ]
    },
    {
     "data": {
      "application/vnd.jupyter.widget-view+json": {
       "model_id": "e77aec8af24347958e4b0dd6b6567725",
       "version_major": 2,
       "version_minor": 0
      },
      "text/plain": [
       "[1/2229]   0%|           [00:00<?]"
      ]
     },
     "metadata": {},
     "output_type": "display_data"
    },
    {
     "name": "stdout",
     "output_type": "stream",
     "text": [
      "\n",
      "Epoch 10 Results => Loss: 2.2546 | Loss_Reg: 0.0292 | Loss_Cls: 1.1127 | Acc: 0.4949 | LR: 0.010000 | Avg confidence: 0.4991 | F1: 0.2334 | Precision: 0.3569 | Recall: 0.2500Time: 250710_19:13:27\n",
      "Validation => Acc: 0.4714 | F1: 0.2270\n"
     ]
    },
    {
     "data": {
      "application/vnd.jupyter.widget-view+json": {
       "model_id": "964874b1f08545faaf4701bf36b573a3",
       "version_major": 2,
       "version_minor": 0
      },
      "text/plain": [
       "[1/2229]   0%|           [00:00<?]"
      ]
     },
     "metadata": {},
     "output_type": "display_data"
    },
    {
     "name": "stdout",
     "output_type": "stream",
     "text": [
      "\n",
      "Epoch 11 Results => Loss: 2.2330 | Loss_Reg: 0.0292 | Loss_Cls: 1.1019 | Acc: 0.4994 | LR: 0.010000 | Avg confidence: 0.5035 | F1: 0.2407 | Precision: 0.3615 | Recall: 0.2548Time: 250710_19:13:56\n",
      "Validation => Acc: 0.5000 | F1: 0.2300\n"
     ]
    },
    {
     "data": {
      "application/vnd.jupyter.widget-view+json": {
       "model_id": "9a51f66d38ee4079bc394f8fb5749f30",
       "version_major": 2,
       "version_minor": 0
      },
      "text/plain": [
       "[1/2229]   0%|           [00:00<?]"
      ]
     },
     "metadata": {},
     "output_type": "display_data"
    },
    {
     "name": "stdout",
     "output_type": "stream",
     "text": [
      "\n",
      "Epoch 12 Results => Loss: 2.2132 | Loss_Reg: 0.0292 | Loss_Cls: 1.0920 | Acc: 0.5037 | LR: 0.010000 | Avg confidence: 0.5081 | F1: 0.2481 | Precision: 0.3699 | Recall: 0.2598Time: 250710_19:14:24\n",
      "Validation => Acc: 0.5013 | F1: 0.2322\n"
     ]
    },
    {
     "data": {
      "application/vnd.jupyter.widget-view+json": {
       "model_id": "a1eb31901d8143abad258cde665ad833",
       "version_major": 2,
       "version_minor": 0
      },
      "text/plain": [
       "[1/2229]   0%|           [00:00<?]"
      ]
     },
     "metadata": {},
     "output_type": "display_data"
    },
    {
     "name": "stdout",
     "output_type": "stream",
     "text": [
      "\n",
      "Epoch 13 Results => Loss: 2.1949 | Loss_Reg: 0.0292 | Loss_Cls: 1.0828 | Acc: 0.5073 | LR: 0.010000 | Avg confidence: 0.5121 | F1: 0.2542 | Precision: 0.3709 | Recall: 0.2640Time: 250710_19:14:52\n",
      "Validation => Acc: 0.5039 | F1: 0.2330\n"
     ]
    },
    {
     "data": {
      "application/vnd.jupyter.widget-view+json": {
       "model_id": "59b4c2aceba04cd4a6f5cf9cca900e18",
       "version_major": 2,
       "version_minor": 0
      },
      "text/plain": [
       "[1/2229]   0%|           [00:00<?]"
      ]
     },
     "metadata": {},
     "output_type": "display_data"
    },
    {
     "name": "stdout",
     "output_type": "stream",
     "text": [
      "\n",
      "Epoch 14 Results => Loss: 2.1778 | Loss_Reg: 0.0292 | Loss_Cls: 1.0743 | Acc: 0.5106 | LR: 0.010000 | Avg confidence: 0.5155 | F1: 0.2608 | Precision: 0.3835 | Recall: 0.2684Time: 250710_19:15:18\n",
      "Validation => Acc: 0.5234 | F1: 0.2550\n"
     ]
    },
    {
     "data": {
      "application/vnd.jupyter.widget-view+json": {
       "model_id": "8eafb7e4d4104811bc648786ad347b8e",
       "version_major": 2,
       "version_minor": 0
      },
      "text/plain": [
       "[1/2229]   0%|           [00:00<?]"
      ]
     },
     "metadata": {},
     "output_type": "display_data"
    },
    {
     "name": "stdout",
     "output_type": "stream",
     "text": [
      "\n",
      "Epoch 15 Results => Loss: 2.1622 | Loss_Reg: 0.0292 | Loss_Cls: 1.0665 | Acc: 0.5135 | LR: 0.010000 | Avg confidence: 0.5189 | F1: 0.2659 | Precision: 0.3827 | Recall: 0.2720Time: 250710_19:15:44\n",
      "Validation => Acc: 0.5443 | F1: 0.2867\n"
     ]
    },
    {
     "data": {
      "application/vnd.jupyter.widget-view+json": {
       "model_id": "82c606a8219c428cba5a09590ae3ea3d",
       "version_major": 2,
       "version_minor": 0
      },
      "text/plain": [
       "[1/2229]   0%|           [00:00<?]"
      ]
     },
     "metadata": {},
     "output_type": "display_data"
    },
    {
     "name": "stdout",
     "output_type": "stream",
     "text": [
      "\n",
      "Epoch 16 Results => Loss: 2.1474 | Loss_Reg: 0.0292 | Loss_Cls: 1.0591 | Acc: 0.5166 | LR: 0.010000 | Avg confidence: 0.5223 | F1: 0.2716 | Precision: 0.3891 | Recall: 0.2759Time: 250710_19:16:10\n",
      "Validation => Acc: 0.5026 | F1: 0.2762\n"
     ]
    },
    {
     "data": {
      "application/vnd.jupyter.widget-view+json": {
       "model_id": "067c86bf063e40e9bb4d242f23c5ac0c",
       "version_major": 2,
       "version_minor": 0
      },
      "text/plain": [
       "[1/2229]   0%|           [00:00<?]"
      ]
     },
     "metadata": {},
     "output_type": "display_data"
    },
    {
     "name": "stdout",
     "output_type": "stream",
     "text": [
      "\n",
      "Epoch 17 Results => Loss: 2.1328 | Loss_Reg: 0.0292 | Loss_Cls: 1.0518 | Acc: 0.5198 | LR: 0.010000 | Avg confidence: 0.5258 | F1: 0.2770 | Precision: 0.3935 | Recall: 0.2798Time: 250710_19:16:37\n",
      "Validation => Acc: 0.5013 | F1: 0.2722\n"
     ]
    },
    {
     "data": {
      "application/vnd.jupyter.widget-view+json": {
       "model_id": "bbea5d0dd509455a9b18e131099b92e9",
       "version_major": 2,
       "version_minor": 0
      },
      "text/plain": [
       "[1/2229]   0%|           [00:00<?]"
      ]
     },
     "metadata": {},
     "output_type": "display_data"
    },
    {
     "name": "stdout",
     "output_type": "stream",
     "text": [
      "\n",
      "Epoch 18 Results => Loss: 2.1192 | Loss_Reg: 0.0292 | Loss_Cls: 1.0450 | Acc: 0.5226 | LR: 0.010000 | Avg confidence: 0.5290 | F1: 0.2822 | Precision: 0.3971 | Recall: 0.2835Time: 250710_19:17:03\n",
      "Validation => Acc: 0.5156 | F1: 0.2672\n"
     ]
    },
    {
     "data": {
      "application/vnd.jupyter.widget-view+json": {
       "model_id": "f66e852e41914b998f5235da82268457",
       "version_major": 2,
       "version_minor": 0
      },
      "text/plain": [
       "[1/2229]   0%|           [00:00<?]"
      ]
     },
     "metadata": {},
     "output_type": "display_data"
    },
    {
     "name": "stdout",
     "output_type": "stream",
     "text": [
      "\n",
      "Epoch 19 Results => Loss: 2.1039 | Loss_Reg: 0.0293 | Loss_Cls: 1.0373 | Acc: 0.5258 | LR: 0.010000 | Avg confidence: 0.5328 | F1: 0.2879 | Precision: 0.4000 | Recall: 0.2877Time: 250710_19:17:29\n",
      "Validation => Acc: 0.4935 | F1: 0.2526\n"
     ]
    },
    {
     "data": {
      "application/vnd.jupyter.widget-view+json": {
       "model_id": "77ff8929f2824e66af60f11bc7d298bc",
       "version_major": 2,
       "version_minor": 0
      },
      "text/plain": [
       "[1/2229]   0%|           [00:00<?]"
      ]
     },
     "metadata": {},
     "output_type": "display_data"
    },
    {
     "name": "stdout",
     "output_type": "stream",
     "text": [
      "\n",
      "Epoch 20 Results => Loss: 2.0914 | Loss_Reg: 0.0293 | Loss_Cls: 1.0310 | Acc: 0.5284 | LR: 0.010000 | Avg confidence: 0.5356 | F1: 0.2924 | Precision: 0.4032 | Recall: 0.2910Time: 250710_19:17:55\n",
      "Validation => Acc: 0.5273 | F1: 0.2824\n"
     ]
    },
    {
     "data": {
      "application/vnd.jupyter.widget-view+json": {
       "model_id": "7a82f4a49b024fe0a6d857d5e2ac2fb9",
       "version_major": 2,
       "version_minor": 0
      },
      "text/plain": [
       "[1/2229]   0%|           [00:00<?]"
      ]
     },
     "metadata": {},
     "output_type": "display_data"
    },
    {
     "name": "stdout",
     "output_type": "stream",
     "text": [
      "\n",
      "Epoch 21 Results => Loss: 2.0799 | Loss_Reg: 0.0294 | Loss_Cls: 1.0253 | Acc: 0.5310 | LR: 0.010000 | Avg confidence: 0.5385 | F1: 0.2975 | Precision: 0.4077 | Recall: 0.2948Time: 250710_19:18:21\n",
      "Validation => Acc: 0.5195 | F1: 0.2803\n"
     ]
    },
    {
     "data": {
      "application/vnd.jupyter.widget-view+json": {
       "model_id": "3f30e3ab7bfc4ea8b8e2700a4c99b46f",
       "version_major": 2,
       "version_minor": 0
      },
      "text/plain": [
       "[1/2229]   0%|           [00:00<?]"
      ]
     },
     "metadata": {},
     "output_type": "display_data"
    },
    {
     "name": "stdout",
     "output_type": "stream",
     "text": [
      "\n",
      "Epoch 22 Results => Loss: 2.0675 | Loss_Reg: 0.0292 | Loss_Cls: 1.0192 | Acc: 0.5332 | LR: 0.010000 | Avg confidence: 0.5412 | F1: 0.3018 | Precision: 0.4072 | Recall: 0.2980Time: 250710_19:18:47\n",
      "Validation => Acc: 0.5156 | F1: 0.2823\n"
     ]
    },
    {
     "data": {
      "application/vnd.jupyter.widget-view+json": {
       "model_id": "70049b260fc6491eaff4617d24fc5358",
       "version_major": 2,
       "version_minor": 0
      },
      "text/plain": [
       "[1/2229]   0%|           [00:00<?]"
      ]
     },
     "metadata": {},
     "output_type": "display_data"
    },
    {
     "name": "stdout",
     "output_type": "stream",
     "text": [
      "\n",
      "Epoch 23 Results => Loss: 2.0576 | Loss_Reg: 0.0293 | Loss_Cls: 1.0141 | Acc: 0.5353 | LR: 0.010000 | Avg confidence: 0.5436 | F1: 0.3052 | Precision: 0.4083 | Recall: 0.3006Time: 250710_19:19:14\n",
      "Validation => Acc: 0.5443 | F1: 0.3128\n"
     ]
    },
    {
     "data": {
      "application/vnd.jupyter.widget-view+json": {
       "model_id": "329e335f20ca47aeaeb91804e62cc723",
       "version_major": 2,
       "version_minor": 0
      },
      "text/plain": [
       "[1/2229]   0%|           [00:00<?]"
      ]
     },
     "metadata": {},
     "output_type": "display_data"
    },
    {
     "name": "stdout",
     "output_type": "stream",
     "text": [
      "\n",
      "Epoch 24 Results => Loss: 2.0462 | Loss_Reg: 0.0292 | Loss_Cls: 1.0085 | Acc: 0.5376 | LR: 0.010000 | Avg confidence: 0.5461 | F1: 0.3103 | Precision: 0.4133 | Recall: 0.3044Time: 250710_19:19:40\n",
      "Validation => Acc: 0.5260 | F1: 0.3123\n"
     ]
    },
    {
     "data": {
      "application/vnd.jupyter.widget-view+json": {
       "model_id": "02208fdf27bb4440bf34d5d3c816cdec",
       "version_major": 2,
       "version_minor": 0
      },
      "text/plain": [
       "[1/2229]   0%|           [00:00<?]"
      ]
     },
     "metadata": {},
     "output_type": "display_data"
    },
    {
     "name": "stdout",
     "output_type": "stream",
     "text": [
      "\n",
      "Epoch 25 Results => Loss: 2.0373 | Loss_Reg: 0.0293 | Loss_Cls: 1.0040 | Acc: 0.5391 | LR: 0.010000 | Avg confidence: 0.5480 | F1: 0.3131 | Precision: 0.4150 | Recall: 0.3065Time: 250710_19:20:06\n",
      "Validation => Acc: 0.5299 | F1: 0.2941\n"
     ]
    },
    {
     "data": {
      "application/vnd.jupyter.widget-view+json": {
       "model_id": "d215de40c1b14641a58662eda9c089da",
       "version_major": 2,
       "version_minor": 0
      },
      "text/plain": [
       "[1/2229]   0%|           [00:00<?]"
      ]
     },
     "metadata": {},
     "output_type": "display_data"
    },
    {
     "name": "stdout",
     "output_type": "stream",
     "text": [
      "\n",
      "Epoch 26 Results => Loss: 2.0287 | Loss_Reg: 0.0293 | Loss_Cls: 0.9997 | Acc: 0.5410 | LR: 0.010000 | Avg confidence: 0.5501 | F1: 0.3169 | Precision: 0.4186 | Recall: 0.3094Time: 250710_19:20:32\n",
      "Validation => Acc: 0.5182 | F1: 0.2886\n"
     ]
    },
    {
     "data": {
      "application/vnd.jupyter.widget-view+json": {
       "model_id": "0eb0442060914d698a512b368f85320b",
       "version_major": 2,
       "version_minor": 0
      },
      "text/plain": [
       "[1/2229]   0%|           [00:00<?]"
      ]
     },
     "metadata": {},
     "output_type": "display_data"
    },
    {
     "name": "stdout",
     "output_type": "stream",
     "text": [
      "\n",
      "Epoch 27 Results => Loss: 2.0188 | Loss_Reg: 0.0293 | Loss_Cls: 0.9948 | Acc: 0.5430 | LR: 0.010000 | Avg confidence: 0.5525 | F1: 0.3198 | Precision: 0.4178 | Recall: 0.3118Time: 250710_19:20:58\n",
      "Validation => Acc: 0.5143 | F1: 0.2997\n"
     ]
    },
    {
     "data": {
      "application/vnd.jupyter.widget-view+json": {
       "model_id": "af91bd876928438f8c0b37975c284b88",
       "version_major": 2,
       "version_minor": 0
      },
      "text/plain": [
       "[1/2229]   0%|           [00:00<?]"
      ]
     },
     "metadata": {},
     "output_type": "display_data"
    },
    {
     "name": "stdout",
     "output_type": "stream",
     "text": [
      "\n",
      "Epoch 28 Results => Loss: 2.0113 | Loss_Reg: 0.0293 | Loss_Cls: 0.9910 | Acc: 0.5444 | LR: 0.010000 | Avg confidence: 0.5543 | F1: 0.3223 | Precision: 0.4207 | Recall: 0.3138Time: 250710_19:21:25\n",
      "Validation => Acc: 0.5326 | F1: 0.3296\n"
     ]
    },
    {
     "data": {
      "application/vnd.jupyter.widget-view+json": {
       "model_id": "0b0f89cb0d2a4019af19e137bda02b8f",
       "version_major": 2,
       "version_minor": 0
      },
      "text/plain": [
       "[1/2229]   0%|           [00:00<?]"
      ]
     },
     "metadata": {},
     "output_type": "display_data"
    },
    {
     "name": "stdout",
     "output_type": "stream",
     "text": [
      "\n",
      "Epoch 29 Results => Loss: 2.0032 | Loss_Reg: 0.0293 | Loss_Cls: 0.9870 | Acc: 0.5463 | LR: 0.010000 | Avg confidence: 0.5561 | F1: 0.3259 | Precision: 0.4246 | Recall: 0.3166Time: 250710_19:21:51\n",
      "Validation => Acc: 0.5508 | F1: 0.3256\n"
     ]
    },
    {
     "data": {
      "application/vnd.jupyter.widget-view+json": {
       "model_id": "493c4b18439346d8982d84290058e90c",
       "version_major": 2,
       "version_minor": 0
      },
      "text/plain": [
       "[1/2229]   0%|           [00:00<?]"
      ]
     },
     "metadata": {},
     "output_type": "display_data"
    },
    {
     "name": "stdout",
     "output_type": "stream",
     "text": [
      "\n",
      "Epoch 30 Results => Loss: 1.9961 | Loss_Reg: 0.0293 | Loss_Cls: 0.9834 | Acc: 0.5474 | LR: 0.010000 | Avg confidence: 0.5575 | F1: 0.3272 | Precision: 0.4228 | Recall: 0.3178Time: 250710_19:22:18\n",
      "Validation => Acc: 0.5247 | F1: 0.2991\n"
     ]
    },
    {
     "data": {
      "application/vnd.jupyter.widget-view+json": {
       "model_id": "bfb464e758e443319c4a223cb0411643",
       "version_major": 2,
       "version_minor": 0
      },
      "text/plain": [
       "[1/2229]   0%|           [00:00<?]"
      ]
     },
     "metadata": {},
     "output_type": "display_data"
    },
    {
     "name": "stdout",
     "output_type": "stream",
     "text": [
      "\n",
      "Epoch 31 Results => Loss: 1.9895 | Loss_Reg: 0.0293 | Loss_Cls: 0.9801 | Acc: 0.5487 | LR: 0.010000 | Avg confidence: 0.5591 | F1: 0.3302 | Precision: 0.4276 | Recall: 0.3200Time: 250710_19:22:44\n",
      "Validation => Acc: 0.5794 | F1: 0.3309\n"
     ]
    },
    {
     "data": {
      "application/vnd.jupyter.widget-view+json": {
       "model_id": "daf5036369d644bbbd147f28b41aff77",
       "version_major": 2,
       "version_minor": 0
      },
      "text/plain": [
       "[1/2229]   0%|           [00:00<?]"
      ]
     },
     "metadata": {},
     "output_type": "display_data"
    },
    {
     "name": "stdout",
     "output_type": "stream",
     "text": [
      "\n",
      "Epoch 32 Results => Loss: 1.9826 | Loss_Reg: 0.0293 | Loss_Cls: 0.9766 | Acc: 0.5503 | LR: 0.010000 | Avg confidence: 0.5608 | F1: 0.3328 | Precision: 0.4285 | Recall: 0.3221Time: 250710_19:23:10\n",
      "Validation => Acc: 0.5586 | F1: 0.3511\n"
     ]
    },
    {
     "data": {
      "application/vnd.jupyter.widget-view+json": {
       "model_id": "1deef576661d4a9e8d5071f2886cfed6",
       "version_major": 2,
       "version_minor": 0
      },
      "text/plain": [
       "[1/2229]   0%|           [00:00<?]"
      ]
     },
     "metadata": {},
     "output_type": "display_data"
    },
    {
     "name": "stdout",
     "output_type": "stream",
     "text": [
      "\n",
      "Epoch 33 Results => Loss: 1.9753 | Loss_Reg: 0.0293 | Loss_Cls: 0.9730 | Acc: 0.5520 | LR: 0.010000 | Avg confidence: 0.5625 | F1: 0.3362 | Precision: 0.4330 | Recall: 0.3247Time: 250710_19:23:37\n",
      "Validation => Acc: 0.5495 | F1: 0.3182\n"
     ]
    },
    {
     "data": {
      "application/vnd.jupyter.widget-view+json": {
       "model_id": "05d2a932716b459cb23b185d8ec17f50",
       "version_major": 2,
       "version_minor": 0
      },
      "text/plain": [
       "[1/2229]   0%|           [00:00<?]"
      ]
     },
     "metadata": {},
     "output_type": "display_data"
    },
    {
     "name": "stdout",
     "output_type": "stream",
     "text": [
      "\n",
      "Epoch 34 Results => Loss: 1.9708 | Loss_Reg: 0.0293 | Loss_Cls: 0.9707 | Acc: 0.5529 | LR: 0.010000 | Avg confidence: 0.5635 | F1: 0.3368 | Precision: 0.4304 | Recall: 0.3255Time: 250710_19:24:03\n",
      "Validation => Acc: 0.5469 | F1: 0.3001\n"
     ]
    },
    {
     "data": {
      "application/vnd.jupyter.widget-view+json": {
       "model_id": "7040e0b5378843928804ca029f78e596",
       "version_major": 2,
       "version_minor": 0
      },
      "text/plain": [
       "[1/2229]   0%|           [00:00<?]"
      ]
     },
     "metadata": {},
     "output_type": "display_data"
    },
    {
     "name": "stdout",
     "output_type": "stream",
     "text": [
      "\n",
      "Epoch 35 Results => Loss: 1.9624 | Loss_Reg: 0.0293 | Loss_Cls: 0.9665 | Acc: 0.5547 | LR: 0.010000 | Avg confidence: 0.5655 | F1: 0.3390 | Precision: 0.4320 | Recall: 0.3274Time: 250710_19:24:29\n",
      "Validation => Acc: 0.5430 | F1: 0.3287\n"
     ]
    },
    {
     "data": {
      "application/vnd.jupyter.widget-view+json": {
       "model_id": "2c4d9f0f73c44c09a5ca563e890be72e",
       "version_major": 2,
       "version_minor": 0
      },
      "text/plain": [
       "[1/2229]   0%|           [00:00<?]"
      ]
     },
     "metadata": {},
     "output_type": "display_data"
    },
    {
     "name": "stdout",
     "output_type": "stream",
     "text": [
      "\n",
      "Epoch 36 Results => Loss: 1.9565 | Loss_Reg: 0.0293 | Loss_Cls: 0.9636 | Acc: 0.5562 | LR: 0.010000 | Avg confidence: 0.5669 | F1: 0.3419 | Precision: 0.4351 | Recall: 0.3296Time: 250710_19:24:55\n",
      "Validation => Acc: 0.5768 | F1: 0.3342\n"
     ]
    },
    {
     "data": {
      "application/vnd.jupyter.widget-view+json": {
       "model_id": "db337e8b83094a579228d27743da51eb",
       "version_major": 2,
       "version_minor": 0
      },
      "text/plain": [
       "[1/2229]   0%|           [00:00<?]"
      ]
     },
     "metadata": {},
     "output_type": "display_data"
    },
    {
     "name": "stdout",
     "output_type": "stream",
     "text": [
      "\n",
      "Epoch 37 Results => Loss: 1.9503 | Loss_Reg: 0.0294 | Loss_Cls: 0.9605 | Acc: 0.5572 | LR: 0.010000 | Avg confidence: 0.5685 | F1: 0.3432 | Precision: 0.4344 | Recall: 0.3308Time: 250710_19:25:22\n",
      "Validation => Acc: 0.5560 | F1: 0.3313\n"
     ]
    },
    {
     "data": {
      "application/vnd.jupyter.widget-view+json": {
       "model_id": "cffc9b779b514993babcd57f0c08c958",
       "version_major": 2,
       "version_minor": 0
      },
      "text/plain": [
       "[1/2229]   0%|           [00:00<?]"
      ]
     },
     "metadata": {},
     "output_type": "display_data"
    },
    {
     "name": "stdout",
     "output_type": "stream",
     "text": [
      "\n",
      "Epoch 38 Results => Loss: 1.9457 | Loss_Reg: 0.0293 | Loss_Cls: 0.9582 | Acc: 0.5588 | LR: 0.010000 | Avg confidence: 0.5698 | F1: 0.3450 | Precision: 0.4373 | Recall: 0.3324Time: 250710_19:25:48\n",
      "Validation => Acc: 0.5677 | F1: 0.3300\n"
     ]
    },
    {
     "data": {
      "application/vnd.jupyter.widget-view+json": {
       "model_id": "dad0d49853e04266b62a55e54a160750",
       "version_major": 2,
       "version_minor": 0
      },
      "text/plain": [
       "[1/2229]   0%|           [00:00<?]"
      ]
     },
     "metadata": {},
     "output_type": "display_data"
    },
    {
     "name": "stdout",
     "output_type": "stream",
     "text": [
      "\n",
      "Epoch 39 Results => Loss: 1.9388 | Loss_Reg: 0.0293 | Loss_Cls: 0.9547 | Acc: 0.5603 | LR: 0.010000 | Avg confidence: 0.5715 | F1: 0.3470 | Precision: 0.4379 | Recall: 0.3341Time: 250710_19:26:14\n",
      "Validation => Acc: 0.5482 | F1: 0.3370\n"
     ]
    },
    {
     "data": {
      "application/vnd.jupyter.widget-view+json": {
       "model_id": "026a550173bb427f8a95f2e7d2432ee4",
       "version_major": 2,
       "version_minor": 0
      },
      "text/plain": [
       "[1/2229]   0%|           [00:00<?]"
      ]
     },
     "metadata": {},
     "output_type": "display_data"
    },
    {
     "name": "stdout",
     "output_type": "stream",
     "text": [
      "\n",
      "Epoch 40 Results => Loss: 1.9346 | Loss_Reg: 0.0294 | Loss_Cls: 0.9526 | Acc: 0.5615 | LR: 0.010000 | Avg confidence: 0.5728 | F1: 0.3491 | Precision: 0.4424 | Recall: 0.3357Time: 250710_19:26:40\n",
      "Validation => Acc: 0.5547 | F1: 0.2989\n"
     ]
    },
    {
     "data": {
      "application/vnd.jupyter.widget-view+json": {
       "model_id": "47f4ff8d32fb4c86a9f29ea6a1dca46e",
       "version_major": 2,
       "version_minor": 0
      },
      "text/plain": [
       "[1/2229]   0%|           [00:00<?]"
      ]
     },
     "metadata": {},
     "output_type": "display_data"
    },
    {
     "name": "stdout",
     "output_type": "stream",
     "text": [
      "\n",
      "Epoch 41 Results => Loss: 1.9276 | Loss_Reg: 0.0294 | Loss_Cls: 0.9491 | Acc: 0.5630 | LR: 0.010000 | Avg confidence: 0.5743 | F1: 0.3516 | Precision: 0.4434 | Recall: 0.3378Time: 250710_19:27:09\n",
      "Validation => Acc: 0.5273 | F1: 0.3093\n"
     ]
    },
    {
     "data": {
      "application/vnd.jupyter.widget-view+json": {
       "model_id": "6d098b9ea6e04750a8b5ff802da44ce7",
       "version_major": 2,
       "version_minor": 0
      },
      "text/plain": [
       "[1/2229]   0%|           [00:00<?]"
      ]
     },
     "metadata": {},
     "output_type": "display_data"
    },
    {
     "name": "stdout",
     "output_type": "stream",
     "text": [
      "\n",
      "Epoch 42 Results => Loss: 1.9233 | Loss_Reg: 0.0294 | Loss_Cls: 0.9470 | Acc: 0.5637 | LR: 0.010000 | Avg confidence: 0.5755 | F1: 0.3522 | Precision: 0.4442 | Recall: 0.3384Time: 250710_19:27:35\n",
      "Validation => Acc: 0.5534 | F1: 0.3505\n"
     ]
    },
    {
     "data": {
      "application/vnd.jupyter.widget-view+json": {
       "model_id": "6c250eb6266f48579aafceaa59c56bff",
       "version_major": 2,
       "version_minor": 0
      },
      "text/plain": [
       "[1/2229]   0%|           [00:00<?]"
      ]
     },
     "metadata": {},
     "output_type": "display_data"
    },
    {
     "name": "stdout",
     "output_type": "stream",
     "text": [
      "\n",
      "Epoch 43 Results => Loss: 1.9176 | Loss_Reg: 0.0294 | Loss_Cls: 0.9441 | Acc: 0.5651 | LR: 0.010000 | Avg confidence: 0.5769 | F1: 0.3548 | Precision: 0.4465 | Recall: 0.3405Time: 250710_19:28:01\n",
      "Validation => Acc: 0.5391 | F1: 0.3226\n"
     ]
    },
    {
     "data": {
      "application/vnd.jupyter.widget-view+json": {
       "model_id": "8637430efccb4aaba32eb785eb86186b",
       "version_major": 2,
       "version_minor": 0
      },
      "text/plain": [
       "[1/2229]   0%|           [00:00<?]"
      ]
     },
     "metadata": {},
     "output_type": "display_data"
    },
    {
     "name": "stdout",
     "output_type": "stream",
     "text": [
      "\n",
      "Epoch 44 Results => Loss: 1.9128 | Loss_Reg: 0.0294 | Loss_Cls: 0.9417 | Acc: 0.5663 | LR: 0.010000 | Avg confidence: 0.5779 | F1: 0.3563 | Precision: 0.4476 | Recall: 0.3418Time: 250710_19:28:28\n",
      "Validation => Acc: 0.5417 | F1: 0.3178\n"
     ]
    },
    {
     "data": {
      "application/vnd.jupyter.widget-view+json": {
       "model_id": "a9aabff9fef145efa69d36054ecac2e8",
       "version_major": 2,
       "version_minor": 0
      },
      "text/plain": [
       "[1/2229]   0%|           [00:00<?]"
      ]
     },
     "metadata": {},
     "output_type": "display_data"
    },
    {
     "name": "stdout",
     "output_type": "stream",
     "text": [
      "\n",
      "Epoch 45 Results => Loss: 1.9082 | Loss_Reg: 0.0294 | Loss_Cls: 0.9394 | Acc: 0.5671 | LR: 0.010000 | Avg confidence: 0.5792 | F1: 0.3574 | Precision: 0.4475 | Recall: 0.3428Time: 250710_19:28:54\n",
      "Validation => Acc: 0.5547 | F1: 0.3372\n"
     ]
    },
    {
     "data": {
      "application/vnd.jupyter.widget-view+json": {
       "model_id": "4378507801804985874fb2440d0629bc",
       "version_major": 2,
       "version_minor": 0
      },
      "text/plain": [
       "[1/2229]   0%|           [00:00<?]"
      ]
     },
     "metadata": {},
     "output_type": "display_data"
    },
    {
     "name": "stdout",
     "output_type": "stream",
     "text": [
      "\n",
      "Epoch 46 Results => Loss: 1.9048 | Loss_Reg: 0.0294 | Loss_Cls: 0.9377 | Acc: 0.5682 | LR: 0.010000 | Avg confidence: 0.5801 | F1: 0.3591 | Precision: 0.4498 | Recall: 0.3442Time: 250710_19:29:20\n",
      "Validation => Acc: 0.5443 | F1: 0.3383\n"
     ]
    },
    {
     "data": {
      "application/vnd.jupyter.widget-view+json": {
       "model_id": "4be75e842a0b4022985dfcef3ea5ee46",
       "version_major": 2,
       "version_minor": 0
      },
      "text/plain": [
       "[1/2229]   0%|           [00:00<?]"
      ]
     },
     "metadata": {},
     "output_type": "display_data"
    },
    {
     "name": "stdout",
     "output_type": "stream",
     "text": [
      "\n",
      "Epoch 47 Results => Loss: 1.9008 | Loss_Reg: 0.0294 | Loss_Cls: 0.9357 | Acc: 0.5692 | LR: 0.010000 | Avg confidence: 0.5811 | F1: 0.3595 | Precision: 0.4483 | Recall: 0.3447Time: 250710_19:29:46\n",
      "Validation => Acc: 0.5703 | F1: 0.3362\n"
     ]
    },
    {
     "data": {
      "application/vnd.jupyter.widget-view+json": {
       "model_id": "9ea0cbaa20354ab486b37cd4eec0654c",
       "version_major": 2,
       "version_minor": 0
      },
      "text/plain": [
       "[1/2229]   0%|           [00:00<?]"
      ]
     },
     "metadata": {},
     "output_type": "display_data"
    },
    {
     "name": "stdout",
     "output_type": "stream",
     "text": [
      "\n",
      "Epoch 48 Results => Loss: 1.8944 | Loss_Reg: 0.0294 | Loss_Cls: 0.9325 | Acc: 0.5702 | LR: 0.010000 | Avg confidence: 0.5824 | F1: 0.3622 | Precision: 0.4526 | Recall: 0.3468Time: 250710_19:30:13\n",
      "Validation => Acc: 0.5781 | F1: 0.3700\n"
     ]
    },
    {
     "data": {
      "application/vnd.jupyter.widget-view+json": {
       "model_id": "a10fcf0e54e14944b018da1fcda89b64",
       "version_major": 2,
       "version_minor": 0
      },
      "text/plain": [
       "[1/2229]   0%|           [00:00<?]"
      ]
     },
     "metadata": {},
     "output_type": "display_data"
    },
    {
     "name": "stdout",
     "output_type": "stream",
     "text": [
      "\n",
      "Epoch 49 Results => Loss: 1.9030 | Loss_Reg: 0.0304 | Loss_Cls: 0.9363 | Acc: 0.5691 | LR: 0.010000 | Avg confidence: 0.5815 | F1: 0.3593 | Precision: 0.4498 | Recall: 0.3446Time: 250710_19:30:39\n",
      "Validation => Acc: 0.5508 | F1: 0.3869\n"
     ]
    },
    {
     "data": {
      "application/vnd.jupyter.widget-view+json": {
       "model_id": "8dd278c4e964406c9c04d9508fced12a",
       "version_major": 2,
       "version_minor": 0
      },
      "text/plain": [
       "[1/2229]   0%|           [00:00<?]"
      ]
     },
     "metadata": {},
     "output_type": "display_data"
    },
    {
     "name": "stdout",
     "output_type": "stream",
     "text": [
      "\n",
      "Epoch 50 Results => Loss: 1.8902 | Loss_Reg: 0.0295 | Loss_Cls: 0.9303 | Acc: 0.5716 | LR: 0.010000 | Avg confidence: 0.5838 | F1: 0.3636 | Precision: 0.4537 | Recall: 0.3481Time: 250710_19:31:05\n",
      "Validation => Acc: 0.5768 | F1: 0.3740\n"
     ]
    },
    {
     "data": {
      "application/vnd.jupyter.widget-view+json": {
       "model_id": "dd9f8a65a1f44b9ca8b453c384c699a0",
       "version_major": 2,
       "version_minor": 0
      },
      "text/plain": [
       "[1/2229]   0%|           [00:00<?]"
      ]
     },
     "metadata": {},
     "output_type": "display_data"
    },
    {
     "name": "stdout",
     "output_type": "stream",
     "text": [
      "\n",
      "Epoch 51 Results => Loss: 1.8858 | Loss_Reg: 0.0294 | Loss_Cls: 0.9282 | Acc: 0.5724 | LR: 0.010000 | Avg confidence: 0.5847 | F1: 0.3647 | Precision: 0.4544 | Recall: 0.3491Time: 250710_19:31:32\n",
      "Validation => Acc: 0.5872 | F1: 0.3467\n"
     ]
    },
    {
     "data": {
      "application/vnd.jupyter.widget-view+json": {
       "model_id": "a875bed06edb4c049677478f4ce90206",
       "version_major": 2,
       "version_minor": 0
      },
      "text/plain": [
       "[1/2229]   0%|           [00:00<?]"
      ]
     },
     "metadata": {},
     "output_type": "display_data"
    },
    {
     "name": "stdout",
     "output_type": "stream",
     "text": [
      "\n",
      "Epoch 52 Results => Loss: 1.8807 | Loss_Reg: 0.0294 | Loss_Cls: 0.9257 | Acc: 0.5735 | LR: 0.010000 | Avg confidence: 0.5859 | F1: 0.3662 | Precision: 0.4555 | Recall: 0.3504Time: 250710_19:31:58\n",
      "Validation => Acc: 0.5599 | F1: 0.3253\n"
     ]
    },
    {
     "data": {
      "application/vnd.jupyter.widget-view+json": {
       "model_id": "0f12ace926644540b4a119907119aca1",
       "version_major": 2,
       "version_minor": 0
      },
      "text/plain": [
       "[1/2229]   0%|           [00:00<?]"
      ]
     },
     "metadata": {},
     "output_type": "display_data"
    },
    {
     "name": "stdout",
     "output_type": "stream",
     "text": [
      "\n",
      "Epoch 53 Results => Loss: 1.8768 | Loss_Reg: 0.0294 | Loss_Cls: 0.9237 | Acc: 0.5744 | LR: 0.010000 | Avg confidence: 0.5867 | F1: 0.3677 | Precision: 0.4563 | Recall: 0.3517Time: 250710_19:32:25\n",
      "Validation => Acc: 0.5534 | F1: 0.3610\n"
     ]
    },
    {
     "data": {
      "application/vnd.jupyter.widget-view+json": {
       "model_id": "4c2a4c8e8ac947d5818191f6ee9b0e26",
       "version_major": 2,
       "version_minor": 0
      },
      "text/plain": [
       "[1/2229]   0%|           [00:00<?]"
      ]
     },
     "metadata": {},
     "output_type": "display_data"
    },
    {
     "name": "stdout",
     "output_type": "stream",
     "text": [
      "\n",
      "Epoch 54 Results => Loss: 1.8717 | Loss_Reg: 0.0294 | Loss_Cls: 0.9211 | Acc: 0.5759 | LR: 0.010000 | Avg confidence: 0.5879 | F1: 0.3691 | Precision: 0.4577 | Recall: 0.3531Time: 250710_19:32:51\n",
      "Validation => Acc: 0.5690 | F1: 0.3871\n"
     ]
    },
    {
     "data": {
      "application/vnd.jupyter.widget-view+json": {
       "model_id": "2edc13cdd3ed4bf88a96f2c0479b7787",
       "version_major": 2,
       "version_minor": 0
      },
      "text/plain": [
       "[1/2229]   0%|           [00:00<?]"
      ]
     },
     "metadata": {},
     "output_type": "display_data"
    },
    {
     "name": "stdout",
     "output_type": "stream",
     "text": [
      "\n",
      "Epoch 55 Results => Loss: 1.8715 | Loss_Reg: 0.0294 | Loss_Cls: 0.9210 | Acc: 0.5758 | LR: 0.010000 | Avg confidence: 0.5883 | F1: 0.3696 | Precision: 0.4582 | Recall: 0.3534Time: 250710_19:33:17\n",
      "Validation => Acc: 0.5859 | F1: 0.3615\n"
     ]
    },
    {
     "data": {
      "application/vnd.jupyter.widget-view+json": {
       "model_id": "ed2baeb49abd4ed1a6efc11cb787d7f9",
       "version_major": 2,
       "version_minor": 0
      },
      "text/plain": [
       "[1/2229]   0%|           [00:00<?]"
      ]
     },
     "metadata": {},
     "output_type": "display_data"
    },
    {
     "name": "stdout",
     "output_type": "stream",
     "text": [
      "\n",
      "Epoch 56 Results => Loss: 1.8639 | Loss_Reg: 0.0295 | Loss_Cls: 0.9172 | Acc: 0.5771 | LR: 0.010000 | Avg confidence: 0.5897 | F1: 0.3713 | Precision: 0.4597 | Recall: 0.3549Time: 250710_19:33:43\n",
      "Validation => Acc: 0.5872 | F1: 0.3721\n"
     ]
    },
    {
     "data": {
      "application/vnd.jupyter.widget-view+json": {
       "model_id": "67041299c2404755b4e638148fc014ed",
       "version_major": 2,
       "version_minor": 0
      },
      "text/plain": [
       "[1/2229]   0%|           [00:00<?]"
      ]
     },
     "metadata": {},
     "output_type": "display_data"
    },
    {
     "name": "stdout",
     "output_type": "stream",
     "text": [
      "\n",
      "Epoch 57 Results => Loss: 1.8619 | Loss_Reg: 0.0294 | Loss_Cls: 0.9162 | Acc: 0.5778 | LR: 0.010000 | Avg confidence: 0.5902 | F1: 0.3718 | Precision: 0.4589 | Recall: 0.3555Time: 250710_19:34:10\n",
      "Validation => Acc: 0.5716 | F1: 0.3595\n"
     ]
    },
    {
     "data": {
      "application/vnd.jupyter.widget-view+json": {
       "model_id": "db676451221a4cf48310e9d13cdc0374",
       "version_major": 2,
       "version_minor": 0
      },
      "text/plain": [
       "[1/2229]   0%|           [00:00<?]"
      ]
     },
     "metadata": {},
     "output_type": "display_data"
    },
    {
     "name": "stdout",
     "output_type": "stream",
     "text": [
      "\n",
      "Epoch 58 Results => Loss: 1.8573 | Loss_Reg: 0.0294 | Loss_Cls: 0.9139 | Acc: 0.5785 | LR: 0.010000 | Avg confidence: 0.5911 | F1: 0.3738 | Precision: 0.4614 | Recall: 0.3571Time: 250710_19:34:37\n",
      "Validation => Acc: 0.5859 | F1: 0.3645\n"
     ]
    },
    {
     "data": {
      "application/vnd.jupyter.widget-view+json": {
       "model_id": "059433eab7224f109b5912107933ad3e",
       "version_major": 2,
       "version_minor": 0
      },
      "text/plain": [
       "[1/2229]   0%|           [00:00<?]"
      ]
     },
     "metadata": {},
     "output_type": "display_data"
    },
    {
     "name": "stdout",
     "output_type": "stream",
     "text": [
      "\n",
      "Epoch 59 Results => Loss: 1.8533 | Loss_Reg: 0.0294 | Loss_Cls: 0.9119 | Acc: 0.5792 | LR: 0.010000 | Avg confidence: 0.5921 | F1: 0.3751 | Precision: 0.4634 | Recall: 0.3581Time: 250710_19:35:04\n",
      "Validation => Acc: 0.5977 | F1: 0.3562\n"
     ]
    },
    {
     "data": {
      "application/vnd.jupyter.widget-view+json": {
       "model_id": "63072241738149ae88c2819cfbc221cd",
       "version_major": 2,
       "version_minor": 0
      },
      "text/plain": [
       "[1/2229]   0%|           [00:00<?]"
      ]
     },
     "metadata": {},
     "output_type": "display_data"
    },
    {
     "name": "stdout",
     "output_type": "stream",
     "text": [
      "\n",
      "Epoch 60 Results => Loss: 1.8528 | Loss_Reg: 0.0294 | Loss_Cls: 0.9117 | Acc: 0.5796 | LR: 0.010000 | Avg confidence: 0.5924 | F1: 0.3753 | Precision: 0.4637 | Recall: 0.3584Time: 250710_19:35:30\n",
      "Validation => Acc: 0.5521 | F1: 0.3282\n"
     ]
    },
    {
     "data": {
      "application/vnd.jupyter.widget-view+json": {
       "model_id": "893e7476455f48f8b8c63003a22f9974",
       "version_major": 2,
       "version_minor": 0
      },
      "text/plain": [
       "[1/2229]   0%|           [00:00<?]"
      ]
     },
     "metadata": {},
     "output_type": "display_data"
    },
    {
     "name": "stdout",
     "output_type": "stream",
     "text": [
      "\n",
      "Epoch 61 Results => Loss: 1.8492 | Loss_Reg: 0.0294 | Loss_Cls: 0.9099 | Acc: 0.5803 | LR: 0.010000 | Avg confidence: 0.5931 | F1: 0.3757 | Precision: 0.4630 | Recall: 0.3589Time: 250710_19:35:56\n",
      "Validation => Acc: 0.5495 | F1: 0.3461\n"
     ]
    },
    {
     "data": {
      "application/vnd.jupyter.widget-view+json": {
       "model_id": "646efb1422ae4e879fd893e787568b25",
       "version_major": 2,
       "version_minor": 0
      },
      "text/plain": [
       "[1/2229]   0%|           [00:00<?]"
      ]
     },
     "metadata": {},
     "output_type": "display_data"
    },
    {
     "name": "stdout",
     "output_type": "stream",
     "text": [
      "\n",
      "Epoch 62 Results => Loss: 1.8444 | Loss_Reg: 0.0294 | Loss_Cls: 0.9075 | Acc: 0.5814 | LR: 0.010000 | Avg confidence: 0.5941 | F1: 0.3772 | Precision: 0.4640 | Recall: 0.3603Time: 250710_19:36:22\n",
      "Validation => Acc: 0.5521 | F1: 0.3427\n"
     ]
    },
    {
     "data": {
      "application/vnd.jupyter.widget-view+json": {
       "model_id": "02b49262052644a3a0c43b04facc664f",
       "version_major": 2,
       "version_minor": 0
      },
      "text/plain": [
       "[1/2229]   0%|           [00:00<?]"
      ]
     },
     "metadata": {},
     "output_type": "display_data"
    },
    {
     "name": "stdout",
     "output_type": "stream",
     "text": [
      "\n",
      "Epoch 63 Results => Loss: 1.8517 | Loss_Reg: 0.0295 | Loss_Cls: 0.9111 | Acc: 0.5800 | LR: 0.010000 | Avg confidence: 0.5934 | F1: 0.3756 | Precision: 0.4635 | Recall: 0.3587Time: 250710_19:36:49\n",
      "Validation => Acc: 0.5430 | F1: 0.3317\n"
     ]
    },
    {
     "data": {
      "application/vnd.jupyter.widget-view+json": {
       "model_id": "9b70ef5b74314a29a5c5b131f58d4aec",
       "version_major": 2,
       "version_minor": 0
      },
      "text/plain": [
       "[1/2229]   0%|           [00:00<?]"
      ]
     },
     "metadata": {},
     "output_type": "display_data"
    },
    {
     "name": "stdout",
     "output_type": "stream",
     "text": [
      "\n",
      "Epoch 64 Results => Loss: 1.8451 | Loss_Reg: 0.0294 | Loss_Cls: 0.9078 | Acc: 0.5814 | LR: 0.010000 | Avg confidence: 0.5946 | F1: 0.3771 | Precision: 0.4632 | Recall: 0.3602Time: 250710_19:37:15\n",
      "Validation => Acc: 0.5716 | F1: 0.3712\n"
     ]
    },
    {
     "data": {
      "application/vnd.jupyter.widget-view+json": {
       "model_id": "42daf721e4064cd1a0b74aa921719979",
       "version_major": 2,
       "version_minor": 0
      },
      "text/plain": [
       "[1/2229]   0%|           [00:00<?]"
      ]
     },
     "metadata": {},
     "output_type": "display_data"
    },
    {
     "name": "stdout",
     "output_type": "stream",
     "text": [
      "\n",
      "Epoch 65 Results => Loss: 1.8398 | Loss_Reg: 0.0295 | Loss_Cls: 0.9052 | Acc: 0.5827 | LR: 0.010000 | Avg confidence: 0.5956 | F1: 0.3783 | Precision: 0.4635 | Recall: 0.3614Time: 250710_19:37:41\n",
      "Validation => Acc: 0.5768 | F1: 0.3384\n"
     ]
    },
    {
     "data": {
      "application/vnd.jupyter.widget-view+json": {
       "model_id": "1fef78f6406e430bbca4bedaefbcf0da",
       "version_major": 2,
       "version_minor": 0
      },
      "text/plain": [
       "[1/2229]   0%|           [00:00<?]"
      ]
     },
     "metadata": {},
     "output_type": "display_data"
    },
    {
     "name": "stdout",
     "output_type": "stream",
     "text": [
      "\n",
      "Epoch 66 Results => Loss: 1.8389 | Loss_Reg: 0.0294 | Loss_Cls: 0.9047 | Acc: 0.5829 | LR: 0.010000 | Avg confidence: 0.5958 | F1: 0.3799 | Precision: 0.4673 | Recall: 0.3624Time: 250710_19:38:08\n",
      "Validation => Acc: 0.5560 | F1: 0.3468\n"
     ]
    },
    {
     "data": {
      "application/vnd.jupyter.widget-view+json": {
       "model_id": "1d242a65b3a441afa73ffa05add43b85",
       "version_major": 2,
       "version_minor": 0
      },
      "text/plain": [
       "[1/2229]   0%|           [00:00<?]"
      ]
     },
     "metadata": {},
     "output_type": "display_data"
    },
    {
     "name": "stdout",
     "output_type": "stream",
     "text": [
      "\n",
      "Epoch 67 Results => Loss: 1.8363 | Loss_Reg: 0.0295 | Loss_Cls: 0.9034 | Acc: 0.5833 | LR: 0.010000 | Avg confidence: 0.5965 | F1: 0.3796 | Precision: 0.4650 | Recall: 0.3625Time: 250710_19:38:34\n",
      "Validation => Acc: 0.5612 | F1: 0.3544\n"
     ]
    },
    {
     "data": {
      "application/vnd.jupyter.widget-view+json": {
       "model_id": "697fc6db33144c3aafc52ad53d53945b",
       "version_major": 2,
       "version_minor": 0
      },
      "text/plain": [
       "[1/2229]   0%|           [00:00<?]"
      ]
     },
     "metadata": {},
     "output_type": "display_data"
    },
    {
     "name": "stdout",
     "output_type": "stream",
     "text": [
      "\n",
      "Epoch 68 Results => Loss: 1.8325 | Loss_Reg: 0.0295 | Loss_Cls: 0.9015 | Acc: 0.5846 | LR: 0.010000 | Avg confidence: 0.5972 | F1: 0.3814 | Precision: 0.4680 | Recall: 0.3640Time: 250710_19:39:00\n",
      "Validation => Acc: 0.5872 | F1: 0.3956\n"
     ]
    },
    {
     "data": {
      "application/vnd.jupyter.widget-view+json": {
       "model_id": "bce7fd7b0fff4e7c8b14c1896d89274b",
       "version_major": 2,
       "version_minor": 0
      },
      "text/plain": [
       "[1/2229]   0%|           [00:00<?]"
      ]
     },
     "metadata": {},
     "output_type": "display_data"
    },
    {
     "name": "stdout",
     "output_type": "stream",
     "text": [
      "\n",
      "Epoch 69 Results => Loss: 1.8263 | Loss_Reg: 0.0295 | Loss_Cls: 0.8984 | Acc: 0.5857 | LR: 0.010000 | Avg confidence: 0.5984 | F1: 0.3836 | Precision: 0.4698 | Recall: 0.3658Time: 250710_19:39:27\n",
      "Validation => Acc: 0.5651 | F1: 0.3744\n"
     ]
    },
    {
     "data": {
      "application/vnd.jupyter.widget-view+json": {
       "model_id": "9d4e9ac8548648c3aa8d1e7ce8f75ef5",
       "version_major": 2,
       "version_minor": 0
      },
      "text/plain": [
       "[1/2229]   0%|           [00:00<?]"
      ]
     },
     "metadata": {},
     "output_type": "display_data"
    },
    {
     "name": "stdout",
     "output_type": "stream",
     "text": [
      "\n",
      "Epoch 70 Results => Loss: 1.8258 | Loss_Reg: 0.0294 | Loss_Cls: 0.8982 | Acc: 0.5857 | LR: 0.010000 | Avg confidence: 0.5988 | F1: 0.3832 | Precision: 0.4680 | Recall: 0.3657Time: 250710_19:39:53\n",
      "Validation => Acc: 0.6081 | F1: 0.3831\n"
     ]
    },
    {
     "data": {
      "application/vnd.jupyter.widget-view+json": {
       "model_id": "551f6c215a02483380ebca00531621ce",
       "version_major": 2,
       "version_minor": 0
      },
      "text/plain": [
       "[1/2229]   0%|           [00:00<?]"
      ]
     },
     "metadata": {},
     "output_type": "display_data"
    },
    {
     "name": "stdout",
     "output_type": "stream",
     "text": [
      "\n",
      "Epoch 71 Results => Loss: 1.8213 | Loss_Reg: 0.0295 | Loss_Cls: 0.8959 | Acc: 0.5867 | LR: 0.010000 | Avg confidence: 0.5997 | F1: 0.3850 | Precision: 0.4705 | Recall: 0.3671Time: 250710_19:40:20\n",
      "Validation => Acc: 0.5807 | F1: 0.3756\n"
     ]
    },
    {
     "data": {
      "application/vnd.jupyter.widget-view+json": {
       "model_id": "f9e82c1f612946c19e7adee2e295768d",
       "version_major": 2,
       "version_minor": 0
      },
      "text/plain": [
       "[1/2229]   0%|           [00:00<?]"
      ]
     },
     "metadata": {},
     "output_type": "display_data"
    },
    {
     "name": "stdout",
     "output_type": "stream",
     "text": [
      "\n",
      "Epoch 72 Results => Loss: 1.8208 | Loss_Reg: 0.0294 | Loss_Cls: 0.8957 | Acc: 0.5872 | LR: 0.010000 | Avg confidence: 0.6001 | F1: 0.3849 | Precision: 0.4694 | Recall: 0.3672Time: 250710_19:40:46\n",
      "Validation => Acc: 0.5391 | F1: 0.3279\n"
     ]
    },
    {
     "data": {
      "application/vnd.jupyter.widget-view+json": {
       "model_id": "e4ce20221159404aaac93cb48f78d1cc",
       "version_major": 2,
       "version_minor": 0
      },
      "text/plain": [
       "[1/2229]   0%|           [00:00<?]"
      ]
     },
     "metadata": {},
     "output_type": "display_data"
    },
    {
     "name": "stdout",
     "output_type": "stream",
     "text": [
      "\n",
      "Epoch 73 Results => Loss: 1.8157 | Loss_Reg: 0.0295 | Loss_Cls: 0.8931 | Acc: 0.5880 | LR: 0.010000 | Avg confidence: 0.6010 | F1: 0.3874 | Precision: 0.4738 | Recall: 0.3691Time: 250710_19:41:13\n",
      "Validation => Acc: 0.5456 | F1: 0.3379\n"
     ]
    },
    {
     "data": {
      "application/vnd.jupyter.widget-view+json": {
       "model_id": "9ed932af5f464ad1bc5c1fbd9d4474f7",
       "version_major": 2,
       "version_minor": 0
      },
      "text/plain": [
       "[1/2229]   0%|           [00:00<?]"
      ]
     },
     "metadata": {},
     "output_type": "display_data"
    },
    {
     "name": "stdout",
     "output_type": "stream",
     "text": [
      "\n",
      "Epoch 74 Results => Loss: 1.8164 | Loss_Reg: 0.0295 | Loss_Cls: 0.8935 | Acc: 0.5880 | LR: 0.010000 | Avg confidence: 0.6013 | F1: 0.3862 | Precision: 0.4715 | Recall: 0.3683Time: 250710_19:41:39\n",
      "Validation => Acc: 0.5833 | F1: 0.3323\n"
     ]
    },
    {
     "data": {
      "application/vnd.jupyter.widget-view+json": {
       "model_id": "7bf5b09eb0624cfd919321913db54c8a",
       "version_major": 2,
       "version_minor": 0
      },
      "text/plain": [
       "[1/2229]   0%|           [00:00<?]"
      ]
     },
     "metadata": {},
     "output_type": "display_data"
    },
    {
     "name": "stdout",
     "output_type": "stream",
     "text": [
      "\n",
      "Epoch 75 Results => Loss: 1.8140 | Loss_Reg: 0.0294 | Loss_Cls: 0.8923 | Acc: 0.5886 | LR: 0.010000 | Avg confidence: 0.6016 | F1: 0.3872 | Precision: 0.4742 | Recall: 0.3691Time: 250710_19:42:06\n",
      "Validation => Acc: 0.5638 | F1: 0.3936\n"
     ]
    },
    {
     "data": {
      "application/vnd.jupyter.widget-view+json": {
       "model_id": "845fdcebf82342e09b4cdcaad9d7054b",
       "version_major": 2,
       "version_minor": 0
      },
      "text/plain": [
       "[1/2229]   0%|           [00:00<?]"
      ]
     },
     "metadata": {},
     "output_type": "display_data"
    },
    {
     "name": "stdout",
     "output_type": "stream",
     "text": [
      "\n",
      "Epoch 76 Results => Loss: 1.8128 | Loss_Reg: 0.0295 | Loss_Cls: 0.8917 | Acc: 0.5891 | LR: 0.010000 | Avg confidence: 0.6019 | F1: 0.3878 | Precision: 0.4745 | Recall: 0.3696Time: 250710_19:42:32\n",
      "Validation => Acc: 0.5781 | F1: 0.3728\n"
     ]
    },
    {
     "data": {
      "application/vnd.jupyter.widget-view+json": {
       "model_id": "2c3069c70ad24699bb1db29b23cbd10f",
       "version_major": 2,
       "version_minor": 0
      },
      "text/plain": [
       "[1/2229]   0%|           [00:00<?]"
      ]
     },
     "metadata": {},
     "output_type": "display_data"
    },
    {
     "name": "stdout",
     "output_type": "stream",
     "text": [
      "\n",
      "Epoch 77 Results => Loss: 1.8050 | Loss_Reg: 0.0295 | Loss_Cls: 0.8877 | Acc: 0.5907 | LR: 0.010000 | Avg confidence: 0.6033 | F1: 0.3899 | Precision: 0.4752 | Recall: 0.3715Time: 250710_19:42:58\n",
      "Validation => Acc: 0.6055 | F1: 0.4174\n"
     ]
    },
    {
     "data": {
      "application/vnd.jupyter.widget-view+json": {
       "model_id": "81bb40851be74bca9ee8edd21395142e",
       "version_major": 2,
       "version_minor": 0
      },
      "text/plain": [
       "[1/2229]   0%|           [00:00<?]"
      ]
     },
     "metadata": {},
     "output_type": "display_data"
    },
    {
     "name": "stdout",
     "output_type": "stream",
     "text": [
      "\n",
      "Epoch 78 Results => Loss: 1.8055 | Loss_Reg: 0.0295 | Loss_Cls: 0.8880 | Acc: 0.5909 | LR: 0.010000 | Avg confidence: 0.6035 | F1: 0.3901 | Precision: 0.4775 | Recall: 0.3717Time: 250710_19:43:25\n",
      "Validation => Acc: 0.5820 | F1: 0.3386\n"
     ]
    },
    {
     "data": {
      "application/vnd.jupyter.widget-view+json": {
       "model_id": "770105f1e81b488e8e136025c232b640",
       "version_major": 2,
       "version_minor": 0
      },
      "text/plain": [
       "[1/2229]   0%|           [00:00<?]"
      ]
     },
     "metadata": {},
     "output_type": "display_data"
    },
    {
     "name": "stdout",
     "output_type": "stream",
     "text": [
      "\n",
      "Epoch 79 Results => Loss: 1.8058 | Loss_Reg: 0.0295 | Loss_Cls: 0.8881 | Acc: 0.5905 | LR: 0.010000 | Avg confidence: 0.6039 | F1: 0.3895 | Precision: 0.4745 | Recall: 0.3713Time: 250710_19:43:51\n",
      "Validation => Acc: 0.5417 | F1: 0.3289\n"
     ]
    },
    {
     "data": {
      "application/vnd.jupyter.widget-view+json": {
       "model_id": "6ceb6cb0315d4098adbb8d959a72d91a",
       "version_major": 2,
       "version_minor": 0
      },
      "text/plain": [
       "[1/2229]   0%|           [00:00<?]"
      ]
     },
     "metadata": {},
     "output_type": "display_data"
    },
    {
     "name": "stdout",
     "output_type": "stream",
     "text": [
      "\n",
      "Epoch 80 Results => Loss: 1.7996 | Loss_Reg: 0.0295 | Loss_Cls: 0.8851 | Acc: 0.5919 | LR: 0.010000 | Avg confidence: 0.6048 | F1: 0.3919 | Precision: 0.4771 | Recall: 0.3733Time: 250710_19:44:18\n",
      "Validation => Acc: 0.5755 | F1: 0.3446\n"
     ]
    },
    {
     "data": {
      "application/vnd.jupyter.widget-view+json": {
       "model_id": "e3d7e0ec6ccd407595239d58351b990c",
       "version_major": 2,
       "version_minor": 0
      },
      "text/plain": [
       "[1/2229]   0%|           [00:00<?]"
      ]
     },
     "metadata": {},
     "output_type": "display_data"
    },
    {
     "name": "stdout",
     "output_type": "stream",
     "text": [
      "\n",
      "Epoch 81 Results => Loss: 1.8001 | Loss_Reg: 0.0295 | Loss_Cls: 0.8853 | Acc: 0.5918 | LR: 0.010000 | Avg confidence: 0.6048 | F1: 0.3910 | Precision: 0.4762 | Recall: 0.3726Time: 250710_19:44:44\n",
      "Validation => Acc: 0.6003 | F1: 0.3541\n"
     ]
    },
    {
     "data": {
      "application/vnd.jupyter.widget-view+json": {
       "model_id": "9e3e08a763d342b989bfe3db0939a4e4",
       "version_major": 2,
       "version_minor": 0
      },
      "text/plain": [
       "[1/2229]   0%|           [00:00<?]"
      ]
     },
     "metadata": {},
     "output_type": "display_data"
    },
    {
     "name": "stdout",
     "output_type": "stream",
     "text": [
      "\n",
      "Epoch 82 Results => Loss: 1.7998 | Loss_Reg: 0.0295 | Loss_Cls: 0.8851 | Acc: 0.5921 | LR: 0.010000 | Avg confidence: 0.6054 | F1: 0.3913 | Precision: 0.4764 | Recall: 0.3729Time: 250710_19:45:11\n",
      "Validation => Acc: 0.5599 | F1: 0.3230\n"
     ]
    },
    {
     "data": {
      "application/vnd.jupyter.widget-view+json": {
       "model_id": "253e22690b1c47ecb5e41884e2322d2a",
       "version_major": 2,
       "version_minor": 0
      },
      "text/plain": [
       "[1/2229]   0%|           [00:00<?]"
      ]
     },
     "metadata": {},
     "output_type": "display_data"
    },
    {
     "name": "stdout",
     "output_type": "stream",
     "text": [
      "\n",
      "Epoch 83 Results => Loss: 1.8065 | Loss_Reg: 0.0295 | Loss_Cls: 0.8885 | Acc: 0.5912 | LR: 0.010000 | Avg confidence: 0.6045 | F1: 0.3890 | Precision: 0.4745 | Recall: 0.3711Time: 250710_19:45:37\n",
      "Validation => Acc: 0.5547 | F1: 0.3175\n"
     ]
    },
    {
     "data": {
      "application/vnd.jupyter.widget-view+json": {
       "model_id": "4b37190ae853440985ec53e74fc67a8a",
       "version_major": 2,
       "version_minor": 0
      },
      "text/plain": [
       "[1/2229]   0%|           [00:00<?]"
      ]
     },
     "metadata": {},
     "output_type": "display_data"
    },
    {
     "name": "stdout",
     "output_type": "stream",
     "text": [
      "\n",
      "Epoch 84 Results => Loss: 1.8227 | Loss_Reg: 0.0310 | Loss_Cls: 0.8959 | Acc: 0.5887 | LR: 0.010000 | Avg confidence: 0.6025 | F1: 0.3839 | Precision: 0.4690 | Recall: 0.3669Time: 250710_19:46:03\n",
      "Validation => Acc: 0.6042 | F1: 0.4086\n"
     ]
    },
    {
     "data": {
      "application/vnd.jupyter.widget-view+json": {
       "model_id": "7e4a53d4b6a84461b2826e7200b6f976",
       "version_major": 2,
       "version_minor": 0
      },
      "text/plain": [
       "[1/2229]   0%|           [00:00<?]"
      ]
     },
     "metadata": {},
     "output_type": "display_data"
    },
    {
     "name": "stdout",
     "output_type": "stream",
     "text": [
      "\n",
      "Epoch 85 Results => Loss: 1.8025 | Loss_Reg: 0.0299 | Loss_Cls: 0.8863 | Acc: 0.5921 | LR: 0.010000 | Avg confidence: 0.6050 | F1: 0.3894 | Precision: 0.4747 | Recall: 0.3715Time: 250710_19:46:30\n",
      "Validation => Acc: 0.5885 | F1: 0.3625\n"
     ]
    },
    {
     "data": {
      "application/vnd.jupyter.widget-view+json": {
       "model_id": "0d0ff499de8846dd8c24ed83486e30e0",
       "version_major": 2,
       "version_minor": 0
      },
      "text/plain": [
       "[1/2229]   0%|           [00:00<?]"
      ]
     },
     "metadata": {},
     "output_type": "display_data"
    },
    {
     "name": "stdout",
     "output_type": "stream",
     "text": [
      "\n",
      "Epoch 86 Results => Loss: 1.7893 | Loss_Reg: 0.0295 | Loss_Cls: 0.8799 | Acc: 0.5949 | LR: 0.010000 | Avg confidence: 0.6071 | F1: 0.3944 | Precision: 0.4801 | Recall: 0.3757Time: 250710_19:46:56\n",
      "Validation => Acc: 0.5560 | F1: 0.4035\n"
     ]
    },
    {
     "data": {
      "application/vnd.jupyter.widget-view+json": {
       "model_id": "e0ad85cfb6ad4f55853313177432f8ba",
       "version_major": 2,
       "version_minor": 0
      },
      "text/plain": [
       "[1/2229]   0%|           [00:00<?]"
      ]
     },
     "metadata": {},
     "output_type": "display_data"
    },
    {
     "name": "stdout",
     "output_type": "stream",
     "text": [
      "\n",
      "Epoch 87 Results => Loss: 1.7903 | Loss_Reg: 0.0295 | Loss_Cls: 0.8804 | Acc: 0.5945 | LR: 0.010000 | Avg confidence: 0.6073 | F1: 0.3937 | Precision: 0.4791 | Recall: 0.3752Time: 250710_19:47:22\n",
      "Validation => Acc: 0.5833 | F1: 0.3514\n"
     ]
    },
    {
     "data": {
      "application/vnd.jupyter.widget-view+json": {
       "model_id": "ed45928358384e1cac090d27b8376c38",
       "version_major": 2,
       "version_minor": 0
      },
      "text/plain": [
       "[1/2229]   0%|           [00:00<?]"
      ]
     },
     "metadata": {},
     "output_type": "display_data"
    },
    {
     "name": "stdout",
     "output_type": "stream",
     "text": [
      "\n",
      "Epoch 88 Results => Loss: 1.7889 | Loss_Reg: 0.0295 | Loss_Cls: 0.8797 | Acc: 0.5947 | LR: 0.010000 | Avg confidence: 0.6076 | F1: 0.3939 | Precision: 0.4780 | Recall: 0.3755Time: 250710_19:47:49\n",
      "Validation => Acc: 0.5781 | F1: 0.3704\n"
     ]
    },
    {
     "data": {
      "application/vnd.jupyter.widget-view+json": {
       "model_id": "5d9dc9b1d0f34565a4bed6455af5611a",
       "version_major": 2,
       "version_minor": 0
      },
      "text/plain": [
       "[1/2229]   0%|           [00:00<?]"
      ]
     },
     "metadata": {},
     "output_type": "display_data"
    },
    {
     "name": "stdout",
     "output_type": "stream",
     "text": [
      "\n",
      "Epoch 89 Results => Loss: 1.7831 | Loss_Reg: 0.0295 | Loss_Cls: 0.8768 | Acc: 0.5962 | LR: 0.010000 | Avg confidence: 0.6088 | F1: 0.3962 | Precision: 0.4810 | Recall: 0.3773Time: 250710_19:48:15\n",
      "Validation => Acc: 0.6016 | F1: 0.3940\n"
     ]
    },
    {
     "data": {
      "application/vnd.jupyter.widget-view+json": {
       "model_id": "99e56e6e1f0c48ffa6b61460e1fedad4",
       "version_major": 2,
       "version_minor": 0
      },
      "text/plain": [
       "[1/2229]   0%|           [00:00<?]"
      ]
     },
     "metadata": {},
     "output_type": "display_data"
    },
    {
     "name": "stdout",
     "output_type": "stream",
     "text": [
      "\n",
      "Epoch 90 Results => Loss: 1.7882 | Loss_Reg: 0.0295 | Loss_Cls: 0.8793 | Acc: 0.5951 | LR: 0.010000 | Avg confidence: 0.6082 | F1: 0.3946 | Precision: 0.4785 | Recall: 0.3761Time: 250710_19:48:41\n",
      "Validation => Acc: 0.5833 | F1: 0.3504\n"
     ]
    },
    {
     "data": {
      "application/vnd.jupyter.widget-view+json": {
       "model_id": "bdd7a41ff1a64b6fbffaaf44488bb47b",
       "version_major": 2,
       "version_minor": 0
      },
      "text/plain": [
       "[1/2229]   0%|           [00:00<?]"
      ]
     },
     "metadata": {},
     "output_type": "display_data"
    },
    {
     "name": "stdout",
     "output_type": "stream",
     "text": [
      "\n",
      "Epoch 91 Results => Loss: 1.7873 | Loss_Reg: 0.0297 | Loss_Cls: 0.8788 | Acc: 0.5957 | LR: 0.010000 | Avg confidence: 0.6086 | F1: 0.3936 | Precision: 0.4786 | Recall: 0.3755Time: 250710_19:49:07\n",
      "Validation => Acc: 0.5872 | F1: 0.4256\n"
     ]
    },
    {
     "data": {
      "application/vnd.jupyter.widget-view+json": {
       "model_id": "74015f7c98f44b2a93eb5fdd56226803",
       "version_major": 2,
       "version_minor": 0
      },
      "text/plain": [
       "[1/2229]   0%|           [00:00<?]"
      ]
     },
     "metadata": {},
     "output_type": "display_data"
    },
    {
     "name": "stdout",
     "output_type": "stream",
     "text": [
      "\n",
      "Epoch 92 Results => Loss: 1.7840 | Loss_Reg: 0.0295 | Loss_Cls: 0.8772 | Acc: 0.5962 | LR: 0.010000 | Avg confidence: 0.6092 | F1: 0.3949 | Precision: 0.4798 | Recall: 0.3765Time: 250710_19:49:34\n",
      "Validation => Acc: 0.5794 | F1: 0.3682\n"
     ]
    },
    {
     "data": {
      "application/vnd.jupyter.widget-view+json": {
       "model_id": "766f5c1093e349049f0191fe1a5b0c6e",
       "version_major": 2,
       "version_minor": 0
      },
      "text/plain": [
       "[1/2229]   0%|           [00:00<?]"
      ]
     },
     "metadata": {},
     "output_type": "display_data"
    },
    {
     "name": "stdout",
     "output_type": "stream",
     "text": [
      "\n",
      "Epoch 93 Results => Loss: 1.7893 | Loss_Reg: 0.0295 | Loss_Cls: 0.8799 | Acc: 0.5955 | LR: 0.010000 | Avg confidence: 0.6087 | F1: 0.3938 | Precision: 0.4775 | Recall: 0.3756Time: 250710_19:50:01\n",
      "Validation => Acc: 0.5742 | F1: 0.3579\n"
     ]
    },
    {
     "data": {
      "application/vnd.jupyter.widget-view+json": {
       "model_id": "8d8643bf9bff4978b4d3ec59a7838878",
       "version_major": 2,
       "version_minor": 0
      },
      "text/plain": [
       "[1/2229]   0%|           [00:00<?]"
      ]
     },
     "metadata": {},
     "output_type": "display_data"
    },
    {
     "name": "stdout",
     "output_type": "stream",
     "text": [
      "\n",
      "Epoch 94 Results => Loss: 1.7819 | Loss_Reg: 0.0295 | Loss_Cls: 0.8762 | Acc: 0.5966 | LR: 0.010000 | Avg confidence: 0.6094 | F1: 0.3957 | Precision: 0.4802 | Recall: 0.3772Time: 250710_19:50:27\n",
      "Validation => Acc: 0.6055 | F1: 0.3786\n"
     ]
    },
    {
     "data": {
      "application/vnd.jupyter.widget-view+json": {
       "model_id": "301a7e1914b7483db4a0bc732daf70d9",
       "version_major": 2,
       "version_minor": 0
      },
      "text/plain": [
       "[1/2229]   0%|           [00:00<?]"
      ]
     },
     "metadata": {},
     "output_type": "display_data"
    },
    {
     "name": "stdout",
     "output_type": "stream",
     "text": [
      "\n",
      "Epoch 95 Results => Loss: 1.7733 | Loss_Reg: 0.0295 | Loss_Cls: 0.8719 | Acc: 0.5982 | LR: 0.010000 | Avg confidence: 0.6110 | F1: 0.3985 | Precision: 0.4822 | Recall: 0.3796Time: 250710_19:50:54\n",
      "Validation => Acc: 0.5911 | F1: 0.3801\n"
     ]
    },
    {
     "data": {
      "application/vnd.jupyter.widget-view+json": {
       "model_id": "5bc9c77adeea47e0b6a2a37bbc076ab3",
       "version_major": 2,
       "version_minor": 0
      },
      "text/plain": [
       "[1/2229]   0%|           [00:00<?]"
      ]
     },
     "metadata": {},
     "output_type": "display_data"
    },
    {
     "name": "stdout",
     "output_type": "stream",
     "text": [
      "\n",
      "Epoch 96 Results => Loss: 1.7743 | Loss_Reg: 0.0295 | Loss_Cls: 0.8724 | Acc: 0.5985 | LR: 0.010000 | Avg confidence: 0.6110 | F1: 0.3994 | Precision: 0.4843 | Recall: 0.3802Time: 250710_19:51:20\n",
      "Validation => Acc: 0.5872 | F1: 0.3898\n"
     ]
    },
    {
     "data": {
      "application/vnd.jupyter.widget-view+json": {
       "model_id": "30e1f85357ed461e88ecc1cdc7f9aea0",
       "version_major": 2,
       "version_minor": 0
      },
      "text/plain": [
       "[1/2229]   0%|           [00:00<?]"
      ]
     },
     "metadata": {},
     "output_type": "display_data"
    },
    {
     "name": "stdout",
     "output_type": "stream",
     "text": [
      "\n",
      "Epoch 97 Results => Loss: 1.7733 | Loss_Reg: 0.0295 | Loss_Cls: 0.8719 | Acc: 0.5985 | LR: 0.010000 | Avg confidence: 0.6113 | F1: 0.3994 | Precision: 0.4837 | Recall: 0.3803Time: 250710_19:51:46\n",
      "Validation => Acc: 0.5365 | F1: 0.3324\n"
     ]
    },
    {
     "data": {
      "application/vnd.jupyter.widget-view+json": {
       "model_id": "9a7c24524f0442a893863d9d36e6a9ec",
       "version_major": 2,
       "version_minor": 0
      },
      "text/plain": [
       "[1/2229]   0%|           [00:00<?]"
      ]
     },
     "metadata": {},
     "output_type": "display_data"
    },
    {
     "name": "stdout",
     "output_type": "stream",
     "text": [
      "\n",
      "Epoch 98 Results => Loss: 1.7690 | Loss_Reg: 0.0295 | Loss_Cls: 0.8698 | Acc: 0.5993 | LR: 0.010000 | Avg confidence: 0.6120 | F1: 0.4000 | Precision: 0.4836 | Recall: 0.3809Time: 250710_19:52:13\n",
      "Validation => Acc: 0.5716 | F1: 0.3463\n"
     ]
    },
    {
     "data": {
      "application/vnd.jupyter.widget-view+json": {
       "model_id": "cf2e09d7d8c24a01a8eef30fc1bf8850",
       "version_major": 2,
       "version_minor": 0
      },
      "text/plain": [
       "[1/2229]   0%|           [00:00<?]"
      ]
     },
     "metadata": {},
     "output_type": "display_data"
    },
    {
     "name": "stdout",
     "output_type": "stream",
     "text": [
      "\n",
      "Epoch 99 Results => Loss: 1.7711 | Loss_Reg: 0.0295 | Loss_Cls: 0.8708 | Acc: 0.5995 | LR: 0.010000 | Avg confidence: 0.6118 | F1: 0.3995 | Precision: 0.4833 | Recall: 0.3807Time: 250710_19:52:39\n",
      "Validation => Acc: 0.5951 | F1: 0.3820\n"
     ]
    },
    {
     "data": {
      "application/vnd.jupyter.widget-view+json": {
       "model_id": "33243330cb8047fa93a03c686136c8ca",
       "version_major": 2,
       "version_minor": 0
      },
      "text/plain": [
       "[1/2229]   0%|           [00:00<?]"
      ]
     },
     "metadata": {},
     "output_type": "display_data"
    },
    {
     "name": "stdout",
     "output_type": "stream",
     "text": [
      "\n",
      "Epoch 100 Results => Loss: 1.7659 | Loss_Reg: 0.0295 | Loss_Cls: 0.8682 | Acc: 0.6004 | LR: 0.010000 | Avg confidence: 0.6129 | F1: 0.4014 | Precision: 0.4849 | Recall: 0.3822Time: 250710_19:53:06\n",
      "Validation => Acc: 0.6029 | F1: 0.5054\n"
     ]
    },
    {
     "data": {
      "application/vnd.jupyter.widget-view+json": {
       "model_id": "b173df9b641f4fb78787dae779cd5511",
       "version_major": 2,
       "version_minor": 0
      },
      "text/plain": [
       "[1/2229]   0%|           [00:00<?]"
      ]
     },
     "metadata": {},
     "output_type": "display_data"
    },
    {
     "name": "stdout",
     "output_type": "stream",
     "text": [
      "\n",
      "Epoch 101 Results => Loss: 1.7606 | Loss_Reg: 0.0295 | Loss_Cls: 0.8656 | Acc: 0.6016 | LR: 0.010000 | Avg confidence: 0.6140 | F1: 0.4038 | Precision: 0.4873 | Recall: 0.3842Time: 250710_19:53:32\n",
      "Validation => Acc: 0.5833 | F1: 0.3501\n"
     ]
    },
    {
     "data": {
      "application/vnd.jupyter.widget-view+json": {
       "model_id": "9f4db2a243d745e99d9e0995e4b7e896",
       "version_major": 2,
       "version_minor": 0
      },
      "text/plain": [
       "[1/2229]   0%|           [00:00<?]"
      ]
     },
     "metadata": {},
     "output_type": "display_data"
    },
    {
     "name": "stdout",
     "output_type": "stream",
     "text": [
      "\n",
      "Epoch 102 Results => Loss: 1.7644 | Loss_Reg: 0.0295 | Loss_Cls: 0.8674 | Acc: 0.6010 | LR: 0.010000 | Avg confidence: 0.6135 | F1: 0.4020 | Precision: 0.4857 | Recall: 0.3829Time: 250710_19:53:59\n",
      "Validation => Acc: 0.5586 | F1: 0.3590\n"
     ]
    },
    {
     "data": {
      "application/vnd.jupyter.widget-view+json": {
       "model_id": "8896e759c8764060a4cfd3e6e59b9391",
       "version_major": 2,
       "version_minor": 0
      },
      "text/plain": [
       "[1/2229]   0%|           [00:00<?]"
      ]
     },
     "metadata": {},
     "output_type": "display_data"
    },
    {
     "name": "stdout",
     "output_type": "stream",
     "text": [
      "\n",
      "Epoch 103 Results => Loss: 1.7612 | Loss_Reg: 0.0295 | Loss_Cls: 0.8658 | Acc: 0.6015 | LR: 0.010000 | Avg confidence: 0.6139 | F1: 0.4030 | Precision: 0.4869 | Recall: 0.3837Time: 250710_19:54:25\n",
      "Validation => Acc: 0.6120 | F1: 0.3645\n"
     ]
    },
    {
     "data": {
      "application/vnd.jupyter.widget-view+json": {
       "model_id": "9ada2326debc456da1ca74ef16a3877f",
       "version_major": 2,
       "version_minor": 0
      },
      "text/plain": [
       "[1/2229]   0%|           [00:00<?]"
      ]
     },
     "metadata": {},
     "output_type": "display_data"
    },
    {
     "name": "stdout",
     "output_type": "stream",
     "text": [
      "\n",
      "Epoch 104 Results => Loss: 1.7635 | Loss_Reg: 0.0295 | Loss_Cls: 0.8670 | Acc: 0.6009 | LR: 0.010000 | Avg confidence: 0.6135 | F1: 0.4030 | Precision: 0.4880 | Recall: 0.3834Time: 250710_19:54:51\n",
      "Validation => Acc: 0.5716 | F1: 0.3593\n"
     ]
    },
    {
     "data": {
      "application/vnd.jupyter.widget-view+json": {
       "model_id": "b60ba13c76b64a94aa20778a4a07c8ad",
       "version_major": 2,
       "version_minor": 0
      },
      "text/plain": [
       "[1/2229]   0%|           [00:00<?]"
      ]
     },
     "metadata": {},
     "output_type": "display_data"
    },
    {
     "name": "stdout",
     "output_type": "stream",
     "text": [
      "\n",
      "Epoch 105 Results => Loss: 1.7610 | Loss_Reg: 0.0296 | Loss_Cls: 0.8657 | Acc: 0.6016 | LR: 0.010000 | Avg confidence: 0.6142 | F1: 0.4032 | Precision: 0.4873 | Recall: 0.3838Time: 250710_19:55:20\n",
      "Validation => Acc: 0.5807 | F1: 0.3734\n"
     ]
    },
    {
     "data": {
      "application/vnd.jupyter.widget-view+json": {
       "model_id": "7c948572a95d470290f8d8582aa71056",
       "version_major": 2,
       "version_minor": 0
      },
      "text/plain": [
       "[1/2229]   0%|           [00:00<?]"
      ]
     },
     "metadata": {},
     "output_type": "display_data"
    },
    {
     "name": "stdout",
     "output_type": "stream",
     "text": [
      "\n",
      "Epoch 106 Results => Loss: 1.7599 | Loss_Reg: 0.0295 | Loss_Cls: 0.8652 | Acc: 0.6019 | LR: 0.010000 | Avg confidence: 0.6144 | F1: 0.4035 | Precision: 0.4884 | Recall: 0.3841Time: 250710_19:55:51\n",
      "Validation => Acc: 0.5625 | F1: 0.3803\n"
     ]
    },
    {
     "data": {
      "application/vnd.jupyter.widget-view+json": {
       "model_id": "0e49da7b7884406fa056cc6222781ae2",
       "version_major": 2,
       "version_minor": 0
      },
      "text/plain": [
       "[1/2229]   0%|           [00:00<?]"
      ]
     },
     "metadata": {},
     "output_type": "display_data"
    },
    {
     "name": "stdout",
     "output_type": "stream",
     "text": [
      "\n",
      "Epoch 107 Results => Loss: 1.7562 | Loss_Reg: 0.0296 | Loss_Cls: 0.8633 | Acc: 0.6024 | LR: 0.010000 | Avg confidence: 0.6151 | F1: 0.4041 | Precision: 0.4877 | Recall: 0.3847Time: 250710_19:56:21\n",
      "Validation => Acc: 0.5807 | F1: 0.3774\n"
     ]
    },
    {
     "data": {
      "application/vnd.jupyter.widget-view+json": {
       "model_id": "9d75261317744bd18960149184e642f5",
       "version_major": 2,
       "version_minor": 0
      },
      "text/plain": [
       "[1/2229]   0%|           [00:00<?]"
      ]
     },
     "metadata": {},
     "output_type": "display_data"
    },
    {
     "name": "stdout",
     "output_type": "stream",
     "text": [
      "\n",
      "Epoch 108 Results => Loss: 1.7534 | Loss_Reg: 0.0295 | Loss_Cls: 0.8619 | Acc: 0.6035 | LR: 0.010000 | Avg confidence: 0.6158 | F1: 0.4065 | Precision: 0.4914 | Recall: 0.3866Time: 250710_19:56:52\n",
      "Validation => Acc: 0.5729 | F1: 0.3670\n"
     ]
    },
    {
     "data": {
      "application/vnd.jupyter.widget-view+json": {
       "model_id": "3c1654f8d8d84e70ac5f53a519ebef14",
       "version_major": 2,
       "version_minor": 0
      },
      "text/plain": [
       "[1/2229]   0%|           [00:00<?]"
      ]
     },
     "metadata": {},
     "output_type": "display_data"
    },
    {
     "name": "stdout",
     "output_type": "stream",
     "text": [
      "\n",
      "Epoch 109 Results => Loss: 1.7571 | Loss_Reg: 0.0296 | Loss_Cls: 0.8638 | Acc: 0.6026 | LR: 0.010000 | Avg confidence: 0.6153 | F1: 0.4046 | Precision: 0.4876 | Recall: 0.3851Time: 250710_19:57:21\n",
      "Validation => Acc: 0.6172 | F1: 0.3926\n"
     ]
    },
    {
     "data": {
      "application/vnd.jupyter.widget-view+json": {
       "model_id": "2dd30e64a5e94e4cbe9267764d2db9ce",
       "version_major": 2,
       "version_minor": 0
      },
      "text/plain": [
       "[1/2229]   0%|           [00:00<?]"
      ]
     },
     "metadata": {},
     "output_type": "display_data"
    },
    {
     "name": "stdout",
     "output_type": "stream",
     "text": [
      "\n",
      "Epoch 110 Results => Loss: 1.7553 | Loss_Reg: 0.0295 | Loss_Cls: 0.8629 | Acc: 0.6030 | LR: 0.010000 | Avg confidence: 0.6155 | F1: 0.4045 | Precision: 0.4875 | Recall: 0.3852Time: 250710_19:57:51\n",
      "Validation => Acc: 0.5768 | F1: 0.3637\n"
     ]
    },
    {
     "data": {
      "application/vnd.jupyter.widget-view+json": {
       "model_id": "284ac1b5c2954341ba0d3160644daccf",
       "version_major": 2,
       "version_minor": 0
      },
      "text/plain": [
       "[1/2229]   0%|           [00:00<?]"
      ]
     },
     "metadata": {},
     "output_type": "display_data"
    },
    {
     "name": "stdout",
     "output_type": "stream",
     "text": [
      "\n",
      "Epoch 111 Results => Loss: 1.7522 | Loss_Reg: 0.0296 | Loss_Cls: 0.8613 | Acc: 0.6034 | LR: 0.010000 | Avg confidence: 0.6162 | F1: 0.4055 | Precision: 0.4875 | Recall: 0.3861Time: 250710_19:58:19\n",
      "Validation => Acc: 0.5833 | F1: 0.4019\n"
     ]
    },
    {
     "data": {
      "application/vnd.jupyter.widget-view+json": {
       "model_id": "07a4ec5fb50d4ae9b27a0220fc0b3b0f",
       "version_major": 2,
       "version_minor": 0
      },
      "text/plain": [
       "[1/2229]   0%|           [00:00<?]"
      ]
     },
     "metadata": {},
     "output_type": "display_data"
    },
    {
     "name": "stdout",
     "output_type": "stream",
     "text": [
      "\n",
      "Epoch 112 Results => Loss: 1.7552 | Loss_Reg: 0.0296 | Loss_Cls: 0.8628 | Acc: 0.6031 | LR: 0.010000 | Avg confidence: 0.6155 | F1: 0.4054 | Precision: 0.4902 | Recall: 0.3858Time: 250710_19:58:46\n",
      "Validation => Acc: 0.5625 | F1: 0.3858\n"
     ]
    },
    {
     "data": {
      "application/vnd.jupyter.widget-view+json": {
       "model_id": "e99abee2323b45029c0d147e2db5eb62",
       "version_major": 2,
       "version_minor": 0
      },
      "text/plain": [
       "[1/2229]   0%|           [00:00<?]"
      ]
     },
     "metadata": {},
     "output_type": "display_data"
    },
    {
     "name": "stdout",
     "output_type": "stream",
     "text": [
      "\n",
      "Epoch 113 Results => Loss: 1.7514 | Loss_Reg: 0.0295 | Loss_Cls: 0.8610 | Acc: 0.6038 | LR: 0.010000 | Avg confidence: 0.6163 | F1: 0.4061 | Precision: 0.4896 | Recall: 0.3865Time: 250710_19:59:13\n",
      "Validation => Acc: 0.5964 | F1: 0.3898\n"
     ]
    },
    {
     "data": {
      "application/vnd.jupyter.widget-view+json": {
       "model_id": "76770b31e0a649c989305e790b7498df",
       "version_major": 2,
       "version_minor": 0
      },
      "text/plain": [
       "[1/2229]   0%|           [00:00<?]"
      ]
     },
     "metadata": {},
     "output_type": "display_data"
    },
    {
     "name": "stdout",
     "output_type": "stream",
     "text": [
      "\n",
      "Epoch 114 Results => Loss: 1.7489 | Loss_Reg: 0.0296 | Loss_Cls: 0.8597 | Acc: 0.6044 | LR: 0.010000 | Avg confidence: 0.6170 | F1: 0.4067 | Precision: 0.4898 | Recall: 0.3871Time: 250710_19:59:41\n",
      "Validation => Acc: 0.5625 | F1: 0.3533\n"
     ]
    },
    {
     "data": {
      "application/vnd.jupyter.widget-view+json": {
       "model_id": "002447502372411b91ee868d4042bcab",
       "version_major": 2,
       "version_minor": 0
      },
      "text/plain": [
       "[1/2229]   0%|           [00:00<?]"
      ]
     },
     "metadata": {},
     "output_type": "display_data"
    },
    {
     "name": "stdout",
     "output_type": "stream",
     "text": [
      "\n",
      "Epoch 115 Results => Loss: 1.7477 | Loss_Reg: 0.0295 | Loss_Cls: 0.8591 | Acc: 0.6048 | LR: 0.010000 | Avg confidence: 0.6172 | F1: 0.4074 | Precision: 0.4900 | Recall: 0.3877Time: 250710_20:00:08\n",
      "Validation => Acc: 0.5807 | F1: 0.4348\n"
     ]
    },
    {
     "data": {
      "application/vnd.jupyter.widget-view+json": {
       "model_id": "5b0b76590a2345a999a20b8f5261da5f",
       "version_major": 2,
       "version_minor": 0
      },
      "text/plain": [
       "[1/2229]   0%|           [00:00<?]"
      ]
     },
     "metadata": {},
     "output_type": "display_data"
    },
    {
     "name": "stdout",
     "output_type": "stream",
     "text": [
      "\n",
      "Epoch 116 Results => Loss: 1.7498 | Loss_Reg: 0.0296 | Loss_Cls: 0.8601 | Acc: 0.6045 | LR: 0.010000 | Avg confidence: 0.6169 | F1: 0.4066 | Precision: 0.4900 | Recall: 0.3870Time: 250710_20:00:35\n",
      "Validation => Acc: 0.6393 | F1: 0.4623\n"
     ]
    },
    {
     "data": {
      "application/vnd.jupyter.widget-view+json": {
       "model_id": "b15bacf789ba4d96a5089b36147ef84e",
       "version_major": 2,
       "version_minor": 0
      },
      "text/plain": [
       "[1/2229]   0%|           [00:00<?]"
      ]
     },
     "metadata": {},
     "output_type": "display_data"
    },
    {
     "name": "stdout",
     "output_type": "stream",
     "text": [
      "\n",
      "Epoch 117 Results => Loss: 1.7433 | Loss_Reg: 0.0296 | Loss_Cls: 0.8569 | Acc: 0.6059 | LR: 0.010000 | Avg confidence: 0.6181 | F1: 0.4097 | Precision: 0.4929 | Recall: 0.3896Time: 250710_20:01:02\n",
      "Validation => Acc: 0.5742 | F1: 0.3951\n"
     ]
    },
    {
     "data": {
      "application/vnd.jupyter.widget-view+json": {
       "model_id": "98c7d17c6c6d4a18ab1222ec8cfd5638",
       "version_major": 2,
       "version_minor": 0
      },
      "text/plain": [
       "[1/2229]   0%|           [00:00<?]"
      ]
     },
     "metadata": {},
     "output_type": "display_data"
    },
    {
     "name": "stdout",
     "output_type": "stream",
     "text": [
      "\n",
      "Epoch 118 Results => Loss: 1.7456 | Loss_Reg: 0.0295 | Loss_Cls: 0.8580 | Acc: 0.6056 | LR: 0.010000 | Avg confidence: 0.6178 | F1: 0.4087 | Precision: 0.4919 | Recall: 0.3888Time: 250710_20:01:29\n",
      "Validation => Acc: 0.5417 | F1: 0.3158\n"
     ]
    },
    {
     "data": {
      "application/vnd.jupyter.widget-view+json": {
       "model_id": "99570e5eb0734fa3bc1fd8375fed7428",
       "version_major": 2,
       "version_minor": 0
      },
      "text/plain": [
       "[1/2229]   0%|           [00:00<?]"
      ]
     },
     "metadata": {},
     "output_type": "display_data"
    },
    {
     "name": "stdout",
     "output_type": "stream",
     "text": [
      "\n",
      "Epoch 119 Results => Loss: 1.7442 | Loss_Reg: 0.0296 | Loss_Cls: 0.8573 | Acc: 0.6059 | LR: 0.010000 | Avg confidence: 0.6181 | F1: 0.4082 | Precision: 0.4914 | Recall: 0.3886Time: 250710_20:01:56\n",
      "Validation => Acc: 0.6198 | F1: 0.3867\n"
     ]
    },
    {
     "data": {
      "application/vnd.jupyter.widget-view+json": {
       "model_id": "3b464ea64a2e49e5a00be3ea53a043ae",
       "version_major": 2,
       "version_minor": 0
      },
      "text/plain": [
       "[1/2229]   0%|           [00:00<?]"
      ]
     },
     "metadata": {},
     "output_type": "display_data"
    },
    {
     "name": "stdout",
     "output_type": "stream",
     "text": [
      "\n",
      "Epoch 120 Results => Loss: 1.7408 | Loss_Reg: 0.0296 | Loss_Cls: 0.8556 | Acc: 0.6066 | LR: 0.010000 | Avg confidence: 0.6188 | F1: 0.4095 | Precision: 0.4916 | Recall: 0.3897Time: 250710_20:02:23\n",
      "Validation => Acc: 0.5846 | F1: 0.3904\n"
     ]
    },
    {
     "data": {
      "application/vnd.jupyter.widget-view+json": {
       "model_id": "3650ff28efe14eb6be1ab055a30be2e1",
       "version_major": 2,
       "version_minor": 0
      },
      "text/plain": [
       "[1/2229]   0%|           [00:00<?]"
      ]
     },
     "metadata": {},
     "output_type": "display_data"
    },
    {
     "name": "stdout",
     "output_type": "stream",
     "text": [
      "\n",
      "Epoch 121 Results => Loss: 1.7454 | Loss_Reg: 0.0296 | Loss_Cls: 0.8579 | Acc: 0.6059 | LR: 0.010000 | Avg confidence: 0.6181 | F1: 0.4086 | Precision: 0.4918 | Recall: 0.3889Time: 250710_20:02:50\n",
      "Validation => Acc: 0.6068 | F1: 0.4141\n"
     ]
    },
    {
     "data": {
      "application/vnd.jupyter.widget-view+json": {
       "model_id": "38d05f1c3d214f87aaf03b2f4410157e",
       "version_major": 2,
       "version_minor": 0
      },
      "text/plain": [
       "[1/2229]   0%|           [00:00<?]"
      ]
     },
     "metadata": {},
     "output_type": "display_data"
    },
    {
     "name": "stdout",
     "output_type": "stream",
     "text": [
      "\n",
      "Epoch 122 Results => Loss: 1.7409 | Loss_Reg: 0.0296 | Loss_Cls: 0.8557 | Acc: 0.6070 | LR: 0.010000 | Avg confidence: 0.6191 | F1: 0.4096 | Precision: 0.4932 | Recall: 0.3898Time: 250710_20:03:17\n",
      "Validation => Acc: 0.5742 | F1: 0.3850\n"
     ]
    },
    {
     "data": {
      "application/vnd.jupyter.widget-view+json": {
       "model_id": "70a5029e63ea4a33899d9f923dff19a1",
       "version_major": 2,
       "version_minor": 0
      },
      "text/plain": [
       "[1/2229]   0%|           [00:00<?]"
      ]
     },
     "metadata": {},
     "output_type": "display_data"
    },
    {
     "name": "stdout",
     "output_type": "stream",
     "text": [
      "\n",
      "Epoch 123 Results => Loss: 1.7416 | Loss_Reg: 0.0296 | Loss_Cls: 0.8560 | Acc: 0.6065 | LR: 0.001000 | Avg confidence: 0.6189 | F1: 0.4088 | Precision: 0.4903 | Recall: 0.3893Time: 250710_20:03:44\n",
      "Validation => Acc: 0.5703 | F1: 0.3684\n"
     ]
    },
    {
     "data": {
      "application/vnd.jupyter.widget-view+json": {
       "model_id": "2c092f46e2584435b5c733edd3d14d9e",
       "version_major": 2,
       "version_minor": 0
      },
      "text/plain": [
       "[1/2229]   0%|           [00:00<?]"
      ]
     },
     "metadata": {},
     "output_type": "display_data"
    },
    {
     "name": "stdout",
     "output_type": "stream",
     "text": [
      "\n",
      "Epoch 124 Results => Loss: 1.6301 | Loss_Reg: 0.0284 | Loss_Cls: 0.8009 | Acc: 0.6303 | LR: 0.001000 | Avg confidence: 0.6312 | F1: 0.4423 | Precision: 0.5293 | Recall: 0.4185Time: 250710_20:04:11\n",
      "Validation => Acc: 0.6302 | F1: 0.4309\n"
     ]
    },
    {
     "data": {
      "application/vnd.jupyter.widget-view+json": {
       "model_id": "e14340a2dd394a9caa624c542dcda06e",
       "version_major": 2,
       "version_minor": 0
      },
      "text/plain": [
       "[1/2229]   0%|           [00:00<?]"
      ]
     },
     "metadata": {},
     "output_type": "display_data"
    },
    {
     "name": "stdout",
     "output_type": "stream",
     "text": [
      "\n",
      "Epoch 125 Results => Loss: 1.5885 | Loss_Reg: 0.0283 | Loss_Cls: 0.7801 | Acc: 0.6393 | LR: 0.001000 | Avg confidence: 0.6392 | F1: 0.4591 | Precision: 0.5428 | Recall: 0.4335Time: 250710_20:04:38\n",
      "Validation => Acc: 0.6328 | F1: 0.4030\n"
     ]
    },
    {
     "data": {
      "application/vnd.jupyter.widget-view+json": {
       "model_id": "dd45aa0cef2443ad8965f594f681ed2c",
       "version_major": 2,
       "version_minor": 0
      },
      "text/plain": [
       "[1/2229]   0%|           [00:00<?]"
      ]
     },
     "metadata": {},
     "output_type": "display_data"
    },
    {
     "name": "stdout",
     "output_type": "stream",
     "text": [
      "\n",
      "Epoch 126 Results => Loss: 1.5712 | Loss_Reg: 0.0283 | Loss_Cls: 0.7715 | Acc: 0.6432 | LR: 0.001000 | Avg confidence: 0.6432 | F1: 0.4666 | Precision: 0.5483 | Recall: 0.4402Time: 250710_20:05:05\n",
      "Validation => Acc: 0.6471 | F1: 0.4309\n"
     ]
    },
    {
     "data": {
      "application/vnd.jupyter.widget-view+json": {
       "model_id": "2dc25011ba9f43d091a7fc0ff39ab133",
       "version_major": 2,
       "version_minor": 0
      },
      "text/plain": [
       "[1/2229]   0%|           [00:00<?]"
      ]
     },
     "metadata": {},
     "output_type": "display_data"
    },
    {
     "name": "stdout",
     "output_type": "stream",
     "text": [
      "\n",
      "Epoch 127 Results => Loss: 1.5599 | Loss_Reg: 0.0283 | Loss_Cls: 0.7658 | Acc: 0.6456 | LR: 0.001000 | Avg confidence: 0.6459 | F1: 0.4714 | Precision: 0.5521 | Recall: 0.4446Time: 250710_20:05:32\n",
      "Validation => Acc: 0.6055 | F1: 0.4561\n"
     ]
    },
    {
     "data": {
      "application/vnd.jupyter.widget-view+json": {
       "model_id": "004f9bb795bb4be585951bb2dd13cfb3",
       "version_major": 2,
       "version_minor": 0
      },
      "text/plain": [
       "[1/2229]   0%|           [00:00<?]"
      ]
     },
     "metadata": {},
     "output_type": "display_data"
    },
    {
     "name": "stdout",
     "output_type": "stream",
     "text": [
      "\n",
      "Epoch 128 Results => Loss: 1.5509 | Loss_Reg: 0.0283 | Loss_Cls: 0.7613 | Acc: 0.6476 | LR: 0.001000 | Avg confidence: 0.6481 | F1: 0.4758 | Precision: 0.5562 | Recall: 0.4485Time: 250710_20:05:59\n",
      "Validation => Acc: 0.6380 | F1: 0.4216\n"
     ]
    },
    {
     "data": {
      "application/vnd.jupyter.widget-view+json": {
       "model_id": "625758c401ec401da979e3fbf88bd329",
       "version_major": 2,
       "version_minor": 0
      },
      "text/plain": [
       "[1/2229]   0%|           [00:00<?]"
      ]
     },
     "metadata": {},
     "output_type": "display_data"
    },
    {
     "name": "stdout",
     "output_type": "stream",
     "text": [
      "\n",
      "Epoch 129 Results => Loss: 1.5441 | Loss_Reg: 0.0283 | Loss_Cls: 0.7579 | Acc: 0.6492 | LR: 0.001000 | Avg confidence: 0.6499 | F1: 0.4783 | Precision: 0.5561 | Recall: 0.4510Time: 250710_20:06:26\n",
      "Validation => Acc: 0.6380 | F1: 0.4023\n"
     ]
    },
    {
     "data": {
      "application/vnd.jupyter.widget-view+json": {
       "model_id": "e2fe9bf8388d4b12a9ee00179ea1ef48",
       "version_major": 2,
       "version_minor": 0
      },
      "text/plain": [
       "[1/2229]   0%|           [00:00<?]"
      ]
     },
     "metadata": {},
     "output_type": "display_data"
    },
    {
     "name": "stdout",
     "output_type": "stream",
     "text": [
      "\n",
      "Epoch 130 Results => Loss: 1.5380 | Loss_Reg: 0.0283 | Loss_Cls: 0.7549 | Acc: 0.6507 | LR: 0.001000 | Avg confidence: 0.6514 | F1: 0.4817 | Precision: 0.5600 | Recall: 0.4540Time: 250710_20:06:53\n",
      "Validation => Acc: 0.6211 | F1: 0.5330\n"
     ]
    },
    {
     "data": {
      "application/vnd.jupyter.widget-view+json": {
       "model_id": "f5565f3a3c8543d0bfb4db4422330b5b",
       "version_major": 2,
       "version_minor": 0
      },
      "text/plain": [
       "[1/2229]   0%|           [00:00<?]"
      ]
     },
     "metadata": {},
     "output_type": "display_data"
    },
    {
     "name": "stdout",
     "output_type": "stream",
     "text": [
      "\n",
      "Epoch 131 Results => Loss: 1.5330 | Loss_Reg: 0.0283 | Loss_Cls: 0.7524 | Acc: 0.6515 | LR: 0.001000 | Avg confidence: 0.6527 | F1: 0.4832 | Precision: 0.5609 | Recall: 0.4554Time: 250710_20:07:20\n",
      "Validation => Acc: 0.6263 | F1: 0.4709\n"
     ]
    },
    {
     "data": {
      "application/vnd.jupyter.widget-view+json": {
       "model_id": "400f4a8c1ec24da6833abfeb08d532cb",
       "version_major": 2,
       "version_minor": 0
      },
      "text/plain": [
       "[1/2229]   0%|           [00:00<?]"
      ]
     },
     "metadata": {},
     "output_type": "display_data"
    },
    {
     "name": "stdout",
     "output_type": "stream",
     "text": [
      "\n",
      "Epoch 132 Results => Loss: 1.5284 | Loss_Reg: 0.0283 | Loss_Cls: 0.7501 | Acc: 0.6527 | LR: 0.001000 | Avg confidence: 0.6538 | F1: 0.4852 | Precision: 0.5618 | Recall: 0.4574Time: 250710_20:07:47\n",
      "Validation => Acc: 0.6354 | F1: 0.4945\n"
     ]
    },
    {
     "data": {
      "application/vnd.jupyter.widget-view+json": {
       "model_id": "c5cff86137424203b0d67f14605255bd",
       "version_major": 2,
       "version_minor": 0
      },
      "text/plain": [
       "[1/2229]   0%|           [00:00<?]"
      ]
     },
     "metadata": {},
     "output_type": "display_data"
    },
    {
     "name": "stdout",
     "output_type": "stream",
     "text": [
      "\n",
      "Epoch 133 Results => Loss: 1.5244 | Loss_Reg: 0.0283 | Loss_Cls: 0.7481 | Acc: 0.6537 | LR: 0.001000 | Avg confidence: 0.6550 | F1: 0.4874 | Precision: 0.5636 | Recall: 0.4594Time: 250710_20:08:14\n",
      "Validation => Acc: 0.6458 | F1: 0.4625\n"
     ]
    },
    {
     "data": {
      "application/vnd.jupyter.widget-view+json": {
       "model_id": "e8e14ef296dc43de93a84c88d9f531de",
       "version_major": 2,
       "version_minor": 0
      },
      "text/plain": [
       "[1/2229]   0%|           [00:00<?]"
      ]
     },
     "metadata": {},
     "output_type": "display_data"
    },
    {
     "name": "stdout",
     "output_type": "stream",
     "text": [
      "\n",
      "Epoch 134 Results => Loss: 1.5208 | Loss_Reg: 0.0283 | Loss_Cls: 0.7463 | Acc: 0.6546 | LR: 0.001000 | Avg confidence: 0.6559 | F1: 0.4892 | Precision: 0.5653 | Recall: 0.4611Time: 250710_20:08:41\n",
      "Validation => Acc: 0.6536 | F1: 0.4324\n"
     ]
    },
    {
     "data": {
      "application/vnd.jupyter.widget-view+json": {
       "model_id": "ae9ee6247b444fafbbdb5fb1a4f159ec",
       "version_major": 2,
       "version_minor": 0
      },
      "text/plain": [
       "[1/2229]   0%|           [00:00<?]"
      ]
     },
     "metadata": {},
     "output_type": "display_data"
    },
    {
     "name": "stdout",
     "output_type": "stream",
     "text": [
      "\n",
      "Epoch 135 Results => Loss: 1.5173 | Loss_Reg: 0.0283 | Loss_Cls: 0.7445 | Acc: 0.6554 | LR: 0.001000 | Avg confidence: 0.6568 | F1: 0.4903 | Precision: 0.5656 | Recall: 0.4622Time: 250710_20:09:08\n",
      "Validation => Acc: 0.6641 | F1: 0.5035\n"
     ]
    },
    {
     "data": {
      "application/vnd.jupyter.widget-view+json": {
       "model_id": "8ea522b8607e42d99e66198ce2bd3763",
       "version_major": 2,
       "version_minor": 0
      },
      "text/plain": [
       "[1/2229]   0%|           [00:00<?]"
      ]
     },
     "metadata": {},
     "output_type": "display_data"
    },
    {
     "name": "stdout",
     "output_type": "stream",
     "text": [
      "\n",
      "Epoch 136 Results => Loss: 1.5140 | Loss_Reg: 0.0283 | Loss_Cls: 0.7429 | Acc: 0.6562 | LR: 0.001000 | Avg confidence: 0.6577 | F1: 0.4920 | Precision: 0.5673 | Recall: 0.4637Time: 250710_20:09:35\n",
      "Validation => Acc: 0.6393 | F1: 0.4436\n"
     ]
    },
    {
     "data": {
      "application/vnd.jupyter.widget-view+json": {
       "model_id": "c7dc02c722414db7bbb3ade59222578a",
       "version_major": 2,
       "version_minor": 0
      },
      "text/plain": [
       "[1/2229]   0%|           [00:00<?]"
      ]
     },
     "metadata": {},
     "output_type": "display_data"
    },
    {
     "name": "stdout",
     "output_type": "stream",
     "text": [
      "\n",
      "Epoch 137 Results => Loss: 1.5111 | Loss_Reg: 0.0283 | Loss_Cls: 0.7414 | Acc: 0.6568 | LR: 0.001000 | Avg confidence: 0.6585 | F1: 0.4933 | Precision: 0.5680 | Recall: 0.4650Time: 250710_20:10:02\n",
      "Validation => Acc: 0.6380 | F1: 0.5079\n"
     ]
    },
    {
     "data": {
      "application/vnd.jupyter.widget-view+json": {
       "model_id": "b28dde3e32f74e248d960e1bdf3e536d",
       "version_major": 2,
       "version_minor": 0
      },
      "text/plain": [
       "[1/2229]   0%|           [00:00<?]"
      ]
     },
     "metadata": {},
     "output_type": "display_data"
    },
    {
     "name": "stdout",
     "output_type": "stream",
     "text": [
      "\n",
      "Epoch 138 Results => Loss: 1.5085 | Loss_Reg: 0.0283 | Loss_Cls: 0.7401 | Acc: 0.6575 | LR: 0.001000 | Avg confidence: 0.6592 | F1: 0.4944 | Precision: 0.5684 | Recall: 0.4661Time: 250710_20:10:29\n",
      "Validation => Acc: 0.6549 | F1: 0.4764\n"
     ]
    },
    {
     "data": {
      "application/vnd.jupyter.widget-view+json": {
       "model_id": "2d2e06ed6c2946e6a7dcf323bdb5b3c5",
       "version_major": 2,
       "version_minor": 0
      },
      "text/plain": [
       "[1/2229]   0%|           [00:00<?]"
      ]
     },
     "metadata": {},
     "output_type": "display_data"
    },
    {
     "name": "stdout",
     "output_type": "stream",
     "text": [
      "\n",
      "Epoch 139 Results => Loss: 1.5058 | Loss_Reg: 0.0283 | Loss_Cls: 0.7387 | Acc: 0.6580 | LR: 0.001000 | Avg confidence: 0.6599 | F1: 0.4962 | Precision: 0.5704 | Recall: 0.4676Time: 250710_20:10:56\n",
      "Validation => Acc: 0.6081 | F1: 0.4152\n"
     ]
    },
    {
     "data": {
      "application/vnd.jupyter.widget-view+json": {
       "model_id": "e39de3b95f594805a4bc0edd57fd964b",
       "version_major": 2,
       "version_minor": 0
      },
      "text/plain": [
       "[1/2229]   0%|           [00:00<?]"
      ]
     },
     "metadata": {},
     "output_type": "display_data"
    },
    {
     "name": "stdout",
     "output_type": "stream",
     "text": [
      "\n",
      "Epoch 140 Results => Loss: 1.5033 | Loss_Reg: 0.0283 | Loss_Cls: 0.7375 | Acc: 0.6588 | LR: 0.001000 | Avg confidence: 0.6605 | F1: 0.4969 | Precision: 0.5705 | Recall: 0.4684Time: 250710_20:11:23\n",
      "Validation => Acc: 0.6159 | F1: 0.4385\n"
     ]
    },
    {
     "data": {
      "application/vnd.jupyter.widget-view+json": {
       "model_id": "a77fc980a71b421a9003d48ea5a57087",
       "version_major": 2,
       "version_minor": 0
      },
      "text/plain": [
       "[1/2229]   0%|           [00:00<?]"
      ]
     },
     "metadata": {},
     "output_type": "display_data"
    },
    {
     "name": "stdout",
     "output_type": "stream",
     "text": [
      "\n",
      "Epoch 141 Results => Loss: 1.5009 | Loss_Reg: 0.0283 | Loss_Cls: 0.7363 | Acc: 0.6591 | LR: 0.001000 | Avg confidence: 0.6612 | F1: 0.4983 | Precision: 0.5719 | Recall: 0.4696Time: 250710_20:11:50\n",
      "Validation => Acc: 0.6706 | F1: 0.5145\n"
     ]
    },
    {
     "data": {
      "application/vnd.jupyter.widget-view+json": {
       "model_id": "17db6397be334d3aa9eea123f901e570",
       "version_major": 2,
       "version_minor": 0
      },
      "text/plain": [
       "[1/2229]   0%|           [00:00<?]"
      ]
     },
     "metadata": {},
     "output_type": "display_data"
    },
    {
     "name": "stdout",
     "output_type": "stream",
     "text": [
      "\n",
      "Epoch 142 Results => Loss: 1.4986 | Loss_Reg: 0.0283 | Loss_Cls: 0.7352 | Acc: 0.6597 | LR: 0.001000 | Avg confidence: 0.6618 | F1: 0.4993 | Precision: 0.5729 | Recall: 0.4705Time: 250710_20:12:17\n",
      "Validation => Acc: 0.6432 | F1: 0.4551\n"
     ]
    },
    {
     "data": {
      "application/vnd.jupyter.widget-view+json": {
       "model_id": "44e78aa25ce342d4b4c6ea2221fc3768",
       "version_major": 2,
       "version_minor": 0
      },
      "text/plain": [
       "[1/2229]   0%|           [00:00<?]"
      ]
     },
     "metadata": {},
     "output_type": "display_data"
    },
    {
     "name": "stdout",
     "output_type": "stream",
     "text": [
      "\n",
      "Epoch 143 Results => Loss: 1.4963 | Loss_Reg: 0.0283 | Loss_Cls: 0.7340 | Acc: 0.6602 | LR: 0.001000 | Avg confidence: 0.6624 | F1: 0.5001 | Precision: 0.5733 | Recall: 0.4713Time: 250710_20:12:44\n",
      "Validation => Acc: 0.6289 | F1: 0.4347\n"
     ]
    },
    {
     "data": {
      "application/vnd.jupyter.widget-view+json": {
       "model_id": "b57bf617793e40b98e03b1ca72b54c0b",
       "version_major": 2,
       "version_minor": 0
      },
      "text/plain": [
       "[1/2229]   0%|           [00:00<?]"
      ]
     },
     "metadata": {},
     "output_type": "display_data"
    },
    {
     "name": "stdout",
     "output_type": "stream",
     "text": [
      "\n",
      "Epoch 144 Results => Loss: 1.4945 | Loss_Reg: 0.0283 | Loss_Cls: 0.7331 | Acc: 0.6607 | LR: 0.001000 | Avg confidence: 0.6629 | F1: 0.5017 | Precision: 0.5747 | Recall: 0.4727Time: 250710_20:13:11\n",
      "Validation => Acc: 0.6589 | F1: 0.5149\n"
     ]
    },
    {
     "data": {
      "application/vnd.jupyter.widget-view+json": {
       "model_id": "fe2b975ae31844b6b2227f0a992c236e",
       "version_major": 2,
       "version_minor": 0
      },
      "text/plain": [
       "[1/2229]   0%|           [00:00<?]"
      ]
     },
     "metadata": {},
     "output_type": "display_data"
    },
    {
     "name": "stdout",
     "output_type": "stream",
     "text": [
      "\n",
      "Epoch 145 Results => Loss: 1.4924 | Loss_Reg: 0.0283 | Loss_Cls: 0.7321 | Acc: 0.6610 | LR: 0.001000 | Avg confidence: 0.6635 | F1: 0.5021 | Precision: 0.5749 | Recall: 0.4732Time: 250710_20:13:38\n",
      "Validation => Acc: 0.6706 | F1: 0.5236\n"
     ]
    },
    {
     "data": {
      "application/vnd.jupyter.widget-view+json": {
       "model_id": "8b0fc9414e0b4d69869c26e60dbd132b",
       "version_major": 2,
       "version_minor": 0
      },
      "text/plain": [
       "[1/2229]   0%|           [00:00<?]"
      ]
     },
     "metadata": {},
     "output_type": "display_data"
    },
    {
     "name": "stdout",
     "output_type": "stream",
     "text": [
      "\n",
      "Epoch 146 Results => Loss: 1.4904 | Loss_Reg: 0.0283 | Loss_Cls: 0.7311 | Acc: 0.6615 | LR: 0.001000 | Avg confidence: 0.6640 | F1: 0.5028 | Precision: 0.5756 | Recall: 0.4739Time: 250710_20:14:05\n",
      "Validation => Acc: 0.6185 | F1: 0.4656\n"
     ]
    },
    {
     "data": {
      "application/vnd.jupyter.widget-view+json": {
       "model_id": "31132a3a079741fc8a4ec5111b957895",
       "version_major": 2,
       "version_minor": 0
      },
      "text/plain": [
       "[1/2229]   0%|           [00:00<?]"
      ]
     },
     "metadata": {},
     "output_type": "display_data"
    },
    {
     "name": "stdout",
     "output_type": "stream",
     "text": [
      "\n",
      "Epoch 147 Results => Loss: 1.4886 | Loss_Reg: 0.0283 | Loss_Cls: 0.7302 | Acc: 0.6620 | LR: 0.001000 | Avg confidence: 0.6645 | F1: 0.5040 | Precision: 0.5766 | Recall: 0.4749Time: 250710_20:14:32\n",
      "Validation => Acc: 0.6276 | F1: 0.5014\n"
     ]
    },
    {
     "data": {
      "application/vnd.jupyter.widget-view+json": {
       "model_id": "fc90d477469d47ccb4e40169f3672d69",
       "version_major": 2,
       "version_minor": 0
      },
      "text/plain": [
       "[1/2229]   0%|           [00:00<?]"
      ]
     },
     "metadata": {},
     "output_type": "display_data"
    },
    {
     "name": "stdout",
     "output_type": "stream",
     "text": [
      "\n",
      "Epoch 148 Results => Loss: 1.4869 | Loss_Reg: 0.0283 | Loss_Cls: 0.7293 | Acc: 0.6624 | LR: 0.001000 | Avg confidence: 0.6649 | F1: 0.5044 | Precision: 0.5761 | Recall: 0.4754Time: 250710_20:14:59\n",
      "Validation => Acc: 0.6432 | F1: 0.5086\n"
     ]
    },
    {
     "data": {
      "application/vnd.jupyter.widget-view+json": {
       "model_id": "dad336dd49b146959f40c1fc1975024e",
       "version_major": 2,
       "version_minor": 0
      },
      "text/plain": [
       "[1/2229]   0%|           [00:00<?]"
      ]
     },
     "metadata": {},
     "output_type": "display_data"
    },
    {
     "name": "stdout",
     "output_type": "stream",
     "text": [
      "\n",
      "Epoch 149 Results => Loss: 1.4851 | Loss_Reg: 0.0283 | Loss_Cls: 0.7284 | Acc: 0.6630 | LR: 0.001000 | Avg confidence: 0.6654 | F1: 0.5059 | Precision: 0.5780 | Recall: 0.4768Time: 250710_20:15:26\n",
      "Validation => Acc: 0.6576 | F1: 0.5014\n"
     ]
    },
    {
     "data": {
      "application/vnd.jupyter.widget-view+json": {
       "model_id": "00a48671883b49ba9b5325bd0d16130e",
       "version_major": 2,
       "version_minor": 0
      },
      "text/plain": [
       "[1/2229]   0%|           [00:00<?]"
      ]
     },
     "metadata": {},
     "output_type": "display_data"
    },
    {
     "name": "stdout",
     "output_type": "stream",
     "text": [
      "\n",
      "Epoch 150 Results => Loss: 1.4836 | Loss_Reg: 0.0283 | Loss_Cls: 0.7276 | Acc: 0.6632 | LR: 0.001000 | Avg confidence: 0.6658 | F1: 0.5066 | Precision: 0.5782 | Recall: 0.4774Time: 250710_20:15:53\n",
      "Validation => Acc: 0.6328 | F1: 0.4542\n"
     ]
    },
    {
     "data": {
      "application/vnd.jupyter.widget-view+json": {
       "model_id": "c48fecb842f54a77a1f1ea3775b3e610",
       "version_major": 2,
       "version_minor": 0
      },
      "text/plain": [
       "[1/2229]   0%|           [00:00<?]"
      ]
     },
     "metadata": {},
     "output_type": "display_data"
    },
    {
     "name": "stdout",
     "output_type": "stream",
     "text": [
      "\n",
      "Epoch 151 Results => Loss: 1.4819 | Loss_Reg: 0.0283 | Loss_Cls: 0.7268 | Acc: 0.6636 | LR: 0.001000 | Avg confidence: 0.6663 | F1: 0.5075 | Precision: 0.5795 | Recall: 0.4782Time: 250710_20:16:20\n",
      "Validation => Acc: 0.6471 | F1: 0.5551\n"
     ]
    },
    {
     "data": {
      "application/vnd.jupyter.widget-view+json": {
       "model_id": "b0448f06d9fa4656b461f0332b7d354e",
       "version_major": 2,
       "version_minor": 0
      },
      "text/plain": [
       "[1/2229]   0%|           [00:00<?]"
      ]
     },
     "metadata": {},
     "output_type": "display_data"
    },
    {
     "name": "stdout",
     "output_type": "stream",
     "text": [
      "\n",
      "Epoch 152 Results => Loss: 1.4804 | Loss_Reg: 0.0283 | Loss_Cls: 0.7260 | Acc: 0.6640 | LR: 0.001000 | Avg confidence: 0.6667 | F1: 0.5076 | Precision: 0.5791 | Recall: 0.4785Time: 250710_20:16:47\n",
      "Validation => Acc: 0.6393 | F1: 0.4555\n"
     ]
    },
    {
     "data": {
      "application/vnd.jupyter.widget-view+json": {
       "model_id": "5689ef733ef247b88458751e239b4817",
       "version_major": 2,
       "version_minor": 0
      },
      "text/plain": [
       "[1/2229]   0%|           [00:00<?]"
      ]
     },
     "metadata": {},
     "output_type": "display_data"
    },
    {
     "name": "stdout",
     "output_type": "stream",
     "text": [
      "\n",
      "Epoch 153 Results => Loss: 1.4788 | Loss_Reg: 0.0283 | Loss_Cls: 0.7253 | Acc: 0.6645 | LR: 0.001000 | Avg confidence: 0.6671 | F1: 0.5091 | Precision: 0.5812 | Recall: 0.4797Time: 250710_20:17:14\n",
      "Validation => Acc: 0.6224 | F1: 0.4396\n"
     ]
    },
    {
     "data": {
      "application/vnd.jupyter.widget-view+json": {
       "model_id": "8ee413d496a446aeab966acf6ef8c7ad",
       "version_major": 2,
       "version_minor": 0
      },
      "text/plain": [
       "[1/2229]   0%|           [00:00<?]"
      ]
     },
     "metadata": {},
     "output_type": "display_data"
    },
    {
     "name": "stdout",
     "output_type": "stream",
     "text": [
      "\n",
      "Epoch 154 Results => Loss: 1.4773 | Loss_Reg: 0.0283 | Loss_Cls: 0.7245 | Acc: 0.6648 | LR: 0.001000 | Avg confidence: 0.6675 | F1: 0.5095 | Precision: 0.5810 | Recall: 0.4801Time: 250710_20:17:41\n",
      "Validation => Acc: 0.6380 | F1: 0.4864\n"
     ]
    },
    {
     "data": {
      "application/vnd.jupyter.widget-view+json": {
       "model_id": "bb8c6f68f8bc4355856727e0462d5840",
       "version_major": 2,
       "version_minor": 0
      },
      "text/plain": [
       "[1/2229]   0%|           [00:00<?]"
      ]
     },
     "metadata": {},
     "output_type": "display_data"
    },
    {
     "name": "stdout",
     "output_type": "stream",
     "text": [
      "\n",
      "Epoch 155 Results => Loss: 1.4759 | Loss_Reg: 0.0283 | Loss_Cls: 0.7238 | Acc: 0.6650 | LR: 0.001000 | Avg confidence: 0.6679 | F1: 0.5104 | Precision: 0.5814 | Recall: 0.4810Time: 250710_20:18:08\n",
      "Validation => Acc: 0.6536 | F1: 0.4387\n"
     ]
    },
    {
     "data": {
      "application/vnd.jupyter.widget-view+json": {
       "model_id": "ce91867d05d344c0961d8c4da031870e",
       "version_major": 2,
       "version_minor": 0
      },
      "text/plain": [
       "[1/2229]   0%|           [00:00<?]"
      ]
     },
     "metadata": {},
     "output_type": "display_data"
    },
    {
     "name": "stdout",
     "output_type": "stream",
     "text": [
      "\n",
      "Epoch 156 Results => Loss: 1.4745 | Loss_Reg: 0.0283 | Loss_Cls: 0.7231 | Acc: 0.6653 | LR: 0.001000 | Avg confidence: 0.6683 | F1: 0.5109 | Precision: 0.5815 | Recall: 0.4815Time: 250710_20:18:35\n",
      "Validation => Acc: 0.6237 | F1: 0.4332\n"
     ]
    },
    {
     "data": {
      "application/vnd.jupyter.widget-view+json": {
       "model_id": "9d02752522ac49c4818270da2ff6c1e7",
       "version_major": 2,
       "version_minor": 0
      },
      "text/plain": [
       "[1/2229]   0%|           [00:00<?]"
      ]
     },
     "metadata": {},
     "output_type": "display_data"
    },
    {
     "name": "stdout",
     "output_type": "stream",
     "text": [
      "\n",
      "Epoch 157 Results => Loss: 1.4730 | Loss_Reg: 0.0283 | Loss_Cls: 0.7224 | Acc: 0.6658 | LR: 0.001000 | Avg confidence: 0.6686 | F1: 0.5110 | Precision: 0.5811 | Recall: 0.4817Time: 250710_20:19:02\n",
      "Validation => Acc: 0.6419 | F1: 0.4421\n"
     ]
    },
    {
     "data": {
      "application/vnd.jupyter.widget-view+json": {
       "model_id": "d71d9181831849dc9b8c7b4b06e83006",
       "version_major": 2,
       "version_minor": 0
      },
      "text/plain": [
       "[1/2229]   0%|           [00:00<?]"
      ]
     },
     "metadata": {},
     "output_type": "display_data"
    },
    {
     "name": "stdout",
     "output_type": "stream",
     "text": [
      "\n",
      "Epoch 158 Results => Loss: 1.4718 | Loss_Reg: 0.0283 | Loss_Cls: 0.7218 | Acc: 0.6661 | LR: 0.001000 | Avg confidence: 0.6690 | F1: 0.5118 | Precision: 0.5819 | Recall: 0.4825Time: 250710_20:19:29\n",
      "Validation => Acc: 0.6562 | F1: 0.4542\n"
     ]
    },
    {
     "data": {
      "application/vnd.jupyter.widget-view+json": {
       "model_id": "36890e11e1504d399d3d3587d4e7738e",
       "version_major": 2,
       "version_minor": 0
      },
      "text/plain": [
       "[1/2229]   0%|           [00:00<?]"
      ]
     },
     "metadata": {},
     "output_type": "display_data"
    },
    {
     "name": "stdout",
     "output_type": "stream",
     "text": [
      "\n",
      "Epoch 159 Results => Loss: 1.4705 | Loss_Reg: 0.0283 | Loss_Cls: 0.7211 | Acc: 0.6662 | LR: 0.001000 | Avg confidence: 0.6693 | F1: 0.5122 | Precision: 0.5823 | Recall: 0.4828Time: 250710_20:19:56\n",
      "Validation => Acc: 0.6250 | F1: 0.4318\n"
     ]
    },
    {
     "data": {
      "application/vnd.jupyter.widget-view+json": {
       "model_id": "892f3c63f553451eab5f678c1503deab",
       "version_major": 2,
       "version_minor": 0
      },
      "text/plain": [
       "[1/2229]   0%|           [00:00<?]"
      ]
     },
     "metadata": {},
     "output_type": "display_data"
    },
    {
     "name": "stdout",
     "output_type": "stream",
     "text": [
      "\n",
      "Epoch 160 Results => Loss: 1.4692 | Loss_Reg: 0.0283 | Loss_Cls: 0.7205 | Acc: 0.6666 | LR: 0.001000 | Avg confidence: 0.6697 | F1: 0.5129 | Precision: 0.5829 | Recall: 0.4835Time: 250710_20:20:23\n",
      "Validation => Acc: 0.6120 | F1: 0.4878\n"
     ]
    },
    {
     "data": {
      "application/vnd.jupyter.widget-view+json": {
       "model_id": "e589caa576574b2f8b7b0269cf622d99",
       "version_major": 2,
       "version_minor": 0
      },
      "text/plain": [
       "[1/2229]   0%|           [00:00<?]"
      ]
     },
     "metadata": {},
     "output_type": "display_data"
    },
    {
     "name": "stdout",
     "output_type": "stream",
     "text": [
      "\n",
      "Epoch 161 Results => Loss: 1.4680 | Loss_Reg: 0.0283 | Loss_Cls: 0.7199 | Acc: 0.6668 | LR: 0.001000 | Avg confidence: 0.6700 | F1: 0.5139 | Precision: 0.5839 | Recall: 0.4844Time: 250710_20:20:50\n",
      "Validation => Acc: 0.6641 | F1: 0.5106\n"
     ]
    },
    {
     "data": {
      "application/vnd.jupyter.widget-view+json": {
       "model_id": "83edc504a6a04708bc4005f7e7d40aa7",
       "version_major": 2,
       "version_minor": 0
      },
      "text/plain": [
       "[1/2229]   0%|           [00:00<?]"
      ]
     },
     "metadata": {},
     "output_type": "display_data"
    },
    {
     "name": "stdout",
     "output_type": "stream",
     "text": [
      "\n",
      "Epoch 162 Results => Loss: 1.4666 | Loss_Reg: 0.0283 | Loss_Cls: 0.7192 | Acc: 0.6673 | LR: 0.001000 | Avg confidence: 0.6704 | F1: 0.5141 | Precision: 0.5837 | Recall: 0.4846Time: 250710_20:21:17\n",
      "Validation => Acc: 0.6419 | F1: 0.4394\n"
     ]
    },
    {
     "data": {
      "application/vnd.jupyter.widget-view+json": {
       "model_id": "15447fcdf56849b1ae96cfc99e23c363",
       "version_major": 2,
       "version_minor": 0
      },
      "text/plain": [
       "[1/2229]   0%|           [00:00<?]"
      ]
     },
     "metadata": {},
     "output_type": "display_data"
    },
    {
     "name": "stdout",
     "output_type": "stream",
     "text": [
      "\n",
      "Epoch 163 Results => Loss: 1.4656 | Loss_Reg: 0.0283 | Loss_Cls: 0.7187 | Acc: 0.6676 | LR: 0.001000 | Avg confidence: 0.6706 | F1: 0.5156 | Precision: 0.5852 | Recall: 0.4859Time: 250710_20:21:45\n",
      "Validation => Acc: 0.6536 | F1: 0.5069\n"
     ]
    },
    {
     "data": {
      "application/vnd.jupyter.widget-view+json": {
       "model_id": "b2d8cd1512d74640b750a4ff1b4df693",
       "version_major": 2,
       "version_minor": 0
      },
      "text/plain": [
       "[1/2229]   0%|           [00:00<?]"
      ]
     },
     "metadata": {},
     "output_type": "display_data"
    },
    {
     "name": "stdout",
     "output_type": "stream",
     "text": [
      "\n",
      "Epoch 164 Results => Loss: 1.4646 | Loss_Reg: 0.0283 | Loss_Cls: 0.7181 | Acc: 0.6678 | LR: 0.001000 | Avg confidence: 0.6709 | F1: 0.5156 | Precision: 0.5860 | Recall: 0.4859Time: 250710_20:22:12\n",
      "Validation => Acc: 0.6445 | F1: 0.4484\n"
     ]
    },
    {
     "data": {
      "application/vnd.jupyter.widget-view+json": {
       "model_id": "66d61e606e58496cac5d238a198cbae5",
       "version_major": 2,
       "version_minor": 0
      },
      "text/plain": [
       "[1/2229]   0%|           [00:00<?]"
      ]
     },
     "metadata": {},
     "output_type": "display_data"
    },
    {
     "name": "stdout",
     "output_type": "stream",
     "text": [
      "\n",
      "Epoch 165 Results => Loss: 1.4634 | Loss_Reg: 0.0283 | Loss_Cls: 0.7175 | Acc: 0.6678 | LR: 0.001000 | Avg confidence: 0.6712 | F1: 0.5156 | Precision: 0.5848 | Recall: 0.4861Time: 250710_20:22:39\n",
      "Validation => Acc: 0.6510 | F1: 0.4629\n"
     ]
    },
    {
     "data": {
      "application/vnd.jupyter.widget-view+json": {
       "model_id": "821778b7771141c1a2044ebde25a9209",
       "version_major": 2,
       "version_minor": 0
      },
      "text/plain": [
       "[1/2229]   0%|           [00:00<?]"
      ]
     },
     "metadata": {},
     "output_type": "display_data"
    },
    {
     "name": "stdout",
     "output_type": "stream",
     "text": [
      "\n",
      "Epoch 166 Results => Loss: 1.4620 | Loss_Reg: 0.0283 | Loss_Cls: 0.7169 | Acc: 0.6684 | LR: 0.001000 | Avg confidence: 0.6715 | F1: 0.5170 | Precision: 0.5871 | Recall: 0.4872Time: 250710_20:23:06\n",
      "Validation => Acc: 0.6523 | F1: 0.4779\n"
     ]
    },
    {
     "data": {
      "application/vnd.jupyter.widget-view+json": {
       "model_id": "b192ac03ed2a41d68032e0e48e7ce248",
       "version_major": 2,
       "version_minor": 0
      },
      "text/plain": [
       "[1/2229]   0%|           [00:00<?]"
      ]
     },
     "metadata": {},
     "output_type": "display_data"
    },
    {
     "name": "stdout",
     "output_type": "stream",
     "text": [
      "\n",
      "Epoch 167 Results => Loss: 1.4610 | Loss_Reg: 0.0283 | Loss_Cls: 0.7163 | Acc: 0.6685 | LR: 0.001000 | Avg confidence: 0.6719 | F1: 0.5172 | Precision: 0.5858 | Recall: 0.4876Time: 250710_20:23:34\n",
      "Validation => Acc: 0.6276 | F1: 0.4896\n"
     ]
    },
    {
     "data": {
      "application/vnd.jupyter.widget-view+json": {
       "model_id": "c894ce068e1a4dc28ba108f04fbf249a",
       "version_major": 2,
       "version_minor": 0
      },
      "text/plain": [
       "[1/2229]   0%|           [00:00<?]"
      ]
     },
     "metadata": {},
     "output_type": "display_data"
    },
    {
     "name": "stdout",
     "output_type": "stream",
     "text": [
      "\n",
      "Epoch 168 Results => Loss: 1.4601 | Loss_Reg: 0.0283 | Loss_Cls: 0.7159 | Acc: 0.6688 | LR: 0.001000 | Avg confidence: 0.6721 | F1: 0.5176 | Precision: 0.5870 | Recall: 0.4878Time: 250710_20:24:01\n",
      "Validation => Acc: 0.6380 | F1: 0.4427\n"
     ]
    },
    {
     "data": {
      "application/vnd.jupyter.widget-view+json": {
       "model_id": "4c237ffa61c3474b9d73daa90160d87b",
       "version_major": 2,
       "version_minor": 0
      },
      "text/plain": [
       "[1/2229]   0%|           [00:00<?]"
      ]
     },
     "metadata": {},
     "output_type": "display_data"
    },
    {
     "name": "stdout",
     "output_type": "stream",
     "text": [
      "\n",
      "Epoch 169 Results => Loss: 1.4589 | Loss_Reg: 0.0283 | Loss_Cls: 0.7153 | Acc: 0.6690 | LR: 0.001000 | Avg confidence: 0.6724 | F1: 0.5178 | Precision: 0.5868 | Recall: 0.4882Time: 250710_20:24:28\n",
      "Validation => Acc: 0.6354 | F1: 0.4735\n"
     ]
    },
    {
     "data": {
      "application/vnd.jupyter.widget-view+json": {
       "model_id": "00bd91bbccac4adfa13991d0b1d6e29b",
       "version_major": 2,
       "version_minor": 0
      },
      "text/plain": [
       "[1/2229]   0%|           [00:00<?]"
      ]
     },
     "metadata": {},
     "output_type": "display_data"
    },
    {
     "name": "stdout",
     "output_type": "stream",
     "text": [
      "\n",
      "Epoch 170 Results => Loss: 1.4581 | Loss_Reg: 0.0283 | Loss_Cls: 0.7149 | Acc: 0.6693 | LR: 0.001000 | Avg confidence: 0.6726 | F1: 0.5185 | Precision: 0.5883 | Recall: 0.4887Time: 250710_20:24:55\n",
      "Validation => Acc: 0.6484 | F1: 0.5438\n"
     ]
    },
    {
     "data": {
      "application/vnd.jupyter.widget-view+json": {
       "model_id": "662777e44fff43f48935a6a340f37b0e",
       "version_major": 2,
       "version_minor": 0
      },
      "text/plain": [
       "[1/2229]   0%|           [00:00<?]"
      ]
     },
     "metadata": {},
     "output_type": "display_data"
    },
    {
     "name": "stdout",
     "output_type": "stream",
     "text": [
      "\n",
      "Epoch 171 Results => Loss: 1.4569 | Loss_Reg: 0.0283 | Loss_Cls: 0.7143 | Acc: 0.6695 | LR: 0.001000 | Avg confidence: 0.6730 | F1: 0.5186 | Precision: 0.5874 | Recall: 0.4889Time: 250710_20:25:22\n",
      "Validation => Acc: 0.6510 | F1: 0.4631\n"
     ]
    },
    {
     "data": {
      "application/vnd.jupyter.widget-view+json": {
       "model_id": "5982fdc9e2f24c5ba8d17bef2d784807",
       "version_major": 2,
       "version_minor": 0
      },
      "text/plain": [
       "[1/2229]   0%|           [00:00<?]"
      ]
     },
     "metadata": {},
     "output_type": "display_data"
    },
    {
     "name": "stdout",
     "output_type": "stream",
     "text": [
      "\n",
      "Epoch 172 Results => Loss: 1.4560 | Loss_Reg: 0.0283 | Loss_Cls: 0.7139 | Acc: 0.6696 | LR: 0.001000 | Avg confidence: 0.6732 | F1: 0.5194 | Precision: 0.5880 | Recall: 0.4897Time: 250710_20:25:49\n",
      "Validation => Acc: 0.6211 | F1: 0.4250\n"
     ]
    },
    {
     "data": {
      "application/vnd.jupyter.widget-view+json": {
       "model_id": "7d2ff7aff6d7493caed3f8282d242894",
       "version_major": 2,
       "version_minor": 0
      },
      "text/plain": [
       "[1/2229]   0%|           [00:00<?]"
      ]
     },
     "metadata": {},
     "output_type": "display_data"
    },
    {
     "name": "stdout",
     "output_type": "stream",
     "text": [
      "\n",
      "Epoch 173 Results => Loss: 1.4550 | Loss_Reg: 0.0283 | Loss_Cls: 0.7133 | Acc: 0.6699 | LR: 0.001000 | Avg confidence: 0.6735 | F1: 0.5204 | Precision: 0.5894 | Recall: 0.4905Time: 250710_20:26:16\n",
      "Validation => Acc: 0.6419 | F1: 0.4614\n"
     ]
    },
    {
     "data": {
      "application/vnd.jupyter.widget-view+json": {
       "model_id": "5f576526e2bd44879b6c88f8401bdfd2",
       "version_major": 2,
       "version_minor": 0
      },
      "text/plain": [
       "[1/2229]   0%|           [00:00<?]"
      ]
     },
     "metadata": {},
     "output_type": "display_data"
    },
    {
     "name": "stdout",
     "output_type": "stream",
     "text": [
      "\n",
      "Epoch 174 Results => Loss: 1.4541 | Loss_Reg: 0.0283 | Loss_Cls: 0.7129 | Acc: 0.6702 | LR: 0.001000 | Avg confidence: 0.6736 | F1: 0.5206 | Precision: 0.5897 | Recall: 0.4907Time: 250710_20:26:43\n",
      "Validation => Acc: 0.6315 | F1: 0.4710\n"
     ]
    },
    {
     "data": {
      "application/vnd.jupyter.widget-view+json": {
       "model_id": "f8a49fa2e94c43aeae119a133cd84a39",
       "version_major": 2,
       "version_minor": 0
      },
      "text/plain": [
       "[1/2229]   0%|           [00:00<?]"
      ]
     },
     "metadata": {},
     "output_type": "display_data"
    },
    {
     "name": "stdout",
     "output_type": "stream",
     "text": [
      "\n",
      "Epoch 175 Results => Loss: 1.4529 | Loss_Reg: 0.0283 | Loss_Cls: 0.7123 | Acc: 0.6704 | LR: 0.001000 | Avg confidence: 0.6740 | F1: 0.5209 | Precision: 0.5899 | Recall: 0.4909Time: 250710_20:27:10\n",
      "Validation => Acc: 0.6224 | F1: 0.4428\n"
     ]
    },
    {
     "data": {
      "application/vnd.jupyter.widget-view+json": {
       "model_id": "68a82bdbedb2403cad979629926221ba",
       "version_major": 2,
       "version_minor": 0
      },
      "text/plain": [
       "[1/2229]   0%|           [00:00<?]"
      ]
     },
     "metadata": {},
     "output_type": "display_data"
    },
    {
     "name": "stdout",
     "output_type": "stream",
     "text": [
      "\n",
      "Epoch 176 Results => Loss: 1.4523 | Loss_Reg: 0.0283 | Loss_Cls: 0.7120 | Acc: 0.6707 | LR: 0.001000 | Avg confidence: 0.6741 | F1: 0.5213 | Precision: 0.5903 | Recall: 0.4914Time: 250710_20:27:37\n",
      "Validation => Acc: 0.6706 | F1: 0.4613\n"
     ]
    },
    {
     "data": {
      "application/vnd.jupyter.widget-view+json": {
       "model_id": "fccf025d25504a0a81cfd34d3d7ed150",
       "version_major": 2,
       "version_minor": 0
      },
      "text/plain": [
       "[1/2229]   0%|           [00:00<?]"
      ]
     },
     "metadata": {},
     "output_type": "display_data"
    },
    {
     "name": "stdout",
     "output_type": "stream",
     "text": [
      "\n",
      "Epoch 177 Results => Loss: 1.4513 | Loss_Reg: 0.0283 | Loss_Cls: 0.7115 | Acc: 0.6708 | LR: 0.001000 | Avg confidence: 0.6745 | F1: 0.5222 | Precision: 0.5907 | Recall: 0.4922Time: 250710_20:28:04\n",
      "Validation => Acc: 0.6198 | F1: 0.5032\n"
     ]
    },
    {
     "data": {
      "application/vnd.jupyter.widget-view+json": {
       "model_id": "83f0f299d4a8464dbfae2a7499250902",
       "version_major": 2,
       "version_minor": 0
      },
      "text/plain": [
       "[1/2229]   0%|           [00:00<?]"
      ]
     },
     "metadata": {},
     "output_type": "display_data"
    },
    {
     "name": "stdout",
     "output_type": "stream",
     "text": [
      "\n",
      "Epoch 178 Results => Loss: 1.4504 | Loss_Reg: 0.0283 | Loss_Cls: 0.7110 | Acc: 0.6710 | LR: 0.001000 | Avg confidence: 0.6747 | F1: 0.5221 | Precision: 0.5904 | Recall: 0.4922Time: 250710_20:28:31\n",
      "Validation => Acc: 0.6328 | F1: 0.5100\n"
     ]
    },
    {
     "data": {
      "application/vnd.jupyter.widget-view+json": {
       "model_id": "a8cc05f6604d4370887d346c3772f58f",
       "version_major": 2,
       "version_minor": 0
      },
      "text/plain": [
       "[1/2229]   0%|           [00:00<?]"
      ]
     },
     "metadata": {},
     "output_type": "display_data"
    },
    {
     "name": "stdout",
     "output_type": "stream",
     "text": [
      "\n",
      "Epoch 179 Results => Loss: 1.4496 | Loss_Reg: 0.0283 | Loss_Cls: 0.7106 | Acc: 0.6712 | LR: 0.001000 | Avg confidence: 0.6749 | F1: 0.5222 | Precision: 0.5911 | Recall: 0.4923Time: 250710_20:28:58\n",
      "Validation => Acc: 0.6562 | F1: 0.4732\n"
     ]
    },
    {
     "data": {
      "application/vnd.jupyter.widget-view+json": {
       "model_id": "1dee86383c8b4ed6acf1a0caffde9d26",
       "version_major": 2,
       "version_minor": 0
      },
      "text/plain": [
       "[1/2229]   0%|           [00:00<?]"
      ]
     },
     "metadata": {},
     "output_type": "display_data"
    },
    {
     "name": "stdout",
     "output_type": "stream",
     "text": [
      "\n",
      "Epoch 180 Results => Loss: 1.4487 | Loss_Reg: 0.0283 | Loss_Cls: 0.7102 | Acc: 0.6713 | LR: 0.001000 | Avg confidence: 0.6751 | F1: 0.5230 | Precision: 0.5910 | Recall: 0.4931Time: 250710_20:29:25\n",
      "Validation => Acc: 0.6940 | F1: 0.4898\n"
     ]
    },
    {
     "data": {
      "application/vnd.jupyter.widget-view+json": {
       "model_id": "7e459e24fd104b039139975a594f73fe",
       "version_major": 2,
       "version_minor": 0
      },
      "text/plain": [
       "[1/2229]   0%|           [00:00<?]"
      ]
     },
     "metadata": {},
     "output_type": "display_data"
    },
    {
     "name": "stdout",
     "output_type": "stream",
     "text": [
      "\n",
      "Epoch 181 Results => Loss: 1.4476 | Loss_Reg: 0.0283 | Loss_Cls: 0.7096 | Acc: 0.6716 | LR: 0.001000 | Avg confidence: 0.6753 | F1: 0.5232 | Precision: 0.5915 | Recall: 0.4933Time: 250710_20:29:53\n",
      "Validation => Acc: 0.6654 | F1: 0.4463\n"
     ]
    },
    {
     "data": {
      "application/vnd.jupyter.widget-view+json": {
       "model_id": "25e23c56af834c24a33c9fd6ac56bb82",
       "version_major": 2,
       "version_minor": 0
      },
      "text/plain": [
       "[1/2229]   0%|           [00:00<?]"
      ]
     },
     "metadata": {},
     "output_type": "display_data"
    },
    {
     "name": "stdout",
     "output_type": "stream",
     "text": [
      "\n",
      "Epoch 182 Results => Loss: 1.4470 | Loss_Reg: 0.0283 | Loss_Cls: 0.7093 | Acc: 0.6720 | LR: 0.001000 | Avg confidence: 0.6756 | F1: 0.5239 | Precision: 0.5917 | Recall: 0.4939Time: 250710_20:30:20\n",
      "Validation => Acc: 0.6406 | F1: 0.4493\n"
     ]
    },
    {
     "data": {
      "application/vnd.jupyter.widget-view+json": {
       "model_id": "d365667607d94f4d8668dedabdc4758e",
       "version_major": 2,
       "version_minor": 0
      },
      "text/plain": [
       "[1/2229]   0%|           [00:00<?]"
      ]
     },
     "metadata": {},
     "output_type": "display_data"
    },
    {
     "name": "stdout",
     "output_type": "stream",
     "text": [
      "\n",
      "Epoch 183 Results => Loss: 1.4460 | Loss_Reg: 0.0283 | Loss_Cls: 0.7088 | Acc: 0.6721 | LR: 0.001000 | Avg confidence: 0.6758 | F1: 0.5244 | Precision: 0.5928 | Recall: 0.4943Time: 250710_20:30:47\n",
      "Validation => Acc: 0.6302 | F1: 0.4114\n"
     ]
    },
    {
     "data": {
      "application/vnd.jupyter.widget-view+json": {
       "model_id": "6ff7a5a9fda44ac0a21b12addd346620",
       "version_major": 2,
       "version_minor": 0
      },
      "text/plain": [
       "[1/2229]   0%|           [00:00<?]"
      ]
     },
     "metadata": {},
     "output_type": "display_data"
    },
    {
     "name": "stdout",
     "output_type": "stream",
     "text": [
      "\n",
      "Epoch 184 Results => Loss: 1.4452 | Loss_Reg: 0.0283 | Loss_Cls: 0.7084 | Acc: 0.6723 | LR: 0.001000 | Avg confidence: 0.6761 | F1: 0.5252 | Precision: 0.5936 | Recall: 0.4949Time: 250710_20:31:14\n",
      "Validation => Acc: 0.6510 | F1: 0.4765\n"
     ]
    },
    {
     "data": {
      "application/vnd.jupyter.widget-view+json": {
       "model_id": "28fb62c10b88435080ff10cadb3036de",
       "version_major": 2,
       "version_minor": 0
      },
      "text/plain": [
       "[1/2229]   0%|           [00:00<?]"
      ]
     },
     "metadata": {},
     "output_type": "display_data"
    },
    {
     "name": "stdout",
     "output_type": "stream",
     "text": [
      "\n",
      "Epoch 185 Results => Loss: 1.4445 | Loss_Reg: 0.0283 | Loss_Cls: 0.7081 | Acc: 0.6724 | LR: 0.001000 | Avg confidence: 0.6762 | F1: 0.5250 | Precision: 0.5932 | Recall: 0.4949Time: 250710_20:31:41\n",
      "Validation => Acc: 0.6576 | F1: 0.5283\n"
     ]
    },
    {
     "data": {
      "application/vnd.jupyter.widget-view+json": {
       "model_id": "825ccf6fdf164817b16d310a3dd08a7d",
       "version_major": 2,
       "version_minor": 0
      },
      "text/plain": [
       "[1/2229]   0%|           [00:00<?]"
      ]
     },
     "metadata": {},
     "output_type": "display_data"
    },
    {
     "name": "stdout",
     "output_type": "stream",
     "text": [
      "\n",
      "Epoch 186 Results => Loss: 1.4435 | Loss_Reg: 0.0283 | Loss_Cls: 0.7076 | Acc: 0.6728 | LR: 0.001000 | Avg confidence: 0.6765 | F1: 0.5256 | Precision: 0.5939 | Recall: 0.4955Time: 250710_20:32:08\n",
      "Validation => Acc: 0.6589 | F1: 0.4646\n"
     ]
    },
    {
     "data": {
      "application/vnd.jupyter.widget-view+json": {
       "model_id": "70ddb8ca1125422c9338e85e53e474dc",
       "version_major": 2,
       "version_minor": 0
      },
      "text/plain": [
       "[1/2229]   0%|           [00:00<?]"
      ]
     },
     "metadata": {},
     "output_type": "display_data"
    },
    {
     "name": "stdout",
     "output_type": "stream",
     "text": [
      "\n",
      "Epoch 187 Results => Loss: 1.4431 | Loss_Reg: 0.0283 | Loss_Cls: 0.7074 | Acc: 0.6728 | LR: 0.001000 | Avg confidence: 0.6766 | F1: 0.5259 | Precision: 0.5940 | Recall: 0.4957Time: 250710_20:32:35\n",
      "Validation => Acc: 0.6484 | F1: 0.4473\n"
     ]
    },
    {
     "data": {
      "application/vnd.jupyter.widget-view+json": {
       "model_id": "e211ace0271741a5847bfac59ea2d6f9",
       "version_major": 2,
       "version_minor": 0
      },
      "text/plain": [
       "[1/2229]   0%|           [00:00<?]"
      ]
     },
     "metadata": {},
     "output_type": "display_data"
    },
    {
     "name": "stdout",
     "output_type": "stream",
     "text": [
      "\n",
      "Epoch 188 Results => Loss: 1.4423 | Loss_Reg: 0.0283 | Loss_Cls: 0.7070 | Acc: 0.6731 | LR: 0.001000 | Avg confidence: 0.6769 | F1: 0.5263 | Precision: 0.5943 | Recall: 0.4961Time: 250710_20:33:02\n",
      "Validation => Acc: 0.6628 | F1: 0.5146\n"
     ]
    },
    {
     "data": {
      "application/vnd.jupyter.widget-view+json": {
       "model_id": "ed4bdbfaf513420e96fc7b378324cb2f",
       "version_major": 2,
       "version_minor": 0
      },
      "text/plain": [
       "[1/2229]   0%|           [00:00<?]"
      ]
     },
     "metadata": {},
     "output_type": "display_data"
    },
    {
     "name": "stdout",
     "output_type": "stream",
     "text": [
      "\n",
      "Epoch 189 Results => Loss: 1.4413 | Loss_Reg: 0.0283 | Loss_Cls: 0.7065 | Acc: 0.6732 | LR: 0.001000 | Avg confidence: 0.6770 | F1: 0.5262 | Precision: 0.5947 | Recall: 0.4961Time: 250710_20:33:29\n",
      "Validation => Acc: 0.6120 | F1: 0.4059\n"
     ]
    },
    {
     "data": {
      "application/vnd.jupyter.widget-view+json": {
       "model_id": "3f9b135a8b004a58ba44aba81147ecbb",
       "version_major": 2,
       "version_minor": 0
      },
      "text/plain": [
       "[1/2229]   0%|           [00:00<?]"
      ]
     },
     "metadata": {},
     "output_type": "display_data"
    },
    {
     "name": "stdout",
     "output_type": "stream",
     "text": [
      "\n",
      "Epoch 190 Results => Loss: 1.4406 | Loss_Reg: 0.0283 | Loss_Cls: 0.7061 | Acc: 0.6735 | LR: 0.001000 | Avg confidence: 0.6773 | F1: 0.5271 | Precision: 0.5953 | Recall: 0.4969Time: 250710_20:33:56\n",
      "Validation => Acc: 0.6276 | F1: 0.4799\n"
     ]
    },
    {
     "data": {
      "application/vnd.jupyter.widget-view+json": {
       "model_id": "984d9ed1c3be4e09a3ac72a9efe079a6",
       "version_major": 2,
       "version_minor": 0
      },
      "text/plain": [
       "[1/2229]   0%|           [00:00<?]"
      ]
     },
     "metadata": {},
     "output_type": "display_data"
    },
    {
     "name": "stdout",
     "output_type": "stream",
     "text": [
      "\n",
      "Epoch 191 Results => Loss: 1.4398 | Loss_Reg: 0.0283 | Loss_Cls: 0.7058 | Acc: 0.6737 | LR: 0.001000 | Avg confidence: 0.6774 | F1: 0.5275 | Precision: 0.5958 | Recall: 0.4971Time: 250710_20:34:23\n",
      "Validation => Acc: 0.6198 | F1: 0.4586\n"
     ]
    },
    {
     "data": {
      "application/vnd.jupyter.widget-view+json": {
       "model_id": "f18c1932d8834fae9c93c7af06c1091d",
       "version_major": 2,
       "version_minor": 0
      },
      "text/plain": [
       "[1/2229]   0%|           [00:00<?]"
      ]
     },
     "metadata": {},
     "output_type": "display_data"
    },
    {
     "name": "stdout",
     "output_type": "stream",
     "text": [
      "\n",
      "Epoch 192 Results => Loss: 1.4391 | Loss_Reg: 0.0283 | Loss_Cls: 0.7054 | Acc: 0.6738 | LR: 0.001000 | Avg confidence: 0.6776 | F1: 0.5277 | Precision: 0.5955 | Recall: 0.4975Time: 250710_20:34:51\n",
      "Validation => Acc: 0.6667 | F1: 0.5220\n"
     ]
    },
    {
     "data": {
      "application/vnd.jupyter.widget-view+json": {
       "model_id": "1d413decdc734800860a399a75629bd0",
       "version_major": 2,
       "version_minor": 0
      },
      "text/plain": [
       "[1/2229]   0%|           [00:00<?]"
      ]
     },
     "metadata": {},
     "output_type": "display_data"
    },
    {
     "name": "stdout",
     "output_type": "stream",
     "text": [
      "\n",
      "Epoch 193 Results => Loss: 1.4384 | Loss_Reg: 0.0283 | Loss_Cls: 0.7051 | Acc: 0.6739 | LR: 0.001000 | Avg confidence: 0.6779 | F1: 0.5280 | Precision: 0.5958 | Recall: 0.4977Time: 250710_20:35:18\n",
      "Validation => Acc: 0.6615 | F1: 0.4561\n"
     ]
    },
    {
     "data": {
      "application/vnd.jupyter.widget-view+json": {
       "model_id": "e0bd915438ed44358717d3d131302922",
       "version_major": 2,
       "version_minor": 0
      },
      "text/plain": [
       "[1/2229]   0%|           [00:00<?]"
      ]
     },
     "metadata": {},
     "output_type": "display_data"
    },
    {
     "name": "stdout",
     "output_type": "stream",
     "text": [
      "\n",
      "Epoch 194 Results => Loss: 1.4377 | Loss_Reg: 0.0283 | Loss_Cls: 0.7047 | Acc: 0.6741 | LR: 0.001000 | Avg confidence: 0.6780 | F1: 0.5284 | Precision: 0.5963 | Recall: 0.4981Time: 250710_20:35:45\n",
      "Validation => Acc: 0.6393 | F1: 0.4430\n"
     ]
    },
    {
     "data": {
      "application/vnd.jupyter.widget-view+json": {
       "model_id": "5fbeda11730241cb8a25d12772af7157",
       "version_major": 2,
       "version_minor": 0
      },
      "text/plain": [
       "[1/2229]   0%|           [00:00<?]"
      ]
     },
     "metadata": {},
     "output_type": "display_data"
    },
    {
     "name": "stdout",
     "output_type": "stream",
     "text": [
      "\n",
      "Epoch 195 Results => Loss: 1.4367 | Loss_Reg: 0.0283 | Loss_Cls: 0.7042 | Acc: 0.6744 | LR: 0.001000 | Avg confidence: 0.6783 | F1: 0.5288 | Precision: 0.5967 | Recall: 0.4985Time: 250710_20:36:12\n",
      "Validation => Acc: 0.6484 | F1: 0.4583\n"
     ]
    },
    {
     "data": {
      "application/vnd.jupyter.widget-view+json": {
       "model_id": "7706c1ce0fd84bed9866810e65b473b4",
       "version_major": 2,
       "version_minor": 0
      },
      "text/plain": [
       "[1/2229]   0%|           [00:00<?]"
      ]
     },
     "metadata": {},
     "output_type": "display_data"
    },
    {
     "name": "stdout",
     "output_type": "stream",
     "text": [
      "\n",
      "Epoch 196 Results => Loss: 1.4367 | Loss_Reg: 0.0283 | Loss_Cls: 0.7042 | Acc: 0.6744 | LR: 0.001000 | Avg confidence: 0.6783 | F1: 0.5290 | Precision: 0.5965 | Recall: 0.4987Time: 250710_20:36:39\n",
      "Validation => Acc: 0.6471 | F1: 0.4765\n"
     ]
    },
    {
     "data": {
      "application/vnd.jupyter.widget-view+json": {
       "model_id": "f3bed3247ccb4a0da999b023588bb97f",
       "version_major": 2,
       "version_minor": 0
      },
      "text/plain": [
       "[1/2229]   0%|           [00:00<?]"
      ]
     },
     "metadata": {},
     "output_type": "display_data"
    },
    {
     "name": "stdout",
     "output_type": "stream",
     "text": [
      "\n",
      "Epoch 197 Results => Loss: 1.4358 | Loss_Reg: 0.0283 | Loss_Cls: 0.7038 | Acc: 0.6744 | LR: 0.001000 | Avg confidence: 0.6785 | F1: 0.5289 | Precision: 0.5964 | Recall: 0.4987Time: 250710_20:37:06\n",
      "Validation => Acc: 0.6185 | F1: 0.4764\n"
     ]
    },
    {
     "data": {
      "application/vnd.jupyter.widget-view+json": {
       "model_id": "c84749eeffff4565b6005e49a6276733",
       "version_major": 2,
       "version_minor": 0
      },
      "text/plain": [
       "[1/2229]   0%|           [00:00<?]"
      ]
     },
     "metadata": {},
     "output_type": "display_data"
    },
    {
     "name": "stdout",
     "output_type": "stream",
     "text": [
      "\n",
      "Epoch 198 Results => Loss: 1.4351 | Loss_Reg: 0.0283 | Loss_Cls: 0.7034 | Acc: 0.6747 | LR: 0.001000 | Avg confidence: 0.6788 | F1: 0.5297 | Precision: 0.5979 | Recall: 0.4993Time: 250710_20:37:33\n",
      "Validation => Acc: 0.6302 | F1: 0.4334\n"
     ]
    },
    {
     "data": {
      "application/vnd.jupyter.widget-view+json": {
       "model_id": "e4c0233eef174775996772f0ef46c960",
       "version_major": 2,
       "version_minor": 0
      },
      "text/plain": [
       "[1/2229]   0%|           [00:00<?]"
      ]
     },
     "metadata": {},
     "output_type": "display_data"
    },
    {
     "name": "stdout",
     "output_type": "stream",
     "text": [
      "\n",
      "Epoch 199 Results => Loss: 1.4343 | Loss_Reg: 0.0283 | Loss_Cls: 0.7030 | Acc: 0.6748 | LR: 0.001000 | Avg confidence: 0.6790 | F1: 0.5298 | Precision: 0.5973 | Recall: 0.4995Time: 250710_20:38:00\n",
      "Validation => Acc: 0.6354 | F1: 0.4837\n"
     ]
    },
    {
     "data": {
      "application/vnd.jupyter.widget-view+json": {
       "model_id": "a6764fa9636c44b4affc84ea1bf37d2d",
       "version_major": 2,
       "version_minor": 0
      },
      "text/plain": [
       "[1/2229]   0%|           [00:00<?]"
      ]
     },
     "metadata": {},
     "output_type": "display_data"
    },
    {
     "name": "stdout",
     "output_type": "stream",
     "text": [
      "\n",
      "Epoch 200 Results => Loss: 1.4336 | Loss_Reg: 0.0283 | Loss_Cls: 0.7027 | Acc: 0.6751 | LR: 0.001000 | Avg confidence: 0.6791 | F1: 0.5302 | Precision: 0.5982 | Recall: 0.4998Time: 250710_20:38:28\n",
      "Validation => Acc: 0.6549 | F1: 0.4491\n"
     ]
    },
    {
     "data": {
      "application/vnd.jupyter.widget-view+json": {
       "model_id": "f7b54dc9fd2a4739b96d02d6dbd8d93c",
       "version_major": 2,
       "version_minor": 0
      },
      "text/plain": [
       "[1/2229]   0%|           [00:00<?]"
      ]
     },
     "metadata": {},
     "output_type": "display_data"
    },
    {
     "name": "stdout",
     "output_type": "stream",
     "text": [
      "\n",
      "Epoch 201 Results => Loss: 1.4333 | Loss_Reg: 0.0283 | Loss_Cls: 0.7025 | Acc: 0.6751 | LR: 0.001000 | Avg confidence: 0.6792 | F1: 0.5305 | Precision: 0.5979 | Recall: 0.5001Time: 250710_20:38:55\n",
      "Validation => Acc: 0.6393 | F1: 0.5801\n"
     ]
    },
    {
     "data": {
      "application/vnd.jupyter.widget-view+json": {
       "model_id": "645e477120f64cd0944911ffbc7187cb",
       "version_major": 2,
       "version_minor": 0
      },
      "text/plain": [
       "[1/2229]   0%|           [00:00<?]"
      ]
     },
     "metadata": {},
     "output_type": "display_data"
    },
    {
     "name": "stdout",
     "output_type": "stream",
     "text": [
      "\n",
      "Epoch 202 Results => Loss: 1.4320 | Loss_Reg: 0.0283 | Loss_Cls: 0.7019 | Acc: 0.6755 | LR: 0.001000 | Avg confidence: 0.6795 | F1: 0.5309 | Precision: 0.5992 | Recall: 0.5004Time: 250710_20:39:22\n",
      "Validation => Acc: 0.6849 | F1: 0.4768\n"
     ]
    },
    {
     "data": {
      "application/vnd.jupyter.widget-view+json": {
       "model_id": "b082ab796ca74edea63926b181933347",
       "version_major": 2,
       "version_minor": 0
      },
      "text/plain": [
       "[1/2229]   0%|           [00:00<?]"
      ]
     },
     "metadata": {},
     "output_type": "display_data"
    },
    {
     "name": "stdout",
     "output_type": "stream",
     "text": [
      "\n",
      "Epoch 203 Results => Loss: 1.4317 | Loss_Reg: 0.0283 | Loss_Cls: 0.7017 | Acc: 0.6755 | LR: 0.001000 | Avg confidence: 0.6796 | F1: 0.5318 | Precision: 0.5995 | Recall: 0.5012Time: 250710_20:39:49\n",
      "Validation => Acc: 0.6146 | F1: 0.4251\n"
     ]
    },
    {
     "data": {
      "application/vnd.jupyter.widget-view+json": {
       "model_id": "b1baf9377ab9444f8f99656cae4aadc6",
       "version_major": 2,
       "version_minor": 0
      },
      "text/plain": [
       "[1/2229]   0%|           [00:00<?]"
      ]
     },
     "metadata": {},
     "output_type": "display_data"
    },
    {
     "name": "stdout",
     "output_type": "stream",
     "text": [
      "\n",
      "Epoch 204 Results => Loss: 1.4310 | Loss_Reg: 0.0283 | Loss_Cls: 0.7013 | Acc: 0.6759 | LR: 0.001000 | Avg confidence: 0.6798 | F1: 0.5321 | Precision: 0.6004 | Recall: 0.5014Time: 250710_20:40:16\n",
      "Validation => Acc: 0.6302 | F1: 0.5062\n"
     ]
    },
    {
     "data": {
      "application/vnd.jupyter.widget-view+json": {
       "model_id": "d0b40014cea84a59896457e0ee25ab11",
       "version_major": 2,
       "version_minor": 0
      },
      "text/plain": [
       "[1/2229]   0%|           [00:00<?]"
      ]
     },
     "metadata": {},
     "output_type": "display_data"
    },
    {
     "name": "stdout",
     "output_type": "stream",
     "text": [
      "\n",
      "Epoch 205 Results => Loss: 1.4305 | Loss_Reg: 0.0283 | Loss_Cls: 0.7011 | Acc: 0.6758 | LR: 0.001000 | Avg confidence: 0.6800 | F1: 0.5319 | Precision: 0.5998 | Recall: 0.5013Time: 250710_20:40:43\n",
      "Validation => Acc: 0.6510 | F1: 0.5501\n"
     ]
    },
    {
     "data": {
      "application/vnd.jupyter.widget-view+json": {
       "model_id": "77dea38bcc2a4233843315c06028f185",
       "version_major": 2,
       "version_minor": 0
      },
      "text/plain": [
       "[1/2229]   0%|           [00:00<?]"
      ]
     },
     "metadata": {},
     "output_type": "display_data"
    },
    {
     "name": "stdout",
     "output_type": "stream",
     "text": [
      "\n",
      "Epoch 206 Results => Loss: 1.4298 | Loss_Reg: 0.0283 | Loss_Cls: 0.7008 | Acc: 0.6759 | LR: 0.001000 | Avg confidence: 0.6801 | F1: 0.5320 | Precision: 0.5990 | Recall: 0.5016Time: 250710_20:41:10\n",
      "Validation => Acc: 0.6341 | F1: 0.4465\n"
     ]
    },
    {
     "data": {
      "application/vnd.jupyter.widget-view+json": {
       "model_id": "e47d93c13612494b8c862f9db807cf75",
       "version_major": 2,
       "version_minor": 0
      },
      "text/plain": [
       "[1/2229]   0%|           [00:00<?]"
      ]
     },
     "metadata": {},
     "output_type": "display_data"
    },
    {
     "name": "stdout",
     "output_type": "stream",
     "text": [
      "\n",
      "Epoch 207 Results => Loss: 1.4293 | Loss_Reg: 0.0283 | Loss_Cls: 0.7005 | Acc: 0.6761 | LR: 0.001000 | Avg confidence: 0.6803 | F1: 0.5325 | Precision: 0.6002 | Recall: 0.5019Time: 250710_20:41:37\n",
      "Validation => Acc: 0.6432 | F1: 0.4458\n"
     ]
    },
    {
     "data": {
      "application/vnd.jupyter.widget-view+json": {
       "model_id": "59db9a4ee52242c5a9ea6a241d529056",
       "version_major": 2,
       "version_minor": 0
      },
      "text/plain": [
       "[1/2229]   0%|           [00:00<?]"
      ]
     },
     "metadata": {},
     "output_type": "display_data"
    },
    {
     "name": "stdout",
     "output_type": "stream",
     "text": [
      "\n",
      "Epoch 208 Results => Loss: 1.4286 | Loss_Reg: 0.0283 | Loss_Cls: 0.7001 | Acc: 0.6764 | LR: 0.001000 | Avg confidence: 0.6805 | F1: 0.5331 | Precision: 0.6003 | Recall: 0.5025Time: 250710_20:42:04\n",
      "Validation => Acc: 0.6250 | F1: 0.5007\n"
     ]
    },
    {
     "data": {
      "application/vnd.jupyter.widget-view+json": {
       "model_id": "3eff7e2382614829ad5a74daadb8a45b",
       "version_major": 2,
       "version_minor": 0
      },
      "text/plain": [
       "[1/2229]   0%|           [00:00<?]"
      ]
     },
     "metadata": {},
     "output_type": "display_data"
    },
    {
     "name": "stdout",
     "output_type": "stream",
     "text": [
      "\n",
      "Epoch 209 Results => Loss: 1.4279 | Loss_Reg: 0.0283 | Loss_Cls: 0.6998 | Acc: 0.6764 | LR: 0.001000 | Avg confidence: 0.6806 | F1: 0.5331 | Precision: 0.6006 | Recall: 0.5025Time: 250710_20:42:31\n",
      "Validation => Acc: 0.6654 | F1: 0.4971\n"
     ]
    },
    {
     "data": {
      "application/vnd.jupyter.widget-view+json": {
       "model_id": "e4c452807682494ba8b929c9e15a6eb9",
       "version_major": 2,
       "version_minor": 0
      },
      "text/plain": [
       "[1/2229]   0%|           [00:00<?]"
      ]
     },
     "metadata": {},
     "output_type": "display_data"
    },
    {
     "name": "stdout",
     "output_type": "stream",
     "text": [
      "\n",
      "Epoch 210 Results => Loss: 1.4275 | Loss_Reg: 0.0283 | Loss_Cls: 0.6996 | Acc: 0.6765 | LR: 0.001000 | Avg confidence: 0.6808 | F1: 0.5326 | Precision: 0.6002 | Recall: 0.5021Time: 250710_20:42:58\n",
      "Validation => Acc: 0.6341 | F1: 0.4856\n"
     ]
    },
    {
     "data": {
      "application/vnd.jupyter.widget-view+json": {
       "model_id": "c6112e8d0b1743d6a3ed031bcafdc14c",
       "version_major": 2,
       "version_minor": 0
      },
      "text/plain": [
       "[1/2229]   0%|           [00:00<?]"
      ]
     },
     "metadata": {},
     "output_type": "display_data"
    },
    {
     "name": "stdout",
     "output_type": "stream",
     "text": [
      "\n",
      "Epoch 211 Results => Loss: 1.4269 | Loss_Reg: 0.0283 | Loss_Cls: 0.6993 | Acc: 0.6766 | LR: 0.001000 | Avg confidence: 0.6808 | F1: 0.5334 | Precision: 0.6007 | Recall: 0.5029Time: 250710_20:43:26\n",
      "Validation => Acc: 0.6380 | F1: 0.5716\n"
     ]
    },
    {
     "data": {
      "application/vnd.jupyter.widget-view+json": {
       "model_id": "e35bf20b692e4ecabd75850257c19cc0",
       "version_major": 2,
       "version_minor": 0
      },
      "text/plain": [
       "[1/2229]   0%|           [00:00<?]"
      ]
     },
     "metadata": {},
     "output_type": "display_data"
    },
    {
     "name": "stdout",
     "output_type": "stream",
     "text": [
      "\n",
      "Epoch 212 Results => Loss: 1.4261 | Loss_Reg: 0.0283 | Loss_Cls: 0.6989 | Acc: 0.6770 | LR: 0.001000 | Avg confidence: 0.6810 | F1: 0.5342 | Precision: 0.6018 | Recall: 0.5036Time: 250710_20:43:53\n",
      "Validation => Acc: 0.6341 | F1: 0.5094\n"
     ]
    },
    {
     "data": {
      "application/vnd.jupyter.widget-view+json": {
       "model_id": "5d959e3168734aa094ebe84601823c7a",
       "version_major": 2,
       "version_minor": 0
      },
      "text/plain": [
       "[1/2229]   0%|           [00:00<?]"
      ]
     },
     "metadata": {},
     "output_type": "display_data"
    },
    {
     "name": "stdout",
     "output_type": "stream",
     "text": [
      "\n",
      "Epoch 213 Results => Loss: 1.4257 | Loss_Reg: 0.0283 | Loss_Cls: 0.6987 | Acc: 0.6770 | LR: 0.001000 | Avg confidence: 0.6812 | F1: 0.5343 | Precision: 0.6014 | Recall: 0.5037Time: 250710_20:44:20\n",
      "Validation => Acc: 0.6341 | F1: 0.4517\n"
     ]
    },
    {
     "data": {
      "application/vnd.jupyter.widget-view+json": {
       "model_id": "9522f3817b3f4549ac373cfea07c7300",
       "version_major": 2,
       "version_minor": 0
      },
      "text/plain": [
       "[1/2229]   0%|           [00:00<?]"
      ]
     },
     "metadata": {},
     "output_type": "display_data"
    },
    {
     "name": "stdout",
     "output_type": "stream",
     "text": [
      "\n",
      "Epoch 214 Results => Loss: 1.4252 | Loss_Reg: 0.0283 | Loss_Cls: 0.6985 | Acc: 0.6771 | LR: 0.001000 | Avg confidence: 0.6813 | F1: 0.5342 | Precision: 0.6014 | Recall: 0.5036Time: 250710_20:44:47\n",
      "Validation => Acc: 0.6354 | F1: 0.4263\n"
     ]
    },
    {
     "data": {
      "application/vnd.jupyter.widget-view+json": {
       "model_id": "2063f42898fd45feae82e512911fc4d6",
       "version_major": 2,
       "version_minor": 0
      },
      "text/plain": [
       "[1/2229]   0%|           [00:00<?]"
      ]
     },
     "metadata": {},
     "output_type": "display_data"
    },
    {
     "name": "stdout",
     "output_type": "stream",
     "text": [
      "\n",
      "Epoch 215 Results => Loss: 1.4247 | Loss_Reg: 0.0283 | Loss_Cls: 0.6982 | Acc: 0.6773 | LR: 0.001000 | Avg confidence: 0.6815 | F1: 0.5344 | Precision: 0.6012 | Recall: 0.5039Time: 250710_20:45:14\n",
      "Validation => Acc: 0.6523 | F1: 0.5714\n"
     ]
    },
    {
     "data": {
      "application/vnd.jupyter.widget-view+json": {
       "model_id": "a4e8e5a7f8bd471bafcd4d37fa47e78e",
       "version_major": 2,
       "version_minor": 0
      },
      "text/plain": [
       "[1/2229]   0%|           [00:00<?]"
      ]
     },
     "metadata": {},
     "output_type": "display_data"
    },
    {
     "name": "stdout",
     "output_type": "stream",
     "text": [
      "\n",
      "Epoch 216 Results => Loss: 1.4240 | Loss_Reg: 0.0283 | Loss_Cls: 0.6978 | Acc: 0.6772 | LR: 0.001000 | Avg confidence: 0.6816 | F1: 0.5349 | Precision: 0.6020 | Recall: 0.5042Time: 250710_20:45:41\n",
      "Validation => Acc: 0.6484 | F1: 0.4524\n"
     ]
    },
    {
     "data": {
      "application/vnd.jupyter.widget-view+json": {
       "model_id": "f81e84f4d9564374966c2380e9322d21",
       "version_major": 2,
       "version_minor": 0
      },
      "text/plain": [
       "[1/2229]   0%|           [00:00<?]"
      ]
     },
     "metadata": {},
     "output_type": "display_data"
    },
    {
     "name": "stdout",
     "output_type": "stream",
     "text": [
      "\n",
      "Epoch 217 Results => Loss: 1.4234 | Loss_Reg: 0.0283 | Loss_Cls: 0.6975 | Acc: 0.6774 | LR: 0.001000 | Avg confidence: 0.6818 | F1: 0.5348 | Precision: 0.6020 | Recall: 0.5042Time: 250710_20:46:08\n",
      "Validation => Acc: 0.6172 | F1: 0.5007\n"
     ]
    },
    {
     "data": {
      "application/vnd.jupyter.widget-view+json": {
       "model_id": "7bf2e938e4f543178bb0b8c2d56ef021",
       "version_major": 2,
       "version_minor": 0
      },
      "text/plain": [
       "[1/2229]   0%|           [00:00<?]"
      ]
     },
     "metadata": {},
     "output_type": "display_data"
    },
    {
     "name": "stdout",
     "output_type": "stream",
     "text": [
      "\n",
      "Epoch 218 Results => Loss: 1.4232 | Loss_Reg: 0.0283 | Loss_Cls: 0.6974 | Acc: 0.6775 | LR: 0.001000 | Avg confidence: 0.6818 | F1: 0.5351 | Precision: 0.6023 | Recall: 0.5045Time: 250710_20:46:35\n",
      "Validation => Acc: 0.6641 | F1: 0.4542\n"
     ]
    },
    {
     "data": {
      "application/vnd.jupyter.widget-view+json": {
       "model_id": "9bb5b495560c41f5b325c87b9714d19d",
       "version_major": 2,
       "version_minor": 0
      },
      "text/plain": [
       "[1/2229]   0%|           [00:00<?]"
      ]
     },
     "metadata": {},
     "output_type": "display_data"
    },
    {
     "name": "stdout",
     "output_type": "stream",
     "text": [
      "\n",
      "Epoch 219 Results => Loss: 1.4222 | Loss_Reg: 0.0283 | Loss_Cls: 0.6970 | Acc: 0.6781 | LR: 0.001000 | Avg confidence: 0.6821 | F1: 0.5359 | Precision: 0.6030 | Recall: 0.5052Time: 250710_20:47:02\n",
      "Validation => Acc: 0.6393 | F1: 0.4490\n"
     ]
    },
    {
     "data": {
      "application/vnd.jupyter.widget-view+json": {
       "model_id": "d2939b3f81504dddbc31a577b50042ab",
       "version_major": 2,
       "version_minor": 0
      },
      "text/plain": [
       "[1/2229]   0%|           [00:00<?]"
      ]
     },
     "metadata": {},
     "output_type": "display_data"
    },
    {
     "name": "stdout",
     "output_type": "stream",
     "text": [
      "\n",
      "Epoch 220 Results => Loss: 1.4219 | Loss_Reg: 0.0283 | Loss_Cls: 0.6968 | Acc: 0.6779 | LR: 0.001000 | Avg confidence: 0.6822 | F1: 0.5361 | Precision: 0.6035 | Recall: 0.5053Time: 250710_20:47:29\n",
      "Validation => Acc: 0.6380 | F1: 0.5059\n"
     ]
    },
    {
     "data": {
      "application/vnd.jupyter.widget-view+json": {
       "model_id": "144e2179252d4795853ed0d09ed16d91",
       "version_major": 2,
       "version_minor": 0
      },
      "text/plain": [
       "[1/2229]   0%|           [00:00<?]"
      ]
     },
     "metadata": {},
     "output_type": "display_data"
    },
    {
     "name": "stdout",
     "output_type": "stream",
     "text": [
      "\n",
      "Epoch 221 Results => Loss: 1.4215 | Loss_Reg: 0.0283 | Loss_Cls: 0.6966 | Acc: 0.6779 | LR: 0.001000 | Avg confidence: 0.6823 | F1: 0.5357 | Precision: 0.6030 | Recall: 0.5050Time: 250710_20:47:57\n",
      "Validation => Acc: 0.6354 | F1: 0.4463\n"
     ]
    },
    {
     "data": {
      "application/vnd.jupyter.widget-view+json": {
       "model_id": "8b623f9ce1d1479ab7cece6302243a44",
       "version_major": 2,
       "version_minor": 0
      },
      "text/plain": [
       "[1/2229]   0%|           [00:00<?]"
      ]
     },
     "metadata": {},
     "output_type": "display_data"
    },
    {
     "name": "stdout",
     "output_type": "stream",
     "text": [
      "\n",
      "Epoch 222 Results => Loss: 1.4205 | Loss_Reg: 0.0283 | Loss_Cls: 0.6961 | Acc: 0.6782 | LR: 0.001000 | Avg confidence: 0.6825 | F1: 0.5363 | Precision: 0.6027 | Recall: 0.5057Time: 250710_20:48:24\n",
      "Validation => Acc: 0.6536 | F1: 0.5057\n"
     ]
    },
    {
     "data": {
      "application/vnd.jupyter.widget-view+json": {
       "model_id": "601a401c800841718dd10a3148911e7a",
       "version_major": 2,
       "version_minor": 0
      },
      "text/plain": [
       "[1/2229]   0%|           [00:00<?]"
      ]
     },
     "metadata": {},
     "output_type": "display_data"
    },
    {
     "name": "stdout",
     "output_type": "stream",
     "text": [
      "\n",
      "Epoch 223 Results => Loss: 1.4204 | Loss_Reg: 0.0283 | Loss_Cls: 0.6960 | Acc: 0.6782 | LR: 0.001000 | Avg confidence: 0.6826 | F1: 0.5364 | Precision: 0.6028 | Recall: 0.5058Time: 250710_20:48:51\n",
      "Validation => Acc: 0.6628 | F1: 0.4646\n"
     ]
    },
    {
     "data": {
      "application/vnd.jupyter.widget-view+json": {
       "model_id": "b3f9eee37b894d6f8040126c8dd6d2a5",
       "version_major": 2,
       "version_minor": 0
      },
      "text/plain": [
       "[1/2229]   0%|           [00:00<?]"
      ]
     },
     "metadata": {},
     "output_type": "display_data"
    },
    {
     "name": "stdout",
     "output_type": "stream",
     "text": [
      "\n",
      "Epoch 224 Results => Loss: 1.4200 | Loss_Reg: 0.0283 | Loss_Cls: 0.6959 | Acc: 0.6784 | LR: 0.001000 | Avg confidence: 0.6827 | F1: 0.5365 | Precision: 0.6031 | Recall: 0.5058Time: 250710_20:49:18\n",
      "Validation => Acc: 0.6667 | F1: 0.5416\n"
     ]
    },
    {
     "data": {
      "application/vnd.jupyter.widget-view+json": {
       "model_id": "fe640243f10e4377a628ce3f260c7415",
       "version_major": 2,
       "version_minor": 0
      },
      "text/plain": [
       "[1/2229]   0%|           [00:00<?]"
      ]
     },
     "metadata": {},
     "output_type": "display_data"
    },
    {
     "name": "stdout",
     "output_type": "stream",
     "text": [
      "\n",
      "Epoch 225 Results => Loss: 1.4193 | Loss_Reg: 0.0283 | Loss_Cls: 0.6955 | Acc: 0.6784 | LR: 0.001000 | Avg confidence: 0.6829 | F1: 0.5369 | Precision: 0.6038 | Recall: 0.5062Time: 250710_20:49:45\n",
      "Validation => Acc: 0.6237 | F1: 0.5177\n"
     ]
    },
    {
     "data": {
      "application/vnd.jupyter.widget-view+json": {
       "model_id": "77045a76c74243b3b56b1a7ebbd12e16",
       "version_major": 2,
       "version_minor": 0
      },
      "text/plain": [
       "[1/2229]   0%|           [00:00<?]"
      ]
     },
     "metadata": {},
     "output_type": "display_data"
    },
    {
     "name": "stdout",
     "output_type": "stream",
     "text": [
      "\n",
      "Epoch 226 Results => Loss: 1.4188 | Loss_Reg: 0.0283 | Loss_Cls: 0.6953 | Acc: 0.6787 | LR: 0.001000 | Avg confidence: 0.6830 | F1: 0.5373 | Precision: 0.6043 | Recall: 0.5065Time: 250710_20:50:12\n",
      "Validation => Acc: 0.6354 | F1: 0.4377\n"
     ]
    },
    {
     "data": {
      "application/vnd.jupyter.widget-view+json": {
       "model_id": "bac0da4cfa8e4d5f871cbd9287d37d40",
       "version_major": 2,
       "version_minor": 0
      },
      "text/plain": [
       "[1/2229]   0%|           [00:00<?]"
      ]
     },
     "metadata": {},
     "output_type": "display_data"
    },
    {
     "name": "stdout",
     "output_type": "stream",
     "text": [
      "\n",
      "Epoch 227 Results => Loss: 1.4182 | Loss_Reg: 0.0283 | Loss_Cls: 0.6949 | Acc: 0.6787 | LR: 0.001000 | Avg confidence: 0.6831 | F1: 0.5373 | Precision: 0.6044 | Recall: 0.5066Time: 250710_20:50:39\n",
      "Validation => Acc: 0.6510 | F1: 0.5031\n"
     ]
    },
    {
     "data": {
      "application/vnd.jupyter.widget-view+json": {
       "model_id": "8c5045bebf044472aaba51e494e3cac5",
       "version_major": 2,
       "version_minor": 0
      },
      "text/plain": [
       "[1/2229]   0%|           [00:00<?]"
      ]
     },
     "metadata": {},
     "output_type": "display_data"
    },
    {
     "name": "stdout",
     "output_type": "stream",
     "text": [
      "\n",
      "Epoch 228 Results => Loss: 1.4175 | Loss_Reg: 0.0283 | Loss_Cls: 0.6946 | Acc: 0.6788 | LR: 0.001000 | Avg confidence: 0.6832 | F1: 0.5381 | Precision: 0.6054 | Recall: 0.5072Time: 250710_20:51:07\n",
      "Validation => Acc: 0.6419 | F1: 0.4769\n"
     ]
    },
    {
     "data": {
      "application/vnd.jupyter.widget-view+json": {
       "model_id": "71df1d095a1d43ee804bca98c68972d6",
       "version_major": 2,
       "version_minor": 0
      },
      "text/plain": [
       "[1/2229]   0%|           [00:00<?]"
      ]
     },
     "metadata": {},
     "output_type": "display_data"
    },
    {
     "name": "stdout",
     "output_type": "stream",
     "text": [
      "\n",
      "Epoch 229 Results => Loss: 1.4174 | Loss_Reg: 0.0283 | Loss_Cls: 0.6945 | Acc: 0.6790 | LR: 0.001000 | Avg confidence: 0.6833 | F1: 0.5378 | Precision: 0.6044 | Recall: 0.5071Time: 250710_20:51:34\n",
      "Validation => Acc: 0.6120 | F1: 0.5103\n"
     ]
    },
    {
     "data": {
      "application/vnd.jupyter.widget-view+json": {
       "model_id": "6e420a07979d4f0e92093ef8ab2ab7c0",
       "version_major": 2,
       "version_minor": 0
      },
      "text/plain": [
       "[1/2229]   0%|           [00:00<?]"
      ]
     },
     "metadata": {},
     "output_type": "display_data"
    },
    {
     "name": "stdout",
     "output_type": "stream",
     "text": [
      "\n",
      "Epoch 230 Results => Loss: 1.4169 | Loss_Reg: 0.0283 | Loss_Cls: 0.6943 | Acc: 0.6790 | LR: 0.001000 | Avg confidence: 0.6835 | F1: 0.5383 | Precision: 0.6059 | Recall: 0.5073Time: 250710_20:52:01\n",
      "Validation => Acc: 0.6289 | F1: 0.4393\n"
     ]
    },
    {
     "data": {
      "application/vnd.jupyter.widget-view+json": {
       "model_id": "f8251711d85245cb93878a70efbb70f7",
       "version_major": 2,
       "version_minor": 0
      },
      "text/plain": [
       "[1/2229]   0%|           [00:00<?]"
      ]
     },
     "metadata": {},
     "output_type": "display_data"
    },
    {
     "name": "stdout",
     "output_type": "stream",
     "text": [
      "\n",
      "Epoch 231 Results => Loss: 1.4165 | Loss_Reg: 0.0283 | Loss_Cls: 0.6941 | Acc: 0.6791 | LR: 0.001000 | Avg confidence: 0.6836 | F1: 0.5379 | Precision: 0.6050 | Recall: 0.5072Time: 250710_20:52:28\n",
      "Validation => Acc: 0.6576 | F1: 0.5308\n"
     ]
    },
    {
     "data": {
      "application/vnd.jupyter.widget-view+json": {
       "model_id": "f96048041c9645a6864344c2ba2d5894",
       "version_major": 2,
       "version_minor": 0
      },
      "text/plain": [
       "[1/2229]   0%|           [00:00<?]"
      ]
     },
     "metadata": {},
     "output_type": "display_data"
    },
    {
     "name": "stdout",
     "output_type": "stream",
     "text": [
      "\n",
      "Epoch 232 Results => Loss: 1.4161 | Loss_Reg: 0.0283 | Loss_Cls: 0.6939 | Acc: 0.6793 | LR: 0.001000 | Avg confidence: 0.6837 | F1: 0.5389 | Precision: 0.6058 | Recall: 0.5079Time: 250710_20:52:55\n",
      "Validation => Acc: 0.6771 | F1: 0.4859\n"
     ]
    },
    {
     "data": {
      "application/vnd.jupyter.widget-view+json": {
       "model_id": "d495176f43414637a2053cea2dfe4065",
       "version_major": 2,
       "version_minor": 0
      },
      "text/plain": [
       "[1/2229]   0%|           [00:00<?]"
      ]
     },
     "metadata": {},
     "output_type": "display_data"
    },
    {
     "name": "stdout",
     "output_type": "stream",
     "text": [
      "\n",
      "Epoch 233 Results => Loss: 1.4153 | Loss_Reg: 0.0283 | Loss_Cls: 0.6935 | Acc: 0.6793 | LR: 0.001000 | Avg confidence: 0.6838 | F1: 0.5386 | Precision: 0.6054 | Recall: 0.5078Time: 250710_20:53:22\n",
      "Validation => Acc: 0.6523 | F1: 0.5036\n"
     ]
    },
    {
     "data": {
      "application/vnd.jupyter.widget-view+json": {
       "model_id": "0c96b3d56a484cb6b252c2d855f89133",
       "version_major": 2,
       "version_minor": 0
      },
      "text/plain": [
       "[1/2229]   0%|           [00:00<?]"
      ]
     },
     "metadata": {},
     "output_type": "display_data"
    },
    {
     "name": "stdout",
     "output_type": "stream",
     "text": [
      "\n",
      "Epoch 234 Results => Loss: 1.4151 | Loss_Reg: 0.0283 | Loss_Cls: 0.6934 | Acc: 0.6796 | LR: 0.001000 | Avg confidence: 0.6840 | F1: 0.5389 | Precision: 0.6058 | Recall: 0.5080Time: 250710_20:53:50\n",
      "Validation => Acc: 0.6458 | F1: 0.4603\n"
     ]
    },
    {
     "data": {
      "application/vnd.jupyter.widget-view+json": {
       "model_id": "b34a2d1333e74accb260cfb50eeeace8",
       "version_major": 2,
       "version_minor": 0
      },
      "text/plain": [
       "[1/2229]   0%|           [00:00<?]"
      ]
     },
     "metadata": {},
     "output_type": "display_data"
    },
    {
     "name": "stdout",
     "output_type": "stream",
     "text": [
      "\n",
      "Epoch 235 Results => Loss: 1.4149 | Loss_Reg: 0.0283 | Loss_Cls: 0.6933 | Acc: 0.6795 | LR: 0.001000 | Avg confidence: 0.6841 | F1: 0.5390 | Precision: 0.6056 | Recall: 0.5082Time: 250710_20:54:17\n",
      "Validation => Acc: 0.6654 | F1: 0.5446\n"
     ]
    },
    {
     "data": {
      "application/vnd.jupyter.widget-view+json": {
       "model_id": "f589cca61d674b9b86ca4a7fa254b17b",
       "version_major": 2,
       "version_minor": 0
      },
      "text/plain": [
       "[1/2229]   0%|           [00:00<?]"
      ]
     },
     "metadata": {},
     "output_type": "display_data"
    },
    {
     "name": "stdout",
     "output_type": "stream",
     "text": [
      "\n",
      "Epoch 236 Results => Loss: 1.4141 | Loss_Reg: 0.0283 | Loss_Cls: 0.6929 | Acc: 0.6797 | LR: 0.001000 | Avg confidence: 0.6842 | F1: 0.5397 | Precision: 0.6063 | Recall: 0.5088Time: 250710_20:54:44\n",
      "Validation => Acc: 0.6497 | F1: 0.4624\n"
     ]
    },
    {
     "data": {
      "application/vnd.jupyter.widget-view+json": {
       "model_id": "712703f3f2464325906ef12137e96814",
       "version_major": 2,
       "version_minor": 0
      },
      "text/plain": [
       "[1/2229]   0%|           [00:00<?]"
      ]
     },
     "metadata": {},
     "output_type": "display_data"
    },
    {
     "name": "stdout",
     "output_type": "stream",
     "text": [
      "\n",
      "Epoch 237 Results => Loss: 1.4136 | Loss_Reg: 0.0283 | Loss_Cls: 0.6926 | Acc: 0.6797 | LR: 0.001000 | Avg confidence: 0.6843 | F1: 0.5397 | Precision: 0.6059 | Recall: 0.5088Time: 250710_20:55:11\n",
      "Validation => Acc: 0.6367 | F1: 0.4491\n"
     ]
    },
    {
     "data": {
      "application/vnd.jupyter.widget-view+json": {
       "model_id": "66f4f39d80a7410ca16e76138f478cff",
       "version_major": 2,
       "version_minor": 0
      },
      "text/plain": [
       "[1/2229]   0%|           [00:00<?]"
      ]
     },
     "metadata": {},
     "output_type": "display_data"
    },
    {
     "name": "stdout",
     "output_type": "stream",
     "text": [
      "\n",
      "Epoch 238 Results => Loss: 1.4136 | Loss_Reg: 0.0283 | Loss_Cls: 0.6926 | Acc: 0.6800 | LR: 0.001000 | Avg confidence: 0.6844 | F1: 0.5398 | Precision: 0.6067 | Recall: 0.5088Time: 250710_20:55:38\n",
      "Validation => Acc: 0.6458 | F1: 0.5042\n"
     ]
    },
    {
     "data": {
      "application/vnd.jupyter.widget-view+json": {
       "model_id": "7195d2b092d84a2f9ccab6c5cb296d10",
       "version_major": 2,
       "version_minor": 0
      },
      "text/plain": [
       "[1/2229]   0%|           [00:00<?]"
      ]
     },
     "metadata": {},
     "output_type": "display_data"
    },
    {
     "name": "stdout",
     "output_type": "stream",
     "text": [
      "\n",
      "Epoch 239 Results => Loss: 1.4128 | Loss_Reg: 0.0283 | Loss_Cls: 0.6922 | Acc: 0.6802 | LR: 0.001000 | Avg confidence: 0.6846 | F1: 0.5400 | Precision: 0.6068 | Recall: 0.5090Time: 250710_20:56:05\n",
      "Validation => Acc: 0.6849 | F1: 0.4766\n"
     ]
    },
    {
     "data": {
      "application/vnd.jupyter.widget-view+json": {
       "model_id": "e6375c3bbda646d5811e63ecf87279f3",
       "version_major": 2,
       "version_minor": 0
      },
      "text/plain": [
       "[1/2229]   0%|           [00:00<?]"
      ]
     },
     "metadata": {},
     "output_type": "display_data"
    },
    {
     "name": "stdout",
     "output_type": "stream",
     "text": [
      "\n",
      "Epoch 240 Results => Loss: 1.4122 | Loss_Reg: 0.0283 | Loss_Cls: 0.6919 | Acc: 0.6801 | LR: 0.001000 | Avg confidence: 0.6847 | F1: 0.5400 | Precision: 0.6067 | Recall: 0.5091Time: 250710_20:56:32\n",
      "Validation => Acc: 0.6367 | F1: 0.4815\n"
     ]
    },
    {
     "data": {
      "application/vnd.jupyter.widget-view+json": {
       "model_id": "a2f4bde8a19a42af8a88669adb4a608c",
       "version_major": 2,
       "version_minor": 0
      },
      "text/plain": [
       "[1/2229]   0%|           [00:00<?]"
      ]
     },
     "metadata": {},
     "output_type": "display_data"
    },
    {
     "name": "stdout",
     "output_type": "stream",
     "text": [
      "\n",
      "Epoch 241 Results => Loss: 1.4119 | Loss_Reg: 0.0283 | Loss_Cls: 0.6918 | Acc: 0.6804 | LR: 0.001000 | Avg confidence: 0.6848 | F1: 0.5409 | Precision: 0.6075 | Recall: 0.5099Time: 250710_20:57:00\n",
      "Validation => Acc: 0.6732 | F1: 0.5403\n"
     ]
    },
    {
     "data": {
      "application/vnd.jupyter.widget-view+json": {
       "model_id": "d660cc5a51f747a4a61ab687cf3882f7",
       "version_major": 2,
       "version_minor": 0
      },
      "text/plain": [
       "[1/2229]   0%|           [00:00<?]"
      ]
     },
     "metadata": {},
     "output_type": "display_data"
    },
    {
     "name": "stdout",
     "output_type": "stream",
     "text": [
      "\n",
      "Epoch 242 Results => Loss: 1.4118 | Loss_Reg: 0.0283 | Loss_Cls: 0.6917 | Acc: 0.6802 | LR: 0.001000 | Avg confidence: 0.6848 | F1: 0.5405 | Precision: 0.6073 | Recall: 0.5096Time: 250710_20:57:27\n",
      "Validation => Acc: 0.6693 | F1: 0.5066\n"
     ]
    },
    {
     "data": {
      "application/vnd.jupyter.widget-view+json": {
       "model_id": "1ab4f67298bd47aab8a3a17b60805fc8",
       "version_major": 2,
       "version_minor": 0
      },
      "text/plain": [
       "[1/2229]   0%|           [00:00<?]"
      ]
     },
     "metadata": {},
     "output_type": "display_data"
    },
    {
     "name": "stdout",
     "output_type": "stream",
     "text": [
      "\n",
      "Epoch 243 Results => Loss: 1.4108 | Loss_Reg: 0.0283 | Loss_Cls: 0.6912 | Acc: 0.6804 | LR: 0.001000 | Avg confidence: 0.6851 | F1: 0.5402 | Precision: 0.6066 | Recall: 0.5094Time: 250710_20:57:54\n",
      "Validation => Acc: 0.6328 | F1: 0.4992\n"
     ]
    },
    {
     "data": {
      "application/vnd.jupyter.widget-view+json": {
       "model_id": "26cd0a52e1254b7cbb8dd1ea7cb607e7",
       "version_major": 2,
       "version_minor": 0
      },
      "text/plain": [
       "[1/2229]   0%|           [00:00<?]"
      ]
     },
     "metadata": {},
     "output_type": "display_data"
    },
    {
     "name": "stdout",
     "output_type": "stream",
     "text": [
      "\n",
      "Epoch 244 Results => Loss: 1.4108 | Loss_Reg: 0.0283 | Loss_Cls: 0.6912 | Acc: 0.6805 | LR: 0.001000 | Avg confidence: 0.6851 | F1: 0.5405 | Precision: 0.6070 | Recall: 0.5096Time: 250710_20:58:21\n",
      "Validation => Acc: 0.6589 | F1: 0.4731\n"
     ]
    },
    {
     "data": {
      "application/vnd.jupyter.widget-view+json": {
       "model_id": "901a5cd8fa634a8db7db27856fa2c58f",
       "version_major": 2,
       "version_minor": 0
      },
      "text/plain": [
       "[1/2229]   0%|           [00:00<?]"
      ]
     },
     "metadata": {},
     "output_type": "display_data"
    },
    {
     "name": "stdout",
     "output_type": "stream",
     "text": [
      "\n",
      "Epoch 245 Results => Loss: 1.4101 | Loss_Reg: 0.0283 | Loss_Cls: 0.6909 | Acc: 0.6807 | LR: 0.001000 | Avg confidence: 0.6852 | F1: 0.5411 | Precision: 0.6073 | Recall: 0.5102Time: 250710_20:58:48\n",
      "Validation => Acc: 0.6562 | F1: 0.5512\n"
     ]
    },
    {
     "data": {
      "application/vnd.jupyter.widget-view+json": {
       "model_id": "009ed8921f6543d0be342f2d413192d8",
       "version_major": 2,
       "version_minor": 0
      },
      "text/plain": [
       "[1/2229]   0%|           [00:00<?]"
      ]
     },
     "metadata": {},
     "output_type": "display_data"
    },
    {
     "name": "stdout",
     "output_type": "stream",
     "text": [
      "\n",
      "Epoch 246 Results => Loss: 1.4096 | Loss_Reg: 0.0283 | Loss_Cls: 0.6906 | Acc: 0.6807 | LR: 0.001000 | Avg confidence: 0.6854 | F1: 0.5408 | Precision: 0.6081 | Recall: 0.5098Time: 250710_20:59:16\n",
      "Validation => Acc: 0.6536 | F1: 0.4957\n"
     ]
    },
    {
     "data": {
      "application/vnd.jupyter.widget-view+json": {
       "model_id": "e86874ae8c904975a105f055325faa0c",
       "version_major": 2,
       "version_minor": 0
      },
      "text/plain": [
       "[1/2229]   0%|           [00:00<?]"
      ]
     },
     "metadata": {},
     "output_type": "display_data"
    },
    {
     "name": "stdout",
     "output_type": "stream",
     "text": [
      "\n",
      "Epoch 247 Results => Loss: 1.4092 | Loss_Reg: 0.0283 | Loss_Cls: 0.6904 | Acc: 0.6806 | LR: 0.001000 | Avg confidence: 0.6854 | F1: 0.5415 | Precision: 0.6084 | Recall: 0.5104Time: 250710_20:59:43\n",
      "Validation => Acc: 0.6393 | F1: 0.4410\n"
     ]
    },
    {
     "data": {
      "application/vnd.jupyter.widget-view+json": {
       "model_id": "7876ba4419734e32b8b9581b547ebdd2",
       "version_major": 2,
       "version_minor": 0
      },
      "text/plain": [
       "[1/2229]   0%|           [00:00<?]"
      ]
     },
     "metadata": {},
     "output_type": "display_data"
    },
    {
     "name": "stdout",
     "output_type": "stream",
     "text": [
      "\n",
      "Epoch 248 Results => Loss: 1.4089 | Loss_Reg: 0.0283 | Loss_Cls: 0.6903 | Acc: 0.6811 | LR: 0.001000 | Avg confidence: 0.6855 | F1: 0.5419 | Precision: 0.6087 | Recall: 0.5108Time: 250710_21:00:10\n",
      "Validation => Acc: 0.6250 | F1: 0.4224\n"
     ]
    },
    {
     "data": {
      "application/vnd.jupyter.widget-view+json": {
       "model_id": "72aeef83c7df4eed9f5ac76ba78e1134",
       "version_major": 2,
       "version_minor": 0
      },
      "text/plain": [
       "[1/2229]   0%|           [00:00<?]"
      ]
     },
     "metadata": {},
     "output_type": "display_data"
    },
    {
     "name": "stdout",
     "output_type": "stream",
     "text": [
      "\n",
      "Epoch 249 Results => Loss: 1.4084 | Loss_Reg: 0.0283 | Loss_Cls: 0.6900 | Acc: 0.6810 | LR: 0.001000 | Avg confidence: 0.6856 | F1: 0.5417 | Precision: 0.6083 | Recall: 0.5107Time: 250710_21:00:37\n",
      "Validation => Acc: 0.6484 | F1: 0.5297\n"
     ]
    },
    {
     "data": {
      "application/vnd.jupyter.widget-view+json": {
       "model_id": "474c72e2cdd04ddb9041e999a48a9382",
       "version_major": 2,
       "version_minor": 0
      },
      "text/plain": [
       "[1/2229]   0%|           [00:00<?]"
      ]
     },
     "metadata": {},
     "output_type": "display_data"
    },
    {
     "name": "stdout",
     "output_type": "stream",
     "text": [
      "\n",
      "Epoch 250 Results => Loss: 1.4081 | Loss_Reg: 0.0283 | Loss_Cls: 0.6899 | Acc: 0.6812 | LR: 0.001000 | Avg confidence: 0.6858 | F1: 0.5417 | Precision: 0.6080 | Recall: 0.5108Time: 250710_21:01:04\n",
      "Validation => Acc: 0.6250 | F1: 0.4787\n"
     ]
    },
    {
     "data": {
      "application/vnd.jupyter.widget-view+json": {
       "model_id": "b83affe62bce4557be2bb7a47b0a5445",
       "version_major": 2,
       "version_minor": 0
      },
      "text/plain": [
       "[1/2229]   0%|           [00:00<?]"
      ]
     },
     "metadata": {},
     "output_type": "display_data"
    },
    {
     "name": "stdout",
     "output_type": "stream",
     "text": [
      "\n",
      "Epoch 251 Results => Loss: 1.4080 | Loss_Reg: 0.0283 | Loss_Cls: 0.6898 | Acc: 0.6810 | LR: 0.001000 | Avg confidence: 0.6858 | F1: 0.5418 | Precision: 0.6086 | Recall: 0.5108Time: 250710_21:01:31\n",
      "Validation => Acc: 0.6276 | F1: 0.5026\n"
     ]
    },
    {
     "data": {
      "application/vnd.jupyter.widget-view+json": {
       "model_id": "c47340f596f848bfac8dd0c5f1847ec8",
       "version_major": 2,
       "version_minor": 0
      },
      "text/plain": [
       "[1/2229]   0%|           [00:00<?]"
      ]
     },
     "metadata": {},
     "output_type": "display_data"
    },
    {
     "name": "stdout",
     "output_type": "stream",
     "text": [
      "\n",
      "Epoch 252 Results => Loss: 1.4072 | Loss_Reg: 0.0283 | Loss_Cls: 0.6894 | Acc: 0.6812 | LR: 0.001000 | Avg confidence: 0.6859 | F1: 0.5415 | Precision: 0.6079 | Recall: 0.5106Time: 250710_21:01:58\n",
      "Validation => Acc: 0.6419 | F1: 0.4356\n"
     ]
    },
    {
     "data": {
      "application/vnd.jupyter.widget-view+json": {
       "model_id": "3c541b91e96647e79a595de6755dce06",
       "version_major": 2,
       "version_minor": 0
      },
      "text/plain": [
       "[1/2229]   0%|           [00:00<?]"
      ]
     },
     "metadata": {},
     "output_type": "display_data"
    },
    {
     "name": "stdout",
     "output_type": "stream",
     "text": [
      "\n",
      "Epoch 253 Results => Loss: 1.4068 | Loss_Reg: 0.0283 | Loss_Cls: 0.6892 | Acc: 0.6814 | LR: 0.001000 | Avg confidence: 0.6860 | F1: 0.5427 | Precision: 0.6095 | Recall: 0.5116Time: 250710_21:02:24\n",
      "Validation => Acc: 0.6523 | F1: 0.4807\n"
     ]
    },
    {
     "data": {
      "application/vnd.jupyter.widget-view+json": {
       "model_id": "9f32540f07c04589874b991e0c60a525",
       "version_major": 2,
       "version_minor": 0
      },
      "text/plain": [
       "[1/2229]   0%|           [00:00<?]"
      ]
     },
     "metadata": {},
     "output_type": "display_data"
    },
    {
     "name": "stdout",
     "output_type": "stream",
     "text": [
      "\n",
      "Epoch 254 Results => Loss: 1.4064 | Loss_Reg: 0.0283 | Loss_Cls: 0.6891 | Acc: 0.6816 | LR: 0.001000 | Avg confidence: 0.6862 | F1: 0.5423 | Precision: 0.6083 | Recall: 0.5114Time: 250710_21:02:51\n",
      "Validation => Acc: 0.6302 | F1: 0.4559\n"
     ]
    },
    {
     "data": {
      "application/vnd.jupyter.widget-view+json": {
       "model_id": "b255e971b52a4339a70a74ea914d35eb",
       "version_major": 2,
       "version_minor": 0
      },
      "text/plain": [
       "[1/2229]   0%|           [00:00<?]"
      ]
     },
     "metadata": {},
     "output_type": "display_data"
    },
    {
     "name": "stdout",
     "output_type": "stream",
     "text": [
      "\n",
      "Epoch 255 Results => Loss: 1.4067 | Loss_Reg: 0.0283 | Loss_Cls: 0.6892 | Acc: 0.6815 | LR: 0.001000 | Avg confidence: 0.6862 | F1: 0.5423 | Precision: 0.6086 | Recall: 0.5113Time: 250710_21:03:18\n",
      "Validation => Acc: 0.6419 | F1: 0.4547\n"
     ]
    },
    {
     "data": {
      "application/vnd.jupyter.widget-view+json": {
       "model_id": "7a8a021ff12b4dfca2dec38239ec264f",
       "version_major": 2,
       "version_minor": 0
      },
      "text/plain": [
       "[1/2229]   0%|           [00:00<?]"
      ]
     },
     "metadata": {},
     "output_type": "display_data"
    },
    {
     "name": "stdout",
     "output_type": "stream",
     "text": [
      "\n",
      "Epoch 256 Results => Loss: 1.4055 | Loss_Reg: 0.0283 | Loss_Cls: 0.6886 | Acc: 0.6818 | LR: 0.001000 | Avg confidence: 0.6864 | F1: 0.5430 | Precision: 0.6097 | Recall: 0.5120Time: 250710_21:03:44\n",
      "Validation => Acc: 0.6667 | F1: 0.5280\n"
     ]
    },
    {
     "data": {
      "application/vnd.jupyter.widget-view+json": {
       "model_id": "4b8d84b16c9443c9859305673d726133",
       "version_major": 2,
       "version_minor": 0
      },
      "text/plain": [
       "[1/2229]   0%|           [00:00<?]"
      ]
     },
     "metadata": {},
     "output_type": "display_data"
    },
    {
     "name": "stdout",
     "output_type": "stream",
     "text": [
      "\n",
      "Epoch 257 Results => Loss: 1.4058 | Loss_Reg: 0.0283 | Loss_Cls: 0.6888 | Acc: 0.6816 | LR: 0.001000 | Avg confidence: 0.6864 | F1: 0.5426 | Precision: 0.6088 | Recall: 0.5116Time: 250710_21:04:11\n",
      "Validation => Acc: 0.6159 | F1: 0.4382\n"
     ]
    },
    {
     "data": {
      "application/vnd.jupyter.widget-view+json": {
       "model_id": "c594881808304dc3867ac039ae8e35f0",
       "version_major": 2,
       "version_minor": 0
      },
      "text/plain": [
       "[1/2229]   0%|           [00:00<?]"
      ]
     },
     "metadata": {},
     "output_type": "display_data"
    },
    {
     "name": "stdout",
     "output_type": "stream",
     "text": [
      "\n",
      "Epoch 258 Results => Loss: 1.4048 | Loss_Reg: 0.0283 | Loss_Cls: 0.6882 | Acc: 0.6819 | LR: 0.001000 | Avg confidence: 0.6866 | F1: 0.5437 | Precision: 0.6098 | Recall: 0.5125Time: 250710_21:04:38\n",
      "Validation => Acc: 0.6771 | F1: 0.4814\n"
     ]
    },
    {
     "data": {
      "application/vnd.jupyter.widget-view+json": {
       "model_id": "5aa7ec5498a84f96a15a40f6c6d2d2f8",
       "version_major": 2,
       "version_minor": 0
      },
      "text/plain": [
       "[1/2229]   0%|           [00:00<?]"
      ]
     },
     "metadata": {},
     "output_type": "display_data"
    },
    {
     "name": "stdout",
     "output_type": "stream",
     "text": [
      "\n",
      "Epoch 259 Results => Loss: 1.4049 | Loss_Reg: 0.0283 | Loss_Cls: 0.6883 | Acc: 0.6821 | LR: 0.001000 | Avg confidence: 0.6866 | F1: 0.5431 | Precision: 0.6092 | Recall: 0.5122Time: 250710_21:05:04\n",
      "Validation => Acc: 0.6276 | F1: 0.5116\n"
     ]
    },
    {
     "data": {
      "application/vnd.jupyter.widget-view+json": {
       "model_id": "d0ed68a454c6466d9b068565ba1e2a1a",
       "version_major": 2,
       "version_minor": 0
      },
      "text/plain": [
       "[1/2229]   0%|           [00:00<?]"
      ]
     },
     "metadata": {},
     "output_type": "display_data"
    },
    {
     "name": "stdout",
     "output_type": "stream",
     "text": [
      "\n",
      "Epoch 260 Results => Loss: 1.4041 | Loss_Reg: 0.0283 | Loss_Cls: 0.6879 | Acc: 0.6822 | LR: 0.001000 | Avg confidence: 0.6867 | F1: 0.5437 | Precision: 0.6103 | Recall: 0.5126Time: 250710_21:05:31\n",
      "Validation => Acc: 0.6276 | F1: 0.4326\n"
     ]
    },
    {
     "data": {
      "application/vnd.jupyter.widget-view+json": {
       "model_id": "f2b357a1bbdc420a920c438f6cf937a7",
       "version_major": 2,
       "version_minor": 0
      },
      "text/plain": [
       "[1/2229]   0%|           [00:00<?]"
      ]
     },
     "metadata": {},
     "output_type": "display_data"
    },
    {
     "name": "stdout",
     "output_type": "stream",
     "text": [
      "\n",
      "Epoch 261 Results => Loss: 1.4036 | Loss_Reg: 0.0283 | Loss_Cls: 0.6877 | Acc: 0.6822 | LR: 0.001000 | Avg confidence: 0.6869 | F1: 0.5435 | Precision: 0.6102 | Recall: 0.5125Time: 250710_21:05:57\n",
      "Validation => Acc: 0.6328 | F1: 0.5277\n"
     ]
    },
    {
     "data": {
      "application/vnd.jupyter.widget-view+json": {
       "model_id": "62d236c6b2d74ce899c26b552e645c10",
       "version_major": 2,
       "version_minor": 0
      },
      "text/plain": [
       "[1/2229]   0%|           [00:00<?]"
      ]
     },
     "metadata": {},
     "output_type": "display_data"
    },
    {
     "name": "stdout",
     "output_type": "stream",
     "text": [
      "\n",
      "Epoch 262 Results => Loss: 1.4039 | Loss_Reg: 0.0283 | Loss_Cls: 0.6878 | Acc: 0.6820 | LR: 0.001000 | Avg confidence: 0.6869 | F1: 0.5433 | Precision: 0.6096 | Recall: 0.5123Time: 250710_21:06:24\n",
      "Validation => Acc: 0.6667 | F1: 0.5475\n"
     ]
    },
    {
     "data": {
      "application/vnd.jupyter.widget-view+json": {
       "model_id": "bc89427093524ff49b134c7967a296fa",
       "version_major": 2,
       "version_minor": 0
      },
      "text/plain": [
       "[1/2229]   0%|           [00:00<?]"
      ]
     },
     "metadata": {},
     "output_type": "display_data"
    },
    {
     "name": "stdout",
     "output_type": "stream",
     "text": [
      "\n",
      "Epoch 263 Results => Loss: 1.4030 | Loss_Reg: 0.0283 | Loss_Cls: 0.6873 | Acc: 0.6823 | LR: 0.001000 | Avg confidence: 0.6870 | F1: 0.5439 | Precision: 0.6095 | Recall: 0.5130Time: 250710_21:06:51\n",
      "Validation => Acc: 0.6445 | F1: 0.4656\n"
     ]
    },
    {
     "data": {
      "application/vnd.jupyter.widget-view+json": {
       "model_id": "0a4a61b942394c3c800dd821f3cc2afa",
       "version_major": 2,
       "version_minor": 0
      },
      "text/plain": [
       "[1/2229]   0%|           [00:00<?]"
      ]
     },
     "metadata": {},
     "output_type": "display_data"
    },
    {
     "name": "stdout",
     "output_type": "stream",
     "text": [
      "\n",
      "Epoch 264 Results => Loss: 1.4031 | Loss_Reg: 0.0283 | Loss_Cls: 0.6874 | Acc: 0.6825 | LR: 0.001000 | Avg confidence: 0.6871 | F1: 0.5441 | Precision: 0.6103 | Recall: 0.5130Time: 250710_21:07:17\n",
      "Validation => Acc: 0.6484 | F1: 0.4862\n"
     ]
    },
    {
     "data": {
      "application/vnd.jupyter.widget-view+json": {
       "model_id": "7db0c74eb7254a56ac792aed0ed7353b",
       "version_major": 2,
       "version_minor": 0
      },
      "text/plain": [
       "[1/2229]   0%|           [00:00<?]"
      ]
     },
     "metadata": {},
     "output_type": "display_data"
    },
    {
     "name": "stdout",
     "output_type": "stream",
     "text": [
      "\n",
      "Epoch 265 Results => Loss: 1.4023 | Loss_Reg: 0.0283 | Loss_Cls: 0.6870 | Acc: 0.6826 | LR: 0.001000 | Avg confidence: 0.6872 | F1: 0.5438 | Precision: 0.6103 | Recall: 0.5128Time: 250710_21:07:44\n",
      "Validation => Acc: 0.6406 | F1: 0.4890\n"
     ]
    },
    {
     "data": {
      "application/vnd.jupyter.widget-view+json": {
       "model_id": "1094b3180a7b494f9326901ae5f61aa0",
       "version_major": 2,
       "version_minor": 0
      },
      "text/plain": [
       "[1/2229]   0%|           [00:00<?]"
      ]
     },
     "metadata": {},
     "output_type": "display_data"
    },
    {
     "name": "stdout",
     "output_type": "stream",
     "text": [
      "\n",
      "Epoch 266 Results => Loss: 1.4017 | Loss_Reg: 0.0283 | Loss_Cls: 0.6867 | Acc: 0.6826 | LR: 0.001000 | Avg confidence: 0.6873 | F1: 0.5443 | Precision: 0.6112 | Recall: 0.5132Time: 250710_21:08:10\n",
      "Validation => Acc: 0.6523 | F1: 0.4771\n"
     ]
    },
    {
     "data": {
      "application/vnd.jupyter.widget-view+json": {
       "model_id": "6199e61fef384cd89d032ad8aa404acd",
       "version_major": 2,
       "version_minor": 0
      },
      "text/plain": [
       "[1/2229]   0%|           [00:00<?]"
      ]
     },
     "metadata": {},
     "output_type": "display_data"
    },
    {
     "name": "stdout",
     "output_type": "stream",
     "text": [
      "\n",
      "Epoch 267 Results => Loss: 1.4018 | Loss_Reg: 0.0283 | Loss_Cls: 0.6868 | Acc: 0.6828 | LR: 0.001000 | Avg confidence: 0.6873 | F1: 0.5449 | Precision: 0.6109 | Recall: 0.5138Time: 250710_21:08:37\n",
      "Validation => Acc: 0.6198 | F1: 0.4631\n"
     ]
    },
    {
     "data": {
      "application/vnd.jupyter.widget-view+json": {
       "model_id": "b0a50d9b43be4ad291ce44bbf613274f",
       "version_major": 2,
       "version_minor": 0
      },
      "text/plain": [
       "[1/2229]   0%|           [00:00<?]"
      ]
     },
     "metadata": {},
     "output_type": "display_data"
    },
    {
     "name": "stdout",
     "output_type": "stream",
     "text": [
      "\n",
      "Epoch 268 Results => Loss: 1.4015 | Loss_Reg: 0.0283 | Loss_Cls: 0.6866 | Acc: 0.6828 | LR: 0.001000 | Avg confidence: 0.6874 | F1: 0.5441 | Precision: 0.6101 | Recall: 0.5132Time: 250710_21:09:04\n",
      "Validation => Acc: 0.6628 | F1: 0.4797\n"
     ]
    },
    {
     "data": {
      "application/vnd.jupyter.widget-view+json": {
       "model_id": "d951fd49734e49f394435cb553dc734c",
       "version_major": 2,
       "version_minor": 0
      },
      "text/plain": [
       "[1/2229]   0%|           [00:00<?]"
      ]
     },
     "metadata": {},
     "output_type": "display_data"
    },
    {
     "name": "stdout",
     "output_type": "stream",
     "text": [
      "\n",
      "Epoch 269 Results => Loss: 1.4011 | Loss_Reg: 0.0283 | Loss_Cls: 0.6864 | Acc: 0.6829 | LR: 0.001000 | Avg confidence: 0.6875 | F1: 0.5448 | Precision: 0.6107 | Recall: 0.5138Time: 250710_21:09:30\n",
      "Validation => Acc: 0.6667 | F1: 0.5190\n"
     ]
    },
    {
     "data": {
      "application/vnd.jupyter.widget-view+json": {
       "model_id": "386248c2a7464731ba73ef062ab5ea8a",
       "version_major": 2,
       "version_minor": 0
      },
      "text/plain": [
       "[1/2229]   0%|           [00:00<?]"
      ]
     },
     "metadata": {},
     "output_type": "display_data"
    },
    {
     "name": "stdout",
     "output_type": "stream",
     "text": [
      "\n",
      "Epoch 270 Results => Loss: 1.4006 | Loss_Reg: 0.0283 | Loss_Cls: 0.6861 | Acc: 0.6831 | LR: 0.001000 | Avg confidence: 0.6876 | F1: 0.5448 | Precision: 0.6110 | Recall: 0.5137Time: 250710_21:09:57\n",
      "Validation => Acc: 0.6680 | F1: 0.5280\n"
     ]
    },
    {
     "data": {
      "application/vnd.jupyter.widget-view+json": {
       "model_id": "b3d362a4a6414868816d015281727632",
       "version_major": 2,
       "version_minor": 0
      },
      "text/plain": [
       "[1/2229]   0%|           [00:00<?]"
      ]
     },
     "metadata": {},
     "output_type": "display_data"
    },
    {
     "name": "stdout",
     "output_type": "stream",
     "text": [
      "\n",
      "Epoch 271 Results => Loss: 1.4004 | Loss_Reg: 0.0283 | Loss_Cls: 0.6861 | Acc: 0.6830 | LR: 0.001000 | Avg confidence: 0.6877 | F1: 0.5451 | Precision: 0.6122 | Recall: 0.5138Time: 250710_21:10:23\n",
      "Validation => Acc: 0.6263 | F1: 0.4238\n"
     ]
    },
    {
     "data": {
      "application/vnd.jupyter.widget-view+json": {
       "model_id": "21fca373bdca449ca332aaca32751026",
       "version_major": 2,
       "version_minor": 0
      },
      "text/plain": [
       "[1/2229]   0%|           [00:00<?]"
      ]
     },
     "metadata": {},
     "output_type": "display_data"
    },
    {
     "name": "stdout",
     "output_type": "stream",
     "text": [
      "\n",
      "Epoch 272 Results => Loss: 1.4001 | Loss_Reg: 0.0283 | Loss_Cls: 0.6859 | Acc: 0.6831 | LR: 0.001000 | Avg confidence: 0.6878 | F1: 0.5451 | Precision: 0.6109 | Recall: 0.5141Time: 250710_21:10:50\n",
      "Validation => Acc: 0.6302 | F1: 0.5103\n"
     ]
    },
    {
     "data": {
      "application/vnd.jupyter.widget-view+json": {
       "model_id": "fabacee6474b4a619baf136d6fca42c4",
       "version_major": 2,
       "version_minor": 0
      },
      "text/plain": [
       "[1/2229]   0%|           [00:00<?]"
      ]
     },
     "metadata": {},
     "output_type": "display_data"
    },
    {
     "name": "stdout",
     "output_type": "stream",
     "text": [
      "\n",
      "Epoch 273 Results => Loss: 1.3997 | Loss_Reg: 0.0283 | Loss_Cls: 0.6857 | Acc: 0.6831 | LR: 0.001000 | Avg confidence: 0.6879 | F1: 0.5451 | Precision: 0.6113 | Recall: 0.5140Time: 250710_21:11:17\n",
      "Validation => Acc: 0.6615 | F1: 0.5036\n"
     ]
    },
    {
     "data": {
      "application/vnd.jupyter.widget-view+json": {
       "model_id": "d5a37565d85e4cc8ba6216fa45cc79ce",
       "version_major": 2,
       "version_minor": 0
      },
      "text/plain": [
       "[1/2229]   0%|           [00:00<?]"
      ]
     },
     "metadata": {},
     "output_type": "display_data"
    },
    {
     "name": "stdout",
     "output_type": "stream",
     "text": [
      "\n",
      "Epoch 274 Results => Loss: 1.3994 | Loss_Reg: 0.0283 | Loss_Cls: 0.6856 | Acc: 0.6831 | LR: 0.001000 | Avg confidence: 0.6880 | F1: 0.5451 | Precision: 0.6110 | Recall: 0.5141Time: 250710_21:11:43\n",
      "Validation => Acc: 0.6576 | F1: 0.6012\n"
     ]
    },
    {
     "data": {
      "application/vnd.jupyter.widget-view+json": {
       "model_id": "967217bf6cbe4b9e9dd245b01c245a6b",
       "version_major": 2,
       "version_minor": 0
      },
      "text/plain": [
       "[1/2229]   0%|           [00:00<?]"
      ]
     },
     "metadata": {},
     "output_type": "display_data"
    },
    {
     "name": "stdout",
     "output_type": "stream",
     "text": [
      "\n",
      "Epoch 275 Results => Loss: 1.3990 | Loss_Reg: 0.0283 | Loss_Cls: 0.6853 | Acc: 0.6834 | LR: 0.001000 | Avg confidence: 0.6881 | F1: 0.5453 | Precision: 0.6117 | Recall: 0.5142Time: 250710_21:12:10\n",
      "Validation => Acc: 0.6354 | F1: 0.5313\n"
     ]
    },
    {
     "data": {
      "application/vnd.jupyter.widget-view+json": {
       "model_id": "8cb9807e20f0432cae43a8f04560cb1f",
       "version_major": 2,
       "version_minor": 0
      },
      "text/plain": [
       "[1/2229]   0%|           [00:00<?]"
      ]
     },
     "metadata": {},
     "output_type": "display_data"
    },
    {
     "name": "stdout",
     "output_type": "stream",
     "text": [
      "\n",
      "Epoch 276 Results => Loss: 1.3985 | Loss_Reg: 0.0283 | Loss_Cls: 0.6851 | Acc: 0.6836 | LR: 0.001000 | Avg confidence: 0.6882 | F1: 0.5461 | Precision: 0.6125 | Recall: 0.5149Time: 250710_21:12:37\n",
      "Validation => Acc: 0.6224 | F1: 0.4891\n"
     ]
    },
    {
     "data": {
      "application/vnd.jupyter.widget-view+json": {
       "model_id": "e05bf300beb545e394a33640a1052f41",
       "version_major": 2,
       "version_minor": 0
      },
      "text/plain": [
       "[1/2229]   0%|           [00:00<?]"
      ]
     },
     "metadata": {},
     "output_type": "display_data"
    },
    {
     "name": "stdout",
     "output_type": "stream",
     "text": [
      "\n",
      "Epoch 277 Results => Loss: 1.3983 | Loss_Reg: 0.0283 | Loss_Cls: 0.6850 | Acc: 0.6837 | LR: 0.001000 | Avg confidence: 0.6883 | F1: 0.5459 | Precision: 0.6120 | Recall: 0.5147Time: 250710_21:13:03\n",
      "Validation => Acc: 0.6536 | F1: 0.5557\n"
     ]
    },
    {
     "data": {
      "application/vnd.jupyter.widget-view+json": {
       "model_id": "f9f12e7f98b2481ba94e9699c5f5909d",
       "version_major": 2,
       "version_minor": 0
      },
      "text/plain": [
       "[1/2229]   0%|           [00:00<?]"
      ]
     },
     "metadata": {},
     "output_type": "display_data"
    },
    {
     "name": "stdout",
     "output_type": "stream",
     "text": [
      "\n",
      "Epoch 278 Results => Loss: 1.3979 | Loss_Reg: 0.0283 | Loss_Cls: 0.6848 | Acc: 0.6837 | LR: 0.001000 | Avg confidence: 0.6883 | F1: 0.5463 | Precision: 0.6126 | Recall: 0.5150Time: 250710_21:13:30\n",
      "Validation => Acc: 0.6380 | F1: 0.5392\n"
     ]
    },
    {
     "data": {
      "application/vnd.jupyter.widget-view+json": {
       "model_id": "80420c52f1e74f94a3d1bbd6b0053676",
       "version_major": 2,
       "version_minor": 0
      },
      "text/plain": [
       "[1/2229]   0%|           [00:00<?]"
      ]
     },
     "metadata": {},
     "output_type": "display_data"
    },
    {
     "name": "stdout",
     "output_type": "stream",
     "text": [
      "\n",
      "Epoch 279 Results => Loss: 1.3976 | Loss_Reg: 0.0283 | Loss_Cls: 0.6846 | Acc: 0.6839 | LR: 0.001000 | Avg confidence: 0.6884 | F1: 0.5461 | Precision: 0.6119 | Recall: 0.5150Time: 250710_21:13:57\n",
      "Validation => Acc: 0.6693 | F1: 0.4822\n"
     ]
    },
    {
     "data": {
      "application/vnd.jupyter.widget-view+json": {
       "model_id": "93ef217647664b1dac1fe6fab3513262",
       "version_major": 2,
       "version_minor": 0
      },
      "text/plain": [
       "[1/2229]   0%|           [00:00<?]"
      ]
     },
     "metadata": {},
     "output_type": "display_data"
    },
    {
     "name": "stdout",
     "output_type": "stream",
     "text": [
      "\n",
      "Epoch 280 Results => Loss: 1.3976 | Loss_Reg: 0.0283 | Loss_Cls: 0.6846 | Acc: 0.6838 | LR: 0.001000 | Avg confidence: 0.6884 | F1: 0.5462 | Precision: 0.6122 | Recall: 0.5150Time: 250710_21:14:23\n",
      "Validation => Acc: 0.6263 | F1: 0.4367\n"
     ]
    },
    {
     "data": {
      "application/vnd.jupyter.widget-view+json": {
       "model_id": "0396c272302c41c89939d9a7e0ea41a5",
       "version_major": 2,
       "version_minor": 0
      },
      "text/plain": [
       "[1/2229]   0%|           [00:00<?]"
      ]
     },
     "metadata": {},
     "output_type": "display_data"
    },
    {
     "name": "stdout",
     "output_type": "stream",
     "text": [
      "\n",
      "Epoch 281 Results => Loss: 1.3972 | Loss_Reg: 0.0283 | Loss_Cls: 0.6844 | Acc: 0.6838 | LR: 0.001000 | Avg confidence: 0.6885 | F1: 0.5459 | Precision: 0.6123 | Recall: 0.5148Time: 250710_21:14:50\n",
      "Validation => Acc: 0.6654 | F1: 0.4671\n"
     ]
    },
    {
     "data": {
      "application/vnd.jupyter.widget-view+json": {
       "model_id": "911a9ec721a745bd965d71c7cb10d158",
       "version_major": 2,
       "version_minor": 0
      },
      "text/plain": [
       "[1/2229]   0%|           [00:00<?]"
      ]
     },
     "metadata": {},
     "output_type": "display_data"
    },
    {
     "name": "stdout",
     "output_type": "stream",
     "text": [
      "\n",
      "Epoch 282 Results => Loss: 1.3970 | Loss_Reg: 0.0283 | Loss_Cls: 0.6843 | Acc: 0.6838 | LR: 0.001000 | Avg confidence: 0.6886 | F1: 0.5461 | Precision: 0.6121 | Recall: 0.5150Time: 250710_21:15:17\n",
      "Validation => Acc: 0.6458 | F1: 0.4914\n"
     ]
    },
    {
     "data": {
      "application/vnd.jupyter.widget-view+json": {
       "model_id": "466e54d0813346e2826567c7b7fb8a93",
       "version_major": 2,
       "version_minor": 0
      },
      "text/plain": [
       "[1/2229]   0%|           [00:00<?]"
      ]
     },
     "metadata": {},
     "output_type": "display_data"
    },
    {
     "name": "stdout",
     "output_type": "stream",
     "text": [
      "\n",
      "Epoch 283 Results => Loss: 1.3962 | Loss_Reg: 0.0283 | Loss_Cls: 0.6839 | Acc: 0.6842 | LR: 0.001000 | Avg confidence: 0.6888 | F1: 0.5470 | Precision: 0.6133 | Recall: 0.5157Time: 250710_21:15:43\n",
      "Validation => Acc: 0.6367 | F1: 0.4458\n"
     ]
    },
    {
     "data": {
      "application/vnd.jupyter.widget-view+json": {
       "model_id": "223fc830339b414d9c6ba027d3378170",
       "version_major": 2,
       "version_minor": 0
      },
      "text/plain": [
       "[1/2229]   0%|           [00:00<?]"
      ]
     },
     "metadata": {},
     "output_type": "display_data"
    },
    {
     "name": "stdout",
     "output_type": "stream",
     "text": [
      "\n",
      "Epoch 284 Results => Loss: 1.3963 | Loss_Reg: 0.0283 | Loss_Cls: 0.6840 | Acc: 0.6842 | LR: 0.001000 | Avg confidence: 0.6888 | F1: 0.5471 | Precision: 0.6134 | Recall: 0.5158Time: 250710_21:16:10\n",
      "Validation => Acc: 0.6719 | F1: 0.4591\n"
     ]
    },
    {
     "data": {
      "application/vnd.jupyter.widget-view+json": {
       "model_id": "470119482ef4429eaa9b9465ec7e5c5d",
       "version_major": 2,
       "version_minor": 0
      },
      "text/plain": [
       "[1/2229]   0%|           [00:00<?]"
      ]
     },
     "metadata": {},
     "output_type": "display_data"
    },
    {
     "name": "stdout",
     "output_type": "stream",
     "text": [
      "\n",
      "Epoch 285 Results => Loss: 1.3959 | Loss_Reg: 0.0283 | Loss_Cls: 0.6838 | Acc: 0.6842 | LR: 0.001000 | Avg confidence: 0.6889 | F1: 0.5470 | Precision: 0.6124 | Recall: 0.5159Time: 250710_21:16:36\n",
      "Validation => Acc: 0.6224 | F1: 0.4252\n"
     ]
    },
    {
     "data": {
      "application/vnd.jupyter.widget-view+json": {
       "model_id": "a4a91a6214e44aca92e1282ca891ecae",
       "version_major": 2,
       "version_minor": 0
      },
      "text/plain": [
       "[1/2229]   0%|           [00:00<?]"
      ]
     },
     "metadata": {},
     "output_type": "display_data"
    },
    {
     "name": "stdout",
     "output_type": "stream",
     "text": [
      "\n",
      "Epoch 286 Results => Loss: 1.3953 | Loss_Reg: 0.0283 | Loss_Cls: 0.6835 | Acc: 0.6842 | LR: 0.001000 | Avg confidence: 0.6890 | F1: 0.5467 | Precision: 0.6132 | Recall: 0.5155Time: 250710_21:17:03\n",
      "Validation => Acc: 0.6576 | F1: 0.4542\n"
     ]
    },
    {
     "data": {
      "application/vnd.jupyter.widget-view+json": {
       "model_id": "f1e52939aedb4925bf3df77cb94b42a8",
       "version_major": 2,
       "version_minor": 0
      },
      "text/plain": [
       "[1/2229]   0%|           [00:00<?]"
      ]
     },
     "metadata": {},
     "output_type": "display_data"
    },
    {
     "name": "stdout",
     "output_type": "stream",
     "text": [
      "\n",
      "Epoch 287 Results => Loss: 1.3952 | Loss_Reg: 0.0283 | Loss_Cls: 0.6835 | Acc: 0.6844 | LR: 0.001000 | Avg confidence: 0.6890 | F1: 0.5465 | Precision: 0.6125 | Recall: 0.5154Time: 250710_21:17:29\n",
      "Validation => Acc: 0.6693 | F1: 0.5134\n"
     ]
    },
    {
     "data": {
      "application/vnd.jupyter.widget-view+json": {
       "model_id": "af97ffcfd6544995be085ae0dbcc3d99",
       "version_major": 2,
       "version_minor": 0
      },
      "text/plain": [
       "[1/2229]   0%|           [00:00<?]"
      ]
     },
     "metadata": {},
     "output_type": "display_data"
    },
    {
     "name": "stdout",
     "output_type": "stream",
     "text": [
      "\n",
      "Epoch 288 Results => Loss: 1.3950 | Loss_Reg: 0.0283 | Loss_Cls: 0.6833 | Acc: 0.6845 | LR: 0.001000 | Avg confidence: 0.6890 | F1: 0.5469 | Precision: 0.6123 | Recall: 0.5159Time: 250710_21:17:56\n",
      "Validation => Acc: 0.6510 | F1: 0.5307\n"
     ]
    },
    {
     "data": {
      "application/vnd.jupyter.widget-view+json": {
       "model_id": "267aa524fd824c86a008e7e2adaa7366",
       "version_major": 2,
       "version_minor": 0
      },
      "text/plain": [
       "[1/2229]   0%|           [00:00<?]"
      ]
     },
     "metadata": {},
     "output_type": "display_data"
    },
    {
     "name": "stdout",
     "output_type": "stream",
     "text": [
      "\n",
      "Epoch 289 Results => Loss: 1.3942 | Loss_Reg: 0.0283 | Loss_Cls: 0.6829 | Acc: 0.6846 | LR: 0.001000 | Avg confidence: 0.6892 | F1: 0.5470 | Precision: 0.6131 | Recall: 0.5158Time: 250710_21:18:23\n",
      "Validation => Acc: 0.6393 | F1: 0.4653\n"
     ]
    },
    {
     "data": {
      "application/vnd.jupyter.widget-view+json": {
       "model_id": "8ea9e601551542c4a6f6225ca4373f0b",
       "version_major": 2,
       "version_minor": 0
      },
      "text/plain": [
       "[1/2229]   0%|           [00:00<?]"
      ]
     },
     "metadata": {},
     "output_type": "display_data"
    },
    {
     "name": "stdout",
     "output_type": "stream",
     "text": [
      "\n",
      "Epoch 290 Results => Loss: 1.3946 | Loss_Reg: 0.0283 | Loss_Cls: 0.6831 | Acc: 0.6846 | LR: 0.001000 | Avg confidence: 0.6893 | F1: 0.5478 | Precision: 0.6140 | Recall: 0.5165Time: 250710_21:18:50\n",
      "Validation => Acc: 0.6497 | F1: 0.4564\n"
     ]
    },
    {
     "data": {
      "application/vnd.jupyter.widget-view+json": {
       "model_id": "4c554c8a05f64098938e7183229a6cdb",
       "version_major": 2,
       "version_minor": 0
      },
      "text/plain": [
       "[1/2229]   0%|           [00:00<?]"
      ]
     },
     "metadata": {},
     "output_type": "display_data"
    },
    {
     "name": "stdout",
     "output_type": "stream",
     "text": [
      "\n",
      "Epoch 291 Results => Loss: 1.3939 | Loss_Reg: 0.0283 | Loss_Cls: 0.6828 | Acc: 0.6846 | LR: 0.001000 | Avg confidence: 0.6894 | F1: 0.5474 | Precision: 0.6132 | Recall: 0.5162Time: 250710_21:19:16\n",
      "Validation => Acc: 0.6380 | F1: 0.4516\n"
     ]
    },
    {
     "data": {
      "application/vnd.jupyter.widget-view+json": {
       "model_id": "2afbd2992526495792011571b8796d1b",
       "version_major": 2,
       "version_minor": 0
      },
      "text/plain": [
       "[1/2229]   0%|           [00:00<?]"
      ]
     },
     "metadata": {},
     "output_type": "display_data"
    },
    {
     "name": "stdout",
     "output_type": "stream",
     "text": [
      "\n",
      "Epoch 292 Results => Loss: 1.3938 | Loss_Reg: 0.0283 | Loss_Cls: 0.6827 | Acc: 0.6847 | LR: 0.001000 | Avg confidence: 0.6894 | F1: 0.5475 | Precision: 0.6134 | Recall: 0.5164Time: 250710_21:19:43\n",
      "Validation => Acc: 0.6315 | F1: 0.4577\n"
     ]
    },
    {
     "data": {
      "application/vnd.jupyter.widget-view+json": {
       "model_id": "46de7fef2acc459e96bc7f54fbc37dd9",
       "version_major": 2,
       "version_minor": 0
      },
      "text/plain": [
       "[1/2229]   0%|           [00:00<?]"
      ]
     },
     "metadata": {},
     "output_type": "display_data"
    },
    {
     "name": "stdout",
     "output_type": "stream",
     "text": [
      "\n",
      "Epoch 293 Results => Loss: 1.3933 | Loss_Reg: 0.0283 | Loss_Cls: 0.6825 | Acc: 0.6848 | LR: 0.001000 | Avg confidence: 0.6895 | F1: 0.5478 | Precision: 0.6136 | Recall: 0.5166Time: 250710_21:20:09\n",
      "Validation => Acc: 0.6328 | F1: 0.4490\n"
     ]
    },
    {
     "data": {
      "application/vnd.jupyter.widget-view+json": {
       "model_id": "48a14004648440c5834b5d9a82937e6a",
       "version_major": 2,
       "version_minor": 0
      },
      "text/plain": [
       "[1/2229]   0%|           [00:00<?]"
      ]
     },
     "metadata": {},
     "output_type": "display_data"
    },
    {
     "name": "stdout",
     "output_type": "stream",
     "text": [
      "\n",
      "Epoch 294 Results => Loss: 1.3934 | Loss_Reg: 0.0283 | Loss_Cls: 0.6825 | Acc: 0.6848 | LR: 0.001000 | Avg confidence: 0.6895 | F1: 0.5476 | Precision: 0.6131 | Recall: 0.5164Time: 250710_21:20:36\n",
      "Validation => Acc: 0.6602 | F1: 0.4492\n"
     ]
    },
    {
     "data": {
      "application/vnd.jupyter.widget-view+json": {
       "model_id": "553906c808b341199a22b86350c1eb91",
       "version_major": 2,
       "version_minor": 0
      },
      "text/plain": [
       "[1/2229]   0%|           [00:00<?]"
      ]
     },
     "metadata": {},
     "output_type": "display_data"
    },
    {
     "name": "stdout",
     "output_type": "stream",
     "text": [
      "\n",
      "Epoch 295 Results => Loss: 1.3926 | Loss_Reg: 0.0283 | Loss_Cls: 0.6821 | Acc: 0.6852 | LR: 0.001000 | Avg confidence: 0.6897 | F1: 0.5481 | Precision: 0.6145 | Recall: 0.5168Time: 250710_21:21:03\n",
      "Validation => Acc: 0.6745 | F1: 0.4770\n"
     ]
    },
    {
     "data": {
      "application/vnd.jupyter.widget-view+json": {
       "model_id": "3e0d46c0bea244dd806985fd4095672e",
       "version_major": 2,
       "version_minor": 0
      },
      "text/plain": [
       "[1/2229]   0%|           [00:00<?]"
      ]
     },
     "metadata": {},
     "output_type": "display_data"
    },
    {
     "name": "stdout",
     "output_type": "stream",
     "text": [
      "\n",
      "Epoch 296 Results => Loss: 1.3925 | Loss_Reg: 0.0283 | Loss_Cls: 0.6821 | Acc: 0.6851 | LR: 0.001000 | Avg confidence: 0.6897 | F1: 0.5484 | Precision: 0.6140 | Recall: 0.5172Time: 250710_21:21:30\n",
      "Validation => Acc: 0.6693 | F1: 0.4750\n"
     ]
    },
    {
     "data": {
      "application/vnd.jupyter.widget-view+json": {
       "model_id": "cee86c061cbb4d30a19f5e5b693fe6ab",
       "version_major": 2,
       "version_minor": 0
      },
      "text/plain": [
       "[1/2229]   0%|           [00:00<?]"
      ]
     },
     "metadata": {},
     "output_type": "display_data"
    },
    {
     "name": "stdout",
     "output_type": "stream",
     "text": [
      "\n",
      "Epoch 297 Results => Loss: 1.3918 | Loss_Reg: 0.0283 | Loss_Cls: 0.6818 | Acc: 0.6851 | LR: 0.001000 | Avg confidence: 0.6898 | F1: 0.5485 | Precision: 0.6146 | Recall: 0.5173Time: 250710_21:21:56\n",
      "Validation => Acc: 0.6393 | F1: 0.5078\n"
     ]
    },
    {
     "data": {
      "application/vnd.jupyter.widget-view+json": {
       "model_id": "67bcce164cc94c3b81b48fe25e88fe30",
       "version_major": 2,
       "version_minor": 0
      },
      "text/plain": [
       "[1/2229]   0%|           [00:00<?]"
      ]
     },
     "metadata": {},
     "output_type": "display_data"
    },
    {
     "name": "stdout",
     "output_type": "stream",
     "text": [
      "\n",
      "Epoch 298 Results => Loss: 1.3920 | Loss_Reg: 0.0283 | Loss_Cls: 0.6818 | Acc: 0.6852 | LR: 0.001000 | Avg confidence: 0.6899 | F1: 0.5486 | Precision: 0.6146 | Recall: 0.5174Time: 250710_21:22:23\n",
      "Validation => Acc: 0.6589 | F1: 0.4623\n"
     ]
    },
    {
     "data": {
      "application/vnd.jupyter.widget-view+json": {
       "model_id": "684a01a3af8d4d6cbd80146db66ad8bb",
       "version_major": 2,
       "version_minor": 0
      },
      "text/plain": [
       "[1/2229]   0%|           [00:00<?]"
      ]
     },
     "metadata": {},
     "output_type": "display_data"
    },
    {
     "name": "stdout",
     "output_type": "stream",
     "text": [
      "\n",
      "Epoch 299 Results => Loss: 1.3915 | Loss_Reg: 0.0283 | Loss_Cls: 0.6816 | Acc: 0.6852 | LR: 0.001000 | Avg confidence: 0.6900 | F1: 0.5484 | Precision: 0.6141 | Recall: 0.5172Time: 250710_21:22:50\n",
      "Validation => Acc: 0.6562 | F1: 0.4953\n"
     ]
    },
    {
     "data": {
      "application/vnd.jupyter.widget-view+json": {
       "model_id": "7748b1a50e5a49369641e60afc9111a9",
       "version_major": 2,
       "version_minor": 0
      },
      "text/plain": [
       "[1/2229]   0%|           [00:00<?]"
      ]
     },
     "metadata": {},
     "output_type": "display_data"
    },
    {
     "name": "stdout",
     "output_type": "stream",
     "text": [
      "\n",
      "Epoch 300 Results => Loss: 1.3912 | Loss_Reg: 0.0283 | Loss_Cls: 0.6814 | Acc: 0.6854 | LR: 0.001000 | Avg confidence: 0.6901 | F1: 0.5487 | Precision: 0.6146 | Recall: 0.5175Time: 250710_21:23:16\n",
      "Validation => Acc: 0.6458 | F1: 0.5197\n"
     ]
    },
    {
     "data": {
      "application/vnd.jupyter.widget-view+json": {
       "model_id": "b9440c0d2de7456a966918beb24b0361",
       "version_major": 2,
       "version_minor": 0
      },
      "text/plain": [
       "[1/2229]   0%|           [00:00<?]"
      ]
     },
     "metadata": {},
     "output_type": "display_data"
    },
    {
     "name": "stdout",
     "output_type": "stream",
     "text": [
      "\n",
      "Epoch 301 Results => Loss: 1.3910 | Loss_Reg: 0.0283 | Loss_Cls: 0.6813 | Acc: 0.6854 | LR: 0.001000 | Avg confidence: 0.6902 | F1: 0.5489 | Precision: 0.6151 | Recall: 0.5176Time: 250710_21:23:43\n",
      "Validation => Acc: 0.6393 | F1: 0.4650\n"
     ]
    },
    {
     "data": {
      "application/vnd.jupyter.widget-view+json": {
       "model_id": "dbd442e7a9424ba491244fcb2b2f51b3",
       "version_major": 2,
       "version_minor": 0
      },
      "text/plain": [
       "[1/2229]   0%|           [00:00<?]"
      ]
     },
     "metadata": {},
     "output_type": "display_data"
    },
    {
     "name": "stdout",
     "output_type": "stream",
     "text": [
      "\n",
      "Epoch 302 Results => Loss: 1.3910 | Loss_Reg: 0.0283 | Loss_Cls: 0.6813 | Acc: 0.6854 | LR: 0.001000 | Avg confidence: 0.6901 | F1: 0.5490 | Precision: 0.6145 | Recall: 0.5177Time: 250710_21:24:09\n",
      "Validation => Acc: 0.6471 | F1: 0.4752\n"
     ]
    },
    {
     "data": {
      "application/vnd.jupyter.widget-view+json": {
       "model_id": "ce65251f73824b12b778dd48e686019e",
       "version_major": 2,
       "version_minor": 0
      },
      "text/plain": [
       "[1/2229]   0%|           [00:00<?]"
      ]
     },
     "metadata": {},
     "output_type": "display_data"
    },
    {
     "name": "stdout",
     "output_type": "stream",
     "text": [
      "\n",
      "Epoch 303 Results => Loss: 1.3904 | Loss_Reg: 0.0283 | Loss_Cls: 0.6810 | Acc: 0.6856 | LR: 0.001000 | Avg confidence: 0.6903 | F1: 0.5489 | Precision: 0.6156 | Recall: 0.5175Time: 250710_21:24:36\n",
      "Validation => Acc: 0.6484 | F1: 0.4616\n"
     ]
    },
    {
     "data": {
      "application/vnd.jupyter.widget-view+json": {
       "model_id": "7271c6e2646f4c4e9ff30886fb0f930b",
       "version_major": 2,
       "version_minor": 0
      },
      "text/plain": [
       "[1/2229]   0%|           [00:00<?]"
      ]
     },
     "metadata": {},
     "output_type": "display_data"
    },
    {
     "name": "stdout",
     "output_type": "stream",
     "text": [
      "\n",
      "Epoch 304 Results => Loss: 1.3902 | Loss_Reg: 0.0283 | Loss_Cls: 0.6809 | Acc: 0.6854 | LR: 0.001000 | Avg confidence: 0.6903 | F1: 0.5482 | Precision: 0.6138 | Recall: 0.5172Time: 250710_21:25:03\n",
      "Validation => Acc: 0.6497 | F1: 0.4814\n"
     ]
    },
    {
     "data": {
      "application/vnd.jupyter.widget-view+json": {
       "model_id": "889432d538484dc2a069d2f861f8a84b",
       "version_major": 2,
       "version_minor": 0
      },
      "text/plain": [
       "[1/2229]   0%|           [00:00<?]"
      ]
     },
     "metadata": {},
     "output_type": "display_data"
    },
    {
     "name": "stdout",
     "output_type": "stream",
     "text": [
      "\n",
      "Epoch 305 Results => Loss: 1.3900 | Loss_Reg: 0.0283 | Loss_Cls: 0.6809 | Acc: 0.6856 | LR: 0.001000 | Avg confidence: 0.6903 | F1: 0.5490 | Precision: 0.6151 | Recall: 0.5177Time: 250710_21:25:29\n",
      "Validation => Acc: 0.6328 | F1: 0.4987\n"
     ]
    },
    {
     "data": {
      "application/vnd.jupyter.widget-view+json": {
       "model_id": "28ee5ad3232743b9b4e065c9d42bc957",
       "version_major": 2,
       "version_minor": 0
      },
      "text/plain": [
       "[1/2229]   0%|           [00:00<?]"
      ]
     },
     "metadata": {},
     "output_type": "display_data"
    },
    {
     "name": "stdout",
     "output_type": "stream",
     "text": [
      "\n",
      "Epoch 306 Results => Loss: 1.3896 | Loss_Reg: 0.0283 | Loss_Cls: 0.6806 | Acc: 0.6856 | LR: 0.001000 | Avg confidence: 0.6905 | F1: 0.5490 | Precision: 0.6144 | Recall: 0.5178Time: 250710_21:25:56\n",
      "Validation => Acc: 0.6536 | F1: 0.4722\n"
     ]
    },
    {
     "data": {
      "application/vnd.jupyter.widget-view+json": {
       "model_id": "cd9089020d714e9e917db2886009396a",
       "version_major": 2,
       "version_minor": 0
      },
      "text/plain": [
       "[1/2229]   0%|           [00:00<?]"
      ]
     },
     "metadata": {},
     "output_type": "display_data"
    },
    {
     "name": "stdout",
     "output_type": "stream",
     "text": [
      "\n",
      "Epoch 307 Results => Loss: 1.3897 | Loss_Reg: 0.0283 | Loss_Cls: 0.6807 | Acc: 0.6855 | LR: 0.001000 | Avg confidence: 0.6905 | F1: 0.5489 | Precision: 0.6152 | Recall: 0.5176Time: 250710_21:26:23\n",
      "Validation => Acc: 0.6263 | F1: 0.4435\n"
     ]
    },
    {
     "data": {
      "application/vnd.jupyter.widget-view+json": {
       "model_id": "29edb5b034374fb1a52b2dc3bcf9feb5",
       "version_major": 2,
       "version_minor": 0
      },
      "text/plain": [
       "[1/2229]   0%|           [00:00<?]"
      ]
     },
     "metadata": {},
     "output_type": "display_data"
    },
    {
     "name": "stdout",
     "output_type": "stream",
     "text": [
      "\n",
      "Epoch 308 Results => Loss: 1.3890 | Loss_Reg: 0.0283 | Loss_Cls: 0.6803 | Acc: 0.6858 | LR: 0.001000 | Avg confidence: 0.6906 | F1: 0.5499 | Precision: 0.6166 | Recall: 0.5184Time: 250710_21:26:49\n",
      "Validation => Acc: 0.6367 | F1: 0.5462\n"
     ]
    },
    {
     "data": {
      "application/vnd.jupyter.widget-view+json": {
       "model_id": "c92fe23515fc482583e03c0e28e14ca0",
       "version_major": 2,
       "version_minor": 0
      },
      "text/plain": [
       "[1/2229]   0%|           [00:00<?]"
      ]
     },
     "metadata": {},
     "output_type": "display_data"
    },
    {
     "name": "stdout",
     "output_type": "stream",
     "text": [
      "\n",
      "Epoch 309 Results => Loss: 1.3891 | Loss_Reg: 0.0283 | Loss_Cls: 0.6804 | Acc: 0.6858 | LR: 0.001000 | Avg confidence: 0.6906 | F1: 0.5495 | Precision: 0.6153 | Recall: 0.5182Time: 250710_21:27:16\n",
      "Validation => Acc: 0.6146 | F1: 0.4528\n"
     ]
    },
    {
     "data": {
      "application/vnd.jupyter.widget-view+json": {
       "model_id": "ef54a4c9fa4e4bca9a72ee262032b752",
       "version_major": 2,
       "version_minor": 0
      },
      "text/plain": [
       "[1/2229]   0%|           [00:00<?]"
      ]
     },
     "metadata": {},
     "output_type": "display_data"
    },
    {
     "name": "stdout",
     "output_type": "stream",
     "text": [
      "\n",
      "Epoch 310 Results => Loss: 1.3884 | Loss_Reg: 0.0283 | Loss_Cls: 0.6800 | Acc: 0.6860 | LR: 0.001000 | Avg confidence: 0.6908 | F1: 0.5493 | Precision: 0.6154 | Recall: 0.5180Time: 250710_21:27:43\n",
      "Validation => Acc: 0.6458 | F1: 0.4550\n"
     ]
    },
    {
     "data": {
      "application/vnd.jupyter.widget-view+json": {
       "model_id": "c394a310f1bb49f0962ed7240e175d6c",
       "version_major": 2,
       "version_minor": 0
      },
      "text/plain": [
       "[1/2229]   0%|           [00:00<?]"
      ]
     },
     "metadata": {},
     "output_type": "display_data"
    },
    {
     "name": "stdout",
     "output_type": "stream",
     "text": [
      "\n",
      "Epoch 311 Results => Loss: 1.3881 | Loss_Reg: 0.0283 | Loss_Cls: 0.6799 | Acc: 0.6860 | LR: 0.001000 | Avg confidence: 0.6908 | F1: 0.5499 | Precision: 0.6158 | Recall: 0.5186Time: 250710_21:28:09\n",
      "Validation => Acc: 0.6797 | F1: 0.5636\n"
     ]
    },
    {
     "data": {
      "application/vnd.jupyter.widget-view+json": {
       "model_id": "9577a2e3e8064cc59c2d7efe873ff7c8",
       "version_major": 2,
       "version_minor": 0
      },
      "text/plain": [
       "[1/2229]   0%|           [00:00<?]"
      ]
     },
     "metadata": {},
     "output_type": "display_data"
    },
    {
     "name": "stdout",
     "output_type": "stream",
     "text": [
      "\n",
      "Epoch 312 Results => Loss: 1.3881 | Loss_Reg: 0.0283 | Loss_Cls: 0.6799 | Acc: 0.6862 | LR: 0.001000 | Avg confidence: 0.6909 | F1: 0.5500 | Precision: 0.6159 | Recall: 0.5186Time: 250710_21:28:37\n",
      "Validation => Acc: 0.6523 | F1: 0.5248\n"
     ]
    },
    {
     "data": {
      "application/vnd.jupyter.widget-view+json": {
       "model_id": "3864674a98d145ffad34bf166a7591b2",
       "version_major": 2,
       "version_minor": 0
      },
      "text/plain": [
       "[1/2229]   0%|           [00:00<?]"
      ]
     },
     "metadata": {},
     "output_type": "display_data"
    },
    {
     "name": "stdout",
     "output_type": "stream",
     "text": [
      "\n",
      "Epoch 313 Results => Loss: 1.3880 | Loss_Reg: 0.0283 | Loss_Cls: 0.6798 | Acc: 0.6860 | LR: 0.001000 | Avg confidence: 0.6909 | F1: 0.5493 | Precision: 0.6149 | Recall: 0.5181Time: 250710_21:29:03\n",
      "Validation => Acc: 0.6510 | F1: 0.4489\n"
     ]
    },
    {
     "data": {
      "application/vnd.jupyter.widget-view+json": {
       "model_id": "980cb1d1cfdd4a61862a1657746312f4",
       "version_major": 2,
       "version_minor": 0
      },
      "text/plain": [
       "[1/2229]   0%|           [00:00<?]"
      ]
     },
     "metadata": {},
     "output_type": "display_data"
    },
    {
     "name": "stdout",
     "output_type": "stream",
     "text": [
      "\n",
      "Epoch 314 Results => Loss: 1.3875 | Loss_Reg: 0.0283 | Loss_Cls: 0.6796 | Acc: 0.6862 | LR: 0.001000 | Avg confidence: 0.6910 | F1: 0.5501 | Precision: 0.6167 | Recall: 0.5187Time: 250710_21:29:30\n",
      "Validation => Acc: 0.6536 | F1: 0.5008\n"
     ]
    },
    {
     "data": {
      "application/vnd.jupyter.widget-view+json": {
       "model_id": "67767b5d1e794029a147ce79f98673eb",
       "version_major": 2,
       "version_minor": 0
      },
      "text/plain": [
       "[1/2229]   0%|           [00:00<?]"
      ]
     },
     "metadata": {},
     "output_type": "display_data"
    },
    {
     "name": "stdout",
     "output_type": "stream",
     "text": [
      "\n",
      "Epoch 315 Results => Loss: 1.3872 | Loss_Reg: 0.0283 | Loss_Cls: 0.6794 | Acc: 0.6862 | LR: 0.001000 | Avg confidence: 0.6910 | F1: 0.5505 | Precision: 0.6165 | Recall: 0.5191Time: 250710_21:29:56\n",
      "Validation => Acc: 0.6667 | F1: 0.5150\n"
     ]
    },
    {
     "data": {
      "application/vnd.jupyter.widget-view+json": {
       "model_id": "0727e5c256674e71860113277fd83afe",
       "version_major": 2,
       "version_minor": 0
      },
      "text/plain": [
       "[1/2229]   0%|           [00:00<?]"
      ]
     },
     "metadata": {},
     "output_type": "display_data"
    },
    {
     "name": "stdout",
     "output_type": "stream",
     "text": [
      "\n",
      "Epoch 316 Results => Loss: 1.3868 | Loss_Reg: 0.0283 | Loss_Cls: 0.6793 | Acc: 0.6864 | LR: 0.001000 | Avg confidence: 0.6912 | F1: 0.5502 | Precision: 0.6158 | Recall: 0.5190Time: 250710_21:30:23\n",
      "Validation => Acc: 0.6367 | F1: 0.4511\n"
     ]
    },
    {
     "data": {
      "application/vnd.jupyter.widget-view+json": {
       "model_id": "0a2066f86fae4e00bfd05038cad81b1f",
       "version_major": 2,
       "version_minor": 0
      },
      "text/plain": [
       "[1/2229]   0%|           [00:00<?]"
      ]
     },
     "metadata": {},
     "output_type": "display_data"
    },
    {
     "name": "stdout",
     "output_type": "stream",
     "text": [
      "\n",
      "Epoch 317 Results => Loss: 1.3869 | Loss_Reg: 0.0283 | Loss_Cls: 0.6793 | Acc: 0.6865 | LR: 0.001000 | Avg confidence: 0.6912 | F1: 0.5503 | Precision: 0.6165 | Recall: 0.5189Time: 250710_21:30:50\n",
      "Validation => Acc: 0.6510 | F1: 0.5034\n"
     ]
    },
    {
     "data": {
      "application/vnd.jupyter.widget-view+json": {
       "model_id": "215c8f571d79454ebd769eac4a119135",
       "version_major": 2,
       "version_minor": 0
      },
      "text/plain": [
       "[1/2229]   0%|           [00:00<?]"
      ]
     },
     "metadata": {},
     "output_type": "display_data"
    },
    {
     "name": "stdout",
     "output_type": "stream",
     "text": [
      "\n",
      "Epoch 318 Results => Loss: 1.3865 | Loss_Reg: 0.0283 | Loss_Cls: 0.6791 | Acc: 0.6865 | LR: 0.001000 | Avg confidence: 0.6913 | F1: 0.5500 | Precision: 0.6163 | Recall: 0.5187Time: 250710_21:31:16\n",
      "Validation => Acc: 0.6393 | F1: 0.4346\n"
     ]
    },
    {
     "data": {
      "application/vnd.jupyter.widget-view+json": {
       "model_id": "8d41d928166f4d788e9ce784f25e5bd0",
       "version_major": 2,
       "version_minor": 0
      },
      "text/plain": [
       "[1/2229]   0%|           [00:00<?]"
      ]
     },
     "metadata": {},
     "output_type": "display_data"
    },
    {
     "name": "stdout",
     "output_type": "stream",
     "text": [
      "\n",
      "Epoch 319 Results => Loss: 1.3863 | Loss_Reg: 0.0284 | Loss_Cls: 0.6790 | Acc: 0.6864 | LR: 0.001000 | Avg confidence: 0.6914 | F1: 0.5501 | Precision: 0.6158 | Recall: 0.5188Time: 250710_21:31:43\n",
      "Validation => Acc: 0.6549 | F1: 0.5278\n"
     ]
    },
    {
     "data": {
      "application/vnd.jupyter.widget-view+json": {
       "model_id": "a54548cfec254b1cbd2f04274c35975d",
       "version_major": 2,
       "version_minor": 0
      },
      "text/plain": [
       "[1/2229]   0%|           [00:00<?]"
      ]
     },
     "metadata": {},
     "output_type": "display_data"
    },
    {
     "name": "stdout",
     "output_type": "stream",
     "text": [
      "\n",
      "Epoch 320 Results => Loss: 1.3860 | Loss_Reg: 0.0283 | Loss_Cls: 0.6788 | Acc: 0.6867 | LR: 0.001000 | Avg confidence: 0.6915 | F1: 0.5507 | Precision: 0.6168 | Recall: 0.5193Time: 250710_21:32:09\n",
      "Validation => Acc: 0.6406 | F1: 0.4763\n"
     ]
    },
    {
     "data": {
      "application/vnd.jupyter.widget-view+json": {
       "model_id": "7700d9196a4143ab8c88355c459bd774",
       "version_major": 2,
       "version_minor": 0
      },
      "text/plain": [
       "[1/2229]   0%|           [00:00<?]"
      ]
     },
     "metadata": {},
     "output_type": "display_data"
    },
    {
     "name": "stdout",
     "output_type": "stream",
     "text": [
      "\n",
      "Epoch 321 Results => Loss: 1.3858 | Loss_Reg: 0.0283 | Loss_Cls: 0.6787 | Acc: 0.6868 | LR: 0.001000 | Avg confidence: 0.6915 | F1: 0.5510 | Precision: 0.6170 | Recall: 0.5196Time: 250710_21:32:36\n",
      "Validation => Acc: 0.6185 | F1: 0.4635\n"
     ]
    },
    {
     "data": {
      "application/vnd.jupyter.widget-view+json": {
       "model_id": "e9543d191efb42328fa2d8e9ea2fd518",
       "version_major": 2,
       "version_minor": 0
      },
      "text/plain": [
       "[1/2229]   0%|           [00:00<?]"
      ]
     },
     "metadata": {},
     "output_type": "display_data"
    },
    {
     "name": "stdout",
     "output_type": "stream",
     "text": [
      "\n",
      "Epoch 322 Results => Loss: 1.3854 | Loss_Reg: 0.0283 | Loss_Cls: 0.6785 | Acc: 0.6868 | LR: 0.001000 | Avg confidence: 0.6915 | F1: 0.5510 | Precision: 0.6167 | Recall: 0.5196Time: 250710_21:33:03\n",
      "Validation => Acc: 0.6576 | F1: 0.5094\n"
     ]
    },
    {
     "data": {
      "application/vnd.jupyter.widget-view+json": {
       "model_id": "68bc2dd2814a4ab19b3622f3db62cde8",
       "version_major": 2,
       "version_minor": 0
      },
      "text/plain": [
       "[1/2229]   0%|           [00:00<?]"
      ]
     },
     "metadata": {},
     "output_type": "display_data"
    },
    {
     "name": "stdout",
     "output_type": "stream",
     "text": [
      "\n",
      "Epoch 323 Results => Loss: 1.3853 | Loss_Reg: 0.0283 | Loss_Cls: 0.6785 | Acc: 0.6869 | LR: 0.001000 | Avg confidence: 0.6916 | F1: 0.5507 | Precision: 0.6165 | Recall: 0.5195Time: 250710_21:33:29\n",
      "Validation => Acc: 0.6341 | F1: 0.5325\n"
     ]
    },
    {
     "data": {
      "application/vnd.jupyter.widget-view+json": {
       "model_id": "6c5feb626805465a94d7fef170e58f8e",
       "version_major": 2,
       "version_minor": 0
      },
      "text/plain": [
       "[1/2229]   0%|           [00:00<?]"
      ]
     },
     "metadata": {},
     "output_type": "display_data"
    },
    {
     "name": "stdout",
     "output_type": "stream",
     "text": [
      "\n",
      "Epoch 324 Results => Loss: 1.3849 | Loss_Reg: 0.0283 | Loss_Cls: 0.6783 | Acc: 0.6869 | LR: 0.001000 | Avg confidence: 0.6916 | F1: 0.5511 | Precision: 0.6177 | Recall: 0.5196Time: 250710_21:33:56\n",
      "Validation => Acc: 0.6693 | F1: 0.4421\n"
     ]
    },
    {
     "data": {
      "application/vnd.jupyter.widget-view+json": {
       "model_id": "7c8a04446c684a10914c884d98475eca",
       "version_major": 2,
       "version_minor": 0
      },
      "text/plain": [
       "[1/2229]   0%|           [00:00<?]"
      ]
     },
     "metadata": {},
     "output_type": "display_data"
    },
    {
     "name": "stdout",
     "output_type": "stream",
     "text": [
      "\n",
      "Epoch 325 Results => Loss: 1.3847 | Loss_Reg: 0.0283 | Loss_Cls: 0.6782 | Acc: 0.6868 | LR: 0.001000 | Avg confidence: 0.6918 | F1: 0.5505 | Precision: 0.6162 | Recall: 0.5192Time: 250710_21:34:23\n",
      "Validation => Acc: 0.6536 | F1: 0.5258\n"
     ]
    },
    {
     "data": {
      "application/vnd.jupyter.widget-view+json": {
       "model_id": "cf3df057934c4c73a9038db8f45fc99e",
       "version_major": 2,
       "version_minor": 0
      },
      "text/plain": [
       "[1/2229]   0%|           [00:00<?]"
      ]
     },
     "metadata": {},
     "output_type": "display_data"
    },
    {
     "name": "stdout",
     "output_type": "stream",
     "text": [
      "\n",
      "Epoch 326 Results => Loss: 1.3845 | Loss_Reg: 0.0283 | Loss_Cls: 0.6781 | Acc: 0.6871 | LR: 0.001000 | Avg confidence: 0.6918 | F1: 0.5513 | Precision: 0.6175 | Recall: 0.5199Time: 250710_21:34:49\n",
      "Validation => Acc: 0.6315 | F1: 0.5037\n"
     ]
    },
    {
     "data": {
      "application/vnd.jupyter.widget-view+json": {
       "model_id": "eb3ec52228cc4ce39396b6e7d50ac34e",
       "version_major": 2,
       "version_minor": 0
      },
      "text/plain": [
       "[1/2229]   0%|           [00:00<?]"
      ]
     },
     "metadata": {},
     "output_type": "display_data"
    },
    {
     "name": "stdout",
     "output_type": "stream",
     "text": [
      "\n",
      "Epoch 327 Results => Loss: 1.3842 | Loss_Reg: 0.0283 | Loss_Cls: 0.6779 | Acc: 0.6872 | LR: 0.001000 | Avg confidence: 0.6919 | F1: 0.5515 | Precision: 0.6175 | Recall: 0.5200Time: 250710_21:35:16\n",
      "Validation => Acc: 0.6719 | F1: 0.5309\n"
     ]
    },
    {
     "data": {
      "application/vnd.jupyter.widget-view+json": {
       "model_id": "4985018ae07644da8978579a0b72c773",
       "version_major": 2,
       "version_minor": 0
      },
      "text/plain": [
       "[1/2229]   0%|           [00:00<?]"
      ]
     },
     "metadata": {},
     "output_type": "display_data"
    },
    {
     "name": "stdout",
     "output_type": "stream",
     "text": [
      "\n",
      "Epoch 328 Results => Loss: 1.3840 | Loss_Reg: 0.0283 | Loss_Cls: 0.6778 | Acc: 0.6870 | LR: 0.001000 | Avg confidence: 0.6919 | F1: 0.5513 | Precision: 0.6173 | Recall: 0.5198Time: 250710_21:35:42\n",
      "Validation => Acc: 0.6432 | F1: 0.4783\n"
     ]
    },
    {
     "data": {
      "application/vnd.jupyter.widget-view+json": {
       "model_id": "52aa7bbe99194068ba7fb2ea318f8b5b",
       "version_major": 2,
       "version_minor": 0
      },
      "text/plain": [
       "[1/2229]   0%|           [00:00<?]"
      ]
     },
     "metadata": {},
     "output_type": "display_data"
    },
    {
     "name": "stdout",
     "output_type": "stream",
     "text": [
      "\n",
      "Epoch 329 Results => Loss: 1.3838 | Loss_Reg: 0.0283 | Loss_Cls: 0.6777 | Acc: 0.6871 | LR: 0.001000 | Avg confidence: 0.6919 | F1: 0.5515 | Precision: 0.6177 | Recall: 0.5201Time: 250710_21:36:09\n",
      "Validation => Acc: 0.6732 | F1: 0.4849\n"
     ]
    },
    {
     "data": {
      "application/vnd.jupyter.widget-view+json": {
       "model_id": "014893b2582b440d990a6e63230edc1a",
       "version_major": 2,
       "version_minor": 0
      },
      "text/plain": [
       "[1/2229]   0%|           [00:00<?]"
      ]
     },
     "metadata": {},
     "output_type": "display_data"
    },
    {
     "name": "stdout",
     "output_type": "stream",
     "text": [
      "\n",
      "Epoch 330 Results => Loss: 1.3837 | Loss_Reg: 0.0283 | Loss_Cls: 0.6777 | Acc: 0.6873 | LR: 0.001000 | Avg confidence: 0.6920 | F1: 0.5518 | Precision: 0.6177 | Recall: 0.5204Time: 250710_21:36:36\n",
      "Validation => Acc: 0.6341 | F1: 0.4710\n"
     ]
    },
    {
     "data": {
      "application/vnd.jupyter.widget-view+json": {
       "model_id": "0609f678d3904824a3d2ccc24a92dcf4",
       "version_major": 2,
       "version_minor": 0
      },
      "text/plain": [
       "[1/2229]   0%|           [00:00<?]"
      ]
     },
     "metadata": {},
     "output_type": "display_data"
    },
    {
     "name": "stdout",
     "output_type": "stream",
     "text": [
      "\n",
      "Epoch 331 Results => Loss: 1.3830 | Loss_Reg: 0.0283 | Loss_Cls: 0.6773 | Acc: 0.6874 | LR: 0.001000 | Avg confidence: 0.6921 | F1: 0.5515 | Precision: 0.6181 | Recall: 0.5200Time: 250710_21:37:02\n",
      "Validation => Acc: 0.6641 | F1: 0.4945\n"
     ]
    },
    {
     "data": {
      "application/vnd.jupyter.widget-view+json": {
       "model_id": "85b9bcdb1cd848de9f1e2a16ec96a5d7",
       "version_major": 2,
       "version_minor": 0
      },
      "text/plain": [
       "[1/2229]   0%|           [00:00<?]"
      ]
     },
     "metadata": {},
     "output_type": "display_data"
    },
    {
     "name": "stdout",
     "output_type": "stream",
     "text": [
      "\n",
      "Epoch 332 Results => Loss: 1.3829 | Loss_Reg: 0.0283 | Loss_Cls: 0.6773 | Acc: 0.6875 | LR: 0.001000 | Avg confidence: 0.6923 | F1: 0.5517 | Precision: 0.6180 | Recall: 0.5203Time: 250710_21:37:29\n",
      "Validation => Acc: 0.6172 | F1: 0.4858\n"
     ]
    },
    {
     "data": {
      "application/vnd.jupyter.widget-view+json": {
       "model_id": "0d49003d640346728cb1b58697976070",
       "version_major": 2,
       "version_minor": 0
      },
      "text/plain": [
       "[1/2229]   0%|           [00:00<?]"
      ]
     },
     "metadata": {},
     "output_type": "display_data"
    },
    {
     "name": "stdout",
     "output_type": "stream",
     "text": [
      "\n",
      "Epoch 333 Results => Loss: 1.3830 | Loss_Reg: 0.0283 | Loss_Cls: 0.6774 | Acc: 0.6873 | LR: 0.001000 | Avg confidence: 0.6922 | F1: 0.5513 | Precision: 0.6171 | Recall: 0.5199Time: 250710_21:37:55\n",
      "Validation => Acc: 0.6354 | F1: 0.4444\n"
     ]
    },
    {
     "data": {
      "application/vnd.jupyter.widget-view+json": {
       "model_id": "30ea038764754aa5b2c118b31b61c6d2",
       "version_major": 2,
       "version_minor": 0
      },
      "text/plain": [
       "[1/2229]   0%|           [00:00<?]"
      ]
     },
     "metadata": {},
     "output_type": "display_data"
    },
    {
     "name": "stdout",
     "output_type": "stream",
     "text": [
      "\n",
      "Epoch 334 Results => Loss: 1.3821 | Loss_Reg: 0.0283 | Loss_Cls: 0.6769 | Acc: 0.6875 | LR: 0.001000 | Avg confidence: 0.6923 | F1: 0.5517 | Precision: 0.6181 | Recall: 0.5202Time: 250710_21:38:22\n",
      "Validation => Acc: 0.6641 | F1: 0.4447\n"
     ]
    },
    {
     "data": {
      "application/vnd.jupyter.widget-view+json": {
       "model_id": "f1933d4593684a9fb5f197da063d04b3",
       "version_major": 2,
       "version_minor": 0
      },
      "text/plain": [
       "[1/2229]   0%|           [00:00<?]"
      ]
     },
     "metadata": {},
     "output_type": "display_data"
    },
    {
     "name": "stdout",
     "output_type": "stream",
     "text": [
      "\n",
      "Epoch 335 Results => Loss: 1.3824 | Loss_Reg: 0.0283 | Loss_Cls: 0.6770 | Acc: 0.6874 | LR: 0.001000 | Avg confidence: 0.6924 | F1: 0.5517 | Precision: 0.6174 | Recall: 0.5203Time: 250710_21:38:50\n",
      "Validation => Acc: 0.6797 | F1: 0.4939\n"
     ]
    },
    {
     "data": {
      "application/vnd.jupyter.widget-view+json": {
       "model_id": "dabb4a576a564327b98963803972d4f5",
       "version_major": 2,
       "version_minor": 0
      },
      "text/plain": [
       "[1/2229]   0%|           [00:00<?]"
      ]
     },
     "metadata": {},
     "output_type": "display_data"
    },
    {
     "name": "stdout",
     "output_type": "stream",
     "text": [
      "\n",
      "Epoch 336 Results => Loss: 1.3815 | Loss_Reg: 0.0283 | Loss_Cls: 0.6766 | Acc: 0.6878 | LR: 0.001000 | Avg confidence: 0.6924 | F1: 0.5522 | Precision: 0.6177 | Recall: 0.5208Time: 250710_21:39:17\n",
      "Validation => Acc: 0.6198 | F1: 0.4603\n"
     ]
    },
    {
     "data": {
      "application/vnd.jupyter.widget-view+json": {
       "model_id": "6ade2cbf68ae429cbeed5ad6eff73846",
       "version_major": 2,
       "version_minor": 0
      },
      "text/plain": [
       "[1/2229]   0%|           [00:00<?]"
      ]
     },
     "metadata": {},
     "output_type": "display_data"
    },
    {
     "name": "stdout",
     "output_type": "stream",
     "text": [
      "\n",
      "Epoch 337 Results => Loss: 1.3816 | Loss_Reg: 0.0283 | Loss_Cls: 0.6766 | Acc: 0.6877 | LR: 0.001000 | Avg confidence: 0.6925 | F1: 0.5520 | Precision: 0.6180 | Recall: 0.5206Time: 250710_21:39:43\n",
      "Validation => Acc: 0.6562 | F1: 0.5074\n"
     ]
    },
    {
     "data": {
      "application/vnd.jupyter.widget-view+json": {
       "model_id": "f3753fffcdb741e6be9ffe6cbd8d2cd8",
       "version_major": 2,
       "version_minor": 0
      },
      "text/plain": [
       "[1/2229]   0%|           [00:00<?]"
      ]
     },
     "metadata": {},
     "output_type": "display_data"
    },
    {
     "name": "stdout",
     "output_type": "stream",
     "text": [
      "\n",
      "Epoch 338 Results => Loss: 1.3817 | Loss_Reg: 0.0283 | Loss_Cls: 0.6767 | Acc: 0.6877 | LR: 0.001000 | Avg confidence: 0.6925 | F1: 0.5520 | Precision: 0.6181 | Recall: 0.5205Time: 250710_21:40:10\n",
      "Validation => Acc: 0.6068 | F1: 0.4654\n"
     ]
    },
    {
     "data": {
      "application/vnd.jupyter.widget-view+json": {
       "model_id": "609dab6c25294c2fa9fe7b9f315ab256",
       "version_major": 2,
       "version_minor": 0
      },
      "text/plain": [
       "[1/2229]   0%|           [00:00<?]"
      ]
     },
     "metadata": {},
     "output_type": "display_data"
    },
    {
     "name": "stdout",
     "output_type": "stream",
     "text": [
      "\n",
      "Epoch 339 Results => Loss: 1.3809 | Loss_Reg: 0.0283 | Loss_Cls: 0.6763 | Acc: 0.6878 | LR: 0.001000 | Avg confidence: 0.6926 | F1: 0.5527 | Precision: 0.6188 | Recall: 0.5211Time: 250710_21:40:36\n",
      "Validation => Acc: 0.6758 | F1: 0.5293\n"
     ]
    },
    {
     "data": {
      "application/vnd.jupyter.widget-view+json": {
       "model_id": "7abe9dc87b6048a8a0bb73c4103f1d2f",
       "version_major": 2,
       "version_minor": 0
      },
      "text/plain": [
       "[1/2229]   0%|           [00:00<?]"
      ]
     },
     "metadata": {},
     "output_type": "display_data"
    },
    {
     "name": "stdout",
     "output_type": "stream",
     "text": [
      "\n",
      "Epoch 340 Results => Loss: 1.3813 | Loss_Reg: 0.0283 | Loss_Cls: 0.6765 | Acc: 0.6880 | LR: 0.001000 | Avg confidence: 0.6927 | F1: 0.5522 | Precision: 0.6180 | Recall: 0.5208Time: 250710_21:41:02\n",
      "Validation => Acc: 0.6641 | F1: 0.4739\n"
     ]
    },
    {
     "data": {
      "application/vnd.jupyter.widget-view+json": {
       "model_id": "2a98905af1634142b2bc0ef76006ea99",
       "version_major": 2,
       "version_minor": 0
      },
      "text/plain": [
       "[1/2229]   0%|           [00:00<?]"
      ]
     },
     "metadata": {},
     "output_type": "display_data"
    },
    {
     "name": "stdout",
     "output_type": "stream",
     "text": [
      "\n",
      "Epoch 341 Results => Loss: 1.3806 | Loss_Reg: 0.0283 | Loss_Cls: 0.6761 | Acc: 0.6879 | LR: 0.001000 | Avg confidence: 0.6927 | F1: 0.5527 | Precision: 0.6184 | Recall: 0.5213Time: 250710_21:41:29\n",
      "Validation => Acc: 0.6615 | F1: 0.5277\n"
     ]
    },
    {
     "data": {
      "application/vnd.jupyter.widget-view+json": {
       "model_id": "9de84142b36e48bca7c0ab26b75ee5bf",
       "version_major": 2,
       "version_minor": 0
      },
      "text/plain": [
       "[1/2229]   0%|           [00:00<?]"
      ]
     },
     "metadata": {},
     "output_type": "display_data"
    },
    {
     "name": "stdout",
     "output_type": "stream",
     "text": [
      "\n",
      "Epoch 342 Results => Loss: 1.3803 | Loss_Reg: 0.0283 | Loss_Cls: 0.6760 | Acc: 0.6881 | LR: 0.001000 | Avg confidence: 0.6928 | F1: 0.5527 | Precision: 0.6184 | Recall: 0.5212Time: 250710_21:41:55\n",
      "Validation => Acc: 0.6276 | F1: 0.4340\n"
     ]
    },
    {
     "data": {
      "application/vnd.jupyter.widget-view+json": {
       "model_id": "91a5085cbcd9403c87009e8aee7c24a3",
       "version_major": 2,
       "version_minor": 0
      },
      "text/plain": [
       "[1/2229]   0%|           [00:00<?]"
      ]
     },
     "metadata": {},
     "output_type": "display_data"
    },
    {
     "name": "stdout",
     "output_type": "stream",
     "text": [
      "\n",
      "Epoch 343 Results => Loss: 1.3802 | Loss_Reg: 0.0283 | Loss_Cls: 0.6759 | Acc: 0.6879 | LR: 0.001000 | Avg confidence: 0.6929 | F1: 0.5527 | Precision: 0.6186 | Recall: 0.5212Time: 250710_21:42:21\n",
      "Validation => Acc: 0.6419 | F1: 0.5513\n"
     ]
    },
    {
     "data": {
      "application/vnd.jupyter.widget-view+json": {
       "model_id": "b81c6268c8b94cb69c309fbd997c424f",
       "version_major": 2,
       "version_minor": 0
      },
      "text/plain": [
       "[1/2229]   0%|           [00:00<?]"
      ]
     },
     "metadata": {},
     "output_type": "display_data"
    },
    {
     "name": "stdout",
     "output_type": "stream",
     "text": [
      "\n",
      "Epoch 344 Results => Loss: 1.3801 | Loss_Reg: 0.0283 | Loss_Cls: 0.6759 | Acc: 0.6881 | LR: 0.001000 | Avg confidence: 0.6929 | F1: 0.5529 | Precision: 0.6192 | Recall: 0.5214Time: 250710_21:42:47\n",
      "Validation => Acc: 0.6797 | F1: 0.5427\n"
     ]
    },
    {
     "data": {
      "application/vnd.jupyter.widget-view+json": {
       "model_id": "f5f5f6cbbe0a4d51a71547e462174f28",
       "version_major": 2,
       "version_minor": 0
      },
      "text/plain": [
       "[1/2229]   0%|           [00:00<?]"
      ]
     },
     "metadata": {},
     "output_type": "display_data"
    },
    {
     "name": "stdout",
     "output_type": "stream",
     "text": [
      "\n",
      "Epoch 345 Results => Loss: 1.3797 | Loss_Reg: 0.0283 | Loss_Cls: 0.6757 | Acc: 0.6882 | LR: 0.001000 | Avg confidence: 0.6930 | F1: 0.5531 | Precision: 0.6191 | Recall: 0.5216Time: 250710_21:43:14\n",
      "Validation => Acc: 0.6510 | F1: 0.4536\n"
     ]
    },
    {
     "data": {
      "application/vnd.jupyter.widget-view+json": {
       "model_id": "d586347b471846bdb5836913cdde8c01",
       "version_major": 2,
       "version_minor": 0
      },
      "text/plain": [
       "[1/2229]   0%|           [00:00<?]"
      ]
     },
     "metadata": {},
     "output_type": "display_data"
    },
    {
     "name": "stdout",
     "output_type": "stream",
     "text": [
      "\n",
      "Epoch 346 Results => Loss: 1.3800 | Loss_Reg: 0.0283 | Loss_Cls: 0.6758 | Acc: 0.6882 | LR: 0.001000 | Avg confidence: 0.6929 | F1: 0.5533 | Precision: 0.6192 | Recall: 0.5217Time: 250710_21:43:40\n",
      "Validation => Acc: 0.6419 | F1: 0.4659\n"
     ]
    },
    {
     "data": {
      "application/vnd.jupyter.widget-view+json": {
       "model_id": "a8a63a6c66c6411e8baf30664730cbea",
       "version_major": 2,
       "version_minor": 0
      },
      "text/plain": [
       "[1/2229]   0%|           [00:00<?]"
      ]
     },
     "metadata": {},
     "output_type": "display_data"
    },
    {
     "name": "stdout",
     "output_type": "stream",
     "text": [
      "\n",
      "Epoch 347 Results => Loss: 1.3791 | Loss_Reg: 0.0283 | Loss_Cls: 0.6754 | Acc: 0.6884 | LR: 0.001000 | Avg confidence: 0.6931 | F1: 0.5532 | Precision: 0.6192 | Recall: 0.5216Time: 250710_21:44:07\n",
      "Validation => Acc: 0.6549 | F1: 0.5685\n"
     ]
    },
    {
     "data": {
      "application/vnd.jupyter.widget-view+json": {
       "model_id": "40b1fbba508f43e9b3d226a5b016936f",
       "version_major": 2,
       "version_minor": 0
      },
      "text/plain": [
       "[1/2229]   0%|           [00:00<?]"
      ]
     },
     "metadata": {},
     "output_type": "display_data"
    },
    {
     "name": "stdout",
     "output_type": "stream",
     "text": [
      "\n",
      "Epoch 348 Results => Loss: 1.3791 | Loss_Reg: 0.0283 | Loss_Cls: 0.6754 | Acc: 0.6884 | LR: 0.001000 | Avg confidence: 0.6931 | F1: 0.5527 | Precision: 0.6188 | Recall: 0.5213Time: 250710_21:44:33\n",
      "Validation => Acc: 0.6328 | F1: 0.5247\n"
     ]
    },
    {
     "data": {
      "application/vnd.jupyter.widget-view+json": {
       "model_id": "b4e55ccb9d2b485a9cd4ef9bfa3bcae2",
       "version_major": 2,
       "version_minor": 0
      },
      "text/plain": [
       "[1/2229]   0%|           [00:00<?]"
      ]
     },
     "metadata": {},
     "output_type": "display_data"
    },
    {
     "name": "stdout",
     "output_type": "stream",
     "text": [
      "\n",
      "Epoch 349 Results => Loss: 1.3787 | Loss_Reg: 0.0283 | Loss_Cls: 0.6752 | Acc: 0.6882 | LR: 0.001000 | Avg confidence: 0.6932 | F1: 0.5536 | Precision: 0.6197 | Recall: 0.5219Time: 250710_21:44:59\n",
      "Validation => Acc: 0.6732 | F1: 0.4570\n"
     ]
    },
    {
     "data": {
      "application/vnd.jupyter.widget-view+json": {
       "model_id": "16621683f7994f64aa9797be85c896fb",
       "version_major": 2,
       "version_minor": 0
      },
      "text/plain": [
       "[1/2229]   0%|           [00:00<?]"
      ]
     },
     "metadata": {},
     "output_type": "display_data"
    },
    {
     "name": "stdout",
     "output_type": "stream",
     "text": [
      "\n",
      "Epoch 350 Results => Loss: 1.3786 | Loss_Reg: 0.0283 | Loss_Cls: 0.6751 | Acc: 0.6884 | LR: 0.001000 | Avg confidence: 0.6932 | F1: 0.5535 | Precision: 0.6197 | Recall: 0.5219Time: 250710_21:45:25\n",
      "Validation => Acc: 0.6198 | F1: 0.4906\n"
     ]
    },
    {
     "data": {
      "application/vnd.jupyter.widget-view+json": {
       "model_id": "04c41c93feb64fab824082b221d68be3",
       "version_major": 2,
       "version_minor": 0
      },
      "text/plain": [
       "[1/2229]   0%|           [00:00<?]"
      ]
     },
     "metadata": {},
     "output_type": "display_data"
    },
    {
     "name": "stdout",
     "output_type": "stream",
     "text": [
      "\n",
      "Epoch 351 Results => Loss: 1.3788 | Loss_Reg: 0.0283 | Loss_Cls: 0.6752 | Acc: 0.6885 | LR: 0.001000 | Avg confidence: 0.6932 | F1: 0.5535 | Precision: 0.6201 | Recall: 0.5219Time: 250710_21:45:52\n",
      "Validation => Acc: 0.6484 | F1: 0.4997\n"
     ]
    },
    {
     "data": {
      "application/vnd.jupyter.widget-view+json": {
       "model_id": "8e52599c0095425391dd3b6bd9a3bfec",
       "version_major": 2,
       "version_minor": 0
      },
      "text/plain": [
       "[1/2229]   0%|           [00:00<?]"
      ]
     },
     "metadata": {},
     "output_type": "display_data"
    },
    {
     "name": "stdout",
     "output_type": "stream",
     "text": [
      "\n",
      "Epoch 352 Results => Loss: 1.3782 | Loss_Reg: 0.0283 | Loss_Cls: 0.6749 | Acc: 0.6885 | LR: 0.001000 | Avg confidence: 0.6934 | F1: 0.5532 | Precision: 0.6192 | Recall: 0.5218Time: 250710_21:46:18\n",
      "Validation => Acc: 0.6719 | F1: 0.4754\n"
     ]
    },
    {
     "data": {
      "application/vnd.jupyter.widget-view+json": {
       "model_id": "7043f49ed8a14278ae8d743ffff8dfde",
       "version_major": 2,
       "version_minor": 0
      },
      "text/plain": [
       "[1/2229]   0%|           [00:00<?]"
      ]
     },
     "metadata": {},
     "output_type": "display_data"
    },
    {
     "name": "stdout",
     "output_type": "stream",
     "text": [
      "\n",
      "Epoch 353 Results => Loss: 1.3782 | Loss_Reg: 0.0283 | Loss_Cls: 0.6749 | Acc: 0.6885 | LR: 0.001000 | Avg confidence: 0.6934 | F1: 0.5528 | Precision: 0.6182 | Recall: 0.5215Time: 250710_21:46:45\n",
      "Validation => Acc: 0.6237 | F1: 0.4757\n"
     ]
    },
    {
     "data": {
      "application/vnd.jupyter.widget-view+json": {
       "model_id": "588167b3333042e1be0b586c574616ff",
       "version_major": 2,
       "version_minor": 0
      },
      "text/plain": [
       "[1/2229]   0%|           [00:00<?]"
      ]
     },
     "metadata": {},
     "output_type": "display_data"
    },
    {
     "name": "stdout",
     "output_type": "stream",
     "text": [
      "\n",
      "Epoch 354 Results => Loss: 1.3774 | Loss_Reg: 0.0283 | Loss_Cls: 0.6745 | Acc: 0.6887 | LR: 0.001000 | Avg confidence: 0.6935 | F1: 0.5541 | Precision: 0.6200 | Recall: 0.5225Time: 250710_21:47:11\n",
      "Validation => Acc: 0.6276 | F1: 0.4819\n"
     ]
    },
    {
     "data": {
      "application/vnd.jupyter.widget-view+json": {
       "model_id": "559f17c7ba624bad9cbffaf3de3452b3",
       "version_major": 2,
       "version_minor": 0
      },
      "text/plain": [
       "[1/2229]   0%|           [00:00<?]"
      ]
     },
     "metadata": {},
     "output_type": "display_data"
    },
    {
     "name": "stdout",
     "output_type": "stream",
     "text": [
      "\n",
      "Epoch 355 Results => Loss: 1.3778 | Loss_Reg: 0.0283 | Loss_Cls: 0.6747 | Acc: 0.6886 | LR: 0.001000 | Avg confidence: 0.6934 | F1: 0.5534 | Precision: 0.6193 | Recall: 0.5219Time: 250710_21:47:37\n",
      "Validation => Acc: 0.6510 | F1: 0.5021\n"
     ]
    },
    {
     "data": {
      "application/vnd.jupyter.widget-view+json": {
       "model_id": "39a37ba0abec44f39c800cb91bd0a235",
       "version_major": 2,
       "version_minor": 0
      },
      "text/plain": [
       "[1/2229]   0%|           [00:00<?]"
      ]
     },
     "metadata": {},
     "output_type": "display_data"
    },
    {
     "name": "stdout",
     "output_type": "stream",
     "text": [
      "\n",
      "Epoch 356 Results => Loss: 1.3769 | Loss_Reg: 0.0283 | Loss_Cls: 0.6743 | Acc: 0.6887 | LR: 0.001000 | Avg confidence: 0.6937 | F1: 0.5531 | Precision: 0.6187 | Recall: 0.5217Time: 250710_21:48:04\n",
      "Validation => Acc: 0.6732 | F1: 0.5115\n"
     ]
    },
    {
     "data": {
      "application/vnd.jupyter.widget-view+json": {
       "model_id": "98874cbd7d1d48e2905fcbccfeffac8e",
       "version_major": 2,
       "version_minor": 0
      },
      "text/plain": [
       "[1/2229]   0%|           [00:00<?]"
      ]
     },
     "metadata": {},
     "output_type": "display_data"
    },
    {
     "name": "stdout",
     "output_type": "stream",
     "text": [
      "\n",
      "Epoch 357 Results => Loss: 1.3772 | Loss_Reg: 0.0283 | Loss_Cls: 0.6744 | Acc: 0.6885 | LR: 0.001000 | Avg confidence: 0.6936 | F1: 0.5535 | Precision: 0.6200 | Recall: 0.5219Time: 250710_21:48:30\n",
      "Validation => Acc: 0.5924 | F1: 0.4170\n"
     ]
    },
    {
     "data": {
      "application/vnd.jupyter.widget-view+json": {
       "model_id": "55b0dd512a804c2abbe29147992add93",
       "version_major": 2,
       "version_minor": 0
      },
      "text/plain": [
       "[1/2229]   0%|           [00:00<?]"
      ]
     },
     "metadata": {},
     "output_type": "display_data"
    },
    {
     "name": "stdout",
     "output_type": "stream",
     "text": [
      "\n",
      "Epoch 358 Results => Loss: 1.3768 | Loss_Reg: 0.0284 | Loss_Cls: 0.6742 | Acc: 0.6888 | LR: 0.001000 | Avg confidence: 0.6937 | F1: 0.5544 | Precision: 0.6200 | Recall: 0.5229Time: 250710_21:48:56\n",
      "Validation => Acc: 0.6602 | F1: 0.5350\n"
     ]
    },
    {
     "data": {
      "application/vnd.jupyter.widget-view+json": {
       "model_id": "be6b4a4bffda419ba9da114c5dea1807",
       "version_major": 2,
       "version_minor": 0
      },
      "text/plain": [
       "[1/2229]   0%|           [00:00<?]"
      ]
     },
     "metadata": {},
     "output_type": "display_data"
    },
    {
     "name": "stdout",
     "output_type": "stream",
     "text": [
      "\n",
      "Epoch 359 Results => Loss: 1.3764 | Loss_Reg: 0.0283 | Loss_Cls: 0.6740 | Acc: 0.6889 | LR: 0.001000 | Avg confidence: 0.6938 | F1: 0.5541 | Precision: 0.6206 | Recall: 0.5224Time: 250710_21:49:23\n",
      "Validation => Acc: 0.6641 | F1: 0.5339\n"
     ]
    },
    {
     "data": {
      "application/vnd.jupyter.widget-view+json": {
       "model_id": "28d1d45365514d1086a10a9424e1c9f6",
       "version_major": 2,
       "version_minor": 0
      },
      "text/plain": [
       "[1/2229]   0%|           [00:00<?]"
      ]
     },
     "metadata": {},
     "output_type": "display_data"
    },
    {
     "name": "stdout",
     "output_type": "stream",
     "text": [
      "\n",
      "Epoch 360 Results => Loss: 1.3766 | Loss_Reg: 0.0283 | Loss_Cls: 0.6741 | Acc: 0.6889 | LR: 0.001000 | Avg confidence: 0.6937 | F1: 0.5541 | Precision: 0.6203 | Recall: 0.5225Time: 250710_21:49:49\n",
      "Validation => Acc: 0.6445 | F1: 0.5835\n"
     ]
    },
    {
     "data": {
      "application/vnd.jupyter.widget-view+json": {
       "model_id": "65aef84864544708b43bde6130072290",
       "version_major": 2,
       "version_minor": 0
      },
      "text/plain": [
       "[1/2229]   0%|           [00:00<?]"
      ]
     },
     "metadata": {},
     "output_type": "display_data"
    },
    {
     "name": "stdout",
     "output_type": "stream",
     "text": [
      "\n",
      "Epoch 361 Results => Loss: 1.3765 | Loss_Reg: 0.0283 | Loss_Cls: 0.6741 | Acc: 0.6890 | LR: 0.001000 | Avg confidence: 0.6938 | F1: 0.5549 | Precision: 0.6208 | Recall: 0.5232Time: 250710_21:50:15\n",
      "Validation => Acc: 0.6602 | F1: 0.4586\n"
     ]
    },
    {
     "data": {
      "application/vnd.jupyter.widget-view+json": {
       "model_id": "65c22aa3a4a441279c73faeccd9bdd5c",
       "version_major": 2,
       "version_minor": 0
      },
      "text/plain": [
       "[1/2229]   0%|           [00:00<?]"
      ]
     },
     "metadata": {},
     "output_type": "display_data"
    },
    {
     "name": "stdout",
     "output_type": "stream",
     "text": [
      "\n",
      "Epoch 362 Results => Loss: 1.3762 | Loss_Reg: 0.0283 | Loss_Cls: 0.6739 | Acc: 0.6890 | LR: 0.001000 | Avg confidence: 0.6939 | F1: 0.5539 | Precision: 0.6191 | Recall: 0.5224Time: 250710_21:50:42\n",
      "Validation => Acc: 0.6471 | F1: 0.4452\n"
     ]
    },
    {
     "data": {
      "application/vnd.jupyter.widget-view+json": {
       "model_id": "c18fda3c0e1441c0aaaa2bd9467ed2c1",
       "version_major": 2,
       "version_minor": 0
      },
      "text/plain": [
       "[1/2229]   0%|           [00:00<?]"
      ]
     },
     "metadata": {},
     "output_type": "display_data"
    },
    {
     "name": "stdout",
     "output_type": "stream",
     "text": [
      "\n",
      "Epoch 363 Results => Loss: 1.3759 | Loss_Reg: 0.0283 | Loss_Cls: 0.6738 | Acc: 0.6890 | LR: 0.001000 | Avg confidence: 0.6940 | F1: 0.5548 | Precision: 0.6208 | Recall: 0.5231Time: 250710_21:51:08\n",
      "Validation => Acc: 0.6992 | F1: 0.5226\n"
     ]
    },
    {
     "data": {
      "application/vnd.jupyter.widget-view+json": {
       "model_id": "05444ea05a5045f290a8317c1bb794f0",
       "version_major": 2,
       "version_minor": 0
      },
      "text/plain": [
       "[1/2229]   0%|           [00:00<?]"
      ]
     },
     "metadata": {},
     "output_type": "display_data"
    },
    {
     "name": "stdout",
     "output_type": "stream",
     "text": [
      "\n",
      "Epoch 364 Results => Loss: 1.3759 | Loss_Reg: 0.0283 | Loss_Cls: 0.6738 | Acc: 0.6888 | LR: 0.001000 | Avg confidence: 0.6940 | F1: 0.5537 | Precision: 0.6199 | Recall: 0.5222Time: 250710_21:51:34\n",
      "Validation => Acc: 0.6315 | F1: 0.4753\n"
     ]
    },
    {
     "data": {
      "application/vnd.jupyter.widget-view+json": {
       "model_id": "7305e3c463d648d8bdfc710f22a316c9",
       "version_major": 2,
       "version_minor": 0
      },
      "text/plain": [
       "[1/2229]   0%|           [00:00<?]"
      ]
     },
     "metadata": {},
     "output_type": "display_data"
    },
    {
     "name": "stdout",
     "output_type": "stream",
     "text": [
      "\n",
      "Epoch 365 Results => Loss: 1.3754 | Loss_Reg: 0.0283 | Loss_Cls: 0.6735 | Acc: 0.6892 | LR: 0.001000 | Avg confidence: 0.6941 | F1: 0.5548 | Precision: 0.6202 | Recall: 0.5232Time: 250710_21:52:01\n",
      "Validation => Acc: 0.6445 | F1: 0.4839\n"
     ]
    },
    {
     "data": {
      "application/vnd.jupyter.widget-view+json": {
       "model_id": "92c6928e8107407283e08e3cceab1615",
       "version_major": 2,
       "version_minor": 0
      },
      "text/plain": [
       "[1/2229]   0%|           [00:00<?]"
      ]
     },
     "metadata": {},
     "output_type": "display_data"
    },
    {
     "name": "stdout",
     "output_type": "stream",
     "text": [
      "\n",
      "Epoch 366 Results => Loss: 1.3753 | Loss_Reg: 0.0283 | Loss_Cls: 0.6735 | Acc: 0.6893 | LR: 0.001000 | Avg confidence: 0.6941 | F1: 0.5544 | Precision: 0.6204 | Recall: 0.5229Time: 250710_21:52:27\n",
      "Validation => Acc: 0.6406 | F1: 0.5322\n"
     ]
    },
    {
     "data": {
      "application/vnd.jupyter.widget-view+json": {
       "model_id": "60358cbdb98d4afa9e84165242b2a0b2",
       "version_major": 2,
       "version_minor": 0
      },
      "text/plain": [
       "[1/2229]   0%|           [00:00<?]"
      ]
     },
     "metadata": {},
     "output_type": "display_data"
    },
    {
     "name": "stdout",
     "output_type": "stream",
     "text": [
      "\n",
      "Epoch 367 Results => Loss: 1.3752 | Loss_Reg: 0.0283 | Loss_Cls: 0.6734 | Acc: 0.6893 | LR: 0.000100 | Avg confidence: 0.6941 | F1: 0.5541 | Precision: 0.6203 | Recall: 0.5226Time: 250710_21:52:53\n",
      "Validation => Acc: 0.6615 | F1: 0.5688\n"
     ]
    },
    {
     "data": {
      "application/vnd.jupyter.widget-view+json": {
       "model_id": "49a14dff10794da6b0d30c3f38ff751b",
       "version_major": 2,
       "version_minor": 0
      },
      "text/plain": [
       "[1/2229]   0%|           [00:00<?]"
      ]
     },
     "metadata": {},
     "output_type": "display_data"
    },
    {
     "name": "stdout",
     "output_type": "stream",
     "text": [
      "\n",
      "Epoch 368 Results => Loss: 1.3528 | Loss_Reg: 0.0282 | Loss_Cls: 0.6623 | Acc: 0.6952 | LR: 0.000100 | Avg confidence: 0.6955 | F1: 0.5634 | Precision: 0.6316 | Recall: 0.5307Time: 250710_21:53:20\n",
      "Validation => Acc: 0.6484 | F1: 0.4817\n"
     ]
    },
    {
     "data": {
      "application/vnd.jupyter.widget-view+json": {
       "model_id": "07f0d96f695645fea5ac7bba9208128f",
       "version_major": 2,
       "version_minor": 0
      },
      "text/plain": [
       "[1/2229]   0%|           [00:00<?]"
      ]
     },
     "metadata": {},
     "output_type": "display_data"
    },
    {
     "name": "stdout",
     "output_type": "stream",
     "text": [
      "\n",
      "Epoch 369 Results => Loss: 1.3464 | Loss_Reg: 0.0282 | Loss_Cls: 0.6591 | Acc: 0.6970 | LR: 0.000100 | Avg confidence: 0.6965 | F1: 0.5667 | Precision: 0.6355 | Recall: 0.5337Time: 250710_21:53:46\n",
      "Validation => Acc: 0.6510 | F1: 0.5110\n"
     ]
    },
    {
     "data": {
      "application/vnd.jupyter.widget-view+json": {
       "model_id": "145095a7bb90440c842394f5bae96a91",
       "version_major": 2,
       "version_minor": 0
      },
      "text/plain": [
       "[1/2229]   0%|           [00:00<?]"
      ]
     },
     "metadata": {},
     "output_type": "display_data"
    },
    {
     "name": "stdout",
     "output_type": "stream",
     "text": [
      "\n",
      "Epoch 370 Results => Loss: 1.3444 | Loss_Reg: 0.0282 | Loss_Cls: 0.6581 | Acc: 0.6975 | LR: 0.000100 | Avg confidence: 0.6969 | F1: 0.5676 | Precision: 0.6362 | Recall: 0.5345Time: 250710_21:54:12\n",
      "Validation => Acc: 0.6250 | F1: 0.4697\n"
     ]
    },
    {
     "data": {
      "application/vnd.jupyter.widget-view+json": {
       "model_id": "ef9566f0ef994795ae1d62e0a7c7c820",
       "version_major": 2,
       "version_minor": 0
      },
      "text/plain": [
       "[1/2229]   0%|           [00:00<?]"
      ]
     },
     "metadata": {},
     "output_type": "display_data"
    },
    {
     "name": "stdout",
     "output_type": "stream",
     "text": [
      "\n",
      "Epoch 371 Results => Loss: 1.3432 | Loss_Reg: 0.0282 | Loss_Cls: 0.6575 | Acc: 0.6977 | LR: 0.000100 | Avg confidence: 0.6973 | F1: 0.5679 | Precision: 0.6364 | Recall: 0.5349Time: 250710_21:54:39\n",
      "Validation => Acc: 0.6693 | F1: 0.5941\n"
     ]
    },
    {
     "data": {
      "application/vnd.jupyter.widget-view+json": {
       "model_id": "c291dd7db33e4c9295e6a5432239462f",
       "version_major": 2,
       "version_minor": 0
      },
      "text/plain": [
       "[1/2229]   0%|           [00:00<?]"
      ]
     },
     "metadata": {},
     "output_type": "display_data"
    },
    {
     "name": "stdout",
     "output_type": "stream",
     "text": [
      "\n",
      "Epoch 372 Results => Loss: 1.3426 | Loss_Reg: 0.0282 | Loss_Cls: 0.6572 | Acc: 0.6980 | LR: 0.000100 | Avg confidence: 0.6975 | F1: 0.5685 | Precision: 0.6370 | Recall: 0.5355Time: 250710_21:55:05\n",
      "Validation => Acc: 0.6719 | F1: 0.4898\n"
     ]
    },
    {
     "data": {
      "application/vnd.jupyter.widget-view+json": {
       "model_id": "edff8f4066ef42bb85ccd9a2df341cd2",
       "version_major": 2,
       "version_minor": 0
      },
      "text/plain": [
       "[1/2229]   0%|           [00:00<?]"
      ]
     },
     "metadata": {},
     "output_type": "display_data"
    },
    {
     "name": "stdout",
     "output_type": "stream",
     "text": [
      "\n",
      "Epoch 373 Results => Loss: 1.3420 | Loss_Reg: 0.0282 | Loss_Cls: 0.6569 | Acc: 0.6981 | LR: 0.000100 | Avg confidence: 0.6977 | F1: 0.5685 | Precision: 0.6366 | Recall: 0.5356Time: 250710_21:55:31\n",
      "Validation => Acc: 0.6667 | F1: 0.5011\n"
     ]
    },
    {
     "data": {
      "application/vnd.jupyter.widget-view+json": {
       "model_id": "acdf37ceb02040949b27bc67138b60ec",
       "version_major": 2,
       "version_minor": 0
      },
      "text/plain": [
       "[1/2229]   0%|           [00:00<?]"
      ]
     },
     "metadata": {},
     "output_type": "display_data"
    },
    {
     "name": "stdout",
     "output_type": "stream",
     "text": [
      "\n",
      "Epoch 374 Results => Loss: 1.3416 | Loss_Reg: 0.0282 | Loss_Cls: 0.6567 | Acc: 0.6982 | LR: 0.000100 | Avg confidence: 0.6978 | F1: 0.5687 | Precision: 0.6366 | Recall: 0.5358Time: 250710_21:55:57\n",
      "Validation => Acc: 0.6589 | F1: 0.5400\n"
     ]
    },
    {
     "data": {
      "application/vnd.jupyter.widget-view+json": {
       "model_id": "d9947a9cf2d04c64be26d007df350e60",
       "version_major": 2,
       "version_minor": 0
      },
      "text/plain": [
       "[1/2229]   0%|           [00:00<?]"
      ]
     },
     "metadata": {},
     "output_type": "display_data"
    },
    {
     "name": "stdout",
     "output_type": "stream",
     "text": [
      "\n",
      "Epoch 375 Results => Loss: 1.3412 | Loss_Reg: 0.0282 | Loss_Cls: 0.6565 | Acc: 0.6983 | LR: 0.000100 | Avg confidence: 0.6979 | F1: 0.5690 | Precision: 0.6371 | Recall: 0.5360Time: 250710_21:56:24\n",
      "Validation => Acc: 0.6172 | F1: 0.4717\n"
     ]
    },
    {
     "data": {
      "application/vnd.jupyter.widget-view+json": {
       "model_id": "7b5fc2dca4204a569ada7e36451baab2",
       "version_major": 2,
       "version_minor": 0
      },
      "text/plain": [
       "[1/2229]   0%|           [00:00<?]"
      ]
     },
     "metadata": {},
     "output_type": "display_data"
    },
    {
     "name": "stdout",
     "output_type": "stream",
     "text": [
      "\n",
      "Epoch 376 Results => Loss: 1.3410 | Loss_Reg: 0.0282 | Loss_Cls: 0.6564 | Acc: 0.6982 | LR: 0.000100 | Avg confidence: 0.6981 | F1: 0.5692 | Precision: 0.6372 | Recall: 0.5362Time: 250710_21:56:50\n",
      "Validation => Acc: 0.6458 | F1: 0.4696\n"
     ]
    },
    {
     "data": {
      "application/vnd.jupyter.widget-view+json": {
       "model_id": "13e27d2d37a24b198b2ceb05ebf176ef",
       "version_major": 2,
       "version_minor": 0
      },
      "text/plain": [
       "[1/2229]   0%|           [00:00<?]"
      ]
     },
     "metadata": {},
     "output_type": "display_data"
    },
    {
     "name": "stdout",
     "output_type": "stream",
     "text": [
      "\n",
      "Epoch 377 Results => Loss: 1.3407 | Loss_Reg: 0.0282 | Loss_Cls: 0.6563 | Acc: 0.6983 | LR: 0.000100 | Avg confidence: 0.6981 | F1: 0.5692 | Precision: 0.6368 | Recall: 0.5363Time: 250710_21:57:16\n",
      "Validation => Acc: 0.6354 | F1: 0.5064\n"
     ]
    },
    {
     "data": {
      "application/vnd.jupyter.widget-view+json": {
       "model_id": "a2ddf26068f946e3b9677c18ecaa566d",
       "version_major": 2,
       "version_minor": 0
      },
      "text/plain": [
       "[1/2229]   0%|           [00:00<?]"
      ]
     },
     "metadata": {},
     "output_type": "display_data"
    },
    {
     "name": "stdout",
     "output_type": "stream",
     "text": [
      "\n",
      "Epoch 378 Results => Loss: 1.3405 | Loss_Reg: 0.0282 | Loss_Cls: 0.6562 | Acc: 0.6985 | LR: 0.000100 | Avg confidence: 0.6982 | F1: 0.5691 | Precision: 0.6369 | Recall: 0.5363Time: 250710_21:57:43\n",
      "Validation => Acc: 0.6641 | F1: 0.5389\n"
     ]
    },
    {
     "data": {
      "application/vnd.jupyter.widget-view+json": {
       "model_id": "f554fb7d8fa94845be62b13b27ddf33e",
       "version_major": 2,
       "version_minor": 0
      },
      "text/plain": [
       "[1/2229]   0%|           [00:00<?]"
      ]
     },
     "metadata": {},
     "output_type": "display_data"
    },
    {
     "name": "stdout",
     "output_type": "stream",
     "text": [
      "\n",
      "Epoch 379 Results => Loss: 1.3403 | Loss_Reg: 0.0282 | Loss_Cls: 0.6561 | Acc: 0.6984 | LR: 0.000100 | Avg confidence: 0.6983 | F1: 0.5694 | Precision: 0.6371 | Recall: 0.5365Time: 250710_21:58:09\n",
      "Validation => Acc: 0.6628 | F1: 0.5267\n"
     ]
    },
    {
     "data": {
      "application/vnd.jupyter.widget-view+json": {
       "model_id": "43cf1865d11b4f1492936af736d1cb5e",
       "version_major": 2,
       "version_minor": 0
      },
      "text/plain": [
       "[1/2229]   0%|           [00:00<?]"
      ]
     },
     "metadata": {},
     "output_type": "display_data"
    },
    {
     "name": "stdout",
     "output_type": "stream",
     "text": [
      "\n",
      "Epoch 380 Results => Loss: 1.3401 | Loss_Reg: 0.0282 | Loss_Cls: 0.6560 | Acc: 0.6985 | LR: 0.000100 | Avg confidence: 0.6984 | F1: 0.5695 | Precision: 0.6374 | Recall: 0.5365Time: 250710_21:58:35\n",
      "Validation => Acc: 0.6484 | F1: 0.4679\n"
     ]
    },
    {
     "data": {
      "application/vnd.jupyter.widget-view+json": {
       "model_id": "4e6c82748d1f4907accaf033c01ae3ac",
       "version_major": 2,
       "version_minor": 0
      },
      "text/plain": [
       "[1/2229]   0%|           [00:00<?]"
      ]
     },
     "metadata": {},
     "output_type": "display_data"
    },
    {
     "name": "stdout",
     "output_type": "stream",
     "text": [
      "\n",
      "Epoch 381 Results => Loss: 1.3400 | Loss_Reg: 0.0282 | Loss_Cls: 0.6559 | Acc: 0.6986 | LR: 0.000100 | Avg confidence: 0.6984 | F1: 0.5696 | Precision: 0.6372 | Recall: 0.5367Time: 250710_21:59:02\n",
      "Validation => Acc: 0.6745 | F1: 0.4611\n"
     ]
    },
    {
     "data": {
      "application/vnd.jupyter.widget-view+json": {
       "model_id": "95ac74837e854c8f8bbbf26304f415cb",
       "version_major": 2,
       "version_minor": 0
      },
      "text/plain": [
       "[1/2229]   0%|           [00:00<?]"
      ]
     },
     "metadata": {},
     "output_type": "display_data"
    },
    {
     "name": "stdout",
     "output_type": "stream",
     "text": [
      "\n",
      "Epoch 382 Results => Loss: 1.3398 | Loss_Reg: 0.0282 | Loss_Cls: 0.6558 | Acc: 0.6986 | LR: 0.000100 | Avg confidence: 0.6985 | F1: 0.5695 | Precision: 0.6371 | Recall: 0.5367Time: 250710_21:59:28\n",
      "Validation => Acc: 0.6576 | F1: 0.4706\n"
     ]
    },
    {
     "data": {
      "application/vnd.jupyter.widget-view+json": {
       "model_id": "973a63e1bca74e13b14cf61b67600809",
       "version_major": 2,
       "version_minor": 0
      },
      "text/plain": [
       "[1/2229]   0%|           [00:00<?]"
      ]
     },
     "metadata": {},
     "output_type": "display_data"
    },
    {
     "name": "stdout",
     "output_type": "stream",
     "text": [
      "\n",
      "Epoch 383 Results => Loss: 1.3397 | Loss_Reg: 0.0282 | Loss_Cls: 0.6558 | Acc: 0.6987 | LR: 0.000100 | Avg confidence: 0.6985 | F1: 0.5700 | Precision: 0.6377 | Recall: 0.5370Time: 250710_21:59:55\n",
      "Validation => Acc: 0.6562 | F1: 0.4689\n"
     ]
    },
    {
     "data": {
      "application/vnd.jupyter.widget-view+json": {
       "model_id": "5d9638fab41947858147d1dffa1ca092",
       "version_major": 2,
       "version_minor": 0
      },
      "text/plain": [
       "[1/2229]   0%|           [00:00<?]"
      ]
     },
     "metadata": {},
     "output_type": "display_data"
    },
    {
     "name": "stdout",
     "output_type": "stream",
     "text": [
      "\n",
      "Epoch 384 Results => Loss: 1.3396 | Loss_Reg: 0.0282 | Loss_Cls: 0.6557 | Acc: 0.6986 | LR: 0.000100 | Avg confidence: 0.6986 | F1: 0.5698 | Precision: 0.6375 | Recall: 0.5368Time: 250710_22:00:21\n",
      "Validation => Acc: 0.6419 | F1: 0.4591\n"
     ]
    },
    {
     "data": {
      "application/vnd.jupyter.widget-view+json": {
       "model_id": "c2105d609bcb4185adab74dd52b29c14",
       "version_major": 2,
       "version_minor": 0
      },
      "text/plain": [
       "[1/2229]   0%|           [00:00<?]"
      ]
     },
     "metadata": {},
     "output_type": "display_data"
    },
    {
     "name": "stdout",
     "output_type": "stream",
     "text": [
      "\n",
      "Epoch 385 Results => Loss: 1.3394 | Loss_Reg: 0.0282 | Loss_Cls: 0.6556 | Acc: 0.6986 | LR: 0.000100 | Avg confidence: 0.6987 | F1: 0.5698 | Precision: 0.6373 | Recall: 0.5369Time: 250710_22:00:47\n",
      "Validation => Acc: 0.6758 | F1: 0.4868\n"
     ]
    },
    {
     "data": {
      "application/vnd.jupyter.widget-view+json": {
       "model_id": "6c4bd630407048dc8ade125c496ee4bc",
       "version_major": 2,
       "version_minor": 0
      },
      "text/plain": [
       "[1/2229]   0%|           [00:00<?]"
      ]
     },
     "metadata": {},
     "output_type": "display_data"
    },
    {
     "name": "stdout",
     "output_type": "stream",
     "text": [
      "\n",
      "Epoch 386 Results => Loss: 1.3393 | Loss_Reg: 0.0282 | Loss_Cls: 0.6556 | Acc: 0.6987 | LR: 0.000100 | Avg confidence: 0.6987 | F1: 0.5698 | Precision: 0.6374 | Recall: 0.5369Time: 250710_22:01:13\n",
      "Validation => Acc: 0.6615 | F1: 0.5841\n"
     ]
    },
    {
     "data": {
      "application/vnd.jupyter.widget-view+json": {
       "model_id": "ec31bbaca9e54246b779594758e34e5f",
       "version_major": 2,
       "version_minor": 0
      },
      "text/plain": [
       "[1/2229]   0%|           [00:00<?]"
      ]
     },
     "metadata": {},
     "output_type": "display_data"
    },
    {
     "name": "stdout",
     "output_type": "stream",
     "text": [
      "\n",
      "Epoch 387 Results => Loss: 1.3392 | Loss_Reg: 0.0282 | Loss_Cls: 0.6555 | Acc: 0.6987 | LR: 0.000100 | Avg confidence: 0.6987 | F1: 0.5700 | Precision: 0.6374 | Recall: 0.5371Time: 250710_22:01:40\n",
      "Validation => Acc: 0.6615 | F1: 0.4887\n"
     ]
    },
    {
     "data": {
      "application/vnd.jupyter.widget-view+json": {
       "model_id": "e35e71ad8fa44454a3ff01b029164346",
       "version_major": 2,
       "version_minor": 0
      },
      "text/plain": [
       "[1/2229]   0%|           [00:00<?]"
      ]
     },
     "metadata": {},
     "output_type": "display_data"
    },
    {
     "name": "stdout",
     "output_type": "stream",
     "text": [
      "\n",
      "Epoch 388 Results => Loss: 1.3390 | Loss_Reg: 0.0282 | Loss_Cls: 0.6554 | Acc: 0.6988 | LR: 0.000100 | Avg confidence: 0.6988 | F1: 0.5700 | Precision: 0.6372 | Recall: 0.5371Time: 250710_22:02:06\n",
      "Validation => Acc: 0.6719 | F1: 0.5478\n"
     ]
    },
    {
     "data": {
      "application/vnd.jupyter.widget-view+json": {
       "model_id": "7fd2793936fc49ff968692ab73a7d310",
       "version_major": 2,
       "version_minor": 0
      },
      "text/plain": [
       "[1/2229]   0%|           [00:00<?]"
      ]
     },
     "metadata": {},
     "output_type": "display_data"
    },
    {
     "name": "stdout",
     "output_type": "stream",
     "text": [
      "\n",
      "Epoch 389 Results => Loss: 1.3389 | Loss_Reg: 0.0282 | Loss_Cls: 0.6554 | Acc: 0.6988 | LR: 0.000100 | Avg confidence: 0.6988 | F1: 0.5701 | Precision: 0.6373 | Recall: 0.5372Time: 250710_22:02:33\n",
      "Validation => Acc: 0.6484 | F1: 0.4597\n"
     ]
    },
    {
     "data": {
      "application/vnd.jupyter.widget-view+json": {
       "model_id": "a0b7e764226e440aa4d89b80ef8ecfb0",
       "version_major": 2,
       "version_minor": 0
      },
      "text/plain": [
       "[1/2229]   0%|           [00:00<?]"
      ]
     },
     "metadata": {},
     "output_type": "display_data"
    },
    {
     "name": "stdout",
     "output_type": "stream",
     "text": [
      "\n",
      "Epoch 390 Results => Loss: 1.3388 | Loss_Reg: 0.0282 | Loss_Cls: 0.6553 | Acc: 0.6988 | LR: 0.000100 | Avg confidence: 0.6989 | F1: 0.5702 | Precision: 0.6377 | Recall: 0.5373Time: 250710_22:02:59\n",
      "Validation => Acc: 0.6432 | F1: 0.5507\n"
     ]
    },
    {
     "data": {
      "application/vnd.jupyter.widget-view+json": {
       "model_id": "dc2f0d4b7de94806a27df746aed3ddc2",
       "version_major": 2,
       "version_minor": 0
      },
      "text/plain": [
       "[1/2229]   0%|           [00:00<?]"
      ]
     },
     "metadata": {},
     "output_type": "display_data"
    },
    {
     "name": "stdout",
     "output_type": "stream",
     "text": [
      "\n",
      "Epoch 391 Results => Loss: 1.3387 | Loss_Reg: 0.0282 | Loss_Cls: 0.6553 | Acc: 0.6989 | LR: 0.000100 | Avg confidence: 0.6988 | F1: 0.5706 | Precision: 0.6378 | Recall: 0.5377Time: 250710_22:03:26\n",
      "Validation => Acc: 0.6628 | F1: 0.5460\n"
     ]
    },
    {
     "data": {
      "application/vnd.jupyter.widget-view+json": {
       "model_id": "5eb781fa276c40c28605be93f3e1ce94",
       "version_major": 2,
       "version_minor": 0
      },
      "text/plain": [
       "[1/2229]   0%|           [00:00<?]"
      ]
     },
     "metadata": {},
     "output_type": "display_data"
    },
    {
     "name": "stdout",
     "output_type": "stream",
     "text": [
      "\n",
      "Epoch 392 Results => Loss: 1.3386 | Loss_Reg: 0.0282 | Loss_Cls: 0.6552 | Acc: 0.6988 | LR: 0.000100 | Avg confidence: 0.6990 | F1: 0.5701 | Precision: 0.6376 | Recall: 0.5372Time: 250710_22:03:52\n",
      "Validation => Acc: 0.6549 | F1: 0.4566\n"
     ]
    },
    {
     "data": {
      "application/vnd.jupyter.widget-view+json": {
       "model_id": "7f1691cb92fa4d9ebd238c008ab143e7",
       "version_major": 2,
       "version_minor": 0
      },
      "text/plain": [
       "[1/2229]   0%|           [00:00<?]"
      ]
     },
     "metadata": {},
     "output_type": "display_data"
    },
    {
     "name": "stdout",
     "output_type": "stream",
     "text": [
      "\n",
      "Epoch 393 Results => Loss: 1.3385 | Loss_Reg: 0.0282 | Loss_Cls: 0.6552 | Acc: 0.6990 | LR: 0.000100 | Avg confidence: 0.6989 | F1: 0.5705 | Precision: 0.6377 | Recall: 0.5375Time: 250710_22:04:18\n",
      "Validation => Acc: 0.6432 | F1: 0.5168\n"
     ]
    },
    {
     "data": {
      "application/vnd.jupyter.widget-view+json": {
       "model_id": "2a45259da9794be8a93a59982fc4ff82",
       "version_major": 2,
       "version_minor": 0
      },
      "text/plain": [
       "[1/2229]   0%|           [00:00<?]"
      ]
     },
     "metadata": {},
     "output_type": "display_data"
    },
    {
     "name": "stdout",
     "output_type": "stream",
     "text": [
      "\n",
      "Epoch 394 Results => Loss: 1.3384 | Loss_Reg: 0.0282 | Loss_Cls: 0.6551 | Acc: 0.6989 | LR: 0.000100 | Avg confidence: 0.6990 | F1: 0.5701 | Precision: 0.6372 | Recall: 0.5373Time: 250710_22:04:45\n",
      "Validation => Acc: 0.6706 | F1: 0.4736\n"
     ]
    },
    {
     "data": {
      "application/vnd.jupyter.widget-view+json": {
       "model_id": "97e8f430825a4409adddc815372027a3",
       "version_major": 2,
       "version_minor": 0
      },
      "text/plain": [
       "[1/2229]   0%|           [00:00<?]"
      ]
     },
     "metadata": {},
     "output_type": "display_data"
    },
    {
     "name": "stdout",
     "output_type": "stream",
     "text": [
      "\n",
      "Epoch 395 Results => Loss: 1.3383 | Loss_Reg: 0.0282 | Loss_Cls: 0.6551 | Acc: 0.6989 | LR: 0.000100 | Avg confidence: 0.6990 | F1: 0.5705 | Precision: 0.6378 | Recall: 0.5376Time: 250710_22:05:11\n",
      "Validation => Acc: 0.6602 | F1: 0.4728\n"
     ]
    },
    {
     "data": {
      "application/vnd.jupyter.widget-view+json": {
       "model_id": "f316b73ffb5342cb82bc8f198ce40893",
       "version_major": 2,
       "version_minor": 0
      },
      "text/plain": [
       "[1/2229]   0%|           [00:00<?]"
      ]
     },
     "metadata": {},
     "output_type": "display_data"
    },
    {
     "name": "stdout",
     "output_type": "stream",
     "text": [
      "\n",
      "Epoch 396 Results => Loss: 1.3382 | Loss_Reg: 0.0282 | Loss_Cls: 0.6550 | Acc: 0.6989 | LR: 0.000100 | Avg confidence: 0.6991 | F1: 0.5705 | Precision: 0.6377 | Recall: 0.5375Time: 250710_22:05:38\n",
      "Validation => Acc: 0.6562 | F1: 0.5411\n"
     ]
    },
    {
     "data": {
      "application/vnd.jupyter.widget-view+json": {
       "model_id": "0d982ac31c2c4932a1a97dd752eabe6a",
       "version_major": 2,
       "version_minor": 0
      },
      "text/plain": [
       "[1/2229]   0%|           [00:00<?]"
      ]
     },
     "metadata": {},
     "output_type": "display_data"
    },
    {
     "name": "stdout",
     "output_type": "stream",
     "text": [
      "\n",
      "Epoch 397 Results => Loss: 1.3382 | Loss_Reg: 0.0282 | Loss_Cls: 0.6550 | Acc: 0.6990 | LR: 0.000010 | Avg confidence: 0.6991 | F1: 0.5705 | Precision: 0.6375 | Recall: 0.5376Time: 250710_22:06:04\n",
      "Validation => Acc: 0.6862 | F1: 0.5422\n"
     ]
    },
    {
     "data": {
      "application/vnd.jupyter.widget-view+json": {
       "model_id": "24fa0c14a6b94f3292dfb74166757796",
       "version_major": 2,
       "version_minor": 0
      },
      "text/plain": [
       "[1/2229]   0%|           [00:00<?]"
      ]
     },
     "metadata": {},
     "output_type": "display_data"
    },
    {
     "name": "stdout",
     "output_type": "stream",
     "text": [
      "\n",
      "Epoch 398 Results => Loss: 1.3352 | Loss_Reg: 0.0281 | Loss_Cls: 0.6535 | Acc: 0.6999 | LR: 0.000010 | Avg confidence: 0.6993 | F1: 0.5719 | Precision: 0.6398 | Recall: 0.5387Time: 250710_22:06:30\n",
      "Validation => Acc: 0.6484 | F1: 0.4727\n"
     ]
    },
    {
     "data": {
      "application/vnd.jupyter.widget-view+json": {
       "model_id": "b5f0febd62c64a5eb8814fe9c41dc4bc",
       "version_major": 2,
       "version_minor": 0
      },
      "text/plain": [
       "[1/2229]   0%|           [00:00<?]"
      ]
     },
     "metadata": {},
     "output_type": "display_data"
    },
    {
     "name": "stdout",
     "output_type": "stream",
     "text": [
      "\n",
      "Epoch 399 Results => Loss: 1.3349 | Loss_Reg: 0.0281 | Loss_Cls: 0.6534 | Acc: 0.7000 | LR: 0.000010 | Avg confidence: 0.6993 | F1: 0.5720 | Precision: 0.6397 | Recall: 0.5389Time: 250710_22:06:57\n",
      "Validation => Acc: 0.6549 | F1: 0.5004\n"
     ]
    },
    {
     "data": {
      "application/vnd.jupyter.widget-view+json": {
       "model_id": "e8028bf651b942838f29310949557642",
       "version_major": 2,
       "version_minor": 0
      },
      "text/plain": [
       "[1/2229]   0%|           [00:00<?]"
      ]
     },
     "metadata": {},
     "output_type": "display_data"
    },
    {
     "name": "stdout",
     "output_type": "stream",
     "text": [
      "\n",
      "Epoch 400 Results => Loss: 1.3348 | Loss_Reg: 0.0281 | Loss_Cls: 0.6533 | Acc: 0.7000 | LR: 0.000010 | Avg confidence: 0.6993 | F1: 0.5721 | Precision: 0.6401 | Recall: 0.5389Time: 250710_22:07:23\n",
      "Validation => Acc: 0.6602 | F1: 0.5348\n"
     ]
    },
    {
     "data": {
      "application/vnd.jupyter.widget-view+json": {
       "model_id": "0107fe62c8d54a26b832ec117be47f06",
       "version_major": 2,
       "version_minor": 0
      },
      "text/plain": [
       "[1/2229]   0%|           [00:00<?]"
      ]
     },
     "metadata": {},
     "output_type": "display_data"
    },
    {
     "name": "stdout",
     "output_type": "stream",
     "text": [
      "\n",
      "Epoch 401 Results => Loss: 1.3348 | Loss_Reg: 0.0281 | Loss_Cls: 0.6533 | Acc: 0.7000 | LR: 0.000010 | Avg confidence: 0.6994 | F1: 0.5721 | Precision: 0.6400 | Recall: 0.5389Time: 250710_22:07:49\n",
      "Validation => Acc: 0.6589 | F1: 0.4626\n"
     ]
    },
    {
     "data": {
      "application/vnd.jupyter.widget-view+json": {
       "model_id": "c3ca3951526348a9941fc12c6080ec83",
       "version_major": 2,
       "version_minor": 0
      },
      "text/plain": [
       "[1/2229]   0%|           [00:00<?]"
      ]
     },
     "metadata": {},
     "output_type": "display_data"
    },
    {
     "name": "stdout",
     "output_type": "stream",
     "text": [
      "\n",
      "Epoch 402 Results => Loss: 1.3347 | Loss_Reg: 0.0281 | Loss_Cls: 0.6533 | Acc: 0.7000 | LR: 0.000010 | Avg confidence: 0.6994 | F1: 0.5720 | Precision: 0.6397 | Recall: 0.5390Time: 250710_22:08:15\n",
      "Validation => Acc: 0.6211 | F1: 0.5290\n"
     ]
    },
    {
     "data": {
      "application/vnd.jupyter.widget-view+json": {
       "model_id": "a3780895592543428d0d7f213e7bdb60",
       "version_major": 2,
       "version_minor": 0
      },
      "text/plain": [
       "[1/2229]   0%|           [00:00<?]"
      ]
     },
     "metadata": {},
     "output_type": "display_data"
    },
    {
     "name": "stdout",
     "output_type": "stream",
     "text": [
      "\n",
      "Epoch 403 Results => Loss: 1.3347 | Loss_Reg: 0.0281 | Loss_Cls: 0.6533 | Acc: 0.7001 | LR: 0.000010 | Avg confidence: 0.6994 | F1: 0.5720 | Precision: 0.6398 | Recall: 0.5389Time: 250710_22:08:42\n",
      "Validation => Acc: 0.6510 | F1: 0.5061\n"
     ]
    },
    {
     "data": {
      "application/vnd.jupyter.widget-view+json": {
       "model_id": "0321d278f1af43b6b91a4786a597214c",
       "version_major": 2,
       "version_minor": 0
      },
      "text/plain": [
       "[1/2229]   0%|           [00:00<?]"
      ]
     },
     "metadata": {},
     "output_type": "display_data"
    },
    {
     "name": "stdout",
     "output_type": "stream",
     "text": [
      "\n",
      "Epoch 404 Results => Loss: 1.3347 | Loss_Reg: 0.0281 | Loss_Cls: 0.6533 | Acc: 0.7000 | LR: 0.000010 | Avg confidence: 0.6994 | F1: 0.5722 | Precision: 0.6401 | Recall: 0.5391Time: 250710_22:09:08\n",
      "Validation => Acc: 0.6497 | F1: 0.4803\n"
     ]
    },
    {
     "data": {
      "application/vnd.jupyter.widget-view+json": {
       "model_id": "f381a4c05a7446fcaa124aa451a0fa7d",
       "version_major": 2,
       "version_minor": 0
      },
      "text/plain": [
       "[1/2229]   0%|           [00:00<?]"
      ]
     },
     "metadata": {},
     "output_type": "display_data"
    },
    {
     "name": "stdout",
     "output_type": "stream",
     "text": [
      "\n",
      "Epoch 405 Results => Loss: 1.3347 | Loss_Reg: 0.0281 | Loss_Cls: 0.6533 | Acc: 0.7001 | LR: 0.000010 | Avg confidence: 0.6994 | F1: 0.5722 | Precision: 0.6400 | Recall: 0.5391Time: 250710_22:09:35\n",
      "Validation => Acc: 0.6510 | F1: 0.5289\n"
     ]
    },
    {
     "data": {
      "application/vnd.jupyter.widget-view+json": {
       "model_id": "8505010bdedc4224866ae21c0be76838",
       "version_major": 2,
       "version_minor": 0
      },
      "text/plain": [
       "[1/2229]   0%|           [00:00<?]"
      ]
     },
     "metadata": {},
     "output_type": "display_data"
    },
    {
     "name": "stdout",
     "output_type": "stream",
     "text": [
      "\n",
      "Epoch 406 Results => Loss: 1.3346 | Loss_Reg: 0.0281 | Loss_Cls: 0.6533 | Acc: 0.7001 | LR: 0.000010 | Avg confidence: 0.6994 | F1: 0.5723 | Precision: 0.6401 | Recall: 0.5391Time: 250710_22:10:01\n",
      "Validation => Acc: 0.6523 | F1: 0.5444\n"
     ]
    },
    {
     "data": {
      "application/vnd.jupyter.widget-view+json": {
       "model_id": "0461346bbb2f421aa9b0695aef058d64",
       "version_major": 2,
       "version_minor": 0
      },
      "text/plain": [
       "[1/2229]   0%|           [00:00<?]"
      ]
     },
     "metadata": {},
     "output_type": "display_data"
    },
    {
     "name": "stdout",
     "output_type": "stream",
     "text": [
      "\n",
      "Epoch 407 Results => Loss: 1.3346 | Loss_Reg: 0.0281 | Loss_Cls: 0.6533 | Acc: 0.7000 | LR: 0.000010 | Avg confidence: 0.6994 | F1: 0.5722 | Precision: 0.6398 | Recall: 0.5391Time: 250710_22:10:27\n",
      "Validation => Acc: 0.6797 | F1: 0.5318\n"
     ]
    },
    {
     "data": {
      "application/vnd.jupyter.widget-view+json": {
       "model_id": "cabc05c958d14df58127f157d5793399",
       "version_major": 2,
       "version_minor": 0
      },
      "text/plain": [
       "[1/2229]   0%|           [00:00<?]"
      ]
     },
     "metadata": {},
     "output_type": "display_data"
    },
    {
     "name": "stdout",
     "output_type": "stream",
     "text": [
      "\n",
      "Epoch 408 Results => Loss: 1.3346 | Loss_Reg: 0.0281 | Loss_Cls: 0.6532 | Acc: 0.7001 | LR: 0.000010 | Avg confidence: 0.6994 | F1: 0.5723 | Precision: 0.6401 | Recall: 0.5392Time: 250710_22:10:53\n",
      "Validation => Acc: 0.6419 | F1: 0.4715\n"
     ]
    },
    {
     "data": {
      "application/vnd.jupyter.widget-view+json": {
       "model_id": "e6f8ce360dc245299d303f860b254ec1",
       "version_major": 2,
       "version_minor": 0
      },
      "text/plain": [
       "[1/2229]   0%|           [00:00<?]"
      ]
     },
     "metadata": {},
     "output_type": "display_data"
    },
    {
     "name": "stdout",
     "output_type": "stream",
     "text": [
      "\n",
      "Epoch 409 Results => Loss: 1.3346 | Loss_Reg: 0.0281 | Loss_Cls: 0.6532 | Acc: 0.7001 | LR: 0.000010 | Avg confidence: 0.6994 | F1: 0.5722 | Precision: 0.6400 | Recall: 0.5391Time: 250710_22:11:20\n",
      "Validation => Acc: 0.6979 | F1: 0.5941\n"
     ]
    },
    {
     "data": {
      "application/vnd.jupyter.widget-view+json": {
       "model_id": "a975ed837993415aac38c9b760ce8b1c",
       "version_major": 2,
       "version_minor": 0
      },
      "text/plain": [
       "[1/2229]   0%|           [00:00<?]"
      ]
     },
     "metadata": {},
     "output_type": "display_data"
    },
    {
     "name": "stdout",
     "output_type": "stream",
     "text": [
      "\n",
      "Epoch 410 Results => Loss: 1.3346 | Loss_Reg: 0.0281 | Loss_Cls: 0.6532 | Acc: 0.7001 | LR: 0.000010 | Avg confidence: 0.6995 | F1: 0.5722 | Precision: 0.6400 | Recall: 0.5391Time: 250710_22:11:46\n",
      "Validation => Acc: 0.6250 | F1: 0.5014\n"
     ]
    },
    {
     "data": {
      "application/vnd.jupyter.widget-view+json": {
       "model_id": "a5c4a054be844a13b05ff91d6ae5593e",
       "version_major": 2,
       "version_minor": 0
      },
      "text/plain": [
       "[1/2229]   0%|           [00:00<?]"
      ]
     },
     "metadata": {},
     "output_type": "display_data"
    },
    {
     "name": "stdout",
     "output_type": "stream",
     "text": [
      "\n",
      "Epoch 411 Results => Loss: 1.3346 | Loss_Reg: 0.0281 | Loss_Cls: 0.6532 | Acc: 0.7001 | LR: 0.000010 | Avg confidence: 0.6995 | F1: 0.5722 | Precision: 0.6402 | Recall: 0.5391Time: 250710_22:12:12\n",
      "Validation => Acc: 0.6198 | F1: 0.4999\n"
     ]
    },
    {
     "data": {
      "application/vnd.jupyter.widget-view+json": {
       "model_id": "8724ae9caf544da78898b7e6521094af",
       "version_major": 2,
       "version_minor": 0
      },
      "text/plain": [
       "[1/2229]   0%|           [00:00<?]"
      ]
     },
     "metadata": {},
     "output_type": "display_data"
    },
    {
     "name": "stdout",
     "output_type": "stream",
     "text": [
      "\n",
      "Epoch 412 Results => Loss: 1.3345 | Loss_Reg: 0.0281 | Loss_Cls: 0.6532 | Acc: 0.7001 | LR: 0.000010 | Avg confidence: 0.6995 | F1: 0.5724 | Precision: 0.6399 | Recall: 0.5393Time: 250710_22:12:39\n",
      "Validation => Acc: 0.6771 | F1: 0.5387\n"
     ]
    },
    {
     "data": {
      "application/vnd.jupyter.widget-view+json": {
       "model_id": "8b80171fc52e490fa3b23cf4cc223f6f",
       "version_major": 2,
       "version_minor": 0
      },
      "text/plain": [
       "[1/2229]   0%|           [00:00<?]"
      ]
     },
     "metadata": {},
     "output_type": "display_data"
    },
    {
     "name": "stdout",
     "output_type": "stream",
     "text": [
      "\n",
      "Epoch 413 Results => Loss: 1.3345 | Loss_Reg: 0.0281 | Loss_Cls: 0.6532 | Acc: 0.7000 | LR: 0.000010 | Avg confidence: 0.6995 | F1: 0.5721 | Precision: 0.6400 | Recall: 0.5390Time: 250710_22:13:05\n",
      "Validation => Acc: 0.6315 | F1: 0.4621\n"
     ]
    },
    {
     "data": {
      "application/vnd.jupyter.widget-view+json": {
       "model_id": "56cf89da8b1d46b9894dfc17f78a5e25",
       "version_major": 2,
       "version_minor": 0
      },
      "text/plain": [
       "[1/2229]   0%|           [00:00<?]"
      ]
     },
     "metadata": {},
     "output_type": "display_data"
    },
    {
     "name": "stdout",
     "output_type": "stream",
     "text": [
      "\n",
      "Epoch 414 Results => Loss: 1.3345 | Loss_Reg: 0.0281 | Loss_Cls: 0.6532 | Acc: 0.7001 | LR: 0.000010 | Avg confidence: 0.6995 | F1: 0.5724 | Precision: 0.6401 | Recall: 0.5393Time: 250710_22:13:31\n",
      "Validation => Acc: 0.6602 | F1: 0.4808\n"
     ]
    },
    {
     "data": {
      "application/vnd.jupyter.widget-view+json": {
       "model_id": "b0851ff54a934a4289b2c511af622205",
       "version_major": 2,
       "version_minor": 0
      },
      "text/plain": [
       "[1/2229]   0%|           [00:00<?]"
      ]
     },
     "metadata": {},
     "output_type": "display_data"
    },
    {
     "name": "stdout",
     "output_type": "stream",
     "text": [
      "\n",
      "Epoch 415 Results => Loss: 1.3345 | Loss_Reg: 0.0281 | Loss_Cls: 0.6532 | Acc: 0.7000 | LR: 0.000010 | Avg confidence: 0.6995 | F1: 0.5723 | Precision: 0.6400 | Recall: 0.5392Time: 250710_22:13:57\n",
      "Validation => Acc: 0.6380 | F1: 0.4632\n"
     ]
    },
    {
     "data": {
      "application/vnd.jupyter.widget-view+json": {
       "model_id": "0ec19c2d6b474191a426125c5263bf6a",
       "version_major": 2,
       "version_minor": 0
      },
      "text/plain": [
       "[1/2229]   0%|           [00:00<?]"
      ]
     },
     "metadata": {},
     "output_type": "display_data"
    },
    {
     "name": "stdout",
     "output_type": "stream",
     "text": [
      "\n",
      "Epoch 416 Results => Loss: 1.3345 | Loss_Reg: 0.0281 | Loss_Cls: 0.6532 | Acc: 0.7001 | LR: 0.000010 | Avg confidence: 0.6995 | F1: 0.5722 | Precision: 0.6401 | Recall: 0.5391Time: 250710_22:14:24\n",
      "Validation => Acc: 0.6341 | F1: 0.5346\n"
     ]
    },
    {
     "data": {
      "application/vnd.jupyter.widget-view+json": {
       "model_id": "fe8a5e793777475a9516f8d117f81dec",
       "version_major": 2,
       "version_minor": 0
      },
      "text/plain": [
       "[1/2229]   0%|           [00:00<?]"
      ]
     },
     "metadata": {},
     "output_type": "display_data"
    },
    {
     "name": "stdout",
     "output_type": "stream",
     "text": [
      "\n",
      "Epoch 417 Results => Loss: 1.3345 | Loss_Reg: 0.0281 | Loss_Cls: 0.6532 | Acc: 0.7001 | LR: 0.000010 | Avg confidence: 0.6995 | F1: 0.5723 | Precision: 0.6399 | Recall: 0.5391Time: 250710_22:14:50\n",
      "Validation => Acc: 0.6393 | F1: 0.4505\n"
     ]
    },
    {
     "data": {
      "application/vnd.jupyter.widget-view+json": {
       "model_id": "1bdc2c6b949c4bf7bc78e15c718e6c37",
       "version_major": 2,
       "version_minor": 0
      },
      "text/plain": [
       "[1/2229]   0%|           [00:00<?]"
      ]
     },
     "metadata": {},
     "output_type": "display_data"
    },
    {
     "name": "stdout",
     "output_type": "stream",
     "text": [
      "\n",
      "Epoch 418 Results => Loss: 1.3345 | Loss_Reg: 0.0281 | Loss_Cls: 0.6532 | Acc: 0.7001 | LR: 0.000001 | Avg confidence: 0.6995 | F1: 0.5724 | Precision: 0.6400 | Recall: 0.5393Time: 250710_22:15:16\n",
      "Validation => Acc: 0.6224 | F1: 0.4444\n"
     ]
    },
    {
     "data": {
      "application/vnd.jupyter.widget-view+json": {
       "model_id": "db46e895260e44688d17d35753868d5c",
       "version_major": 2,
       "version_minor": 0
      },
      "text/plain": [
       "[1/2229]   0%|           [00:00<?]"
      ]
     },
     "metadata": {},
     "output_type": "display_data"
    },
    {
     "name": "stdout",
     "output_type": "stream",
     "text": [
      "\n",
      "Epoch 419 Results => Loss: 1.3341 | Loss_Reg: 0.0281 | Loss_Cls: 0.6530 | Acc: 0.7002 | LR: 0.000001 | Avg confidence: 0.6995 | F1: 0.5724 | Precision: 0.6403 | Recall: 0.5392Time: 250710_22:15:42\n",
      "Validation => Acc: 0.6432 | F1: 0.5646\n"
     ]
    },
    {
     "data": {
      "application/vnd.jupyter.widget-view+json": {
       "model_id": "d79e787b81ed4bf5961edc6e5497fcf7",
       "version_major": 2,
       "version_minor": 0
      },
      "text/plain": [
       "[1/2229]   0%|           [00:00<?]"
      ]
     },
     "metadata": {},
     "output_type": "display_data"
    },
    {
     "name": "stdout",
     "output_type": "stream",
     "text": [
      "\n",
      "Epoch 420 Results => Loss: 1.3341 | Loss_Reg: 0.0281 | Loss_Cls: 0.6530 | Acc: 0.7002 | LR: 0.000001 | Avg confidence: 0.6995 | F1: 0.5725 | Precision: 0.6402 | Recall: 0.5393Time: 250710_22:16:09\n",
      "Validation => Acc: 0.6849 | F1: 0.4837\n"
     ]
    },
    {
     "data": {
      "application/vnd.jupyter.widget-view+json": {
       "model_id": "6e474762f6c34d71878aa6ef83e1707d",
       "version_major": 2,
       "version_minor": 0
      },
      "text/plain": [
       "[1/2229]   0%|           [00:00<?]"
      ]
     },
     "metadata": {},
     "output_type": "display_data"
    },
    {
     "name": "stdout",
     "output_type": "stream",
     "text": [
      "\n",
      "Epoch 421 Results => Loss: 1.3341 | Loss_Reg: 0.0281 | Loss_Cls: 0.6530 | Acc: 0.7002 | LR: 0.000001 | Avg confidence: 0.6995 | F1: 0.5724 | Precision: 0.6403 | Recall: 0.5393Time: 250710_22:16:35\n",
      "Validation => Acc: 0.6393 | F1: 0.5102\n"
     ]
    },
    {
     "data": {
      "application/vnd.jupyter.widget-view+json": {
       "model_id": "6b58608e00a74dda8eb7047b25098039",
       "version_major": 2,
       "version_minor": 0
      },
      "text/plain": [
       "[1/2229]   0%|           [00:00<?]"
      ]
     },
     "metadata": {},
     "output_type": "display_data"
    },
    {
     "name": "stdout",
     "output_type": "stream",
     "text": [
      "\n",
      "Epoch 422 Results => Loss: 1.3341 | Loss_Reg: 0.0281 | Loss_Cls: 0.6530 | Acc: 0.7002 | LR: 0.000001 | Avg confidence: 0.6995 | F1: 0.5724 | Precision: 0.6401 | Recall: 0.5393Time: 250710_22:17:01\n",
      "Validation => Acc: 0.6523 | F1: 0.5093\n"
     ]
    },
    {
     "data": {
      "application/vnd.jupyter.widget-view+json": {
       "model_id": "d03e3835fa2d4184aa2a3ab25177768c",
       "version_major": 2,
       "version_minor": 0
      },
      "text/plain": [
       "[1/2229]   0%|           [00:00<?]"
      ]
     },
     "metadata": {},
     "output_type": "display_data"
    },
    {
     "name": "stdout",
     "output_type": "stream",
     "text": [
      "\n",
      "Epoch 423 Results => Loss: 1.3341 | Loss_Reg: 0.0281 | Loss_Cls: 0.6530 | Acc: 0.7002 | LR: 0.000001 | Avg confidence: 0.6995 | F1: 0.5725 | Precision: 0.6402 | Recall: 0.5394Time: 250710_22:17:28\n",
      "Validation => Acc: 0.6602 | F1: 0.5244\n"
     ]
    },
    {
     "data": {
      "application/vnd.jupyter.widget-view+json": {
       "model_id": "6f5efdc2f31e43f48e3e40c261de9705",
       "version_major": 2,
       "version_minor": 0
      },
      "text/plain": [
       "[1/2229]   0%|           [00:00<?]"
      ]
     },
     "metadata": {},
     "output_type": "display_data"
    },
    {
     "name": "stdout",
     "output_type": "stream",
     "text": [
      "\n",
      "Epoch 424 Results => Loss: 1.3341 | Loss_Reg: 0.0281 | Loss_Cls: 0.6530 | Acc: 0.7002 | LR: 0.000001 | Avg confidence: 0.6995 | F1: 0.5725 | Precision: 0.6402 | Recall: 0.5393Time: 250710_22:17:54\n",
      "Validation => Acc: 0.6745 | F1: 0.4868\n"
     ]
    },
    {
     "data": {
      "application/vnd.jupyter.widget-view+json": {
       "model_id": "c66e296855f6430281cef033bac7e815",
       "version_major": 2,
       "version_minor": 0
      },
      "text/plain": [
       "[1/2229]   0%|           [00:00<?]"
      ]
     },
     "metadata": {},
     "output_type": "display_data"
    },
    {
     "name": "stdout",
     "output_type": "stream",
     "text": [
      "\n",
      "Epoch 425 Results => Loss: 1.3341 | Loss_Reg: 0.0281 | Loss_Cls: 0.6530 | Acc: 0.7002 | LR: 0.000001 | Avg confidence: 0.6995 | F1: 0.5724 | Precision: 0.6401 | Recall: 0.5393Time: 250710_22:18:20\n",
      "Validation => Acc: 0.6536 | F1: 0.5257\n"
     ]
    },
    {
     "data": {
      "application/vnd.jupyter.widget-view+json": {
       "model_id": "cb008328c34c481cbe1c717c0c950687",
       "version_major": 2,
       "version_minor": 0
      },
      "text/plain": [
       "[1/2229]   0%|           [00:00<?]"
      ]
     },
     "metadata": {},
     "output_type": "display_data"
    },
    {
     "name": "stdout",
     "output_type": "stream",
     "text": [
      "\n",
      "Epoch 426 Results => Loss: 1.3341 | Loss_Reg: 0.0281 | Loss_Cls: 0.6530 | Acc: 0.7002 | LR: 0.000000 | Avg confidence: 0.6996 | F1: 0.5725 | Precision: 0.6401 | Recall: 0.5393Time: 250710_22:18:47\n",
      "Validation => Acc: 0.6693 | F1: 0.4538\n"
     ]
    },
    {
     "data": {
      "application/vnd.jupyter.widget-view+json": {
       "model_id": "816f25645b2e401da6e8cca7a553306d",
       "version_major": 2,
       "version_minor": 0
      },
      "text/plain": [
       "[1/2229]   0%|           [00:00<?]"
      ]
     },
     "metadata": {},
     "output_type": "display_data"
    },
    {
     "name": "stdout",
     "output_type": "stream",
     "text": [
      "\n",
      "Epoch 427 Results => Loss: 1.3340 | Loss_Reg: 0.0281 | Loss_Cls: 0.6530 | Acc: 0.7002 | LR: 0.000000 | Avg confidence: 0.6995 | F1: 0.5725 | Precision: 0.6402 | Recall: 0.5393Time: 250710_22:19:13\n",
      "Validation => Acc: 0.6393 | F1: 0.4851\n"
     ]
    },
    {
     "data": {
      "application/vnd.jupyter.widget-view+json": {
       "model_id": "cc94e8e7975f496d831d4197243f21b6",
       "version_major": 2,
       "version_minor": 0
      },
      "text/plain": [
       "[1/2229]   0%|           [00:00<?]"
      ]
     },
     "metadata": {},
     "output_type": "display_data"
    },
    {
     "name": "stdout",
     "output_type": "stream",
     "text": [
      "\n",
      "Epoch 428 Results => Loss: 1.3340 | Loss_Reg: 0.0281 | Loss_Cls: 0.6530 | Acc: 0.7002 | LR: 0.000000 | Avg confidence: 0.6995 | F1: 0.5725 | Precision: 0.6402 | Recall: 0.5393Time: 250710_22:19:39\n",
      "Validation => Acc: 0.6953 | F1: 0.5507\n"
     ]
    },
    {
     "data": {
      "application/vnd.jupyter.widget-view+json": {
       "model_id": "029e96ecc08045e6b44c4036e60fae3e",
       "version_major": 2,
       "version_minor": 0
      },
      "text/plain": [
       "[1/2229]   0%|           [00:00<?]"
      ]
     },
     "metadata": {},
     "output_type": "display_data"
    },
    {
     "name": "stdout",
     "output_type": "stream",
     "text": [
      "\n",
      "Epoch 429 Results => Loss: 1.3340 | Loss_Reg: 0.0281 | Loss_Cls: 0.6530 | Acc: 0.7002 | LR: 0.000000 | Avg confidence: 0.6995 | F1: 0.5725 | Precision: 0.6402 | Recall: 0.5393Time: 250710_22:20:05\n",
      "Validation => Acc: 0.6589 | F1: 0.4568\n"
     ]
    },
    {
     "data": {
      "application/vnd.jupyter.widget-view+json": {
       "model_id": "611fea82f826448cb9609bca2d785d65",
       "version_major": 2,
       "version_minor": 0
      },
      "text/plain": [
       "[1/2229]   0%|           [00:00<?]"
      ]
     },
     "metadata": {},
     "output_type": "display_data"
    },
    {
     "name": "stdout",
     "output_type": "stream",
     "text": [
      "\n",
      "Epoch 430 Results => Loss: 1.3340 | Loss_Reg: 0.0281 | Loss_Cls: 0.6530 | Acc: 0.7002 | LR: 0.000000 | Avg confidence: 0.6995 | F1: 0.5725 | Precision: 0.6402 | Recall: 0.5394Time: 250710_22:20:32\n",
      "Validation => Acc: 0.6797 | F1: 0.5361\n"
     ]
    },
    {
     "data": {
      "application/vnd.jupyter.widget-view+json": {
       "model_id": "1b926928dfb6481f9c3177eb466b9c0b",
       "version_major": 2,
       "version_minor": 0
      },
      "text/plain": [
       "[1/2229]   0%|           [00:00<?]"
      ]
     },
     "metadata": {},
     "output_type": "display_data"
    },
    {
     "name": "stdout",
     "output_type": "stream",
     "text": [
      "\n",
      "Epoch 431 Results => Loss: 1.3340 | Loss_Reg: 0.0281 | Loss_Cls: 0.6529 | Acc: 0.7002 | LR: 0.000000 | Avg confidence: 0.6995 | F1: 0.5725 | Precision: 0.6402 | Recall: 0.5393Time: 250710_22:20:58\n",
      "Validation => Acc: 0.6380 | F1: 0.4637\n"
     ]
    },
    {
     "data": {
      "application/vnd.jupyter.widget-view+json": {
       "model_id": "dd1f855ad8484a24a0203646c57cf4b4",
       "version_major": 2,
       "version_minor": 0
      },
      "text/plain": [
       "[1/2229]   0%|           [00:00<?]"
      ]
     },
     "metadata": {},
     "output_type": "display_data"
    },
    {
     "name": "stdout",
     "output_type": "stream",
     "text": [
      "\n",
      "Epoch 432 Results => Loss: 1.3340 | Loss_Reg: 0.0281 | Loss_Cls: 0.6530 | Acc: 0.7002 | LR: 0.000000 | Avg confidence: 0.6995 | F1: 0.5725 | Precision: 0.6402 | Recall: 0.5393Time: 250710_22:21:24\n",
      "Validation => Acc: 0.6172 | F1: 0.4312\n"
     ]
    },
    {
     "data": {
      "application/vnd.jupyter.widget-view+json": {
       "model_id": "f2a5dee9cf824ace9a7d4b544d3b050d",
       "version_major": 2,
       "version_minor": 0
      },
      "text/plain": [
       "[1/2229]   0%|           [00:00<?]"
      ]
     },
     "metadata": {},
     "output_type": "display_data"
    },
    {
     "name": "stdout",
     "output_type": "stream",
     "text": [
      "\n",
      "Epoch 433 Results => Loss: 1.3340 | Loss_Reg: 0.0281 | Loss_Cls: 0.6530 | Acc: 0.7002 | LR: 0.000000 | Avg confidence: 0.6995 | F1: 0.5725 | Precision: 0.6402 | Recall: 0.5393Time: 250710_22:21:50\n",
      "Validation => Acc: 0.6771 | F1: 0.5063\n"
     ]
    },
    {
     "data": {
      "application/vnd.jupyter.widget-view+json": {
       "model_id": "a3b2c8b9acd64d119e1a8dfffc5736ca",
       "version_major": 2,
       "version_minor": 0
      },
      "text/plain": [
       "[1/2229]   0%|           [00:00<?]"
      ]
     },
     "metadata": {},
     "output_type": "display_data"
    },
    {
     "name": "stdout",
     "output_type": "stream",
     "text": [
      "\n",
      "Epoch 434 Results => Loss: 1.3340 | Loss_Reg: 0.0281 | Loss_Cls: 0.6529 | Acc: 0.7002 | LR: 0.000000 | Avg confidence: 0.6995 | F1: 0.5725 | Precision: 0.6402 | Recall: 0.5393Time: 250710_22:22:17\n",
      "Validation => Acc: 0.6510 | F1: 0.5159\n"
     ]
    },
    {
     "data": {
      "application/vnd.jupyter.widget-view+json": {
       "model_id": "09d7569486cd4714944e2ed0f2bdea6d",
       "version_major": 2,
       "version_minor": 0
      },
      "text/plain": [
       "[1/2229]   0%|           [00:00<?]"
      ]
     },
     "metadata": {},
     "output_type": "display_data"
    },
    {
     "name": "stdout",
     "output_type": "stream",
     "text": [
      "\n",
      "Epoch 435 Results => Loss: 1.3340 | Loss_Reg: 0.0281 | Loss_Cls: 0.6529 | Acc: 0.7002 | LR: 0.000000 | Avg confidence: 0.6995 | F1: 0.5725 | Precision: 0.6402 | Recall: 0.5393Time: 250710_22:22:43\n",
      "Validation => Acc: 0.6693 | F1: 0.5024\n"
     ]
    },
    {
     "data": {
      "application/vnd.jupyter.widget-view+json": {
       "model_id": "7bfdf5a9bbd3497f8d56725a947ceb68",
       "version_major": 2,
       "version_minor": 0
      },
      "text/plain": [
       "[1/2229]   0%|           [00:00<?]"
      ]
     },
     "metadata": {},
     "output_type": "display_data"
    },
    {
     "name": "stdout",
     "output_type": "stream",
     "text": [
      "\n",
      "Epoch 436 Results => Loss: 1.3340 | Loss_Reg: 0.0281 | Loss_Cls: 0.6529 | Acc: 0.7002 | LR: 0.000000 | Avg confidence: 0.6995 | F1: 0.5725 | Precision: 0.6402 | Recall: 0.5393Time: 250710_22:23:09\n",
      "Validation => Acc: 0.6393 | F1: 0.5020\n"
     ]
    },
    {
     "data": {
      "application/vnd.jupyter.widget-view+json": {
       "model_id": "5d867475eb784eb8b98edec945e0c079",
       "version_major": 2,
       "version_minor": 0
      },
      "text/plain": [
       "[1/2229]   0%|           [00:00<?]"
      ]
     },
     "metadata": {},
     "output_type": "display_data"
    },
    {
     "name": "stdout",
     "output_type": "stream",
     "text": [
      "\n",
      "Epoch 437 Results => Loss: 1.3341 | Loss_Reg: 0.0281 | Loss_Cls: 0.6530 | Acc: 0.7002 | LR: 0.000000 | Avg confidence: 0.6995 | F1: 0.5725 | Precision: 0.6402 | Recall: 0.5393Time: 250710_22:23:36\n",
      "Validation => Acc: 0.6732 | F1: 0.4599\n"
     ]
    },
    {
     "data": {
      "application/vnd.jupyter.widget-view+json": {
       "model_id": "e69b34bf0e3844979082facfa9bfc095",
       "version_major": 2,
       "version_minor": 0
      },
      "text/plain": [
       "[1/2229]   0%|           [00:00<?]"
      ]
     },
     "metadata": {},
     "output_type": "display_data"
    },
    {
     "name": "stdout",
     "output_type": "stream",
     "text": [
      "\n",
      "Epoch 438 Results => Loss: 1.3340 | Loss_Reg: 0.0281 | Loss_Cls: 0.6529 | Acc: 0.7002 | LR: 0.000000 | Avg confidence: 0.6995 | F1: 0.5725 | Precision: 0.6402 | Recall: 0.5394Time: 250710_22:24:02\n",
      "Validation => Acc: 0.6823 | F1: 0.4941\n"
     ]
    },
    {
     "data": {
      "application/vnd.jupyter.widget-view+json": {
       "model_id": "f9b8839571cc4735a6f6cb0fe963c7e5",
       "version_major": 2,
       "version_minor": 0
      },
      "text/plain": [
       "[1/2229]   0%|           [00:00<?]"
      ]
     },
     "metadata": {},
     "output_type": "display_data"
    },
    {
     "name": "stdout",
     "output_type": "stream",
     "text": [
      "\n",
      "Epoch 439 Results => Loss: 1.3341 | Loss_Reg: 0.0281 | Loss_Cls: 0.6530 | Acc: 0.7002 | LR: 0.000000 | Avg confidence: 0.6995 | F1: 0.5725 | Precision: 0.6402 | Recall: 0.5393Time: 250710_22:24:28\n",
      "Validation => Acc: 0.6445 | F1: 0.5270\n"
     ]
    },
    {
     "data": {
      "application/vnd.jupyter.widget-view+json": {
       "model_id": "18b73885500749da87a08ea310fe41c9",
       "version_major": 2,
       "version_minor": 0
      },
      "text/plain": [
       "[1/2229]   0%|           [00:00<?]"
      ]
     },
     "metadata": {},
     "output_type": "display_data"
    },
    {
     "name": "stdout",
     "output_type": "stream",
     "text": [
      "\n",
      "Epoch 440 Results => Loss: 1.3340 | Loss_Reg: 0.0281 | Loss_Cls: 0.6529 | Acc: 0.7002 | LR: 0.000000 | Avg confidence: 0.6995 | F1: 0.5725 | Precision: 0.6402 | Recall: 0.5393Time: 250710_22:24:55\n"
     ]
    },
    {
     "name": "stderr",
     "output_type": "stream",
     "text": [
      "2025-07-10 22:24:57,037 ignite.handlers.early_stopping.EarlyStopping INFO: EarlyStopping: Stop training\n"
     ]
    },
    {
     "name": "stdout",
     "output_type": "stream",
     "text": [
      "Validation => Acc: 0.6172 | F1: 0.4481\n"
     ]
    }
   ],
   "source": [
    "# 학습 루프\n",
    "\n",
    "# 한 배치에 대한 학습 step\n",
    "def train_step(engine, batch):\n",
    "    xb, yb_cls, yb_reg = batch  # 입력 x, 분류 y, 회귀 y\n",
    "    xb, yb_cls, yb_reg = xb.to(device), yb_cls.to(device), yb_reg.to(device)\n",
    "\n",
    "    model.train()               # 학습 모드 설정\n",
    "    optimizer.zero_grad()  # 이전 gradient 기울기 초기화\n",
    "    # 모델 예측\n",
    "    pred_cls, pred_reg = model(xb)\n",
    "\n",
    "    # 손실 계산 (회귀 + 분류)\n",
    "    loss_reg = loss_fn_reg(pred_reg, yb_reg)  # 회귀 MSE \n",
    "    loss_cls = loss_fn_cls(pred_cls.view(-1, num_classes), yb_cls.view(-1))  # CrossEntropy (다중분류)\n",
    "    loss = alpha * loss_reg + beta * loss_cls  # 가중 합산\n",
    "    \n",
    "    # 역전파 & 파라미터 업데이트\n",
    "    loss.backward()\n",
    "    clip_grad_norm_(model.parameters(), max_norm=2.0) # gradient clipping (폭주 방지)\n",
    "    optimizer.step()\n",
    "\n",
    "    # 예측/정답 결과 누적 → Epoch 종료 후 전체 성능 계산용\n",
    "    engine.state.y_true_all.append(yb_cls.detach().cpu())\n",
    "    engine.state.y_pred_all.append(pred_cls.detach().cpu())\n",
    "    \n",
    "    #현재 배치의 loss 결과 반환 (ProgressBar용)\n",
    "    loss_dict = {\n",
    "        'loss':loss.item(),\n",
    "        'loss_reg':loss_reg.item(),\n",
    "        'loss_cls': loss_cls.item()\n",
    "    }\n",
    "    engine.state.loss_all.append(loss_dict)\n",
    "    return loss_dict\n",
    "\n",
    "# 검증 step\n",
    "def eval_step(engine, batch):\n",
    "    model.eval()\n",
    "    with torch.no_grad():\n",
    "        xb, yb_cls, yb_reg = batch\n",
    "        xb, yb_cls, yb_reg = xb.to(device), yb_cls.to(device), yb_reg.to(device)\n",
    "        pred_cls, pred_reg = model(xb) # 회귀는 무시\n",
    "        return pred_cls, yb_cls\n",
    "\n",
    "#텐서보드 정의\n",
    "def attach_tensorboard_logger(trainer,tb_logger):\n",
    "    tb_logger.attach(\n",
    "        trainer,\n",
    "        log_handler=OutputHandler(tag=\"training\", output_transform=lambda output: {\"loss\": output['loss']}),\n",
    "        event_name=Events.ITERATION_COMPLETED\n",
    "    )\n",
    "    tb_logger.attach(\n",
    "        trainer,\n",
    "        log_handler=OptimizerParamsHandler(optimizer),\n",
    "        event_name=Events.ITERATION_COMPLETED\n",
    "    )\n",
    "    tb_logger.attach(\n",
    "        trainer,\n",
    "        log_handler=OutputHandler(\n",
    "            tag=\"training\",\n",
    "            metric_names=[\"accuracy\", \"f1\"],\n",
    "            global_step_transform=lambda engine, event_name: engine.state.epoch\n",
    "        ),\n",
    "        event_name=Events.EPOCH_COMPLETED\n",
    "    )\n",
    "\n",
    "# Engine 객체 생성 (Ignite)\n",
    "trainer = Engine(train_step)\n",
    "evaluator = Engine(eval_step)\n",
    "# ProgressBar 설정  - tqdm 형태로 loss 출력됨\n",
    "ProgressBar().attach(trainer, output_transform=lambda x: {'loss': x['loss']})\n",
    "\n",
    "# Epoch 시작 시 예측값 누적용 리스트 초기화\n",
    "@trainer.on(Events.EPOCH_STARTED)\n",
    "def reset_lists(engine):\n",
    "    engine.state.y_true_all = []\n",
    "    engine.state.y_pred_all = []\n",
    "    engine.state.loss_all = []\n",
    "\n",
    "# Epoch 종료 시 성능 지표 계산 및 출력\n",
    "@trainer.on(Events.EPOCH_COMPLETED)\n",
    "def log_results(engine):\n",
    "    # 누적된 예측/정답 Flatten\n",
    "    y_true = torch.cat(engine.state.y_true_all).view(-1).numpy()\n",
    "    y_pred = torch.cat(engine.state.y_pred_all).argmax(dim=2).view(-1).numpy()\n",
    "    # 지표 계산\n",
    "    acc = (y_true == y_pred).mean()\n",
    "    f1 = f1_score(y_true, y_pred, average='macro')\n",
    "    precision = precision_score(y_true, y_pred, average='macro', zero_division=1)\n",
    "    recall = recall_score(y_true, y_pred, average='macro', zero_division=1)\n",
    "    #  Confidence 출력 (Softmax max값 기준)\n",
    "    confidences = torch.cat(engine.state.y_pred_all)  # (B, T, C)\n",
    "    confidence_vals = torch.softmax(confidences, dim=-1).max(dim=-1)[0].view(-1).numpy()\n",
    "    # loss를 state에서 수집해서 평균 계산\n",
    "    loss_vals = [x['loss'] for x in engine.state.loss_all]\n",
    "    loss_reg_vals = [x['loss_reg'] for x in engine.state.loss_all]\n",
    "    loss_cls_vals = [x['loss_cls'] for x in engine.state.loss_all]\n",
    "\n",
    "    avg_loss = sum(loss_vals) / len(loss_vals)\n",
    "    avg_loss_reg = sum(loss_reg_vals) / len(loss_reg_vals)\n",
    "    avg_loss_cls = sum(loss_cls_vals) / len(loss_cls_vals)\n",
    "    \n",
    "    #러닝 레이트 업데이트\n",
    "    scheduler.step(f1)  # <-- F1 기준으로 scheduler 동작 ReduceLROnPlateau f1이 3번의 epoch동안 개선되지 않으면 fator 만큼 감소\n",
    "    current_lr = optimizer.param_groups[0]['lr']\n",
    "    \n",
    "    # 학습 메트릭 저장 (EarlyStopping, Checkpoint에서 사용)  현재 정확도로 중지 ->f1으로 수정함\n",
    "    engine.state.metrics = {\n",
    "        'loss': avg_loss,\n",
    "        'loss_reg': avg_loss_reg,\n",
    "        'loss_cls': avg_loss_cls,\n",
    "        'accuracy': acc,\n",
    "        'lr': current_lr,\n",
    "        'confidence': confidence_vals.mean(),\n",
    "        'f1': f1,\n",
    "        'precision': precision,\n",
    "        'recall': recall\n",
    "    }\n",
    "    \n",
    "    train_time = time.strftime('%y%m%d_%X')  # ex) '250708_153045'\n",
    "    print(f\"\\nEpoch {engine.state.epoch} Results => \"\n",
    "            f\"Loss: {avg_loss:.4f} | \"\n",
    "            f\"Loss_Reg: {avg_loss_reg:.4f} | \"\n",
    "            f\"Loss_Cls: {avg_loss_cls:.4f} | \"\n",
    "            f\"Acc: {acc:.4f} | \"\n",
    "            f\"LR: {current_lr:.6f} | \"\n",
    "            f\"Avg confidence: {confidence_vals.mean():.4f} | \"\n",
    "            f\"F1: {f1:.4f} | \"\n",
    "            f\"Precision: {precision:.4f} | \"\n",
    "            f\"Recall: {recall:.4f}\"\n",
    "            f'Time: {train_time}'\n",
    "    )\n",
    "    #검증\n",
    "    evaluator.run(val_loader)\n",
    "\n",
    "#검증 평가 로깅\n",
    "@evaluator.on(Events.COMPLETED)\n",
    "def log_validation_results(engine):\n",
    "    pred_cls, y_true = engine.state.output\n",
    "    y_pred = pred_cls.argmax(dim=2).view(-1).cpu().numpy()\n",
    "    y_true = y_true.view(-1).cpu().numpy()\n",
    "\n",
    "    acc = (y_true == y_pred).mean()\n",
    "    f1 = f1_score(y_true, y_pred, average='macro')\n",
    "    print(f\"Validation => Acc: {acc:.4f} | F1: {f1:.4f}\")\n",
    "\n",
    "# Epoch 시작 전에 빈 리스트 초기화\n",
    "training_history = {\n",
    "    'loss': [],\n",
    "    'loss_reg': [],\n",
    "    'loss_cls': [],\n",
    "    'accuracy': [],\n",
    "    'f1': [],\n",
    "    'precision': [],\n",
    "    'recall': [],\n",
    "    'lr': [],\n",
    "    'confidence': []\n",
    "}\n",
    "\n",
    "#학습 로깅 데이터 저장\n",
    "@trainer.on(Events.EPOCH_COMPLETED)\n",
    "def log_and_save_metrics(engine):\n",
    "    metrics = engine.state.metrics\n",
    "    training_history['loss'].append(metrics['loss'])\n",
    "    training_history['loss_reg'].append(metrics['loss_reg'])\n",
    "    training_history['loss_cls'].append(metrics['loss_cls'])\n",
    "    training_history['accuracy'].append(metrics['accuracy'])\n",
    "    training_history['f1'].append(metrics['f1'])\n",
    "    training_history['precision'].append(metrics['precision'])\n",
    "    training_history['recall'].append(metrics['recall'])\n",
    "    training_history['lr'].append(metrics['lr'])\n",
    "    training_history['confidence'].append(metrics['confidence'])\n",
    "\n",
    "# 조기 종료\n",
    "early_stopping = EarlyStopping(\n",
    "    patience=10,  # 조기 종료 허용 기다릴 epoch 수\n",
    "    score_function=lambda engine: engine.state.metrics.get('accuracy',0), # 조정할 수 있음 lr\n",
    "    trainer=trainer\n",
    ")\n",
    "trainer.add_event_handler(Events.EPOCH_COMPLETED, early_stopping)\n",
    "\n",
    "regi_time = time.strftime('%y%m%d_%H%M%S')  # ex) '250708_153045'\n",
    "# 모델 저장\n",
    "checkpoint_handler = ModelCheckpoint(\n",
    "    dirname='../model',                 # 저장 디렉토리\n",
    "    filename_prefix=f'lstm_{regi_time}',    # 저장 파일 이름 접두사\n",
    "    n_saved=1,                                # 가장 좋은 1개만 저장\n",
    "    create_dir=True,                       # 디렉토리가 없으면 생성\n",
    "    require_empty=False,               # 덮어쓰기 허용\n",
    "    score_name='accuracy',           # 로그 출력용 이름\n",
    "    score_function=lambda engine: engine.state.metrics.get('accuracy',0)  # 저장 기준\n",
    ")\n",
    "trainer.add_event_handler(Events.EPOCH_COMPLETED, checkpoint_handler, {'model': model})\n",
    "\n",
    "# TensorBoard logger 생성 및 핸들러 등록\n",
    "tb_logger = TensorboardLogger(log_dir='../model/log/')#상대경로로 실행됨으로 .. 제거\n",
    "attach_tensorboard_logger(trainer,tb_logger)\n",
    "\n",
    "# 학습 시작\n",
    "trainer.run(train_loader, max_epochs=epochs)\n",
    "#결과 로그 저장\n",
    "with open(f'../model/trainlog/{regi_time}_lstm_train_log.pkl', 'wb') as f:\n",
    "    pickle.dump(training_history, f)\n"
   ]
  },
  {
   "cell_type": "code",
   "execution_count": 33,
   "id": "1f4afdb4",
   "metadata": {},
   "outputs": [
    {
     "name": "stdout",
     "output_type": "stream",
     "text": [
      "\n",
      " 테스트 셋 실행 \n",
      "✅ Final Test => Acc: 0.6554 | F1: 0.5084\n"
     ]
    },
    {
     "data": {
      "text/plain": [
       "State:\n",
       "\titeration: 478\n",
       "\tepoch: 1\n",
       "\tepoch_length: 478\n",
       "\tmax_epochs: 1\n",
       "\toutput: <class 'tuple'>\n",
       "\tbatch: <class 'list'>\n",
       "\tmetrics: <class 'dict'>\n",
       "\tdataloader: <class 'torch.utils.data.dataloader.DataLoader'>\n",
       "\tseed: <class 'NoneType'>\n",
       "\ttimes: <class 'dict'>\n",
       "\ty_true_all: <class 'list'>\n",
       "\ty_pred_all: <class 'list'>"
      ]
     },
     "execution_count": 33,
     "metadata": {},
     "output_type": "execute_result"
    }
   ],
   "source": [
    "# 테스트 셋\n",
    "# 이전에 등록된 evaluator 핸들러 모두 제거\n",
    "evaluator._event_handlers[Events.STARTED] = []\n",
    "evaluator._event_handlers[Events.ITERATION_COMPLETED] = []\n",
    "evaluator._event_handlers[Events.COMPLETED] = []\n",
    "\n",
    "# 테스트 셋용 핸들러 재등록\n",
    "@evaluator.on(Events.STARTED)\n",
    "def init_test(engine):\n",
    "    engine.state.y_true_all = []\n",
    "    engine.state.y_pred_all = []\n",
    "\n",
    "@evaluator.on(Events.ITERATION_COMPLETED)\n",
    "def accumulate_preds(engine):\n",
    "    pred_cls, y_true = engine.state.output\n",
    "    engine.state.y_pred_all.append(pred_cls.detach().cpu())\n",
    "    engine.state.y_true_all.append(y_true.detach().cpu())\n",
    "\n",
    "@evaluator.on(Events.COMPLETED)\n",
    "def log_test_results(engine):\n",
    "    y_pred = torch.cat(engine.state.y_pred_all).argmax(dim=2).view(-1).numpy()\n",
    "    y_true = torch.cat(engine.state.y_true_all).view(-1).numpy()\n",
    "\n",
    "    acc = (y_true == y_pred).mean()\n",
    "    f1 = f1_score(y_true, y_pred, average='macro')\n",
    "    print(f\"✅ Final Test => Acc: {acc:.4f} | F1: {f1:.4f}\")\n",
    "\n",
    "\n",
    "print(\"\\n 테스트 셋 실행 \")\n",
    "evaluator.run(test_loader)"
   ]
  },
  {
   "cell_type": "code",
   "execution_count": 2,
   "id": "325eacf6",
   "metadata": {},
   "outputs": [
    {
     "data": {
      "image/png": "[encoded data removed]",
      "text/plain": [
       "<Figure size 3000x1000 with 3 Axes>"
      ]
     },
     "metadata": {},
     "output_type": "display_data"
    }
   ],
   "source": [
    "# with open(f'../model/trainlog/{regi_time}_lstm_train_log.pkl', 'rb') as f:\n",
    "#     history = pickle.load(f)\n",
    "\n",
    "with open(f'../model/trainlog/250710_190844_lstm_train_log.pkl', 'rb') as f:\n",
    "    history = pickle.load(f)\n",
    "# epochs = range(1, len(history['f1']) + 1)\n",
    "epochs = range(len(history['accuracy']))\n",
    "\n",
    "plt.figure(figsize=(30, 10))\n",
    "plt.subplot(1, 3, 1)\n",
    "plt.plot(epochs, history['accuracy'], label='Accuracy')\n",
    "plt.plot(epochs, history['confidence'], label='Confidence')\n",
    "plt.legend()\n",
    "plt.grid()\n",
    "plt.title('Accuracy')\n",
    "\n",
    "plt.subplot(1, 3, 2)\n",
    "plt.plot(epochs, history['loss'], label='Loss')\n",
    "plt.plot(epochs, history['loss_cls'], label='Loss_cls')\n",
    "plt.plot(epochs, history['loss_reg'], label='Loss_reg')\n",
    "plt.legend()\n",
    "plt.grid()\n",
    "plt.title('Loss values')\n",
    "plt.tight_layout()\n",
    "\n",
    "plt.subplot(1, 3, 3)\n",
    "plt.plot(epochs, history['f1'], label='F1 score')\n",
    "plt.plot(epochs, history['precision'], label='Precision')\n",
    "plt.plot(epochs, history['recall'], label='Recall')\n",
    "plt.legend()\n",
    "plt.grid()\n",
    "plt.title('F1 & Precision & Recall ')\n",
    "\n",
    "plt.show()"
   ]
  },
  {
   "cell_type": "code",
   "execution_count": 35,
   "id": "b7dab754",
   "metadata": {},
   "outputs": [],
   "source": [
    "# 예측 펑션\n",
    "def predict_future(station_name, evse_name, df_raw, col_transformer, model, device='cuda'):\n",
    "    model.eval()\n",
    "    target_reg = 'kwh_per_usage_time'\n",
    "    # 1. 입력 데이터 필터링 (최근 24개만 사용)\n",
    "    evse_list = df['evse_name'].to_list()\n",
    "    station_location_list = df['station_location'].to_list()\n",
    "    \n",
    "    # station-evse 조합 존재 확인\n",
    "    match = df_raw[\n",
    "        (df_raw['station_location'] == station_name) &\n",
    "        (df_raw['evse_name'] == evse_name)\n",
    "    ]\n",
    "    \n",
    "    if station_name not in df_raw['station_location'].unique():\n",
    "        raise ValueError(f\"❌ '{station_name}'이라는 충전소는 존재하지 않습니다.\")\n",
    "    if evse_name not in df_raw['evse_name'].unique():\n",
    "        raise ValueError(f\"❌ '{evse_name}'이라는 기기는 존재하지 않습니다.\")\n",
    "    \n",
    "    match = df_raw[(df_raw['station_location'] == station_name) & (df_raw['evse_name'] == evse_name)]\n",
    "    if match.empty:\n",
    "        raise ValueError(f\"❌ '{station_name}'의 '{evse_name}' 기기에 대한 데이터가 존재하지 않습니다.\")\n",
    "    \n",
    "    df_target = match\n",
    "    df_recent = df_target.sort_values('charging_start_time_ts').iloc[-24:]  # 시간 기준 정렬 +마지막 24시간 시퀀스\n",
    "    \n",
    "    if len(df_recent) < 24:\n",
    "        raise ValueError(\"해당 기기(station-evse)의 데이터가 24개보다 적습니다.\")\n",
    "    \n",
    "    X_input_raw = df_recent.copy()  \n",
    "\n",
    "    # 3. 전처리 적용\n",
    "    X_input_trans = col_transformer.transform(X_input_raw)  # (24, feature_dim)\n",
    "    \n",
    "    # 4. 배치 형태로 변환\n",
    "    X_input_tensor = torch.tensor(X_input_trans, dtype=torch.float32).unsqueeze(0).to(device)  # (1, 24, feature_dim)\n",
    "\n",
    "    # 5. 예측 수행\n",
    "    with torch.no_grad():\n",
    "        pred_cls, pred_reg = model(X_input_tensor)  # pred_cls: (1, 24, num_classes), pred_reg: (1, 24)\n",
    "\n",
    "    # 6. 결과 정리\n",
    "    pred_cls_label = pred_cls.argmax(dim=2).squeeze(0).cpu().numpy()  # (24,)\n",
    "    pred_reg_val = pred_reg.squeeze(0).cpu().numpy()  # (24,)\n",
    "\n",
    "    # 회귀 결과 역변환\n",
    "    reg_scaler = None\n",
    "    for name, transformer, cols in col_transformer.transformers_:\n",
    "        if isinstance(cols, list) and target_reg in cols:\n",
    "            # 해당 컬럼의 인덱스를 찾아서 슬라이싱해 inverse\n",
    "            col_idx = cols.index(target_reg)\n",
    "            if hasattr(transformer, 'inverse_transform'):\n",
    "                pred_reg_val_full = np.zeros((pred_reg_val.shape[0], len(cols)))\n",
    "                pred_reg_val_full[:, col_idx] = pred_reg_val\n",
    "                pred_reg_val_inv_full = transformer.inverse_transform(pred_reg_val_full)\n",
    "                pred_reg_val = pred_reg_val_inv_full[:, col_idx]\n",
    "                break\n",
    "    else:\n",
    "        raise ValueError(\"회귀 스케일러를 ColumnTransformer에서 찾을 수 없습니다.\")\n",
    "    \n",
    "    # 정확히 n시간뒤 1개 값만 받고 싶을경우\n",
    "    n =5\n",
    "    cls_n = pred_cls_label[n-1]\n",
    "    reg_n = pred_reg_val[n-1]\n",
    "\n",
    "    return pred_cls_label, pred_reg_val"
   ]
  },
  {
   "cell_type": "code",
   "execution_count": 36,
   "id": "b491d479",
   "metadata": {},
   "outputs": [
    {
     "name": "stdout",
     "output_type": "stream",
     "text": [
      "✅ 분류 결과 (post_charge_departure_range): [2 2 1 1 1 1 2 2 2 2 2 2 1 1 3 3 1 5 5 1 1 2 2 1]\n",
      "💹 회귀 결과 (kwh_per_usage_time): [6.97523222 6.75952281 6.80063404 6.84245475 6.9761669  6.85981613\n",
      " 7.0317091  6.93837244 6.95092641 6.9871675  6.8141225  6.91126442\n",
      " 7.02373444 6.8141132  6.98551787 6.89516977 6.96585882 7.02245003\n",
      " 6.98058355 7.0183791  7.06945542 7.05021685 6.63826653 6.60932271]\n"
     ]
    }
   ],
   "source": [
    "df = pd.read_csv('../data/csv/50area_dummy_processed.csv')\n",
    "station = \"st-15\"  # 또는 코드화된 값\n",
    "evse = \"st-15_evse-05\"\n",
    "ct = joblib.load('ct_cached.joblib')\n",
    "cls_preds, reg_preds = predict_future(station, evse, df, ct, model)\n",
    "\n",
    "print(\"✅ 분류 결과 (post_charge_departure_range):\", cls_preds)\n",
    "print(\"💹 회귀 결과 (kwh_per_usage_time):\", reg_preds)\n"
   ]
  },
  {
   "cell_type": "code",
   "execution_count": 37,
   "id": "8ddf098f",
   "metadata": {},
   "outputs": [
    {
     "name": "stdout",
     "output_type": "stream",
     "text": [
      "✅ 분류 결과 (post_charge_departure_range): [2 2 1 1 1 1 2 2 2 2 2 2 1 1 3 3 1 5 5 1 1 2 2 1]\n",
      "💹 회귀 결과 (kwh_per_usage_time): [6.97523222 6.75952281 6.80063404 6.84245475 6.9761669  6.85981613\n",
      " 7.0317091  6.93837244 6.95092641 6.9871675  6.8141225  6.91126442\n",
      " 7.02373444 6.8141132  6.98551787 6.89516977 6.96585882 7.02245003\n",
      " 6.98058355 7.0183791  7.06945542 7.05021685 6.63826653 6.60932271]\n"
     ]
    }
   ],
   "source": [
    "station = \"st-15\"  # 또는 코드화된 값\n",
    "evse = \"st-15_evse-05\"\n",
    "ct = joblib.load('ct_cached.joblib')\n",
    "cls_preds, reg_preds = predict_future(station, evse, df, ct, model)\n",
    "\n",
    "print(\"✅ 분류 결과 (post_charge_departure_range):\", cls_preds)\n",
    "print(\"💹 회귀 결과 (kwh_per_usage_time):\", reg_preds)\n"
   ]
  },
  {
   "cell_type": "code",
   "execution_count": 38,
   "id": "2497c6c4",
   "metadata": {},
   "outputs": [
    {
     "name": "stdout",
     "output_type": "stream",
     "text": [
      "✅ 분류 결과 (post_charge_departure_range): [2 2 1 1 1 1 2 2 2 2 2 2 1 1 3 3 1 5 5 1 1 2 2 1]\n",
      "💹 회귀 결과 (kwh_per_usage_time): [6.97523222 6.75952281 6.80063404 6.84245475 6.9761669  6.85981613\n",
      " 7.0317091  6.93837244 6.95092641 6.9871675  6.8141225  6.91126442\n",
      " 7.02373444 6.8141132  6.98551787 6.89516977 6.96585882 7.02245003\n",
      " 6.98058355 7.0183791  7.06945542 7.05021685 6.63826653 6.60932271]\n"
     ]
    }
   ],
   "source": [
    "station = \"st-15\"  # 또는 코드화된 값\n",
    "evse = \"st-15_evse-05\"\n",
    "\n",
    "cls_preds, reg_preds = predict_future(station, evse, df, ct, model)\n",
    "\n",
    "print(\"✅ 분류 결과 (post_charge_departure_range):\", cls_preds)\n",
    "print(\"💹 회귀 결과 (kwh_per_usage_time):\", reg_preds)\n"
   ]
  },
  {
   "cell_type": "code",
   "execution_count": 39,
   "id": "485afa3b",
   "metadata": {},
   "outputs": [
    {
     "name": "stdout",
     "output_type": "stream",
     "text": [
      "✅ 분류 결과 (post_charge_departure_range): [1 1 1 2 2 2 2 1 1 1 1 1 2 2 1 1 3 3 3 3 3 3 3 2]\n",
      "💹 회귀 결과 (kwh_per_usage_time): [63.43789837 63.24012452 63.30128592 63.49232046 63.44292805 63.57388649\n",
      " 63.76597131 63.23185647 63.31062175 63.58947733 63.42004942 63.48303713\n",
      " 63.48870282 63.40629073 63.33319697 63.33674459 63.49317235 63.41866655\n",
      " 63.45843721 63.68961001 63.6376094  63.46124963 63.72297395 63.82972923]\n"
     ]
    }
   ],
   "source": [
    "station = \"st-00\"  # 또는 코드화된 값\n",
    "evse = \"st-00_evse-00\"\n",
    "\n",
    "cls_preds, reg_preds = predict_future(station, evse, df, ct, model)\n",
    "\n",
    "print(\"✅ 분류 결과 (post_charge_departure_range):\", cls_preds)\n",
    "print(\"💹 회귀 결과 (kwh_per_usage_time):\", reg_preds)\n"
   ]
  },
  {
   "cell_type": "code",
   "execution_count": 40,
   "id": "b4e46c99",
   "metadata": {},
   "outputs": [
    {
     "data": {
      "application/vnd.microsoft.datawrangler.viewer.v0+json": {
       "columns": [
        {
         "name": "index",
         "rawType": "int64",
         "type": "integer"
        },
        {
         "name": "st-01_evse-01 = post_charge_departure_range",
         "rawType": "int64",
         "type": "integer"
        },
        {
         "name": "st-01_evse-01 = kwh_per_usage_time",
         "rawType": "float64",
         "type": "float"
        }
       ],
       "ref": "ef706df4-7b3f-4129-af63-2abf5f84c1d9",
       "rows": [
        [
         "0",
         "1",
         "63.57319213390351"
        ],
        [
         "1",
         "1",
         "63.36456537882488"
        ],
        [
         "2",
         "1",
         "63.458495556513476"
        ],
        [
         "3",
         "1",
         "63.97519905726116"
        ],
        [
         "4",
         "1",
         "63.62645891189576"
        ],
        [
         "5",
         "1",
         "63.41168800989787"
        ],
        [
         "6",
         "1",
         "63.9926454003652"
        ],
        [
         "7",
         "1",
         "63.78627675056458"
        ],
        [
         "8",
         "2",
         "63.87366017341615"
        ],
        [
         "9",
         "2",
         "63.560063614845284"
        ],
        [
         "10",
         "1",
         "63.489041244188954"
        ],
        [
         "11",
         "4",
         "64.03059557278951"
        ],
        [
         "12",
         "1",
         "63.77000322182974"
        ],
        [
         "13",
         "1",
         "63.59670093536378"
        ],
        [
         "14",
         "1",
         "63.82688180128734"
        ],
        [
         "15",
         "1",
         "63.86882304350536"
        ],
        [
         "16",
         "3",
         "63.96312665462494"
        ],
        [
         "17",
         "3",
         "63.87124452590943"
        ],
        [
         "18",
         "2",
         "64.25337195396423"
        ],
        [
         "19",
         "2",
         "64.14012243111928"
        ],
        [
         "20",
         "1",
         "63.34211269378663"
        ],
        [
         "21",
         "1",
         "63.42594849904379"
        ],
        [
         "22",
         "1",
         "63.37654442310334"
        ],
        [
         "23",
         "1",
         "63.73286410013836"
        ]
       ],
       "shape": {
        "columns": 2,
        "rows": 24
       }
      },
      "text/html": [
       "<div>\n",
       "<style scoped>\n",
       "    .dataframe tbody tr th:only-of-type {\n",
       "        vertical-align: middle;\n",
       "    }\n",
       "\n",
       "    .dataframe tbody tr th {\n",
       "        vertical-align: top;\n",
       "    }\n",
       "\n",
       "    .dataframe thead th {\n",
       "        text-align: right;\n",
       "    }\n",
       "</style>\n",
       "<table border=\"1\" class=\"dataframe\">\n",
       "  <thead>\n",
       "    <tr style=\"text-align: right;\">\n",
       "      <th></th>\n",
       "      <th>st-01_evse-01 = post_charge_departure_range</th>\n",
       "      <th>st-01_evse-01 = kwh_per_usage_time</th>\n",
       "    </tr>\n",
       "  </thead>\n",
       "  <tbody>\n",
       "    <tr>\n",
       "      <th>0</th>\n",
       "      <td>1</td>\n",
       "      <td>63.573192</td>\n",
       "    </tr>\n",
       "    <tr>\n",
       "      <th>1</th>\n",
       "      <td>1</td>\n",
       "      <td>63.364565</td>\n",
       "    </tr>\n",
       "    <tr>\n",
       "      <th>2</th>\n",
       "      <td>1</td>\n",
       "      <td>63.458496</td>\n",
       "    </tr>\n",
       "    <tr>\n",
       "      <th>3</th>\n",
       "      <td>1</td>\n",
       "      <td>63.975199</td>\n",
       "    </tr>\n",
       "    <tr>\n",
       "      <th>4</th>\n",
       "      <td>1</td>\n",
       "      <td>63.626459</td>\n",
       "    </tr>\n",
       "    <tr>\n",
       "      <th>5</th>\n",
       "      <td>1</td>\n",
       "      <td>63.411688</td>\n",
       "    </tr>\n",
       "    <tr>\n",
       "      <th>6</th>\n",
       "      <td>1</td>\n",
       "      <td>63.992645</td>\n",
       "    </tr>\n",
       "    <tr>\n",
       "      <th>7</th>\n",
       "      <td>1</td>\n",
       "      <td>63.786277</td>\n",
       "    </tr>\n",
       "    <tr>\n",
       "      <th>8</th>\n",
       "      <td>2</td>\n",
       "      <td>63.873660</td>\n",
       "    </tr>\n",
       "    <tr>\n",
       "      <th>9</th>\n",
       "      <td>2</td>\n",
       "      <td>63.560064</td>\n",
       "    </tr>\n",
       "    <tr>\n",
       "      <th>10</th>\n",
       "      <td>1</td>\n",
       "      <td>63.489041</td>\n",
       "    </tr>\n",
       "    <tr>\n",
       "      <th>11</th>\n",
       "      <td>4</td>\n",
       "      <td>64.030596</td>\n",
       "    </tr>\n",
       "    <tr>\n",
       "      <th>12</th>\n",
       "      <td>1</td>\n",
       "      <td>63.770003</td>\n",
       "    </tr>\n",
       "    <tr>\n",
       "      <th>13</th>\n",
       "      <td>1</td>\n",
       "      <td>63.596701</td>\n",
       "    </tr>\n",
       "    <tr>\n",
       "      <th>14</th>\n",
       "      <td>1</td>\n",
       "      <td>63.826882</td>\n",
       "    </tr>\n",
       "    <tr>\n",
       "      <th>15</th>\n",
       "      <td>1</td>\n",
       "      <td>63.868823</td>\n",
       "    </tr>\n",
       "    <tr>\n",
       "      <th>16</th>\n",
       "      <td>3</td>\n",
       "      <td>63.963127</td>\n",
       "    </tr>\n",
       "    <tr>\n",
       "      <th>17</th>\n",
       "      <td>3</td>\n",
       "      <td>63.871245</td>\n",
       "    </tr>\n",
       "    <tr>\n",
       "      <th>18</th>\n",
       "      <td>2</td>\n",
       "      <td>64.253372</td>\n",
       "    </tr>\n",
       "    <tr>\n",
       "      <th>19</th>\n",
       "      <td>2</td>\n",
       "      <td>64.140122</td>\n",
       "    </tr>\n",
       "    <tr>\n",
       "      <th>20</th>\n",
       "      <td>1</td>\n",
       "      <td>63.342113</td>\n",
       "    </tr>\n",
       "    <tr>\n",
       "      <th>21</th>\n",
       "      <td>1</td>\n",
       "      <td>63.425948</td>\n",
       "    </tr>\n",
       "    <tr>\n",
       "      <th>22</th>\n",
       "      <td>1</td>\n",
       "      <td>63.376544</td>\n",
       "    </tr>\n",
       "    <tr>\n",
       "      <th>23</th>\n",
       "      <td>1</td>\n",
       "      <td>63.732864</td>\n",
       "    </tr>\n",
       "  </tbody>\n",
       "</table>\n",
       "</div>"
      ],
      "text/plain": [
       "    st-01_evse-01 = post_charge_departure_range  \\\n",
       "0                                             1   \n",
       "1                                             1   \n",
       "2                                             1   \n",
       "3                                             1   \n",
       "4                                             1   \n",
       "5                                             1   \n",
       "6                                             1   \n",
       "7                                             1   \n",
       "8                                             2   \n",
       "9                                             2   \n",
       "10                                            1   \n",
       "11                                            4   \n",
       "12                                            1   \n",
       "13                                            1   \n",
       "14                                            1   \n",
       "15                                            1   \n",
       "16                                            3   \n",
       "17                                            3   \n",
       "18                                            2   \n",
       "19                                            2   \n",
       "20                                            1   \n",
       "21                                            1   \n",
       "22                                            1   \n",
       "23                                            1   \n",
       "\n",
       "    st-01_evse-01 = kwh_per_usage_time  \n",
       "0                            63.573192  \n",
       "1                            63.364565  \n",
       "2                            63.458496  \n",
       "3                            63.975199  \n",
       "4                            63.626459  \n",
       "5                            63.411688  \n",
       "6                            63.992645  \n",
       "7                            63.786277  \n",
       "8                            63.873660  \n",
       "9                            63.560064  \n",
       "10                           63.489041  \n",
       "11                           64.030596  \n",
       "12                           63.770003  \n",
       "13                           63.596701  \n",
       "14                           63.826882  \n",
       "15                           63.868823  \n",
       "16                           63.963127  \n",
       "17                           63.871245  \n",
       "18                           64.253372  \n",
       "19                           64.140122  \n",
       "20                           63.342113  \n",
       "21                           63.425948  \n",
       "22                           63.376544  \n",
       "23                           63.732864  "
      ]
     },
     "execution_count": 40,
     "metadata": {},
     "output_type": "execute_result"
    }
   ],
   "source": [
    "def all_predit():\n",
    "    stations = df['station_location'].unique().tolist()\n",
    "    for i in stations:\n",
    "        evses = df[df['evse_name'].str.startswith(i)]['evse_name'].to_list()\n",
    "        for j in evses:\n",
    "            cls_preds, reg_preds = predict_future(i,j,df,ct,model,device)\n",
    "            cls_series = pd.Series(cls_preds, name=f'{j} = post_charge_departure_range')\n",
    "            reg_series = pd.Series(reg_preds, name=f'{j} = kwh_per_usage_time')\n",
    "            combined = pd.concat([cls_series, reg_series], axis=1)\n",
    "        yield combined\n",
    "    \n",
    "gen = all_predit()  # 제너레이터 생성\n",
    "\n",
    "first_df = next(gen)\n",
    "second_df = next(gen)\n",
    "\n",
    "# 결과 확인\n",
    "second_df"
   ]
  },
  {
   "cell_type": "code",
   "execution_count": null,
   "id": "ba56f582",
   "metadata": {},
   "outputs": [
    {
     "data": {
      "application/vnd.microsoft.datawrangler.viewer.v0+json": {
       "columns": [
        {
         "name": "index",
         "rawType": "int64",
         "type": "integer"
        },
        {
         "name": "st-02_evse-01 = post_charge_departure_range",
         "rawType": "int64",
         "type": "integer"
        },
        {
         "name": "st-02_evse-01 = kwh_per_usage_time",
         "rawType": "float64",
         "type": "float"
        }
       ],
       "ref": "ae28cf42-1285-42be-8039-af91e3f7a81c",
       "rows": [
        [
         "0",
         "1",
         "64.52033017794291"
        ],
        [
         "1",
         "1",
         "63.18438958326976"
        ],
        [
         "2",
         "3",
         "63.87048015435538"
        ],
        [
         "3",
         "2",
         "64.27050904750824"
        ],
        [
         "4",
         "2",
         "65.51127079645794"
        ],
        [
         "5",
         "1",
         "64.53075713952383"
        ],
        [
         "6",
         "1",
         "63.89054053147635"
        ],
        [
         "7",
         "1",
         "64.0459471877416"
        ],
        [
         "8",
         "1",
         "63.971295510927845"
        ],
        [
         "9",
         "3",
         "64.5728034098943"
        ],
        [
         "10",
         "1",
         "64.36617218971253"
        ],
        [
         "11",
         "1",
         "64.28017747243246"
        ],
        [
         "12",
         "1",
         "64.71162728786469"
        ],
        [
         "13",
         "1",
         "63.70790240923564"
        ],
        [
         "14",
         "1",
         "63.80350136756898"
        ],
        [
         "15",
         "1",
         "63.444264241854356"
        ],
        [
         "16",
         "1",
         "64.07889685312907"
        ],
        [
         "17",
         "1",
         "63.71456586201987"
        ],
        [
         "18",
         "2",
         "64.30285771846772"
        ],
        [
         "19",
         "2",
         "64.74217881043752"
        ],
        [
         "20",
         "1",
         "64.08484261353811"
        ],
        [
         "21",
         "1",
         "63.833912852605195"
        ],
        [
         "22",
         "1",
         "63.67874542713166"
        ],
        [
         "23",
         "1",
         "64.26246855894725"
        ]
       ],
       "shape": {
        "columns": 2,
        "rows": 24
       }
      },
      "text/html": [
       "<div>\n",
       "<style scoped>\n",
       "    .dataframe tbody tr th:only-of-type {\n",
       "        vertical-align: middle;\n",
       "    }\n",
       "\n",
       "    .dataframe tbody tr th {\n",
       "        vertical-align: top;\n",
       "    }\n",
       "\n",
       "    .dataframe thead th {\n",
       "        text-align: right;\n",
       "    }\n",
       "</style>\n",
       "<table border=\"1\" class=\"dataframe\">\n",
       "  <thead>\n",
       "    <tr style=\"text-align: right;\">\n",
       "      <th></th>\n",
       "      <th>st-02_evse-01 = post_charge_departure_range</th>\n",
       "      <th>st-02_evse-01 = kwh_per_usage_time</th>\n",
       "    </tr>\n",
       "  </thead>\n",
       "  <tbody>\n",
       "    <tr>\n",
       "      <th>0</th>\n",
       "      <td>1</td>\n",
       "      <td>64.520330</td>\n",
       "    </tr>\n",
       "    <tr>\n",
       "      <th>1</th>\n",
       "      <td>1</td>\n",
       "      <td>63.184390</td>\n",
       "    </tr>\n",
       "    <tr>\n",
       "      <th>2</th>\n",
       "      <td>3</td>\n",
       "      <td>63.870480</td>\n",
       "    </tr>\n",
       "    <tr>\n",
       "      <th>3</th>\n",
       "      <td>2</td>\n",
       "      <td>64.270509</td>\n",
       "    </tr>\n",
       "    <tr>\n",
       "      <th>4</th>\n",
       "      <td>2</td>\n",
       "      <td>65.511271</td>\n",
       "    </tr>\n",
       "    <tr>\n",
       "      <th>5</th>\n",
       "      <td>1</td>\n",
       "      <td>64.530757</td>\n",
       "    </tr>\n",
       "    <tr>\n",
       "      <th>6</th>\n",
       "      <td>1</td>\n",
       "      <td>63.890541</td>\n",
       "    </tr>\n",
       "    <tr>\n",
       "      <th>7</th>\n",
       "      <td>1</td>\n",
       "      <td>64.045947</td>\n",
       "    </tr>\n",
       "    <tr>\n",
       "      <th>8</th>\n",
       "      <td>1</td>\n",
       "      <td>63.971296</td>\n",
       "    </tr>\n",
       "    <tr>\n",
       "      <th>9</th>\n",
       "      <td>3</td>\n",
       "      <td>64.572803</td>\n",
       "    </tr>\n",
       "    <tr>\n",
       "      <th>10</th>\n",
       "      <td>1</td>\n",
       "      <td>64.366172</td>\n",
       "    </tr>\n",
       "    <tr>\n",
       "      <th>11</th>\n",
       "      <td>1</td>\n",
       "      <td>64.280177</td>\n",
       "    </tr>\n",
       "    <tr>\n",
       "      <th>12</th>\n",
       "      <td>1</td>\n",
       "      <td>64.711627</td>\n",
       "    </tr>\n",
       "    <tr>\n",
       "      <th>13</th>\n",
       "      <td>1</td>\n",
       "      <td>63.707902</td>\n",
       "    </tr>\n",
       "    <tr>\n",
       "      <th>14</th>\n",
       "      <td>1</td>\n",
       "      <td>63.803501</td>\n",
       "    </tr>\n",
       "    <tr>\n",
       "      <th>15</th>\n",
       "      <td>1</td>\n",
       "      <td>63.444264</td>\n",
       "    </tr>\n",
       "    <tr>\n",
       "      <th>16</th>\n",
       "      <td>1</td>\n",
       "      <td>64.078897</td>\n",
       "    </tr>\n",
       "    <tr>\n",
       "      <th>17</th>\n",
       "      <td>1</td>\n",
       "      <td>63.714566</td>\n",
       "    </tr>\n",
       "    <tr>\n",
       "      <th>18</th>\n",
       "      <td>2</td>\n",
       "      <td>64.302858</td>\n",
       "    </tr>\n",
       "    <tr>\n",
       "      <th>19</th>\n",
       "      <td>2</td>\n",
       "      <td>64.742179</td>\n",
       "    </tr>\n",
       "    <tr>\n",
       "      <th>20</th>\n",
       "      <td>1</td>\n",
       "      <td>64.084843</td>\n",
       "    </tr>\n",
       "    <tr>\n",
       "      <th>21</th>\n",
       "      <td>1</td>\n",
       "      <td>63.833913</td>\n",
       "    </tr>\n",
       "    <tr>\n",
       "      <th>22</th>\n",
       "      <td>1</td>\n",
       "      <td>63.678745</td>\n",
       "    </tr>\n",
       "    <tr>\n",
       "      <th>23</th>\n",
       "      <td>1</td>\n",
       "      <td>64.262469</td>\n",
       "    </tr>\n",
       "  </tbody>\n",
       "</table>\n",
       "</div>"
      ],
      "text/plain": [
       "    st-02_evse-01 = post_charge_departure_range  \\\n",
       "0                                             1   \n",
       "1                                             1   \n",
       "2                                             3   \n",
       "3                                             2   \n",
       "4                                             2   \n",
       "5                                             1   \n",
       "6                                             1   \n",
       "7                                             1   \n",
       "8                                             1   \n",
       "9                                             3   \n",
       "10                                            1   \n",
       "11                                            1   \n",
       "12                                            1   \n",
       "13                                            1   \n",
       "14                                            1   \n",
       "15                                            1   \n",
       "16                                            1   \n",
       "17                                            1   \n",
       "18                                            2   \n",
       "19                                            2   \n",
       "20                                            1   \n",
       "21                                            1   \n",
       "22                                            1   \n",
       "23                                            1   \n",
       "\n",
       "    st-02_evse-01 = kwh_per_usage_time  \n",
       "0                            64.520330  \n",
       "1                            63.184390  \n",
       "2                            63.870480  \n",
       "3                            64.270509  \n",
       "4                            65.511271  \n",
       "5                            64.530757  \n",
       "6                            63.890541  \n",
       "7                            64.045947  \n",
       "8                            63.971296  \n",
       "9                            64.572803  \n",
       "10                           64.366172  \n",
       "11                           64.280177  \n",
       "12                           64.711627  \n",
       "13                           63.707902  \n",
       "14                           63.803501  \n",
       "15                           63.444264  \n",
       "16                           64.078897  \n",
       "17                           63.714566  \n",
       "18                           64.302858  \n",
       "19                           64.742179  \n",
       "20                           64.084843  \n",
       "21                           63.833913  \n",
       "22                           63.678745  \n",
       "23                           64.262469  "
      ]
     },
     "execution_count": 41,
     "metadata": {},
     "output_type": "execute_result"
    },
    {
     "ename": "",
     "evalue": "",
     "output_type": "error",
     "traceback": [
      "\u001b[1;31m현재 셀 또는 이전 셀에서 코드를 실행하는 동안 Kernel이 충돌했습니다. \n",
      "\u001b[1;31m셀의 코드를 검토하여 가능한 오류 원인을 식별하세요. \n",
      "\u001b[1;31m자세한 내용을 보려면 <a href='https://aka.ms/vscodeJupyterKernelCrash'>여기</a>를 클릭하세요. \n",
      "\u001b[1;31m자세한 내용은 Jupyter <a href='command:jupyter.viewOutput'>로그</a>를 참조하세요."
     ]
    }
   ],
   "source": [
    "second_df = next(gen)\n",
    "second_df"
   ]
  }
 ],
 "metadata": {
  "kernelspec": {
   "display_name": "yoloserver",
   "language": "python",
   "name": "python3"
  },
  "language_info": {
   "codemirror_mode": {
    "name": "ipython",
    "version": 3
   },
   "file_extension": ".py",
   "mimetype": "text/x-python",
   "name": "python",
   "nbconvert_exporter": "python",
   "pygments_lexer": "ipython3",
   "version": "3.11.13"
  }
 },
 "nbformat": 4,
 "nbformat_minor": 5
}
