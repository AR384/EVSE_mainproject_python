{
 "cells": [
  {
   "cell_type": "code",
   "execution_count": 1,
   "id": "4e42e074",
   "metadata": {},
   "outputs": [],
   "source": [
    "import pandas as pd\n",
    "import numpy as np"
   ]
  },
  {
   "cell_type": "code",
   "execution_count": 2,
   "id": "e9c0b59a",
   "metadata": {},
   "outputs": [],
   "source": [
    "df = pd.read_excel('../xslc/충전데이터 2025-06-23 _ 2025-06-30.xlsx')"
   ]
  },
  {
   "cell_type": "code",
   "execution_count": 5,
   "id": "d91e2777",
   "metadata": {},
   "outputs": [
    {
     "data": {
      "application/vnd.microsoft.datawrangler.viewer.v0+json": {
       "columns": [
        {
         "name": "충전소명",
         "rawType": "object",
         "type": "string"
        },
        {
         "name": "count",
         "rawType": "int64",
         "type": "integer"
        }
       ],
       "ref": "16c7548b-7b0f-4799-b867-e8481f59c3a4",
       "rows": [
        [
         "국방과학연구소-대전",
         "214"
        ],
        [
         "서귀포시 1청사",
         "90"
        ],
        [
         "제주도청(후문)",
         "74"
        ],
        [
         "제주시청 직장어린이집",
         "72"
        ],
        [
         "서귀포보건소",
         "71"
        ],
        [
         "서귀포시 서부보건소",
         "65"
        ],
        [
         "제주학생문화원",
         "61"
        ],
        [
         "제주종합경기장",
         "56"
        ],
        [
         "조천읍사무소",
         "53"
        ],
        [
         "제주도청2청사",
         "38"
        ],
        [
         "제주시평생학습센터",
         "37"
        ],
        [
         "구좌읍사무소(행정복지센터)",
         "37"
        ],
        [
         "소방안전본부",
         "29"
        ],
        [
         "동부보건소",
         "29"
        ],
        [
         "SK가스",
         "29"
        ],
        [
         "농업기술원",
         "28"
        ],
        [
         "SK케미칼",
         "27"
        ],
        [
         "치유의 숲",
         "27"
        ],
        [
         "감사위원회",
         "26"
        ],
        [
         "서귀포자연휴양림",
         "25"
        ],
        [
         "삼도1동 주민센터",
         "23"
        ],
        [
         "삼도2동주민센터",
         "22"
        ],
        [
         "양지공원",
         "21"
        ],
        [
         "노형주민센터",
         "18"
        ],
        [
         "한경면사무소",
         "17"
        ],
        [
         "서귀포시 표선보건지소",
         "15"
        ],
        [
         "이도1동주민센터",
         "15"
        ],
        [
         "신제주초등학교",
         "14"
        ],
        [
         "동부농업기술센터(농업인교육관)",
         "12"
        ],
        [
         "현대에버다임 직원주차장",
         "12"
        ],
        [
         "도두동주민센터",
         "12"
        ],
        [
         "일도이동주민센터",
         "11"
        ],
        [
         "영어교육도시지원사무소",
         "10"
        ],
        [
         "안덕산방도서관",
         "9"
        ],
        [
         "한내시온숲속의아침뷰아파트_103동지하1층",
         "9"
        ],
        [
         "한내시온숲속의아침뷰아파트_104동지하2층",
         "9"
        ],
        [
         "제주농업기술센터",
         "8"
        ],
        [
         "그린동지하주차장",
         "8"
        ],
        [
         "서귀포수협수산물직매장",
         "8"
        ],
        [
         "한내시온숲속의아침뷰아파트_107동지하1층",
         "7"
        ],
        [
         "제주돌문화공원",
         "7"
        ],
        [
         "연동주민센터",
         "7"
        ],
        [
         "서귀포시 성산보건지소",
         "7"
        ],
        [
         "하수종말처리장(서부)",
         "6"
        ],
        [
         "소방교육대",
         "5"
        ],
        [
         "그린도트 광개토빌딩",
         "5"
        ],
        [
         "한내시온숲속의아침뷰아파트_103동지하2층",
         "5"
        ],
        [
         "효돈119센터",
         "5"
        ],
        [
         "제주교회교육관",
         "5"
        ],
        [
         "외도초등학교",
         "4"
        ]
       ],
       "shape": {
        "columns": 1,
        "rows": 61
       }
      },
      "text/plain": [
       "충전소명\n",
       "국방과학연구소-대전       214\n",
       "서귀포시 1청사          90\n",
       "제주도청(후문)          74\n",
       "제주시청 직장어린이집       72\n",
       "서귀포보건소            71\n",
       "                ... \n",
       "서귀포보건소 중문보건지소      2\n",
       "대정119센터            2\n",
       "제주자연인족욕            1\n",
       "어반빌리지              1\n",
       "당진화력본부             1\n",
       "Name: count, Length: 61, dtype: int64"
      ]
     },
     "execution_count": 5,
     "metadata": {},
     "output_type": "execute_result"
    }
   ],
   "source": [
    "df['충전소명'].value_counts()"
   ]
  }
 ],
 "metadata": {
  "kernelspec": {
   "display_name": "mainproject",
   "language": "python",
   "name": "python3"
  },
  "language_info": {
   "codemirror_mode": {
    "name": "ipython",
    "version": 3
   },
   "file_extension": ".py",
   "mimetype": "text/x-python",
   "name": "python",
   "nbconvert_exporter": "python",
   "pygments_lexer": "ipython3",
   "version": "3.9.23"
  }
 },
 "nbformat": 4,
 "nbformat_minor": 5
}
