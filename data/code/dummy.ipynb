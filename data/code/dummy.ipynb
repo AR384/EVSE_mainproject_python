{
 "cells": [
  {
   "cell_type": "markdown",
   "id": "82140f0e",
   "metadata": {},
   "source": [
    "### 생성 데이터 컬럼\n",
    "> 위치 및 충전기 정보\n",
    "- 충전소위치  충전기 <br/>\t\n",
    "> 충전기 정보 상세\n",
    "- 충전기타입  충전기상태  충전기용량  방전지원여부  충전량  요청충전량  방전량  요청방전량<br>  \n",
    "> 시간 정보\n",
    "- 연결시작시간  연결종료시간  충전시작시간  충전종료시간  출방예상시간<br/>\n",
    "> 차량 Soc 정보\n",
    "- 베터리용량  시작값  종료값  연비"
   ]
  },
  {
   "cell_type": "code",
   "execution_count": null,
   "id": "2b86c4f9",
   "metadata": {},
   "outputs": [],
   "source": [
    "import pandas as pd\n",
    "import numpy as np\n",
    "import random\n",
    "from datetime import datetime, timedelta\n",
    "import matplotlib.pyplot as plt"
   ]
  },
  {
   "cell_type": "code",
   "execution_count": 100,
   "id": "2887d571",
   "metadata": {},
   "outputs": [],
   "source": [
    "#재생성 유지\n",
    "random.seed(42)\n",
    "np.random.seed(42)\n",
    "#충전소위치\n",
    "st_number = 50  # 충전소 개수\n",
    "location = [f'st-{str(n).zfill(2)}' for n in range(st_number)]\n",
    "#충전기 Electric Vehicle Supply Equipment\n",
    "evse = []\n",
    "for s in location:\n",
    "    evse_n = random.randint(2,6)\n",
    "    for i in range(evse_n):\n",
    "        evse.append(f'{s}_evse-{str(i).zfill(2)}')"
   ]
  },
  {
   "cell_type": "code",
   "execution_count": null,
   "id": "621815e4",
   "metadata": {},
   "outputs": [],
   "source": [
    "#  충전기타입  충전기상태  충전기용량  방전지원여부  충전량  요청충전량  방전량  요청방전량"
   ]
  }
 ],
 "metadata": {
  "kernelspec": {
   "display_name": "mainproject",
   "language": "python",
   "name": "python3"
  },
  "language_info": {
   "codemirror_mode": {
    "name": "ipython",
    "version": 3
   },
   "file_extension": ".py",
   "mimetype": "text/x-python",
   "name": "python",
   "nbconvert_exporter": "python",
   "pygments_lexer": "ipython3",
   "version": "3.9.23"
  }
 },
 "nbformat": 4,
 "nbformat_minor": 5
}
